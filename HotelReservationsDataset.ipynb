{
  "nbformat": 4,
  "nbformat_minor": 0,
  "metadata": {
    "colab": {
      "provenance": [],
      "authorship_tag": "ABX9TyMEUKlwP9S2yG9xwgjKJHU4",
      "include_colab_link": true
    },
    "kernelspec": {
      "name": "python3",
      "display_name": "Python 3"
    },
    "language_info": {
      "name": "python"
    }
  },
  "cells": [
    {
      "cell_type": "markdown",
      "metadata": {
        "id": "view-in-github",
        "colab_type": "text"
      },
      "source": [
        "<a href=\"https://colab.research.google.com/github/josivaniaoliveira/InterfaceClassifica-o/blob/main/HotelReservationsDataset.ipynb\" target=\"_parent\"><img src=\"https://colab.research.google.com/assets/colab-badge.svg\" alt=\"Open In Colab\"/></a>"
      ]
    },
    {
      "cell_type": "markdown",
      "source": [
        "# **Hotel Reservations Dataset**\n",
        "---"
      ],
      "metadata": {
        "id": "DDYyODyP7b7m"
      }
    },
    {
      "cell_type": "markdown",
      "source": [
        "# Observações do trabalho:\n",
        "\n",
        "O algoritmo que melhor performou nesta base de dados foi o DecisionTree, e o segundo melhor foi o Rede Neural - MPL Classifier. \n",
        "\n",
        "Eu tentei prever o quanto que um hospede gostou da hospedagem do hotel a ponto de retornar demais vezes, utilizando o atributo **\"repeated_reguest\"** que significa se o cliente é um hospede recorrente ou não."
      ],
      "metadata": {
        "id": "_wNtlWbh3Czk"
      }
    },
    {
      "cell_type": "markdown",
      "source": [
        "# Exportar um modelo"
      ],
      "metadata": {
        "id": "BoQa1LjrLqSy"
      }
    },
    {
      "cell_type": "code",
      "source": [
        "import pickle\n",
        "with open('modelo.pkl', 'wb') as file:\n",
        "    pickle.dump(modelo_tree, file)"
      ],
      "metadata": {
        "id": "uKto_0aILykl"
      },
      "execution_count": null,
      "outputs": []
    },
    {
      "cell_type": "code",
      "source": [
        "from google.colab import files\n",
        "files.download('modelo.pkl')"
      ],
      "metadata": {
        "id": "VGy68knNL4R7"
      },
      "execution_count": null,
      "outputs": []
    },
    {
      "cell_type": "markdown",
      "source": [
        "# Importar um modelo"
      ],
      "metadata": {
        "id": "mDVbKIfQL566"
      }
    },
    {
      "cell_type": "code",
      "source": [
        "arquivo = files.upload()"
      ],
      "metadata": {
        "id": "cqYD--ZoL9g6"
      },
      "execution_count": null,
      "outputs": []
    },
    {
      "cell_type": "code",
      "source": [
        "with open('modelo.pkl', 'rb') as f:\n",
        "    model = pickle.load(f)"
      ],
      "metadata": {
        "id": "qR-hUFhyMA8r"
      },
      "execution_count": null,
      "outputs": []
    },
    {
      "cell_type": "code",
      "source": [
        "pred = model.predict([[0.8,0.8,0.2,0.8]])\n",
        "pred[0]"
      ],
      "metadata": {
        "id": "kXzk-0IKMEQp"
      },
      "execution_count": null,
      "outputs": []
    },
    {
      "cell_type": "markdown",
      "source": [
        "# Importação da base de dados\n",
        "\n",
        "## Hotel Reservations Dataset\n",
        "\n"
      ],
      "metadata": {
        "id": "1TetICzp9WLF"
      }
    },
    {
      "cell_type": "code",
      "execution_count": null,
      "metadata": {
        "id": "IsfrTeNq7Vwg"
      },
      "outputs": [],
      "source": [
        "import pandas as pd\n",
        "url='https://drive.google.com/file/d/1dVBXFLPFElEzi3WOGv3o2kgsUIK3qbtg/view?usp=sharing'\n",
        "url='https://drive.google.com/uc?id=' + url.split('/')[-2]\n",
        "df = pd.read_csv(url)"
      ]
    },
    {
      "cell_type": "markdown",
      "source": [
        "# Análise dos dados"
      ],
      "metadata": {
        "id": "zPw1S3S8BVQG"
      }
    },
    {
      "cell_type": "markdown",
      "source": [
        "## Descrição dos dados"
      ],
      "metadata": {
        "id": "bcCL9n4SBbw1"
      }
    },
    {
      "cell_type": "code",
      "source": [
        "df.info()"
      ],
      "metadata": {
        "colab": {
          "base_uri": "https://localhost:8080/"
        },
        "id": "PkjS-5Rb_Hi0",
        "outputId": "f76ce404-866b-45db-cd5e-5ea92b0e2f0a"
      },
      "execution_count": null,
      "outputs": [
        {
          "output_type": "stream",
          "name": "stdout",
          "text": [
            "<class 'pandas.core.frame.DataFrame'>\n",
            "RangeIndex: 36275 entries, 0 to 36274\n",
            "Data columns (total 19 columns):\n",
            " #   Column                                Non-Null Count  Dtype  \n",
            "---  ------                                --------------  -----  \n",
            " 0   Booking_ID                            36275 non-null  object \n",
            " 1   no_of_adults                          36275 non-null  int64  \n",
            " 2   no_of_children                        36275 non-null  int64  \n",
            " 3   no_of_weekend_nights                  36275 non-null  int64  \n",
            " 4   no_of_week_nights                     36275 non-null  int64  \n",
            " 5   type_of_meal_plan                     36275 non-null  object \n",
            " 6   required_car_parking_space            36275 non-null  int64  \n",
            " 7   room_type_reserved                    36275 non-null  object \n",
            " 8   lead_time                             36275 non-null  int64  \n",
            " 9   arrival_year                          36275 non-null  int64  \n",
            " 10  arrival_month                         36275 non-null  int64  \n",
            " 11  arrival_date                          36275 non-null  int64  \n",
            " 12  market_segment_type                   36275 non-null  object \n",
            " 13  repeated_guest                        36275 non-null  int64  \n",
            " 14  no_of_previous_cancellations          36275 non-null  int64  \n",
            " 15  no_of_previous_bookings_not_canceled  36275 non-null  int64  \n",
            " 16  avg_price_per_room                    36275 non-null  float64\n",
            " 17  no_of_special_requests                36275 non-null  int64  \n",
            " 18  booking_status                        36275 non-null  object \n",
            "dtypes: float64(1), int64(13), object(5)\n",
            "memory usage: 5.3+ MB\n"
          ]
        }
      ]
    },
    {
      "cell_type": "markdown",
      "source": [
        "Sobre este arquivo\n",
        "O arquivo contém os diferentes atributos dos detalhes da reserva dos clientes. O dicionário de dados detalhado é dado abaixo.\n",
        "\n",
        "**Dicionário de dados**\n",
        "\n",
        "* **Booking_ID:** identificador único de cada reserva\n",
        "* **no_of_adults:** Número de adultos\n",
        "* **no_of_children:** Número de filhos\n",
        "* **no_of_weekend_nights:** Número de noites de fim de semana (sábado ou domingo) que o hóspede ficou ou reservou para ficar no hotel\n",
        "* **no_of_week_nights:** Número de noites da semana (segunda a sexta) que o hóspede se hospedou ou reservou para ficar no hotel\n",
        "* **type_of_meal_plan:** Tipo de plano alimentar reservado pelo cliente:\n",
        "* **required_car_parking_space:** O cliente precisa de uma vaga de estacionamento? (0 - Não, 1- Sim)\n",
        "* **room_type_reried:** Tipo de quarto reservado pelo cliente. Os valores são cifrados (codificados) pela INN Hotels.\n",
        "* **lead_time:** Número de dias entre a data da reserva e a data de chegada\n",
        "* **chegada_ano:** Ano da data de chegada\n",
        "* **chegada_mês:** Mês da data de chegada\n",
        "* **chegada_data:** Data do mês\n",
        "* **market_segment_type:** Designação do segmento de mercado.\n",
        "* **repeat_guest:** O cliente é um hóspede recorrente? (0 - Não, 1- Sim)\n",
        "* **no_of_previous_cancellations:** Número de reservas anteriores que foram canceladas pelo cliente antes da reserva atual\n",
        "* **no_of_previous_bookings_not_canceled:** Número de reservas anteriores não canceladas pelo cliente antes da reserva atual\n",
        "* **avg_price_per_room:** Preço médio por dia da reserva; os preços dos quartos são dinâmicos. (em euros)\n",
        "* **no_of_special_requests:** Número total de pedidos especiais feitos pelo cliente (por exemplo, andar alto, vista do quarto, etc)\n",
        "* **booking_status:** Flag indicando se a reserva foi cancelada ou não."
      ],
      "metadata": {
        "id": "Gc94Erql75Xp"
      }
    },
    {
      "cell_type": "markdown",
      "source": [
        "## Análise"
      ],
      "metadata": {
        "id": "_WLUkzulXYp6"
      }
    },
    {
      "cell_type": "markdown",
      "source": [
        "### 0 - Booking ID"
      ],
      "metadata": {
        "id": "55PXx1VYCAzQ"
      }
    },
    {
      "cell_type": "code",
      "source": [
        "df.Booking_ID.value_counts(ascending=True)"
      ],
      "metadata": {
        "colab": {
          "base_uri": "https://localhost:8080/"
        },
        "id": "ExNePEXqCl0o",
        "outputId": "790b945c-0b17-44a0-f54b-ed2b2f6853cb"
      },
      "execution_count": null,
      "outputs": [
        {
          "output_type": "execute_result",
          "data": {
            "text/plain": [
              "INN00001    1\n",
              "INN24193    1\n",
              "INN24192    1\n",
              "INN24191    1\n",
              "INN24190    1\n",
              "           ..\n",
              "INN12093    1\n",
              "INN12094    1\n",
              "INN12095    1\n",
              "INN12089    1\n",
              "INN36275    1\n",
              "Name: Booking_ID, Length: 36275, dtype: int64"
            ]
          },
          "metadata": {},
          "execution_count": 3
        }
      ]
    },
    {
      "cell_type": "code",
      "source": [
        "df.Booking_ID.isnull().sum()"
      ],
      "metadata": {
        "colab": {
          "base_uri": "https://localhost:8080/"
        },
        "id": "18E0Fu45CwCW",
        "outputId": "c8e72454-760e-4ed9-c62e-b0b665e9ce7d"
      },
      "execution_count": null,
      "outputs": [
        {
          "output_type": "execute_result",
          "data": {
            "text/plain": [
              "0"
            ]
          },
          "metadata": {},
          "execution_count": 4
        }
      ]
    },
    {
      "cell_type": "code",
      "source": [
        "df['Booking_ID'].value_counts().plot(kind=\"pie\")"
      ],
      "metadata": {
        "id": "OGKNk1yMlBJ0"
      },
      "execution_count": null,
      "outputs": []
    },
    {
      "cell_type": "code",
      "source": [
        "df['Booking_ID'].value_counts(ascending=True).plot(kind=\"bar\")"
      ],
      "metadata": {
        "id": "1lWRnibQkbme"
      },
      "execution_count": null,
      "outputs": []
    },
    {
      "cell_type": "markdown",
      "source": [
        "### 1 - No of adults"
      ],
      "metadata": {
        "id": "1hcuAxV_fjMM"
      }
    },
    {
      "cell_type": "code",
      "source": [
        "df.no_of_adults.isnull().sum()"
      ],
      "metadata": {
        "colab": {
          "base_uri": "https://localhost:8080/"
        },
        "id": "z_6aVJbpfiXE",
        "outputId": "42d82b26-16f2-4707-838d-d1885cbb52ee"
      },
      "execution_count": null,
      "outputs": [
        {
          "output_type": "execute_result",
          "data": {
            "text/plain": [
              "0"
            ]
          },
          "metadata": {},
          "execution_count": 222
        }
      ]
    },
    {
      "cell_type": "code",
      "source": [
        "df.no_of_adults.value_counts()"
      ],
      "metadata": {
        "colab": {
          "base_uri": "https://localhost:8080/"
        },
        "id": "3cr1FKn_gBUO",
        "outputId": "9057d77d-b35b-45d9-b92f-033107f9a0ef"
      },
      "execution_count": null,
      "outputs": [
        {
          "output_type": "execute_result",
          "data": {
            "text/plain": [
              "2    26108\n",
              "1     7695\n",
              "3     2317\n",
              "0      139\n",
              "4       16\n",
              "Name: no_of_adults, dtype: int64"
            ]
          },
          "metadata": {},
          "execution_count": 223
        }
      ]
    },
    {
      "cell_type": "code",
      "source": [
        "df['no_of_adults'].value_counts().plot(kind=\"pie\")"
      ],
      "metadata": {
        "colab": {
          "base_uri": "https://localhost:8080/"
        },
        "id": "y5R-awcSkgvy",
        "outputId": "a631ce18-c782-4594-f481-f856e465fe7f"
      },
      "execution_count": null,
      "outputs": [
        {
          "output_type": "execute_result",
          "data": {
            "text/plain": [
              "<matplotlib.axes._subplots.AxesSubplot at 0x7f12c46e6d00>"
            ]
          },
          "metadata": {},
          "execution_count": 224
        },
        {
          "output_type": "display_data",
          "data": {
            "text/plain": [
              "<Figure size 432x288 with 1 Axes>"
            ],
            "image/png": "[encoded data removed]"
          },
          "metadata": {}
        }
      ]
    },
    {
      "cell_type": "code",
      "source": [
        "df['no_of_adults'].value_counts().plot(kind=\"bar\")"
      ],
      "metadata": {
        "colab": {
          "base_uri": "https://localhost:8080/"
        },
        "id": "DbhPzoEngA-M",
        "outputId": "9d276420-4470-47af-e8b1-a63d25432655"
      },
      "execution_count": null,
      "outputs": [
        {
          "output_type": "execute_result",
          "data": {
            "text/plain": [
              "<matplotlib.axes._subplots.AxesSubplot at 0x7f12c46893a0>"
            ]
          },
          "metadata": {},
          "execution_count": 225
        },
        {
          "output_type": "display_data",
          "data": {
            "text/plain": [
              "<Figure size 432x288 with 1 Axes>"
            ],
            "image/png": "[encoded data removed]"
          },
          "metadata": {
            "needs_background": "light"
          }
        }
      ]
    },
    {
      "cell_type": "markdown",
      "source": [
        "### 2 - No of children"
      ],
      "metadata": {
        "id": "5DQDQoI1lNgR"
      }
    },
    {
      "cell_type": "code",
      "source": [
        "df.no_of_children.isnull().sum()"
      ],
      "metadata": {
        "colab": {
          "base_uri": "https://localhost:8080/"
        },
        "outputId": "21cbc494-09b8-40da-eeb3-7cea3f7dad2c",
        "id": "8u9XRKkGlNgS"
      },
      "execution_count": null,
      "outputs": [
        {
          "output_type": "execute_result",
          "data": {
            "text/plain": [
              "0"
            ]
          },
          "metadata": {},
          "execution_count": 73
        }
      ]
    },
    {
      "cell_type": "code",
      "source": [
        "df.no_of_children.value_counts()"
      ],
      "metadata": {
        "colab": {
          "base_uri": "https://localhost:8080/"
        },
        "outputId": "bf192d28-9d8c-4176-a875-4be097528227",
        "id": "q1NJZ0kFlNgS"
      },
      "execution_count": null,
      "outputs": [
        {
          "output_type": "execute_result",
          "data": {
            "text/plain": [
              "0     33577\n",
              "1      1618\n",
              "2      1058\n",
              "3        19\n",
              "9         2\n",
              "10        1\n",
              "Name: no_of_children, dtype: int64"
            ]
          },
          "metadata": {},
          "execution_count": 74
        }
      ]
    },
    {
      "cell_type": "code",
      "source": [
        "df['no_of_children'].value_counts().plot(kind=\"pie\")"
      ],
      "metadata": {
        "colab": {
          "base_uri": "https://localhost:8080/"
        },
        "outputId": "228348b0-b24f-4995-d2aa-b25eed7eae8d",
        "id": "PVnHfZhSlNgT"
      },
      "execution_count": null,
      "outputs": [
        {
          "output_type": "execute_result",
          "data": {
            "text/plain": [
              "<matplotlib.axes._subplots.AxesSubplot at 0x7f12cf27fee0>"
            ]
          },
          "metadata": {},
          "execution_count": 75
        },
        {
          "output_type": "display_data",
          "data": {
            "text/plain": [
              "<Figure size 432x288 with 1 Axes>"
            ],
            "image/png": "[encoded data removed]"
          },
          "metadata": {}
        }
      ]
    },
    {
      "cell_type": "code",
      "source": [
        "df['no_of_children'].value_counts().plot(kind=\"bar\")"
      ],
      "metadata": {
        "colab": {
          "base_uri": "https://localhost:8080/"
        },
        "outputId": "85d31a01-b3e3-49f6-ad11-470d68910ae6",
        "id": "AeaNTJdXlNgT"
      },
      "execution_count": null,
      "outputs": [
        {
          "output_type": "execute_result",
          "data": {
            "text/plain": [
              "<matplotlib.axes._subplots.AxesSubplot at 0x7f12cf25a4f0>"
            ]
          },
          "metadata": {},
          "execution_count": 76
        },
        {
          "output_type": "display_data",
          "data": {
            "text/plain": [
              "<Figure size 432x288 with 1 Axes>"
            ],
            "image/png": "[encoded data removed]"
          },
          "metadata": {
            "needs_background": "light"
          }
        }
      ]
    },
    {
      "cell_type": "markdown",
      "source": [
        "### 3 - No of weekend nights"
      ],
      "metadata": {
        "id": "1IRyl_jBl2iB"
      }
    },
    {
      "cell_type": "code",
      "source": [
        "df.no_of_weekend_nights.isnull().sum()"
      ],
      "metadata": {
        "colab": {
          "base_uri": "https://localhost:8080/"
        },
        "outputId": "e64369b5-3068-4619-c7a2-88b352f5cfae",
        "id": "FoD4Mvrzl2iB"
      },
      "execution_count": null,
      "outputs": [
        {
          "output_type": "execute_result",
          "data": {
            "text/plain": [
              "0"
            ]
          },
          "metadata": {},
          "execution_count": 226
        }
      ]
    },
    {
      "cell_type": "code",
      "source": [
        "df.no_of_weekend_nights.value_counts()"
      ],
      "metadata": {
        "colab": {
          "base_uri": "https://localhost:8080/"
        },
        "outputId": "bac93dce-c7c4-461b-db25-42bde5f18152",
        "id": "VabRms-Gl2iC"
      },
      "execution_count": null,
      "outputs": [
        {
          "output_type": "execute_result",
          "data": {
            "text/plain": [
              "0    16872\n",
              "1     9995\n",
              "2     9071\n",
              "3      153\n",
              "4      129\n",
              "5       34\n",
              "6       20\n",
              "7        1\n",
              "Name: no_of_weekend_nights, dtype: int64"
            ]
          },
          "metadata": {},
          "execution_count": 227
        }
      ]
    },
    {
      "cell_type": "code",
      "source": [
        "df['no_of_weekend_nights'].value_counts().plot(kind=\"pie\")"
      ],
      "metadata": {
        "colab": {
          "base_uri": "https://localhost:8080/"
        },
        "outputId": "dd2f2733-744b-47d8-ebe6-9b8093a41fe4",
        "id": "fZ-k7AxOl2iC"
      },
      "execution_count": null,
      "outputs": [
        {
          "output_type": "execute_result",
          "data": {
            "text/plain": [
              "<matplotlib.axes._subplots.AxesSubplot at 0x7f12c45d8f40>"
            ]
          },
          "metadata": {},
          "execution_count": 228
        },
        {
          "output_type": "display_data",
          "data": {
            "text/plain": [
              "<Figure size 432x288 with 1 Axes>"
            ],
            "image/png": "[encoded data removed]"
          },
          "metadata": {}
        }
      ]
    },
    {
      "cell_type": "code",
      "source": [
        "df['no_of_weekend_nights'].value_counts().plot(kind=\"bar\")"
      ],
      "metadata": {
        "colab": {
          "base_uri": "https://localhost:8080/"
        },
        "outputId": "2ae8da7b-77c2-48c6-a0d7-794191f41114",
        "id": "zoTZdWZNl2iC"
      },
      "execution_count": null,
      "outputs": [
        {
          "output_type": "execute_result",
          "data": {
            "text/plain": [
              "<matplotlib.axes._subplots.AxesSubplot at 0x7f12c459b940>"
            ]
          },
          "metadata": {},
          "execution_count": 229
        },
        {
          "output_type": "display_data",
          "data": {
            "text/plain": [
              "<Figure size 432x288 with 1 Axes>"
            ],
            "image/png": "[encoded data removed]"
          },
          "metadata": {
            "needs_background": "light"
          }
        }
      ]
    },
    {
      "cell_type": "markdown",
      "source": [
        "### 4 - No of week nights"
      ],
      "metadata": {
        "id": "2VZ6Q5bBl4HA"
      }
    },
    {
      "cell_type": "code",
      "source": [
        "df.no_of_week_nights.isnull().sum()"
      ],
      "metadata": {
        "colab": {
          "base_uri": "https://localhost:8080/"
        },
        "outputId": "b58b367e-d4ee-4b01-b85a-857f78ebabdf",
        "id": "7uYxiKrgl4HA"
      },
      "execution_count": null,
      "outputs": [
        {
          "output_type": "execute_result",
          "data": {
            "text/plain": [
              "0"
            ]
          },
          "metadata": {},
          "execution_count": 92
        }
      ]
    },
    {
      "cell_type": "code",
      "source": [
        "df.no_of_week_nights.value_counts()"
      ],
      "metadata": {
        "colab": {
          "base_uri": "https://localhost:8080/"
        },
        "outputId": "f2a4cf36-87ea-4f9a-ff88-8abe10c66fdf",
        "id": "Ks7XIpJdl4HB"
      },
      "execution_count": null,
      "outputs": [
        {
          "output_type": "execute_result",
          "data": {
            "text/plain": [
              "2     11444\n",
              "1      9488\n",
              "3      7839\n",
              "4      2990\n",
              "0      2387\n",
              "5      1614\n",
              "6       189\n",
              "7       113\n",
              "10       62\n",
              "8        62\n",
              "9        34\n",
              "11       17\n",
              "15       10\n",
              "12        9\n",
              "14        7\n",
              "13        5\n",
              "17        3\n",
              "16        2\n",
              "Name: no_of_week_nights, dtype: int64"
            ]
          },
          "metadata": {},
          "execution_count": 93
        }
      ]
    },
    {
      "cell_type": "code",
      "source": [
        "df['no_of_week_nights'].value_counts().plot(kind=\"pie\")"
      ],
      "metadata": {
        "colab": {
          "base_uri": "https://localhost:8080/"
        },
        "outputId": "3d9f6b83-b612-481b-bc48-a047db837f72",
        "id": "5m5l8VpNl4HB"
      },
      "execution_count": null,
      "outputs": [
        {
          "output_type": "execute_result",
          "data": {
            "text/plain": [
              "<matplotlib.axes._subplots.AxesSubplot at 0x7f12ce2988e0>"
            ]
          },
          "metadata": {},
          "execution_count": 94
        },
        {
          "output_type": "display_data",
          "data": {
            "text/plain": [
              "<Figure size 432x288 with 1 Axes>"
            ],
            "image/png": "[encoded data removed]"
          },
          "metadata": {}
        }
      ]
    },
    {
      "cell_type": "code",
      "source": [
        "df['no_of_week_nights'].value_counts().plot(kind=\"bar\")"
      ],
      "metadata": {
        "colab": {
          "base_uri": "https://localhost:8080/"
        },
        "outputId": "4f34d1bd-a679-471e-8a40-dbfda57e544d",
        "id": "zsRMxK_Jl4HC"
      },
      "execution_count": null,
      "outputs": [
        {
          "output_type": "execute_result",
          "data": {
            "text/plain": [
              "<matplotlib.axes._subplots.AxesSubplot at 0x7f12ce1aa460>"
            ]
          },
          "metadata": {},
          "execution_count": 95
        },
        {
          "output_type": "display_data",
          "data": {
            "text/plain": [
              "<Figure size 432x288 with 1 Axes>"
            ],
            "image/png": "[encoded data removed]"
          },
          "metadata": {
            "needs_background": "light"
          }
        }
      ]
    },
    {
      "cell_type": "markdown",
      "source": [
        "### 5 - Type of meal plan"
      ],
      "metadata": {
        "id": "d7D9TQuEOcVF"
      }
    },
    {
      "cell_type": "code",
      "source": [
        "df.type_of_meal_plan.value_counts(ascending=True)"
      ],
      "metadata": {
        "colab": {
          "base_uri": "https://localhost:8080/"
        },
        "id": "qZ3UWL9AOjN0",
        "outputId": "42f15c15-7a1f-4e2a-f6aa-d82f6b039df4"
      },
      "execution_count": null,
      "outputs": [
        {
          "output_type": "execute_result",
          "data": {
            "text/plain": [
              "Meal Plan 3         5\n",
              "Meal Plan 2      3305\n",
              "Not Selected     5130\n",
              "Meal Plan 1     27835\n",
              "Name: type_of_meal_plan, dtype: int64"
            ]
          },
          "metadata": {},
          "execution_count": 96
        }
      ]
    },
    {
      "cell_type": "code",
      "source": [
        "df.type_of_meal_plan.isnull().sum()"
      ],
      "metadata": {
        "colab": {
          "base_uri": "https://localhost:8080/"
        },
        "id": "7VG_tXfuOt6y",
        "outputId": "54243fb7-8cad-4bdc-fd7d-b025f59b5fdc"
      },
      "execution_count": null,
      "outputs": [
        {
          "output_type": "execute_result",
          "data": {
            "text/plain": [
              "0"
            ]
          },
          "metadata": {},
          "execution_count": 97
        }
      ]
    },
    {
      "cell_type": "code",
      "source": [
        "df['type_of_meal_plan'].value_counts(ascending=True).plot(kind=\"bar\")"
      ],
      "metadata": {
        "colab": {
          "base_uri": "https://localhost:8080/"
        },
        "id": "2jfRXPKXOxiD",
        "outputId": "07603d1c-44c0-4c04-dfa4-e5b45852d809"
      },
      "execution_count": null,
      "outputs": [
        {
          "output_type": "execute_result",
          "data": {
            "text/plain": [
              "<matplotlib.axes._subplots.AxesSubplot at 0x7f12ce13c310>"
            ]
          },
          "metadata": {},
          "execution_count": 98
        },
        {
          "output_type": "display_data",
          "data": {
            "text/plain": [
              "<Figure size 432x288 with 1 Axes>"
            ],
            "image/png": "[encoded data removed]"
          },
          "metadata": {
            "needs_background": "light"
          }
        }
      ]
    },
    {
      "cell_type": "markdown",
      "source": [
        "### 6 - Required car parking space"
      ],
      "metadata": {
        "id": "lHLP4gDemnjx"
      }
    },
    {
      "cell_type": "code",
      "source": [
        "df.required_car_parking_space.isnull().sum()"
      ],
      "metadata": {
        "colab": {
          "base_uri": "https://localhost:8080/"
        },
        "outputId": "ac6452dc-67b8-43a6-ee6a-dd87ee9b7aca",
        "id": "XkRxr9MUmnj9"
      },
      "execution_count": null,
      "outputs": [
        {
          "output_type": "execute_result",
          "data": {
            "text/plain": [
              "0"
            ]
          },
          "metadata": {},
          "execution_count": 99
        }
      ]
    },
    {
      "cell_type": "code",
      "source": [
        "df.required_car_parking_space.value_counts()"
      ],
      "metadata": {
        "colab": {
          "base_uri": "https://localhost:8080/"
        },
        "outputId": "df01b1ca-6959-4a62-808c-fbcd7daababa",
        "id": "opjsvYOKmnj9"
      },
      "execution_count": null,
      "outputs": [
        {
          "output_type": "execute_result",
          "data": {
            "text/plain": [
              "0    35151\n",
              "1     1124\n",
              "Name: required_car_parking_space, dtype: int64"
            ]
          },
          "metadata": {},
          "execution_count": 100
        }
      ]
    },
    {
      "cell_type": "code",
      "source": [
        "df['required_car_parking_space'].value_counts().plot(kind=\"pie\")"
      ],
      "metadata": {
        "colab": {
          "base_uri": "https://localhost:8080/"
        },
        "outputId": "ab8e691f-b8e7-4025-8a9a-a23caa45496e",
        "id": "Ep6IS_n-mnj-"
      },
      "execution_count": null,
      "outputs": [
        {
          "output_type": "execute_result",
          "data": {
            "text/plain": [
              "<matplotlib.axes._subplots.AxesSubplot at 0x7f12ce11ea90>"
            ]
          },
          "metadata": {},
          "execution_count": 101
        },
        {
          "output_type": "display_data",
          "data": {
            "text/plain": [
              "<Figure size 432x288 with 1 Axes>"
            ],
            "image/png": "[encoded data removed]"
          },
          "metadata": {}
        }
      ]
    },
    {
      "cell_type": "code",
      "source": [
        "df['required_car_parking_space'].value_counts().plot(kind=\"bar\")"
      ],
      "metadata": {
        "colab": {
          "base_uri": "https://localhost:8080/"
        },
        "outputId": "d1421586-97c1-4ccf-8b9d-21234ca5318f",
        "id": "_T1Qbfzhmnj-"
      },
      "execution_count": null,
      "outputs": [
        {
          "output_type": "execute_result",
          "data": {
            "text/plain": [
              "<matplotlib.axes._subplots.AxesSubplot at 0x7f12ce0d68b0>"
            ]
          },
          "metadata": {},
          "execution_count": 102
        },
        {
          "output_type": "display_data",
          "data": {
            "text/plain": [
              "<Figure size 432x288 with 1 Axes>"
            ],
            "image/png": "[encoded data removed]"
          },
          "metadata": {
            "needs_background": "light"
          }
        }
      ]
    },
    {
      "cell_type": "markdown",
      "source": [
        "### 7 - Room type reserved"
      ],
      "metadata": {
        "id": "a4T_F2hCP7yi"
      }
    },
    {
      "cell_type": "code",
      "source": [
        "df.room_type_reserved.value_counts(ascending=True)"
      ],
      "metadata": {
        "colab": {
          "base_uri": "https://localhost:8080/"
        },
        "id": "t89_FP4vP_xa",
        "outputId": "94b7d6a8-83f0-4ff2-9d01-a9ea5a6ce5fb"
      },
      "execution_count": null,
      "outputs": [
        {
          "output_type": "execute_result",
          "data": {
            "text/plain": [
              "Room_Type 3        7\n",
              "Room_Type 7      158\n",
              "Room_Type 5      265\n",
              "Room_Type 2      692\n",
              "Room_Type 6      966\n",
              "Room_Type 4     6057\n",
              "Room_Type 1    28130\n",
              "Name: room_type_reserved, dtype: int64"
            ]
          },
          "metadata": {},
          "execution_count": 11
        }
      ]
    },
    {
      "cell_type": "code",
      "source": [
        "df.room_type_reserved.isnull().sum()"
      ],
      "metadata": {
        "colab": {
          "base_uri": "https://localhost:8080/"
        },
        "id": "rf7u-TjCQG5x",
        "outputId": "e28835f1-4a77-43e4-ac0c-703a37e21775"
      },
      "execution_count": null,
      "outputs": [
        {
          "output_type": "execute_result",
          "data": {
            "text/plain": [
              "0"
            ]
          },
          "metadata": {},
          "execution_count": 12
        }
      ]
    },
    {
      "cell_type": "code",
      "source": [
        "df['room_type_reserved'].value_counts(ascending=True).plot(kind=\"bar\")"
      ],
      "metadata": {
        "colab": {
          "base_uri": "https://localhost:8080/"
        },
        "id": "XND0koqHQMft",
        "outputId": "ae53c097-3b49-48a7-ead7-637a4d483ad5"
      },
      "execution_count": null,
      "outputs": [
        {
          "output_type": "execute_result",
          "data": {
            "text/plain": [
              "<matplotlib.axes._subplots.AxesSubplot at 0x7f130e8f2a00>"
            ]
          },
          "metadata": {},
          "execution_count": 13
        },
        {
          "output_type": "display_data",
          "data": {
            "text/plain": [
              "<Figure size 432x288 with 1 Axes>"
            ],
            "image/png": "[encoded data removed]"
          },
          "metadata": {
            "needs_background": "light"
          }
        }
      ]
    },
    {
      "cell_type": "markdown",
      "source": [
        "### 8 - Lead time"
      ],
      "metadata": {
        "id": "xl8ASOYunUhI"
      }
    },
    {
      "cell_type": "code",
      "source": [
        "df.lead_time.isnull().sum()"
      ],
      "metadata": {
        "colab": {
          "base_uri": "https://localhost:8080/"
        },
        "outputId": "39432546-4a9b-4eec-eeeb-7fb0951804ed",
        "id": "9Ot_yRZgnUhU"
      },
      "execution_count": null,
      "outputs": [
        {
          "output_type": "execute_result",
          "data": {
            "text/plain": [
              "0"
            ]
          },
          "metadata": {},
          "execution_count": 230
        }
      ]
    },
    {
      "cell_type": "code",
      "source": [
        "df.lead_time.describe()"
      ],
      "metadata": {
        "colab": {
          "base_uri": "https://localhost:8080/"
        },
        "outputId": "af7364f9-c987-44ce-fe1d-1e509d021d68",
        "id": "MXo-eenur6ll"
      },
      "execution_count": null,
      "outputs": [
        {
          "output_type": "execute_result",
          "data": {
            "text/plain": [
              "count    36275.000000\n",
              "mean        85.232557\n",
              "std         85.930817\n",
              "min          0.000000\n",
              "25%         17.000000\n",
              "50%         57.000000\n",
              "75%        126.000000\n",
              "max        443.000000\n",
              "Name: lead_time, dtype: float64"
            ]
          },
          "metadata": {},
          "execution_count": 231
        }
      ]
    },
    {
      "cell_type": "code",
      "source": [
        "df.boxplot(column=['lead_time'])"
      ],
      "metadata": {
        "colab": {
          "base_uri": "https://localhost:8080/"
        },
        "outputId": "e5a7e447-51a4-4224-a489-79b1ea6d3d9b",
        "id": "JfiNqMdcr6ll"
      },
      "execution_count": null,
      "outputs": [
        {
          "output_type": "execute_result",
          "data": {
            "text/plain": [
              "<matplotlib.axes._subplots.AxesSubplot at 0x7f12c45cea60>"
            ]
          },
          "metadata": {},
          "execution_count": 232
        },
        {
          "output_type": "display_data",
          "data": {
            "text/plain": [
              "<Figure size 432x288 with 1 Axes>"
            ],
            "image/png": "[encoded data removed]"
          },
          "metadata": {
            "needs_background": "light"
          }
        }
      ]
    },
    {
      "cell_type": "code",
      "source": [
        "df.lead_time.hist()"
      ],
      "metadata": {
        "colab": {
          "base_uri": "https://localhost:8080/"
        },
        "outputId": "335b9b8c-cd5f-4dfc-8493-81b8b202c9b4",
        "id": "QQ4MYcZpr6ll"
      },
      "execution_count": null,
      "outputs": [
        {
          "output_type": "execute_result",
          "data": {
            "text/plain": [
              "<matplotlib.axes._subplots.AxesSubplot at 0x7f12c44de190>"
            ]
          },
          "metadata": {},
          "execution_count": 233
        },
        {
          "output_type": "display_data",
          "data": {
            "text/plain": [
              "<Figure size 432x288 with 1 Axes>"
            ],
            "image/png": "[encoded data removed]"
          },
          "metadata": {
            "needs_background": "light"
          }
        }
      ]
    },
    {
      "cell_type": "markdown",
      "source": [
        "### 9 - Arrival year"
      ],
      "metadata": {
        "id": "G_DnM5_Ria7l"
      }
    },
    {
      "cell_type": "code",
      "source": [
        "df.arrival_year.isnull().sum()"
      ],
      "metadata": {
        "colab": {
          "base_uri": "https://localhost:8080/"
        },
        "outputId": "1fe2b224-0b67-4b2f-f586-cd72fa1df3b4",
        "id": "Cx-SvNyVnU6m"
      },
      "execution_count": null,
      "outputs": [
        {
          "output_type": "execute_result",
          "data": {
            "text/plain": [
              "0"
            ]
          },
          "metadata": {},
          "execution_count": 108
        }
      ]
    },
    {
      "cell_type": "code",
      "source": [
        "df.arrival_year.value_counts()"
      ],
      "metadata": {
        "colab": {
          "base_uri": "https://localhost:8080/"
        },
        "outputId": "ba2f2191-1eb8-49ef-b88e-d492e0e372e4",
        "id": "o_TPPaHpnU6n"
      },
      "execution_count": null,
      "outputs": [
        {
          "output_type": "execute_result",
          "data": {
            "text/plain": [
              "2018    29761\n",
              "2017     6514\n",
              "Name: arrival_year, dtype: int64"
            ]
          },
          "metadata": {},
          "execution_count": 109
        }
      ]
    },
    {
      "cell_type": "code",
      "source": [
        "df['arrival_year'].value_counts().plot(kind=\"pie\")"
      ],
      "metadata": {
        "colab": {
          "base_uri": "https://localhost:8080/"
        },
        "outputId": "1b4a202e-2a8e-4481-8df1-f5a639a461da",
        "id": "T0Z5bNflnU6n"
      },
      "execution_count": null,
      "outputs": [
        {
          "output_type": "execute_result",
          "data": {
            "text/plain": [
              "<matplotlib.axes._subplots.AxesSubplot at 0x7f12c7865940>"
            ]
          },
          "metadata": {},
          "execution_count": 110
        },
        {
          "output_type": "display_data",
          "data": {
            "text/plain": [
              "<Figure size 432x288 with 1 Axes>"
            ],
            "image/png": "[encoded data removed]"
          },
          "metadata": {}
        }
      ]
    },
    {
      "cell_type": "code",
      "source": [
        "df['arrival_year'].value_counts().plot(kind=\"bar\")"
      ],
      "metadata": {
        "colab": {
          "base_uri": "https://localhost:8080/"
        },
        "outputId": "cd9aa80f-c8ae-4acc-d2cb-8ae25be95de8",
        "id": "1QQBTdQEnU6n"
      },
      "execution_count": null,
      "outputs": [
        {
          "output_type": "execute_result",
          "data": {
            "text/plain": [
              "<matplotlib.axes._subplots.AxesSubplot at 0x7f12c78edc10>"
            ]
          },
          "metadata": {},
          "execution_count": 111
        },
        {
          "output_type": "display_data",
          "data": {
            "text/plain": [
              "<Figure size 432x288 with 1 Axes>"
            ],
            "image/png": "[encoded data removed]"
          },
          "metadata": {
            "needs_background": "light"
          }
        }
      ]
    },
    {
      "cell_type": "markdown",
      "source": [
        "### 10 - Arrival month"
      ],
      "metadata": {
        "id": "KbZJ0ePdinnq"
      }
    },
    {
      "cell_type": "code",
      "source": [
        "df.arrival_month.isnull().sum()"
      ],
      "metadata": {
        "colab": {
          "base_uri": "https://localhost:8080/"
        },
        "outputId": "b8eceeb4-3195-4a29-8043-a698ea89474d",
        "id": "RFmE71iBnVHG"
      },
      "execution_count": null,
      "outputs": [
        {
          "output_type": "execute_result",
          "data": {
            "text/plain": [
              "0"
            ]
          },
          "metadata": {},
          "execution_count": 112
        }
      ]
    },
    {
      "cell_type": "code",
      "source": [
        "df.arrival_month.value_counts()"
      ],
      "metadata": {
        "colab": {
          "base_uri": "https://localhost:8080/"
        },
        "outputId": "6cf4b656-d6b7-439b-fde2-0e4e1d40e40c",
        "id": "EtH0DZtVnVHG"
      },
      "execution_count": null,
      "outputs": [
        {
          "output_type": "execute_result",
          "data": {
            "text/plain": [
              "10    5317\n",
              "9     4611\n",
              "8     3813\n",
              "6     3203\n",
              "12    3021\n",
              "11    2980\n",
              "7     2920\n",
              "4     2736\n",
              "5     2598\n",
              "3     2358\n",
              "2     1704\n",
              "1     1014\n",
              "Name: arrival_month, dtype: int64"
            ]
          },
          "metadata": {},
          "execution_count": 113
        }
      ]
    },
    {
      "cell_type": "code",
      "source": [
        "df['arrival_month'].value_counts().plot(kind=\"pie\")"
      ],
      "metadata": {
        "colab": {
          "base_uri": "https://localhost:8080/"
        },
        "outputId": "a1180611-ca4e-4894-8f73-22e3b241c39f",
        "id": "8IMz7mT5nVHK"
      },
      "execution_count": null,
      "outputs": [
        {
          "output_type": "execute_result",
          "data": {
            "text/plain": [
              "<matplotlib.axes._subplots.AxesSubplot at 0x7f12c750c880>"
            ]
          },
          "metadata": {},
          "execution_count": 114
        },
        {
          "output_type": "display_data",
          "data": {
            "text/plain": [
              "<Figure size 432x288 with 1 Axes>"
            ],
            "image/png": "[encoded data removed]"
          },
          "metadata": {}
        }
      ]
    },
    {
      "cell_type": "code",
      "source": [
        "df['arrival_month'].value_counts().plot(kind=\"bar\")"
      ],
      "metadata": {
        "colab": {
          "base_uri": "https://localhost:8080/"
        },
        "outputId": "93a4de20-56e4-47ed-a0d0-de60d52f5194",
        "id": "MqreoTVFnVHK"
      },
      "execution_count": null,
      "outputs": [
        {
          "output_type": "execute_result",
          "data": {
            "text/plain": [
              "<matplotlib.axes._subplots.AxesSubplot at 0x7f12c74a71c0>"
            ]
          },
          "metadata": {},
          "execution_count": 115
        },
        {
          "output_type": "display_data",
          "data": {
            "text/plain": [
              "<Figure size 432x288 with 1 Axes>"
            ],
            "image/png": "[encoded data removed]"
          },
          "metadata": {
            "needs_background": "light"
          }
        }
      ]
    },
    {
      "cell_type": "markdown",
      "source": [
        "### 11 - Arrival date"
      ],
      "metadata": {
        "id": "Em4MwX0eiqnF"
      }
    },
    {
      "cell_type": "code",
      "source": [
        "df.arrival_date.isnull().sum()"
      ],
      "metadata": {
        "colab": {
          "base_uri": "https://localhost:8080/"
        },
        "outputId": "12b45244-d8d3-4686-9e40-d48ca930f3b1",
        "id": "C0BBjllYnVQ2"
      },
      "execution_count": null,
      "outputs": [
        {
          "output_type": "execute_result",
          "data": {
            "text/plain": [
              "0"
            ]
          },
          "metadata": {},
          "execution_count": 116
        }
      ]
    },
    {
      "cell_type": "code",
      "source": [
        "df.arrival_date.value_counts()"
      ],
      "metadata": {
        "colab": {
          "base_uri": "https://localhost:8080/"
        },
        "outputId": "2659d385-1001-49b2-e8ce-8b4af297dbab",
        "id": "THmowSu8nVQ3"
      },
      "execution_count": null,
      "outputs": [
        {
          "output_type": "execute_result",
          "data": {
            "text/plain": [
              "13    1358\n",
              "17    1345\n",
              "2     1331\n",
              "4     1327\n",
              "19    1327\n",
              "16    1306\n",
              "20    1281\n",
              "15    1273\n",
              "6     1273\n",
              "18    1260\n",
              "14    1242\n",
              "30    1216\n",
              "12    1204\n",
              "8     1198\n",
              "29    1190\n",
              "21    1158\n",
              "5     1154\n",
              "26    1146\n",
              "25    1146\n",
              "1     1133\n",
              "9     1130\n",
              "28    1129\n",
              "7     1110\n",
              "24    1103\n",
              "11    1098\n",
              "3     1098\n",
              "10    1089\n",
              "27    1059\n",
              "22    1023\n",
              "23     990\n",
              "31     578\n",
              "Name: arrival_date, dtype: int64"
            ]
          },
          "metadata": {},
          "execution_count": 117
        }
      ]
    },
    {
      "cell_type": "code",
      "source": [
        "df['arrival_date'].value_counts().plot(kind=\"pie\")"
      ],
      "metadata": {
        "colab": {
          "base_uri": "https://localhost:8080/"
        },
        "outputId": "7817718a-484f-4a41-df07-150267aa5f61",
        "id": "e_021pRTnVQ4"
      },
      "execution_count": null,
      "outputs": [
        {
          "output_type": "execute_result",
          "data": {
            "text/plain": [
              "<matplotlib.axes._subplots.AxesSubplot at 0x7f12c7266b50>"
            ]
          },
          "metadata": {},
          "execution_count": 118
        },
        {
          "output_type": "display_data",
          "data": {
            "text/plain": [
              "<Figure size 432x288 with 1 Axes>"
            ],
            "image/png": "[encoded data removed]"
          },
          "metadata": {}
        }
      ]
    },
    {
      "cell_type": "code",
      "source": [
        "df['arrival_date'].value_counts().plot(kind=\"bar\")"
      ],
      "metadata": {
        "colab": {
          "base_uri": "https://localhost:8080/"
        },
        "outputId": "dc13bc5e-6c52-4cdd-c651-3517439b4e73",
        "id": "U32I0WoZnVQ6"
      },
      "execution_count": null,
      "outputs": [
        {
          "output_type": "execute_result",
          "data": {
            "text/plain": [
              "<matplotlib.axes._subplots.AxesSubplot at 0x7f12c71b0b50>"
            ]
          },
          "metadata": {},
          "execution_count": 119
        },
        {
          "output_type": "display_data",
          "data": {
            "text/plain": [
              "<Figure size 432x288 with 1 Axes>"
            ],
            "image/png": "[encoded data removed]"
          },
          "metadata": {
            "needs_background": "light"
          }
        }
      ]
    },
    {
      "cell_type": "markdown",
      "source": [
        "### 12 - Market segment type"
      ],
      "metadata": {
        "id": "iOgm8ya6TFD3"
      }
    },
    {
      "cell_type": "code",
      "source": [
        "df.market_segment_type.isnull().sum()"
      ],
      "metadata": {
        "colab": {
          "base_uri": "https://localhost:8080/"
        },
        "id": "xOH3YGvFV7Ym",
        "outputId": "b19b02c6-abe9-4760-99e8-2d95801e855f"
      },
      "execution_count": null,
      "outputs": [
        {
          "output_type": "execute_result",
          "data": {
            "text/plain": [
              "0"
            ]
          },
          "metadata": {},
          "execution_count": 45
        }
      ]
    },
    {
      "cell_type": "code",
      "source": [
        "df.market_segment_type.value_counts()"
      ],
      "metadata": {
        "colab": {
          "base_uri": "https://localhost:8080/"
        },
        "id": "q5xlyAtQYKBr",
        "outputId": "f3d491b1-d127-498d-9aa1-57ed91f0aec4"
      },
      "execution_count": null,
      "outputs": [
        {
          "output_type": "execute_result",
          "data": {
            "text/plain": [
              "Online           23214\n",
              "Offline          10528\n",
              "Corporate         2017\n",
              "Complementary      391\n",
              "Aviation           125\n",
              "Name: market_segment_type, dtype: int64"
            ]
          },
          "metadata": {},
          "execution_count": 46
        }
      ]
    },
    {
      "cell_type": "code",
      "source": [
        "df['market_segment_type'].value_counts().plot(kind=\"pie\")"
      ],
      "metadata": {
        "colab": {
          "base_uri": "https://localhost:8080/"
        },
        "id": "B5slgw4eYJj6",
        "outputId": "f9443142-14d8-4d42-a9dc-7507a26b84c4"
      },
      "execution_count": null,
      "outputs": [
        {
          "output_type": "execute_result",
          "data": {
            "text/plain": [
              "<matplotlib.axes._subplots.AxesSubplot at 0x7f1300fc2eb0>"
            ]
          },
          "metadata": {},
          "execution_count": 47
        },
        {
          "output_type": "display_data",
          "data": {
            "text/plain": [
              "<Figure size 432x288 with 1 Axes>"
            ],
            "image/png": "[encoded data removed]"
          },
          "metadata": {}
        }
      ]
    },
    {
      "cell_type": "code",
      "source": [
        "df['market_segment_type'].value_counts().plot(kind=\"bar\")"
      ],
      "metadata": {
        "colab": {
          "base_uri": "https://localhost:8080/"
        },
        "id": "jEs0UaFPYNK7",
        "outputId": "469aacc1-3d55-44ab-86f0-80a19a9cd5d1"
      },
      "execution_count": null,
      "outputs": [
        {
          "output_type": "execute_result",
          "data": {
            "text/plain": [
              "<matplotlib.axes._subplots.AxesSubplot at 0x7f1300f58c70>"
            ]
          },
          "metadata": {},
          "execution_count": 48
        },
        {
          "output_type": "display_data",
          "data": {
            "text/plain": [
              "<Figure size 432x288 with 1 Axes>"
            ],
            "image/png": "[encoded data removed]"
          },
          "metadata": {
            "needs_background": "light"
          }
        }
      ]
    },
    {
      "cell_type": "markdown",
      "source": [
        "### 13 - Repeated guest"
      ],
      "metadata": {
        "id": "2aqO0MLxjMVB"
      }
    },
    {
      "cell_type": "code",
      "source": [
        "df.repeated_guest.isnull().sum()"
      ],
      "metadata": {
        "colab": {
          "base_uri": "https://localhost:8080/"
        },
        "outputId": "3143368d-c2d8-40ee-fa53-8a458f3092ab",
        "id": "SKs1glnanVa8"
      },
      "execution_count": null,
      "outputs": [
        {
          "output_type": "execute_result",
          "data": {
            "text/plain": [
              "0"
            ]
          },
          "metadata": {},
          "execution_count": 122
        }
      ]
    },
    {
      "cell_type": "code",
      "source": [
        "df.repeated_guest.value_counts()"
      ],
      "metadata": {
        "colab": {
          "base_uri": "https://localhost:8080/"
        },
        "outputId": "220e1b75-8487-4a9a-d0e7-cacb282cc5bc",
        "id": "qUJaLVwynVa8"
      },
      "execution_count": null,
      "outputs": [
        {
          "output_type": "execute_result",
          "data": {
            "text/plain": [
              "0    35345\n",
              "1      930\n",
              "Name: repeated_guest, dtype: int64"
            ]
          },
          "metadata": {},
          "execution_count": 123
        }
      ]
    },
    {
      "cell_type": "code",
      "source": [
        "df['repeated_guest'].value_counts().plot(kind=\"pie\")"
      ],
      "metadata": {
        "colab": {
          "base_uri": "https://localhost:8080/"
        },
        "outputId": "46cf9792-9182-4e31-a37b-9888cf5285b5",
        "id": "yhokRAsXnVa9"
      },
      "execution_count": null,
      "outputs": [
        {
          "output_type": "execute_result",
          "data": {
            "text/plain": [
              "<matplotlib.axes._subplots.AxesSubplot at 0x7f12f76e25e0>"
            ]
          },
          "metadata": {},
          "execution_count": 124
        },
        {
          "output_type": "display_data",
          "data": {
            "text/plain": [
              "<Figure size 432x288 with 1 Axes>"
            ],
            "image/png": "[encoded data removed]"
          },
          "metadata": {}
        }
      ]
    },
    {
      "cell_type": "code",
      "source": [
        "df['repeated_guest'].value_counts().plot(kind=\"bar\")"
      ],
      "metadata": {
        "colab": {
          "base_uri": "https://localhost:8080/"
        },
        "outputId": "f6ab95cc-3de6-43fd-b77c-a9891714c036",
        "id": "200VjpfznVa9"
      },
      "execution_count": null,
      "outputs": [
        {
          "output_type": "execute_result",
          "data": {
            "text/plain": [
              "<matplotlib.axes._subplots.AxesSubplot at 0x7f12c6f22850>"
            ]
          },
          "metadata": {},
          "execution_count": 125
        },
        {
          "output_type": "display_data",
          "data": {
            "text/plain": [
              "<Figure size 432x288 with 1 Axes>"
            ],
            "image/png": "[encoded data removed]"
          },
          "metadata": {
            "needs_background": "light"
          }
        }
      ]
    },
    {
      "cell_type": "markdown",
      "source": [
        "### 14 - No of previous cancellations"
      ],
      "metadata": {
        "id": "mSgW81hdjSMW"
      }
    },
    {
      "cell_type": "code",
      "source": [
        "df.no_of_previous_cancellations.isnull().sum()"
      ],
      "metadata": {
        "colab": {
          "base_uri": "https://localhost:8080/"
        },
        "outputId": "8b548b68-f9d5-4c71-fb09-cc3b599d79e8",
        "id": "rOTVH4GHrLYD"
      },
      "execution_count": null,
      "outputs": [
        {
          "output_type": "execute_result",
          "data": {
            "text/plain": [
              "0"
            ]
          },
          "metadata": {},
          "execution_count": 148
        }
      ]
    },
    {
      "cell_type": "code",
      "source": [
        "df.no_of_previous_cancellations.describe()"
      ],
      "metadata": {
        "colab": {
          "base_uri": "https://localhost:8080/"
        },
        "outputId": "7f56b32b-230a-4c6b-a7f6-babd4d0b537c",
        "id": "4lhywDmxrLYE"
      },
      "execution_count": null,
      "outputs": [
        {
          "output_type": "execute_result",
          "data": {
            "text/plain": [
              "count    36275.000000\n",
              "mean         0.023349\n",
              "std          0.368331\n",
              "min          0.000000\n",
              "25%          0.000000\n",
              "50%          0.000000\n",
              "75%          0.000000\n",
              "max         13.000000\n",
              "Name: no_of_previous_cancellations, dtype: float64"
            ]
          },
          "metadata": {},
          "execution_count": 149
        }
      ]
    },
    {
      "cell_type": "code",
      "source": [
        "df.boxplot(column=['no_of_previous_cancellations'])"
      ],
      "metadata": {
        "colab": {
          "base_uri": "https://localhost:8080/"
        },
        "outputId": "5d59c9d5-a647-4c45-bc99-7bbb4493a05c",
        "id": "SZfEnxQMrLYE"
      },
      "execution_count": null,
      "outputs": [
        {
          "output_type": "execute_result",
          "data": {
            "text/plain": [
              "<matplotlib.axes._subplots.AxesSubplot at 0x7f12c6e1c2b0>"
            ]
          },
          "metadata": {},
          "execution_count": 150
        },
        {
          "output_type": "display_data",
          "data": {
            "text/plain": [
              "<Figure size 432x288 with 1 Axes>"
            ],
            "image/png": "[encoded data removed]"
          },
          "metadata": {
            "needs_background": "light"
          }
        }
      ]
    },
    {
      "cell_type": "code",
      "source": [
        "df.no_of_previous_cancellations.hist()"
      ],
      "metadata": {
        "colab": {
          "base_uri": "https://localhost:8080/"
        },
        "outputId": "0089c968-0ce7-4334-9912-69e5ed607804",
        "id": "hLad7jyVrLYE"
      },
      "execution_count": null,
      "outputs": [
        {
          "output_type": "execute_result",
          "data": {
            "text/plain": [
              "<matplotlib.axes._subplots.AxesSubplot at 0x7f12c6dfaac0>"
            ]
          },
          "metadata": {},
          "execution_count": 151
        },
        {
          "output_type": "display_data",
          "data": {
            "text/plain": [
              "<Figure size 432x288 with 1 Axes>"
            ],
            "image/png": "[encoded data removed]"
          },
          "metadata": {
            "needs_background": "light"
          }
        }
      ]
    },
    {
      "cell_type": "markdown",
      "source": [
        "### 15 - No of previous booking not canceled"
      ],
      "metadata": {
        "id": "zfQcZC1IjZrO"
      }
    },
    {
      "cell_type": "code",
      "source": [
        "df.no_of_previous_bookings_not_canceled.isnull().sum()"
      ],
      "metadata": {
        "colab": {
          "base_uri": "https://localhost:8080/"
        },
        "outputId": "01edc56b-88a4-46dc-ac77-892c5b8f1ec2",
        "id": "GRl5tv9fpz6u"
      },
      "execution_count": null,
      "outputs": [
        {
          "output_type": "execute_result",
          "data": {
            "text/plain": [
              "0"
            ]
          },
          "metadata": {},
          "execution_count": 132
        }
      ]
    },
    {
      "cell_type": "code",
      "source": [
        "df.no_of_previous_bookings_not_canceled.describe()"
      ],
      "metadata": {
        "colab": {
          "base_uri": "https://localhost:8080/"
        },
        "outputId": "08ed18c9-56d3-4125-bdb1-7d08979f4371",
        "id": "3sZ8FoCuqUja"
      },
      "execution_count": null,
      "outputs": [
        {
          "output_type": "execute_result",
          "data": {
            "text/plain": [
              "count    36275.000000\n",
              "mean         0.153411\n",
              "std          1.754171\n",
              "min          0.000000\n",
              "25%          0.000000\n",
              "50%          0.000000\n",
              "75%          0.000000\n",
              "max         58.000000\n",
              "Name: no_of_previous_bookings_not_canceled, dtype: float64"
            ]
          },
          "metadata": {},
          "execution_count": 137
        }
      ]
    },
    {
      "cell_type": "code",
      "source": [
        "df.boxplot(column=['no_of_previous_bookings_not_canceled'])"
      ],
      "metadata": {
        "colab": {
          "base_uri": "https://localhost:8080/"
        },
        "outputId": "c64422c9-39be-4bfb-ff6d-6f4841bbaf42",
        "id": "LJJb31owqUja"
      },
      "execution_count": null,
      "outputs": [
        {
          "output_type": "execute_result",
          "data": {
            "text/plain": [
              "<matplotlib.axes._subplots.AxesSubplot at 0x7f12cfe202b0>"
            ]
          },
          "metadata": {},
          "execution_count": 138
        },
        {
          "output_type": "display_data",
          "data": {
            "text/plain": [
              "<Figure size 432x288 with 1 Axes>"
            ],
            "image/png": "[encoded data removed]"
          },
          "metadata": {
            "needs_background": "light"
          }
        }
      ]
    },
    {
      "cell_type": "code",
      "source": [
        "df.no_of_previous_bookings_not_canceled.hist()"
      ],
      "metadata": {
        "colab": {
          "base_uri": "https://localhost:8080/"
        },
        "outputId": "37d492ad-3cb2-4b18-bef4-d131c68b44b9",
        "id": "UIOlyqh1qUja"
      },
      "execution_count": null,
      "outputs": [
        {
          "output_type": "execute_result",
          "data": {
            "text/plain": [
              "<matplotlib.axes._subplots.AxesSubplot at 0x7f12cfd66c40>"
            ]
          },
          "metadata": {},
          "execution_count": 139
        },
        {
          "output_type": "display_data",
          "data": {
            "text/plain": [
              "<Figure size 432x288 with 1 Axes>"
            ],
            "image/png": "[encoded data removed]"
          },
          "metadata": {
            "needs_background": "light"
          }
        }
      ]
    },
    {
      "cell_type": "markdown",
      "source": [
        "### 16 - Avg price per room"
      ],
      "metadata": {
        "id": "vmGesfUQRa8u"
      }
    },
    {
      "cell_type": "code",
      "source": [
        "df.avg_price_per_room.isnull().sum()"
      ],
      "metadata": {
        "colab": {
          "base_uri": "https://localhost:8080/"
        },
        "id": "R3OzYeZxRez4",
        "outputId": "c7880fe9-d8f7-44d7-c33b-a5132f928fa8"
      },
      "execution_count": null,
      "outputs": [
        {
          "output_type": "execute_result",
          "data": {
            "text/plain": [
              "0"
            ]
          },
          "metadata": {},
          "execution_count": 234
        }
      ]
    },
    {
      "cell_type": "code",
      "source": [
        "df.avg_price_per_room.describe()"
      ],
      "metadata": {
        "colab": {
          "base_uri": "https://localhost:8080/"
        },
        "id": "ef4tSF8TRrHM",
        "outputId": "a466bfab-3e25-48c9-e2ed-7573aedb19e5"
      },
      "execution_count": null,
      "outputs": [
        {
          "output_type": "execute_result",
          "data": {
            "text/plain": [
              "count    36275.000000\n",
              "mean       103.423539\n",
              "std         35.089424\n",
              "min          0.000000\n",
              "25%         80.300000\n",
              "50%         99.450000\n",
              "75%        120.000000\n",
              "max        540.000000\n",
              "Name: avg_price_per_room, dtype: float64"
            ]
          },
          "metadata": {},
          "execution_count": 235
        }
      ]
    },
    {
      "cell_type": "code",
      "source": [
        "df.boxplot(column=['avg_price_per_room'])"
      ],
      "metadata": {
        "colab": {
          "base_uri": "https://localhost:8080/"
        },
        "id": "kQ4ECaY7Ryci",
        "outputId": "515b5dec-d29b-43d1-9535-120e297c4ee0"
      },
      "execution_count": null,
      "outputs": [
        {
          "output_type": "execute_result",
          "data": {
            "text/plain": [
              "<matplotlib.axes._subplots.AxesSubplot at 0x7f12c44c0ee0>"
            ]
          },
          "metadata": {},
          "execution_count": 236
        },
        {
          "output_type": "display_data",
          "data": {
            "text/plain": [
              "<Figure size 432x288 with 1 Axes>"
            ],
            "image/png": "[encoded data removed]"
          },
          "metadata": {
            "needs_background": "light"
          }
        }
      ]
    },
    {
      "cell_type": "code",
      "source": [
        "df.avg_price_per_room.hist()"
      ],
      "metadata": {
        "colab": {
          "base_uri": "https://localhost:8080/"
        },
        "id": "lQQR0kcwR3Hk",
        "outputId": "3bfe49f7-c339-4eb1-8605-04c584ec821e"
      },
      "execution_count": null,
      "outputs": [
        {
          "output_type": "execute_result",
          "data": {
            "text/plain": [
              "<matplotlib.axes._subplots.AxesSubplot at 0x7f12c445c550>"
            ]
          },
          "metadata": {},
          "execution_count": 237
        },
        {
          "output_type": "display_data",
          "data": {
            "text/plain": [
              "<Figure size 432x288 with 1 Axes>"
            ],
            "image/png": "[encoded data removed]"
          },
          "metadata": {
            "needs_background": "light"
          }
        }
      ]
    },
    {
      "cell_type": "markdown",
      "source": [
        "### 17 - No of speacial request"
      ],
      "metadata": {
        "id": "9GrT0ViVjhe_"
      }
    },
    {
      "cell_type": "code",
      "source": [
        "df.no_of_special_requests.isnull().sum()"
      ],
      "metadata": {
        "colab": {
          "base_uri": "https://localhost:8080/"
        },
        "outputId": "2630226b-021d-4482-8051-1a6761e29d11",
        "id": "yLUstlhIqtmv"
      },
      "execution_count": null,
      "outputs": [
        {
          "output_type": "execute_result",
          "data": {
            "text/plain": [
              "0"
            ]
          },
          "metadata": {},
          "execution_count": 142
        }
      ]
    },
    {
      "cell_type": "code",
      "source": [
        "df.no_of_special_requests.describe()"
      ],
      "metadata": {
        "colab": {
          "base_uri": "https://localhost:8080/"
        },
        "outputId": "d07da001-17ac-412b-b672-feb4e14c6582",
        "id": "DGx9mJ8Pqtmv"
      },
      "execution_count": null,
      "outputs": [
        {
          "output_type": "execute_result",
          "data": {
            "text/plain": [
              "count    36275.000000\n",
              "mean         0.619655\n",
              "std          0.786236\n",
              "min          0.000000\n",
              "25%          0.000000\n",
              "50%          0.000000\n",
              "75%          1.000000\n",
              "max          5.000000\n",
              "Name: no_of_special_requests, dtype: float64"
            ]
          },
          "metadata": {},
          "execution_count": 143
        }
      ]
    },
    {
      "cell_type": "code",
      "source": [
        "df.boxplot(column=['no_of_special_requests'])"
      ],
      "metadata": {
        "colab": {
          "base_uri": "https://localhost:8080/"
        },
        "outputId": "57f77af0-d87f-4ffa-a5c4-ebe27d41949b",
        "id": "EmQYx_3Hqtmw"
      },
      "execution_count": null,
      "outputs": [
        {
          "output_type": "execute_result",
          "data": {
            "text/plain": [
              "<matplotlib.axes._subplots.AxesSubplot at 0x7f12cfa08160>"
            ]
          },
          "metadata": {},
          "execution_count": 144
        },
        {
          "output_type": "display_data",
          "data": {
            "text/plain": [
              "<Figure size 432x288 with 1 Axes>"
            ],
            "image/png": "[encoded data removed]"
          },
          "metadata": {
            "needs_background": "light"
          }
        }
      ]
    },
    {
      "cell_type": "code",
      "source": [
        "df.no_of_special_requests.hist()"
      ],
      "metadata": {
        "colab": {
          "base_uri": "https://localhost:8080/"
        },
        "outputId": "06c7f243-a17b-45ba-debe-64942f16bc00",
        "id": "Bg-Gs_t_qtmw"
      },
      "execution_count": null,
      "outputs": [
        {
          "output_type": "execute_result",
          "data": {
            "text/plain": [
              "<matplotlib.axes._subplots.AxesSubplot at 0x7f12cf961730>"
            ]
          },
          "metadata": {},
          "execution_count": 145
        },
        {
          "output_type": "display_data",
          "data": {
            "text/plain": [
              "<Figure size 432x288 with 1 Axes>"
            ],
            "image/png": "[encoded data removed]"
          },
          "metadata": {
            "needs_background": "light"
          }
        }
      ]
    },
    {
      "cell_type": "markdown",
      "source": [
        "### 18 - Booking status"
      ],
      "metadata": {
        "id": "oLfIl7JaSICx"
      }
    },
    {
      "cell_type": "code",
      "source": [
        "df.booking_status.value_counts(ascending=True)"
      ],
      "metadata": {
        "colab": {
          "base_uri": "https://localhost:8080/"
        },
        "id": "UZmuD-9ASLAe",
        "outputId": "c42f92f4-46cd-4bc8-8c58-990e3ab2f343"
      },
      "execution_count": null,
      "outputs": [
        {
          "output_type": "execute_result",
          "data": {
            "text/plain": [
              "Canceled        11885\n",
              "Not_Canceled    24390\n",
              "Name: booking_status, dtype: int64"
            ]
          },
          "metadata": {},
          "execution_count": 24
        }
      ]
    },
    {
      "cell_type": "code",
      "source": [
        "df.booking_status.isnull().sum()"
      ],
      "metadata": {
        "colab": {
          "base_uri": "https://localhost:8080/"
        },
        "id": "sm7SCTGWSPBI",
        "outputId": "5adedc49-087c-44ed-84a5-5e51cd92118b"
      },
      "execution_count": null,
      "outputs": [
        {
          "output_type": "execute_result",
          "data": {
            "text/plain": [
              "0"
            ]
          },
          "metadata": {},
          "execution_count": 25
        }
      ]
    },
    {
      "cell_type": "code",
      "source": [
        "df['booking_status'].value_counts(ascending=True).plot(kind=\"bar\")"
      ],
      "metadata": {
        "colab": {
          "base_uri": "https://localhost:8080/"
        },
        "id": "6L9c8CLvSQng",
        "outputId": "8bd07819-3cb5-406c-8d15-f796a6c36fbc"
      },
      "execution_count": null,
      "outputs": [
        {
          "output_type": "execute_result",
          "data": {
            "text/plain": [
              "<matplotlib.axes._subplots.AxesSubplot at 0x7f130e1214f0>"
            ]
          },
          "metadata": {},
          "execution_count": 26
        },
        {
          "output_type": "display_data",
          "data": {
            "text/plain": [
              "<Figure size 432x288 with 1 Axes>"
            ],
            "image/png": "[encoded data removed]"
          },
          "metadata": {
            "needs_background": "light"
          }
        }
      ]
    },
    {
      "cell_type": "markdown",
      "source": [
        "# Pré-processamento"
      ],
      "metadata": {
        "id": "J42M2hjwSuJp"
      }
    },
    {
      "cell_type": "code",
      "source": [
        "#tira a coluna bookin_ID\n",
        "df2 = df.drop(columns='Booking_ID')"
      ],
      "metadata": {
        "id": "7LvApq6TTaDz"
      },
      "execution_count": null,
      "outputs": []
    },
    {
      "cell_type": "markdown",
      "source": [
        "## Required car parking space"
      ],
      "metadata": {
        "id": "je2XKmY8S9au"
      }
    },
    {
      "cell_type": "code",
      "source": [
        "df.required_car_parking_space.value_counts()"
      ],
      "metadata": {
        "colab": {
          "base_uri": "https://localhost:8080/"
        },
        "id": "vjRMgrTWTyFZ",
        "outputId": "c295d617-4168-4b96-cd53-b8b285ddfee1"
      },
      "execution_count": null,
      "outputs": [
        {
          "output_type": "execute_result",
          "data": {
            "text/plain": [
              "0    35151\n",
              "1     1124\n",
              "Name: required_car_parking_space, dtype: int64"
            ]
          },
          "metadata": {},
          "execution_count": 35
        }
      ]
    },
    {
      "cell_type": "code",
      "source": [
        "from sklearn.preprocessing import LabelEncoder\n",
        "le = LabelEncoder()\n",
        "label = le.fit_transform(df2['required_car_parking_space'])\n",
        "#print(le.classes_)\n",
        "#print(label)\n",
        "df2['required_car_parking_space'] = label\n",
        "df2.required_car_parking_space.value_counts()"
      ],
      "metadata": {
        "colab": {
          "base_uri": "https://localhost:8080/"
        },
        "id": "MF_MZChXU1Uj",
        "outputId": "10843bdf-21bf-44d8-f4de-928c724969a8"
      },
      "execution_count": null,
      "outputs": [
        {
          "output_type": "execute_result",
          "data": {
            "text/plain": [
              "0    35151\n",
              "1     1124\n",
              "Name: required_car_parking_space, dtype: int64"
            ]
          },
          "metadata": {},
          "execution_count": 36
        }
      ]
    },
    {
      "cell_type": "markdown",
      "source": [
        "## Repeated guest"
      ],
      "metadata": {
        "id": "M5gZ_QE5WFDA"
      }
    },
    {
      "cell_type": "code",
      "source": [
        "df.repeated_guest.value_counts()"
      ],
      "metadata": {
        "colab": {
          "base_uri": "https://localhost:8080/"
        },
        "id": "Jvie-6iFWIcf",
        "outputId": "1bfddddd-122e-4ab2-9b05-370f9970287a"
      },
      "execution_count": null,
      "outputs": [
        {
          "output_type": "execute_result",
          "data": {
            "text/plain": [
              "0    35345\n",
              "1      930\n",
              "Name: repeated_guest, dtype: int64"
            ]
          },
          "metadata": {},
          "execution_count": 38
        }
      ]
    },
    {
      "cell_type": "code",
      "source": [
        "from sklearn.preprocessing import LabelEncoder\n",
        "le = LabelEncoder()\n",
        "label = le.fit_transform(df2['repeated_guest'])\n",
        "#print(le.classes_)\n",
        "#print(label)\n",
        "df2['repeated_guest'] = label\n",
        "df2.repeated_guest.value_counts()"
      ],
      "metadata": {
        "colab": {
          "base_uri": "https://localhost:8080/"
        },
        "id": "L53zqcpKI_xS",
        "outputId": "5bf090a1-b178-4f40-d05f-7fb36f10431c"
      },
      "execution_count": null,
      "outputs": [
        {
          "output_type": "execute_result",
          "data": {
            "text/plain": [
              "0    35345\n",
              "1      930\n",
              "Name: repeated_guest, dtype: int64"
            ]
          },
          "metadata": {},
          "execution_count": 39
        }
      ]
    },
    {
      "cell_type": "markdown",
      "source": [
        "## Booking status"
      ],
      "metadata": {
        "id": "0ylsz3k4TP28"
      }
    },
    {
      "cell_type": "code",
      "source": [
        "df2.booking_status.fillna('desconhecido',inplace=True)"
      ],
      "metadata": {
        "id": "TfNVffKlSy3F"
      },
      "execution_count": null,
      "outputs": []
    },
    {
      "cell_type": "code",
      "source": [
        "#Transformar nulo para Female que é o valor mais frequente\n",
        "df2.booking_status.value_counts(ascending=True)"
      ],
      "metadata": {
        "colab": {
          "base_uri": "https://localhost:8080/"
        },
        "id": "YFNoVYfaXCDV",
        "outputId": "9bdb599e-6e0b-48a8-b26c-beb0bf76d96f"
      },
      "execution_count": null,
      "outputs": [
        {
          "output_type": "execute_result",
          "data": {
            "text/plain": [
              "Canceled        11885\n",
              "Not_Canceled    24390\n",
              "Name: booking_status, dtype: int64"
            ]
          },
          "metadata": {},
          "execution_count": 41
        }
      ]
    },
    {
      "cell_type": "code",
      "source": [
        "dummies = pd.get_dummies(df2['booking_status'])\n",
        "df2 = pd.concat([df2,dummies],axis='columns')\n",
        "df2.drop('booking_status', axis=1,inplace=True)\n",
        "df2.info()"
      ],
      "metadata": {
        "colab": {
          "base_uri": "https://localhost:8080/"
        },
        "id": "rWnkXks8XIzt",
        "outputId": "5f148e09-ab38-4e60-d07b-65b9ef88cc39"
      },
      "execution_count": null,
      "outputs": [
        {
          "output_type": "stream",
          "name": "stdout",
          "text": [
            "<class 'pandas.core.frame.DataFrame'>\n",
            "RangeIndex: 36275 entries, 0 to 36274\n",
            "Data columns (total 19 columns):\n",
            " #   Column                                Non-Null Count  Dtype  \n",
            "---  ------                                --------------  -----  \n",
            " 0   no_of_adults                          36275 non-null  int64  \n",
            " 1   no_of_children                        36275 non-null  int64  \n",
            " 2   no_of_weekend_nights                  36275 non-null  int64  \n",
            " 3   no_of_week_nights                     36275 non-null  int64  \n",
            " 4   type_of_meal_plan                     36275 non-null  object \n",
            " 5   required_car_parking_space            36275 non-null  int64  \n",
            " 6   room_type_reserved                    36275 non-null  object \n",
            " 7   lead_time                             36275 non-null  int64  \n",
            " 8   arrival_year                          36275 non-null  int64  \n",
            " 9   arrival_month                         36275 non-null  int64  \n",
            " 10  arrival_date                          36275 non-null  int64  \n",
            " 11  market_segment_type                   36275 non-null  object \n",
            " 12  repeated_guest                        36275 non-null  int64  \n",
            " 13  no_of_previous_cancellations          36275 non-null  int64  \n",
            " 14  no_of_previous_bookings_not_canceled  36275 non-null  int64  \n",
            " 15  avg_price_per_room                    36275 non-null  float64\n",
            " 16  no_of_special_requests                36275 non-null  int64  \n",
            " 17  Canceled                              36275 non-null  uint8  \n",
            " 18  Not_Canceled                          36275 non-null  uint8  \n",
            "dtypes: float64(1), int64(13), object(3), uint8(2)\n",
            "memory usage: 4.8+ MB\n"
          ]
        }
      ]
    },
    {
      "cell_type": "markdown",
      "source": [
        "## Market segment type"
      ],
      "metadata": {
        "id": "VSzCjaVHY5sl"
      }
    },
    {
      "cell_type": "code",
      "source": [
        "df2.market_segment_type.value_counts()"
      ],
      "metadata": {
        "colab": {
          "base_uri": "https://localhost:8080/"
        },
        "id": "JN3oOAEpZaJE",
        "outputId": "2d041daf-1992-425a-c823-3fc1bdb97e5d"
      },
      "execution_count": null,
      "outputs": [
        {
          "output_type": "execute_result",
          "data": {
            "text/plain": [
              "Online           23214\n",
              "Offline          10528\n",
              "Corporate         2017\n",
              "Complementary      391\n",
              "Aviation           125\n",
              "Name: market_segment_type, dtype: int64"
            ]
          },
          "metadata": {},
          "execution_count": 49
        }
      ]
    },
    {
      "cell_type": "code",
      "source": [
        "#transformar categorias em colunas\n",
        "dummies = pd.get_dummies(df2['market_segment_type'])\n",
        "df2 = pd.concat([df2,dummies],axis='columns')\n",
        "df2.drop('market_segment_type', axis=1,inplace=True)\n",
        "df2.info()"
      ],
      "metadata": {
        "colab": {
          "base_uri": "https://localhost:8080/"
        },
        "id": "EpJljZRuZbxr",
        "outputId": "9556f4f6-fbf5-4dfe-b33c-114fd5a4d6bc"
      },
      "execution_count": null,
      "outputs": [
        {
          "output_type": "stream",
          "name": "stdout",
          "text": [
            "<class 'pandas.core.frame.DataFrame'>\n",
            "RangeIndex: 36275 entries, 0 to 36274\n",
            "Data columns (total 23 columns):\n",
            " #   Column                                Non-Null Count  Dtype  \n",
            "---  ------                                --------------  -----  \n",
            " 0   no_of_adults                          36275 non-null  int64  \n",
            " 1   no_of_children                        36275 non-null  int64  \n",
            " 2   no_of_weekend_nights                  36275 non-null  int64  \n",
            " 3   no_of_week_nights                     36275 non-null  int64  \n",
            " 4   type_of_meal_plan                     36275 non-null  object \n",
            " 5   required_car_parking_space            36275 non-null  int64  \n",
            " 6   room_type_reserved                    36275 non-null  object \n",
            " 7   lead_time                             36275 non-null  int64  \n",
            " 8   arrival_year                          36275 non-null  int64  \n",
            " 9   arrival_month                         36275 non-null  int64  \n",
            " 10  arrival_date                          36275 non-null  int64  \n",
            " 11  repeated_guest                        36275 non-null  int64  \n",
            " 12  no_of_previous_cancellations          36275 non-null  int64  \n",
            " 13  no_of_previous_bookings_not_canceled  36275 non-null  int64  \n",
            " 14  avg_price_per_room                    36275 non-null  float64\n",
            " 15  no_of_special_requests                36275 non-null  int64  \n",
            " 16  Canceled                              36275 non-null  uint8  \n",
            " 17  Not_Canceled                          36275 non-null  uint8  \n",
            " 18  Aviation                              36275 non-null  uint8  \n",
            " 19  Complementary                         36275 non-null  uint8  \n",
            " 20  Corporate                             36275 non-null  uint8  \n",
            " 21  Offline                               36275 non-null  uint8  \n",
            " 22  Online                                36275 non-null  uint8  \n",
            "dtypes: float64(1), int64(13), object(2), uint8(7)\n",
            "memory usage: 4.7+ MB\n"
          ]
        }
      ]
    },
    {
      "cell_type": "markdown",
      "source": [
        "## Room type reserved"
      ],
      "metadata": {
        "id": "5onHw1_cTANx"
      }
    },
    {
      "cell_type": "code",
      "source": [
        "df2.room_type_reserved.value_counts()"
      ],
      "metadata": {
        "colab": {
          "base_uri": "https://localhost:8080/"
        },
        "id": "Zlq22qDMX5w4",
        "outputId": "aa3d698e-605e-47e6-d26c-b2b6be4982b6"
      },
      "execution_count": null,
      "outputs": [
        {
          "output_type": "execute_result",
          "data": {
            "text/plain": [
              "Room_Type 1    28130\n",
              "Room_Type 4     6057\n",
              "Room_Type 6      966\n",
              "Room_Type 2      692\n",
              "Room_Type 5      265\n",
              "Room_Type 7      158\n",
              "Room_Type 3        7\n",
              "Name: room_type_reserved, dtype: int64"
            ]
          },
          "metadata": {},
          "execution_count": 51
        }
      ]
    },
    {
      "cell_type": "code",
      "source": [
        "#transformar categorias em colunas\n",
        "dummies = pd.get_dummies(df2['room_type_reserved'])\n",
        "df2 = pd.concat([df2,dummies],axis='columns')\n",
        "df2.drop('room_type_reserved', axis=1,inplace=True)\n",
        "df2.info()"
      ],
      "metadata": {
        "colab": {
          "base_uri": "https://localhost:8080/"
        },
        "id": "99KMAESQaYrh",
        "outputId": "e808df03-fad7-45dd-989b-68942bc29a3d"
      },
      "execution_count": null,
      "outputs": [
        {
          "output_type": "stream",
          "name": "stdout",
          "text": [
            "<class 'pandas.core.frame.DataFrame'>\n",
            "RangeIndex: 36275 entries, 0 to 36274\n",
            "Data columns (total 29 columns):\n",
            " #   Column                                Non-Null Count  Dtype  \n",
            "---  ------                                --------------  -----  \n",
            " 0   no_of_adults                          36275 non-null  int64  \n",
            " 1   no_of_children                        36275 non-null  int64  \n",
            " 2   no_of_weekend_nights                  36275 non-null  int64  \n",
            " 3   no_of_week_nights                     36275 non-null  int64  \n",
            " 4   type_of_meal_plan                     36275 non-null  object \n",
            " 5   required_car_parking_space            36275 non-null  int64  \n",
            " 6   lead_time                             36275 non-null  int64  \n",
            " 7   arrival_year                          36275 non-null  int64  \n",
            " 8   arrival_month                         36275 non-null  int64  \n",
            " 9   arrival_date                          36275 non-null  int64  \n",
            " 10  repeated_guest                        36275 non-null  int64  \n",
            " 11  no_of_previous_cancellations          36275 non-null  int64  \n",
            " 12  no_of_previous_bookings_not_canceled  36275 non-null  int64  \n",
            " 13  avg_price_per_room                    36275 non-null  float64\n",
            " 14  no_of_special_requests                36275 non-null  int64  \n",
            " 15  Canceled                              36275 non-null  uint8  \n",
            " 16  Not_Canceled                          36275 non-null  uint8  \n",
            " 17  Aviation                              36275 non-null  uint8  \n",
            " 18  Complementary                         36275 non-null  uint8  \n",
            " 19  Corporate                             36275 non-null  uint8  \n",
            " 20  Offline                               36275 non-null  uint8  \n",
            " 21  Online                                36275 non-null  uint8  \n",
            " 22  Room_Type 1                           36275 non-null  uint8  \n",
            " 23  Room_Type 2                           36275 non-null  uint8  \n",
            " 24  Room_Type 3                           36275 non-null  uint8  \n",
            " 25  Room_Type 4                           36275 non-null  uint8  \n",
            " 26  Room_Type 5                           36275 non-null  uint8  \n",
            " 27  Room_Type 6                           36275 non-null  uint8  \n",
            " 28  Room_Type 7                           36275 non-null  uint8  \n",
            "dtypes: float64(1), int64(13), object(1), uint8(14)\n",
            "memory usage: 4.6+ MB\n"
          ]
        }
      ]
    },
    {
      "cell_type": "markdown",
      "source": [
        "## Type of meal plan"
      ],
      "metadata": {
        "id": "XqAVwadSTJO0"
      }
    },
    {
      "cell_type": "code",
      "source": [
        "df2.type_of_meal_plan.value_counts()"
      ],
      "metadata": {
        "colab": {
          "base_uri": "https://localhost:8080/"
        },
        "id": "S3iVIYRwV7wj",
        "outputId": "f78cb461-7d7e-4eed-992d-298d35fd8a8c"
      },
      "execution_count": null,
      "outputs": [
        {
          "output_type": "execute_result",
          "data": {
            "text/plain": [
              "Meal Plan 1     27835\n",
              "Not Selected     5130\n",
              "Meal Plan 2      3305\n",
              "Meal Plan 3         5\n",
              "Name: type_of_meal_plan, dtype: int64"
            ]
          },
          "metadata": {},
          "execution_count": 53
        }
      ]
    },
    {
      "cell_type": "code",
      "source": [
        "#transformar categorias em colunas\n",
        "dummies = pd.get_dummies(df2['type_of_meal_plan'])\n",
        "df2 = pd.concat([df2,dummies],axis='columns')\n",
        "df2.drop('type_of_meal_plan', axis=1,inplace=True)\n",
        "df2.info()"
      ],
      "metadata": {
        "colab": {
          "base_uri": "https://localhost:8080/"
        },
        "id": "qtSVSdzLa1AV",
        "outputId": "0d82f3d5-ef6f-4ad6-9bdf-5cffede4dee3"
      },
      "execution_count": null,
      "outputs": [
        {
          "output_type": "stream",
          "name": "stdout",
          "text": [
            "<class 'pandas.core.frame.DataFrame'>\n",
            "RangeIndex: 36275 entries, 0 to 36274\n",
            "Data columns (total 32 columns):\n",
            " #   Column                                Non-Null Count  Dtype  \n",
            "---  ------                                --------------  -----  \n",
            " 0   no_of_adults                          36275 non-null  int64  \n",
            " 1   no_of_children                        36275 non-null  int64  \n",
            " 2   no_of_weekend_nights                  36275 non-null  int64  \n",
            " 3   no_of_week_nights                     36275 non-null  int64  \n",
            " 4   required_car_parking_space            36275 non-null  int64  \n",
            " 5   lead_time                             36275 non-null  int64  \n",
            " 6   arrival_year                          36275 non-null  int64  \n",
            " 7   arrival_month                         36275 non-null  int64  \n",
            " 8   arrival_date                          36275 non-null  int64  \n",
            " 9   repeated_guest                        36275 non-null  int64  \n",
            " 10  no_of_previous_cancellations          36275 non-null  int64  \n",
            " 11  no_of_previous_bookings_not_canceled  36275 non-null  int64  \n",
            " 12  avg_price_per_room                    36275 non-null  float64\n",
            " 13  no_of_special_requests                36275 non-null  int64  \n",
            " 14  Canceled                              36275 non-null  uint8  \n",
            " 15  Not_Canceled                          36275 non-null  uint8  \n",
            " 16  Aviation                              36275 non-null  uint8  \n",
            " 17  Complementary                         36275 non-null  uint8  \n",
            " 18  Corporate                             36275 non-null  uint8  \n",
            " 19  Offline                               36275 non-null  uint8  \n",
            " 20  Online                                36275 non-null  uint8  \n",
            " 21  Room_Type 1                           36275 non-null  uint8  \n",
            " 22  Room_Type 2                           36275 non-null  uint8  \n",
            " 23  Room_Type 3                           36275 non-null  uint8  \n",
            " 24  Room_Type 4                           36275 non-null  uint8  \n",
            " 25  Room_Type 5                           36275 non-null  uint8  \n",
            " 26  Room_Type 6                           36275 non-null  uint8  \n",
            " 27  Room_Type 7                           36275 non-null  uint8  \n",
            " 28  Meal Plan 1                           36275 non-null  uint8  \n",
            " 29  Meal Plan 2                           36275 non-null  uint8  \n",
            " 30  Meal Plan 3                           36275 non-null  uint8  \n",
            " 31  Not Selected                          36275 non-null  uint8  \n",
            "dtypes: float64(1), int64(13), uint8(18)\n",
            "memory usage: 4.5 MB\n"
          ]
        }
      ]
    },
    {
      "cell_type": "markdown",
      "source": [
        "# Correlação dos dados"
      ],
      "metadata": {
        "id": "yue8pY9MbFyq"
      }
    },
    {
      "cell_type": "markdown",
      "source": [
        "## Sem pré_processamento"
      ],
      "metadata": {
        "id": "ivY46fa8bMG2"
      }
    },
    {
      "cell_type": "code",
      "source": [
        "df.corr()"
      ],
      "metadata": {
        "colab": {
          "base_uri": "https://localhost:8080/"
        },
        "id": "9TPX3OhObJ9Y",
        "outputId": "7e7c91d3-af26-4c83-ad85-4b72473810f9"
      },
      "execution_count": null,
      "outputs": [
        {
          "output_type": "execute_result",
          "data": {
            "text/plain": [
              "                                      no_of_adults  no_of_children  \\\n",
              "no_of_adults                              1.000000       -0.019787   \n",
              "no_of_children                           -0.019787        1.000000   \n",
              "no_of_weekend_nights                      0.103316        0.029478   \n",
              "no_of_week_nights                         0.105622        0.024398   \n",
              "required_car_parking_space                0.011429        0.034244   \n",
              "lead_time                                 0.097287       -0.047091   \n",
              "arrival_year                              0.076719        0.045983   \n",
              "arrival_month                             0.021841       -0.003076   \n",
              "arrival_date                              0.026338        0.025482   \n",
              "repeated_guest                           -0.192277       -0.036348   \n",
              "no_of_previous_cancellations             -0.047426       -0.016390   \n",
              "no_of_previous_bookings_not_canceled     -0.119166       -0.021189   \n",
              "avg_price_per_room                        0.296886        0.337728   \n",
              "no_of_special_requests                    0.189401        0.124486   \n",
              "\n",
              "                                      no_of_weekend_nights  no_of_week_nights  \\\n",
              "no_of_adults                                      0.103316           0.105622   \n",
              "no_of_children                                    0.029478           0.024398   \n",
              "no_of_weekend_nights                              1.000000           0.179577   \n",
              "no_of_week_nights                                 0.179577           1.000000   \n",
              "required_car_parking_space                       -0.031111          -0.048784   \n",
              "lead_time                                         0.046595           0.149650   \n",
              "arrival_year                                      0.055357           0.032672   \n",
              "arrival_month                                    -0.009894           0.037376   \n",
              "arrival_date                                      0.027304          -0.009305   \n",
              "repeated_guest                                   -0.067107          -0.099764   \n",
              "no_of_previous_cancellations                     -0.020690          -0.030080   \n",
              "no_of_previous_bookings_not_canceled             -0.026312          -0.049344   \n",
              "avg_price_per_room                               -0.004525           0.022753   \n",
              "no_of_special_requests                            0.060593           0.045994   \n",
              "\n",
              "                                      required_car_parking_space  lead_time  \\\n",
              "no_of_adults                                            0.011429   0.097287   \n",
              "no_of_children                                          0.034244  -0.047091   \n",
              "no_of_weekend_nights                                   -0.031111   0.046595   \n",
              "no_of_week_nights                                      -0.048784   0.149650   \n",
              "required_car_parking_space                              1.000000  -0.066445   \n",
              "lead_time                                              -0.066445   1.000000   \n",
              "arrival_year                                            0.015684   0.143439   \n",
              "arrival_month                                          -0.015505   0.136814   \n",
              "arrival_date                                           -0.000037   0.006479   \n",
              "repeated_guest                                          0.110909  -0.135984   \n",
              "no_of_previous_cancellations                            0.027106  -0.045723   \n",
              "no_of_previous_bookings_not_canceled                    0.063810  -0.078137   \n",
              "avg_price_per_room                                      0.061304  -0.062596   \n",
              "no_of_special_requests                                  0.087922  -0.101645   \n",
              "\n",
              "                                      arrival_year  arrival_month  \\\n",
              "no_of_adults                              0.076719       0.021841   \n",
              "no_of_children                            0.045983      -0.003076   \n",
              "no_of_weekend_nights                      0.055357      -0.009894   \n",
              "no_of_week_nights                         0.032672       0.037376   \n",
              "required_car_parking_space                0.015684      -0.015505   \n",
              "lead_time                                 0.143439       0.136814   \n",
              "arrival_year                              1.000000      -0.339689   \n",
              "arrival_month                            -0.339689       1.000000   \n",
              "arrival_date                              0.018849      -0.042780   \n",
              "repeated_guest                           -0.018175       0.000341   \n",
              "no_of_previous_cancellations              0.003919      -0.038615   \n",
              "no_of_previous_bookings_not_canceled      0.026422      -0.010718   \n",
              "avg_price_per_room                        0.178605       0.054423   \n",
              "no_of_special_requests                    0.053205       0.110552   \n",
              "\n",
              "                                      arrival_date  repeated_guest  \\\n",
              "no_of_adults                              0.026338       -0.192277   \n",
              "no_of_children                            0.025482       -0.036348   \n",
              "no_of_weekend_nights                      0.027304       -0.067107   \n",
              "no_of_week_nights                        -0.009305       -0.099764   \n",
              "required_car_parking_space               -0.000037        0.110909   \n",
              "lead_time                                 0.006479       -0.135984   \n",
              "arrival_year                              0.018849       -0.018175   \n",
              "arrival_month                            -0.042780        0.000341   \n",
              "arrival_date                              1.000000       -0.015949   \n",
              "repeated_guest                           -0.015949        1.000000   \n",
              "no_of_previous_cancellations             -0.012542        0.390810   \n",
              "no_of_previous_bookings_not_canceled     -0.001498        0.539156   \n",
              "avg_price_per_room                        0.017898       -0.174900   \n",
              "no_of_special_requests                    0.018352       -0.011820   \n",
              "\n",
              "                                      no_of_previous_cancellations  \\\n",
              "no_of_adults                                             -0.047426   \n",
              "no_of_children                                           -0.016390   \n",
              "no_of_weekend_nights                                     -0.020690   \n",
              "no_of_week_nights                                        -0.030080   \n",
              "required_car_parking_space                                0.027106   \n",
              "lead_time                                                -0.045723   \n",
              "arrival_year                                              0.003919   \n",
              "arrival_month                                            -0.038615   \n",
              "arrival_date                                             -0.012542   \n",
              "repeated_guest                                            0.390810   \n",
              "no_of_previous_cancellations                              1.000000   \n",
              "no_of_previous_bookings_not_canceled                      0.468147   \n",
              "avg_price_per_room                                       -0.063340   \n",
              "no_of_special_requests                                   -0.003317   \n",
              "\n",
              "                                      no_of_previous_bookings_not_canceled  \\\n",
              "no_of_adults                                                     -0.119166   \n",
              "no_of_children                                                   -0.021189   \n",
              "no_of_weekend_nights                                             -0.026312   \n",
              "no_of_week_nights                                                -0.049344   \n",
              "required_car_parking_space                                        0.063810   \n",
              "lead_time                                                        -0.078137   \n",
              "arrival_year                                                      0.026422   \n",
              "arrival_month                                                    -0.010718   \n",
              "arrival_date                                                     -0.001498   \n",
              "repeated_guest                                                    0.539156   \n",
              "no_of_previous_cancellations                                      0.468147   \n",
              "no_of_previous_bookings_not_canceled                              1.000000   \n",
              "avg_price_per_room                                               -0.113684   \n",
              "no_of_special_requests                                            0.027377   \n",
              "\n",
              "                                      avg_price_per_room  \\\n",
              "no_of_adults                                    0.296886   \n",
              "no_of_children                                  0.337728   \n",
              "no_of_weekend_nights                           -0.004525   \n",
              "no_of_week_nights                               0.022753   \n",
              "required_car_parking_space                      0.061304   \n",
              "lead_time                                      -0.062596   \n",
              "arrival_year                                    0.178605   \n",
              "arrival_month                                   0.054423   \n",
              "arrival_date                                    0.017898   \n",
              "repeated_guest                                 -0.174900   \n",
              "no_of_previous_cancellations                   -0.063340   \n",
              "no_of_previous_bookings_not_canceled           -0.113684   \n",
              "avg_price_per_room                              1.000000   \n",
              "no_of_special_requests                          0.184381   \n",
              "\n",
              "                                      no_of_special_requests  \n",
              "no_of_adults                                        0.189401  \n",
              "no_of_children                                      0.124486  \n",
              "no_of_weekend_nights                                0.060593  \n",
              "no_of_week_nights                                   0.045994  \n",
              "required_car_parking_space                          0.087922  \n",
              "lead_time                                          -0.101645  \n",
              "arrival_year                                        0.053205  \n",
              "arrival_month                                       0.110552  \n",
              "arrival_date                                        0.018352  \n",
              "repeated_guest                                     -0.011820  \n",
              "no_of_previous_cancellations                       -0.003317  \n",
              "no_of_previous_bookings_not_canceled                0.027377  \n",
              "avg_price_per_room                                  0.184381  \n",
              "no_of_special_requests                              1.000000  "
            ],
            "text/html": [
              "\n",
              "  <div id=\"df-de3c0158-d92e-43a6-b692-502d568d1c04\">\n",
              "    <div class=\"colab-df-container\">\n",
              "      <div>\n",
              "<style scoped>\n",
              "    .dataframe tbody tr th:only-of-type {\n",
              "        vertical-align: middle;\n",
              "    }\n",
              "\n",
              "    .dataframe tbody tr th {\n",
              "        vertical-align: top;\n",
              "    }\n",
              "\n",
              "    .dataframe thead th {\n",
              "        text-align: right;\n",
              "    }\n",
              "</style>\n",
              "<table border=\"1\" class=\"dataframe\">\n",
              "  <thead>\n",
              "    <tr style=\"text-align: right;\">\n",
              "      <th></th>\n",
              "      <th>no_of_adults</th>\n",
              "      <th>no_of_children</th>\n",
              "      <th>no_of_weekend_nights</th>\n",
              "      <th>no_of_week_nights</th>\n",
              "      <th>required_car_parking_space</th>\n",
              "      <th>lead_time</th>\n",
              "      <th>arrival_year</th>\n",
              "      <th>arrival_month</th>\n",
              "      <th>arrival_date</th>\n",
              "      <th>repeated_guest</th>\n",
              "      <th>no_of_previous_cancellations</th>\n",
              "      <th>no_of_previous_bookings_not_canceled</th>\n",
              "      <th>avg_price_per_room</th>\n",
              "      <th>no_of_special_requests</th>\n",
              "    </tr>\n",
              "  </thead>\n",
              "  <tbody>\n",
              "    <tr>\n",
              "      <th>no_of_adults</th>\n",
              "      <td>1.000000</td>\n",
              "      <td>-0.019787</td>\n",
              "      <td>0.103316</td>\n",
              "      <td>0.105622</td>\n",
              "      <td>0.011429</td>\n",
              "      <td>0.097287</td>\n",
              "      <td>0.076719</td>\n",
              "      <td>0.021841</td>\n",
              "      <td>0.026338</td>\n",
              "      <td>-0.192277</td>\n",
              "      <td>-0.047426</td>\n",
              "      <td>-0.119166</td>\n",
              "      <td>0.296886</td>\n",
              "      <td>0.189401</td>\n",
              "    </tr>\n",
              "    <tr>\n",
              "      <th>no_of_children</th>\n",
              "      <td>-0.019787</td>\n",
              "      <td>1.000000</td>\n",
              "      <td>0.029478</td>\n",
              "      <td>0.024398</td>\n",
              "      <td>0.034244</td>\n",
              "      <td>-0.047091</td>\n",
              "      <td>0.045983</td>\n",
              "      <td>-0.003076</td>\n",
              "      <td>0.025482</td>\n",
              "      <td>-0.036348</td>\n",
              "      <td>-0.016390</td>\n",
              "      <td>-0.021189</td>\n",
              "      <td>0.337728</td>\n",
              "      <td>0.124486</td>\n",
              "    </tr>\n",
              "    <tr>\n",
              "      <th>no_of_weekend_nights</th>\n",
              "      <td>0.103316</td>\n",
              "      <td>0.029478</td>\n",
              "      <td>1.000000</td>\n",
              "      <td>0.179577</td>\n",
              "      <td>-0.031111</td>\n",
              "      <td>0.046595</td>\n",
              "      <td>0.055357</td>\n",
              "      <td>-0.009894</td>\n",
              "      <td>0.027304</td>\n",
              "      <td>-0.067107</td>\n",
              "      <td>-0.020690</td>\n",
              "      <td>-0.026312</td>\n",
              "      <td>-0.004525</td>\n",
              "      <td>0.060593</td>\n",
              "    </tr>\n",
              "    <tr>\n",
              "      <th>no_of_week_nights</th>\n",
              "      <td>0.105622</td>\n",
              "      <td>0.024398</td>\n",
              "      <td>0.179577</td>\n",
              "      <td>1.000000</td>\n",
              "      <td>-0.048784</td>\n",
              "      <td>0.149650</td>\n",
              "      <td>0.032672</td>\n",
              "      <td>0.037376</td>\n",
              "      <td>-0.009305</td>\n",
              "      <td>-0.099764</td>\n",
              "      <td>-0.030080</td>\n",
              "      <td>-0.049344</td>\n",
              "      <td>0.022753</td>\n",
              "      <td>0.045994</td>\n",
              "    </tr>\n",
              "    <tr>\n",
              "      <th>required_car_parking_space</th>\n",
              "      <td>0.011429</td>\n",
              "      <td>0.034244</td>\n",
              "      <td>-0.031111</td>\n",
              "      <td>-0.048784</td>\n",
              "      <td>1.000000</td>\n",
              "      <td>-0.066445</td>\n",
              "      <td>0.015684</td>\n",
              "      <td>-0.015505</td>\n",
              "      <td>-0.000037</td>\n",
              "      <td>0.110909</td>\n",
              "      <td>0.027106</td>\n",
              "      <td>0.063810</td>\n",
              "      <td>0.061304</td>\n",
              "      <td>0.087922</td>\n",
              "    </tr>\n",
              "    <tr>\n",
              "      <th>lead_time</th>\n",
              "      <td>0.097287</td>\n",
              "      <td>-0.047091</td>\n",
              "      <td>0.046595</td>\n",
              "      <td>0.149650</td>\n",
              "      <td>-0.066445</td>\n",
              "      <td>1.000000</td>\n",
              "      <td>0.143439</td>\n",
              "      <td>0.136814</td>\n",
              "      <td>0.006479</td>\n",
              "      <td>-0.135984</td>\n",
              "      <td>-0.045723</td>\n",
              "      <td>-0.078137</td>\n",
              "      <td>-0.062596</td>\n",
              "      <td>-0.101645</td>\n",
              "    </tr>\n",
              "    <tr>\n",
              "      <th>arrival_year</th>\n",
              "      <td>0.076719</td>\n",
              "      <td>0.045983</td>\n",
              "      <td>0.055357</td>\n",
              "      <td>0.032672</td>\n",
              "      <td>0.015684</td>\n",
              "      <td>0.143439</td>\n",
              "      <td>1.000000</td>\n",
              "      <td>-0.339689</td>\n",
              "      <td>0.018849</td>\n",
              "      <td>-0.018175</td>\n",
              "      <td>0.003919</td>\n",
              "      <td>0.026422</td>\n",
              "      <td>0.178605</td>\n",
              "      <td>0.053205</td>\n",
              "    </tr>\n",
              "    <tr>\n",
              "      <th>arrival_month</th>\n",
              "      <td>0.021841</td>\n",
              "      <td>-0.003076</td>\n",
              "      <td>-0.009894</td>\n",
              "      <td>0.037376</td>\n",
              "      <td>-0.015505</td>\n",
              "      <td>0.136814</td>\n",
              "      <td>-0.339689</td>\n",
              "      <td>1.000000</td>\n",
              "      <td>-0.042780</td>\n",
              "      <td>0.000341</td>\n",
              "      <td>-0.038615</td>\n",
              "      <td>-0.010718</td>\n",
              "      <td>0.054423</td>\n",
              "      <td>0.110552</td>\n",
              "    </tr>\n",
              "    <tr>\n",
              "      <th>arrival_date</th>\n",
              "      <td>0.026338</td>\n",
              "      <td>0.025482</td>\n",
              "      <td>0.027304</td>\n",
              "      <td>-0.009305</td>\n",
              "      <td>-0.000037</td>\n",
              "      <td>0.006479</td>\n",
              "      <td>0.018849</td>\n",
              "      <td>-0.042780</td>\n",
              "      <td>1.000000</td>\n",
              "      <td>-0.015949</td>\n",
              "      <td>-0.012542</td>\n",
              "      <td>-0.001498</td>\n",
              "      <td>0.017898</td>\n",
              "      <td>0.018352</td>\n",
              "    </tr>\n",
              "    <tr>\n",
              "      <th>repeated_guest</th>\n",
              "      <td>-0.192277</td>\n",
              "      <td>-0.036348</td>\n",
              "      <td>-0.067107</td>\n",
              "      <td>-0.099764</td>\n",
              "      <td>0.110909</td>\n",
              "      <td>-0.135984</td>\n",
              "      <td>-0.018175</td>\n",
              "      <td>0.000341</td>\n",
              "      <td>-0.015949</td>\n",
              "      <td>1.000000</td>\n",
              "      <td>0.390810</td>\n",
              "      <td>0.539156</td>\n",
              "      <td>-0.174900</td>\n",
              "      <td>-0.011820</td>\n",
              "    </tr>\n",
              "    <tr>\n",
              "      <th>no_of_previous_cancellations</th>\n",
              "      <td>-0.047426</td>\n",
              "      <td>-0.016390</td>\n",
              "      <td>-0.020690</td>\n",
              "      <td>-0.030080</td>\n",
              "      <td>0.027106</td>\n",
              "      <td>-0.045723</td>\n",
              "      <td>0.003919</td>\n",
              "      <td>-0.038615</td>\n",
              "      <td>-0.012542</td>\n",
              "      <td>0.390810</td>\n",
              "      <td>1.000000</td>\n",
              "      <td>0.468147</td>\n",
              "      <td>-0.063340</td>\n",
              "      <td>-0.003317</td>\n",
              "    </tr>\n",
              "    <tr>\n",
              "      <th>no_of_previous_bookings_not_canceled</th>\n",
              "      <td>-0.119166</td>\n",
              "      <td>-0.021189</td>\n",
              "      <td>-0.026312</td>\n",
              "      <td>-0.049344</td>\n",
              "      <td>0.063810</td>\n",
              "      <td>-0.078137</td>\n",
              "      <td>0.026422</td>\n",
              "      <td>-0.010718</td>\n",
              "      <td>-0.001498</td>\n",
              "      <td>0.539156</td>\n",
              "      <td>0.468147</td>\n",
              "      <td>1.000000</td>\n",
              "      <td>-0.113684</td>\n",
              "      <td>0.027377</td>\n",
              "    </tr>\n",
              "    <tr>\n",
              "      <th>avg_price_per_room</th>\n",
              "      <td>0.296886</td>\n",
              "      <td>0.337728</td>\n",
              "      <td>-0.004525</td>\n",
              "      <td>0.022753</td>\n",
              "      <td>0.061304</td>\n",
              "      <td>-0.062596</td>\n",
              "      <td>0.178605</td>\n",
              "      <td>0.054423</td>\n",
              "      <td>0.017898</td>\n",
              "      <td>-0.174900</td>\n",
              "      <td>-0.063340</td>\n",
              "      <td>-0.113684</td>\n",
              "      <td>1.000000</td>\n",
              "      <td>0.184381</td>\n",
              "    </tr>\n",
              "    <tr>\n",
              "      <th>no_of_special_requests</th>\n",
              "      <td>0.189401</td>\n",
              "      <td>0.124486</td>\n",
              "      <td>0.060593</td>\n",
              "      <td>0.045994</td>\n",
              "      <td>0.087922</td>\n",
              "      <td>-0.101645</td>\n",
              "      <td>0.053205</td>\n",
              "      <td>0.110552</td>\n",
              "      <td>0.018352</td>\n",
              "      <td>-0.011820</td>\n",
              "      <td>-0.003317</td>\n",
              "      <td>0.027377</td>\n",
              "      <td>0.184381</td>\n",
              "      <td>1.000000</td>\n",
              "    </tr>\n",
              "  </tbody>\n",
              "</table>\n",
              "</div>\n",
              "      <button class=\"colab-df-convert\" onclick=\"convertToInteractive('df-de3c0158-d92e-43a6-b692-502d568d1c04')\"\n",
              "              title=\"Convert this dataframe to an interactive table.\"\n",
              "              style=\"display:none;\">\n",
              "        \n",
              "  <svg xmlns=\"http://www.w3.org/2000/svg\" height=\"24px\"viewBox=\"0 0 24 24\"\n",
              "       width=\"24px\">\n",
              "    <path d=\"M0 0h24v24H0V0z\" fill=\"none\"/>\n",
              "    <path d=\"M18.56 5.44l.94 2.06.94-2.06 2.06-.94-2.06-.94-.94-2.06-.94 2.06-2.06.94zm-11 1L8.5 8.5l.94-2.06 2.06-.94-2.06-.94L8.5 2.5l-.94 2.06-2.06.94zm10 10l.94 2.06.94-2.06 2.06-.94-2.06-.94-.94-2.06-.94 2.06-2.06.94z\"/><path d=\"M17.41 7.96l-1.37-1.37c-.4-.4-.92-.59-1.43-.59-.52 0-1.04.2-1.43.59L10.3 9.45l-7.72 7.72c-.78.78-.78 2.05 0 2.83L4 21.41c.39.39.9.59 1.41.59.51 0 1.02-.2 1.41-.59l7.78-7.78 2.81-2.81c.8-.78.8-2.07 0-2.86zM5.41 20L4 18.59l7.72-7.72 1.47 1.35L5.41 20z\"/>\n",
              "  </svg>\n",
              "      </button>\n",
              "      \n",
              "  <style>\n",
              "    .colab-df-container {\n",
              "      display:flex;\n",
              "      flex-wrap:wrap;\n",
              "      gap: 12px;\n",
              "    }\n",
              "\n",
              "    .colab-df-convert {\n",
              "      background-color: #E8F0FE;\n",
              "      border: none;\n",
              "      border-radius: 50%;\n",
              "      cursor: pointer;\n",
              "      display: none;\n",
              "      fill: #1967D2;\n",
              "      height: 32px;\n",
              "      padding: 0 0 0 0;\n",
              "      width: 32px;\n",
              "    }\n",
              "\n",
              "    .colab-df-convert:hover {\n",
              "      background-color: #E2EBFA;\n",
              "      box-shadow: 0px 1px 2px rgba(60, 64, 67, 0.3), 0px 1px 3px 1px rgba(60, 64, 67, 0.15);\n",
              "      fill: #174EA6;\n",
              "    }\n",
              "\n",
              "    [theme=dark] .colab-df-convert {\n",
              "      background-color: #3B4455;\n",
              "      fill: #D2E3FC;\n",
              "    }\n",
              "\n",
              "    [theme=dark] .colab-df-convert:hover {\n",
              "      background-color: #434B5C;\n",
              "      box-shadow: 0px 1px 3px 1px rgba(0, 0, 0, 0.15);\n",
              "      filter: drop-shadow(0px 1px 2px rgba(0, 0, 0, 0.3));\n",
              "      fill: #FFFFFF;\n",
              "    }\n",
              "  </style>\n",
              "\n",
              "      <script>\n",
              "        const buttonEl =\n",
              "          document.querySelector('#df-de3c0158-d92e-43a6-b692-502d568d1c04 button.colab-df-convert');\n",
              "        buttonEl.style.display =\n",
              "          google.colab.kernel.accessAllowed ? 'block' : 'none';\n",
              "\n",
              "        async function convertToInteractive(key) {\n",
              "          const element = document.querySelector('#df-de3c0158-d92e-43a6-b692-502d568d1c04');\n",
              "          const dataTable =\n",
              "            await google.colab.kernel.invokeFunction('convertToInteractive',\n",
              "                                                     [key], {});\n",
              "          if (!dataTable) return;\n",
              "\n",
              "          const docLinkHtml = 'Like what you see? Visit the ' +\n",
              "            '<a target=\"_blank\" href=https://colab.research.google.com/notebooks/data_table.ipynb>data table notebook</a>'\n",
              "            + ' to learn more about interactive tables.';\n",
              "          element.innerHTML = '';\n",
              "          dataTable['output_type'] = 'display_data';\n",
              "          await google.colab.output.renderOutput(dataTable, element);\n",
              "          const docLink = document.createElement('div');\n",
              "          docLink.innerHTML = docLinkHtml;\n",
              "          element.appendChild(docLink);\n",
              "        }\n",
              "      </script>\n",
              "    </div>\n",
              "  </div>\n",
              "  "
            ]
          },
          "metadata": {},
          "execution_count": 159
        }
      ]
    },
    {
      "cell_type": "code",
      "source": [
        "import seaborn as sns\n",
        "corr = df.corr()\n",
        "sns.heatmap(corr, \n",
        "            xticklabels=corr.columns.values,\n",
        "            yticklabels=corr.columns.values)"
      ],
      "metadata": {
        "colab": {
          "base_uri": "https://localhost:8080/"
        },
        "id": "MANVNJOwbaOn",
        "outputId": "8793acb3-8223-45ae-ee49-bdcd06742add"
      },
      "execution_count": null,
      "outputs": [
        {
          "output_type": "execute_result",
          "data": {
            "text/plain": [
              "<matplotlib.axes._subplots.AxesSubplot at 0x7f12c66fc1f0>"
            ]
          },
          "metadata": {},
          "execution_count": 160
        },
        {
          "output_type": "display_data",
          "data": {
            "text/plain": [
              "<Figure size 432x288 with 2 Axes>"
            ],
            "image/png": "[encoded data removed]"
          },
          "metadata": {
            "needs_background": "light"
          }
        }
      ]
    },
    {
      "cell_type": "code",
      "source": [
        "df.no_of_previous_bookings_not_canceled.corr(df.no_of_previous_cancellations)"
      ],
      "metadata": {
        "colab": {
          "base_uri": "https://localhost:8080/"
        },
        "id": "fMdmYeWBbfTI",
        "outputId": "51589a7e-d5f1-41e8-cbbd-3b8346e08314"
      },
      "execution_count": null,
      "outputs": [
        {
          "output_type": "execute_result",
          "data": {
            "text/plain": [
              "0.4681468328550411"
            ]
          },
          "metadata": {},
          "execution_count": 171
        }
      ]
    },
    {
      "cell_type": "markdown",
      "source": [
        "## Com pré-processamento"
      ],
      "metadata": {
        "id": "OUSknmzHbSU4"
      }
    },
    {
      "cell_type": "code",
      "source": [
        "df2.no_of_previous_bookings_not_canceled.corr(df2.no_of_previous_cancellations)"
      ],
      "metadata": {
        "colab": {
          "base_uri": "https://localhost:8080/"
        },
        "id": "XssaV8Dgbefa",
        "outputId": "d50c318e-073f-464a-cd38-ea983be35cc9"
      },
      "execution_count": null,
      "outputs": [
        {
          "output_type": "execute_result",
          "data": {
            "text/plain": [
              "0.4681468328550411"
            ]
          },
          "metadata": {},
          "execution_count": 173
        }
      ]
    },
    {
      "cell_type": "code",
      "source": [
        "import seaborn as sns\n",
        "corr = df2.corr()\n",
        "sns.heatmap(corr, \n",
        "            xticklabels=corr.columns.values,\n",
        "            yticklabels=corr.columns.values)"
      ],
      "metadata": {
        "colab": {
          "base_uri": "https://localhost:8080/",
          "height": 472
        },
        "id": "4IzdsXFed3Sc",
        "outputId": "8176f7dc-cded-4d50-e98f-59712d07d082"
      },
      "execution_count": null,
      "outputs": [
        {
          "output_type": "execute_result",
          "data": {
            "text/plain": [
              "<matplotlib.axes._subplots.AxesSubplot at 0x7f12c54b70a0>"
            ]
          },
          "metadata": {},
          "execution_count": 175
        },
        {
          "output_type": "display_data",
          "data": {
            "text/plain": [
              "<Figure size 432x288 with 2 Axes>"
            ],
            "image/png": "[encoded data removed]"
          },
          "metadata": {
            "needs_background": "light"
          }
        }
      ]
    },
    {
      "cell_type": "code",
      "source": [],
      "metadata": {
        "id": "7bAKxoAUd4OU"
      },
      "execution_count": null,
      "outputs": []
    },
    {
      "cell_type": "markdown",
      "source": [
        "# Classificação"
      ],
      "metadata": {
        "id": "EQ8DWWDbd9bj"
      }
    },
    {
      "cell_type": "code",
      "source": [
        "df2.info()"
      ],
      "metadata": {
        "colab": {
          "base_uri": "https://localhost:8080/"
        },
        "id": "Ap3HzYi7eAMN",
        "outputId": "3630a429-6b8d-455c-bf40-c5653c562a7b"
      },
      "execution_count": null,
      "outputs": [
        {
          "output_type": "stream",
          "name": "stdout",
          "text": [
            "<class 'pandas.core.frame.DataFrame'>\n",
            "RangeIndex: 36275 entries, 0 to 36274\n",
            "Data columns (total 32 columns):\n",
            " #   Column                                Non-Null Count  Dtype  \n",
            "---  ------                                --------------  -----  \n",
            " 0   no_of_adults                          36275 non-null  int64  \n",
            " 1   no_of_children                        36275 non-null  int64  \n",
            " 2   no_of_weekend_nights                  36275 non-null  int64  \n",
            " 3   no_of_week_nights                     36275 non-null  int64  \n",
            " 4   required_car_parking_space            36275 non-null  int64  \n",
            " 5   lead_time                             36275 non-null  int64  \n",
            " 6   arrival_year                          36275 non-null  int64  \n",
            " 7   arrival_month                         36275 non-null  int64  \n",
            " 8   arrival_date                          36275 non-null  int64  \n",
            " 9   repeated_guest                        36275 non-null  int64  \n",
            " 10  no_of_previous_cancellations          36275 non-null  int64  \n",
            " 11  no_of_previous_bookings_not_canceled  36275 non-null  int64  \n",
            " 12  avg_price_per_room                    36275 non-null  float64\n",
            " 13  no_of_special_requests                36275 non-null  int64  \n",
            " 14  Canceled                              36275 non-null  uint8  \n",
            " 15  Not_Canceled                          36275 non-null  uint8  \n",
            " 16  Aviation                              36275 non-null  uint8  \n",
            " 17  Complementary                         36275 non-null  uint8  \n",
            " 18  Corporate                             36275 non-null  uint8  \n",
            " 19  Offline                               36275 non-null  uint8  \n",
            " 20  Online                                36275 non-null  uint8  \n",
            " 21  Room_Type 1                           36275 non-null  uint8  \n",
            " 22  Room_Type 2                           36275 non-null  uint8  \n",
            " 23  Room_Type 3                           36275 non-null  uint8  \n",
            " 24  Room_Type 4                           36275 non-null  uint8  \n",
            " 25  Room_Type 5                           36275 non-null  uint8  \n",
            " 26  Room_Type 6                           36275 non-null  uint8  \n",
            " 27  Room_Type 7                           36275 non-null  uint8  \n",
            " 28  Meal Plan 1                           36275 non-null  uint8  \n",
            " 29  Meal Plan 2                           36275 non-null  uint8  \n",
            " 30  Meal Plan 3                           36275 non-null  uint8  \n",
            " 31  Not Selected                          36275 non-null  uint8  \n",
            "dtypes: float64(1), int64(13), uint8(18)\n",
            "memory usage: 4.5 MB\n"
          ]
        }
      ]
    },
    {
      "cell_type": "code",
      "source": [
        "X = df2.drop('repeated_guest', axis=1)\n",
        "y = df2.repeated_guest"
      ],
      "metadata": {
        "id": "Qot-8_0Jv7U9"
      },
      "execution_count": null,
      "outputs": []
    },
    {
      "cell_type": "markdown",
      "source": [
        "## Base estratificada"
      ],
      "metadata": {
        "id": "pTZEq_SgwKUg"
      }
    },
    {
      "cell_type": "code",
      "source": [
        "from sklearn.model_selection import train_test_split\n",
        "from sklearn.metrics import confusion_matrix\n",
        "from sklearn.metrics import classification_report\n",
        "X_train, X_test, y_train, y_test = train_test_split(X, y, test_size=0.25, random_state=42)"
      ],
      "metadata": {
        "id": "ndXwrFvFwM82"
      },
      "execution_count": null,
      "outputs": []
    },
    {
      "cell_type": "code",
      "source": [
        "def metricas(cm):\n",
        "  tn = cm[0][0]\n",
        "  fn = cm[1][0]\n",
        "  tp = cm[1][1]\n",
        "  fp = cm[0][1]\n",
        "  tudo = tn+fn+tp+fp\n",
        "  acuracia = (tp + tn)/tudo\n",
        "  precisao_1 = tp/(tp+fp)\n",
        "  precisao_0 = tn/(tn+fn)\n",
        "  recall_1 = tp/(tp+fn)\n",
        "  recall_0 = tn/(tn+fp)\n",
        "  return acuracia, precisao_1, precisao_0, recall_1, recall_0"
      ],
      "metadata": {
        "id": "pSqJN_TawS6Z"
      },
      "execution_count": null,
      "outputs": []
    },
    {
      "cell_type": "markdown",
      "source": [
        "## Códigos para cross-validation"
      ],
      "metadata": {
        "id": "EUA_ds2ZwW-i"
      }
    },
    {
      "cell_type": "code",
      "source": [
        "#se for fazer crossvalidation\n",
        "import numpy as np\n",
        "from sklearn.model_selection import StratifiedKFold\n",
        "from sklearn.model_selection import cross_validate\n",
        "n_folders = 5\n",
        "cross_val = StratifiedKFold(n_splits=n_folders,shuffle=True,random_state=40)\n",
        "nome_metricas = ['accuracy', 'precision_micro', 'precision_macro','recall_micro','recall_macro']"
      ],
      "metadata": {
        "id": "IO1XzEfPwcUd"
      },
      "execution_count": null,
      "outputs": []
    },
    {
      "cell_type": "code",
      "source": [
        "for i, (train_index, test_index) in enumerate(cross_val.split(X, y)):\n",
        "  print(f\"Fold {i}:\")\n",
        "  print(f\"  Train: index={train_index}\")\n",
        "  print(f\"  Test:  index={test_index}\")"
      ],
      "metadata": {
        "colab": {
          "base_uri": "https://localhost:8080/"
        },
        "id": "GueJqmO6wpk4",
        "outputId": "4e1b8e1d-ce4d-4e9b-e2a2-1ec99863335d"
      },
      "execution_count": null,
      "outputs": [
        {
          "output_type": "stream",
          "name": "stdout",
          "text": [
            "Fold 0:\n",
            "  Train: index=[    0     1     2 ... 36272 36273 36274]\n",
            "  Test:  index=[    6    11    15 ... 36261 36267 36269]\n",
            "Fold 1:\n",
            "  Train: index=[    1     2     3 ... 36271 36272 36273]\n",
            "  Test:  index=[    0     4     7 ... 36268 36270 36274]\n",
            "Fold 2:\n",
            "  Train: index=[    0     1     2 ... 36271 36273 36274]\n",
            "  Test:  index=[    3     5     9 ... 36259 36260 36272]\n",
            "Fold 3:\n",
            "  Train: index=[    0     3     4 ... 36272 36273 36274]\n",
            "  Test:  index=[    1     2    14 ... 36244 36262 36271]\n",
            "Fold 4:\n",
            "  Train: index=[    0     1     2 ... 36271 36272 36274]\n",
            "  Test:  index=[    8    10    18 ... 36258 36263 36273]\n"
          ]
        },
        {
          "output_type": "stream",
          "name": "stderr",
          "text": [
            "/usr/local/lib/python3.8/dist-packages/sklearn/model_selection/_split.py:676: UserWarning: The least populated class in y has only 1 members, which is less than n_splits=5.\n",
            "  warnings.warn(\n"
          ]
        }
      ]
    },
    {
      "cell_type": "code",
      "source": [
        "from sklearn.tree import DecisionTreeClassifier\n",
        "modelo_tree = DecisionTreeClassifier()\n",
        "\n",
        "metricas = cross_validate(modelo_tree, X, y, cv=cross_val, scoring=nome_metricas)\n",
        "for met in metricas:\n",
        "    print(f\"- {met}:\")\n",
        "    print(f\"-- {metricas[met]}\")\n",
        "    print(f\"-- {np.mean(metricas[met])} +- {np.std(metricas[met])}\\n\")"
      ],
      "metadata": {
        "colab": {
          "base_uri": "https://localhost:8080/"
        },
        "id": "lOL_96kGwsiA",
        "outputId": "7f18572e-60ec-4479-ee2e-fe3f87fa4823"
      },
      "execution_count": null,
      "outputs": [
        {
          "output_type": "stream",
          "name": "stdout",
          "text": [
            "- fit_time:\n",
            "-- [0.05376148 0.05399394 0.05670929 0.07096982 0.05208874]\n",
            "-- 0.05750465393066406 +- 0.0068936477634492415\n",
            "\n",
            "- score_time:\n",
            "-- [0.02004099 0.02787971 0.02948499 0.02133417 0.02351785]\n",
            "-- 0.024451541900634765 +- 0.003664169915847741\n",
            "\n",
            "- test_accuracy:\n",
            "-- [1. 1. 1. 1. 1.]\n",
            "-- 1.0 +- 0.0\n",
            "\n",
            "- test_precision_micro:\n",
            "-- [1. 1. 1. 1. 1.]\n",
            "-- 1.0 +- 0.0\n",
            "\n",
            "- test_precision_macro:\n",
            "-- [1. 1. 1. 1. 1.]\n",
            "-- 1.0 +- 0.0\n",
            "\n",
            "- test_recall_micro:\n",
            "-- [1. 1. 1. 1. 1.]\n",
            "-- 1.0 +- 0.0\n",
            "\n",
            "- test_recall_macro:\n",
            "-- [1. 1. 1. 1. 1.]\n",
            "-- 1.0 +- 0.0\n",
            "\n"
          ]
        }
      ]
    },
    {
      "cell_type": "markdown",
      "source": [
        "## Decision Tree"
      ],
      "metadata": {
        "id": "6VXE9SriwdtH"
      }
    },
    {
      "cell_type": "code",
      "source": [
        "from sklearn.tree import DecisionTreeClassifier\n",
        "modelo_tree = DecisionTreeClassifier(random_state=42)\n",
        "modelo_tree.fit(X_train,y_train)\n",
        "y_pred = modelo_tree.predict(X_test)\n",
        "cm = confusion_matrix(y_test,y_pred)\n",
        "print(\"Relatório de Classificação:\\n\", classification_report(y_test, y_pred, digits=4))"
      ],
      "metadata": {
        "colab": {
          "base_uri": "https://localhost:8080/"
        },
        "id": "TJ_iG0wdwi_W",
        "outputId": "45133bcd-102d-40eb-cb8b-14ea033fa4b8"
      },
      "execution_count": null,
      "outputs": [
        {
          "output_type": "stream",
          "name": "stdout",
          "text": [
            "Relatório de Classificação:\n",
            "               precision    recall  f1-score   support\n",
            "\n",
            "           0     1.0000    1.0000    1.0000      8834\n",
            "           1     1.0000    1.0000    1.0000       235\n",
            "\n",
            "    accuracy                         1.0000      9069\n",
            "   macro avg     1.0000    1.0000    1.0000      9069\n",
            "weighted avg     1.0000    1.0000    1.0000      9069\n",
            "\n"
          ]
        }
      ]
    },
    {
      "cell_type": "markdown",
      "source": [
        "## Naive Bayes"
      ],
      "metadata": {
        "id": "iDBQq_UYxEWf"
      }
    },
    {
      "cell_type": "code",
      "source": [
        "from sklearn.naive_bayes import GaussianNB\n",
        "modelo_nb = GaussianNB()\n",
        "modelo_nb.fit(X_train,y_train)\n",
        "y_pred = modelo_nb.predict(X_test)\n",
        "cm = confusion_matrix(y_test,y_pred)\n",
        "print(\"Relatório de Classificação:\\n\", classification_report(y_test, y_pred, digits=4))"
      ],
      "metadata": {
        "colab": {
          "base_uri": "https://localhost:8080/"
        },
        "id": "Znu8FOcQxDTI",
        "outputId": "97ab008d-24fa-4e8a-9e81-4adbc5b44cd2"
      },
      "execution_count": null,
      "outputs": [
        {
          "output_type": "stream",
          "name": "stdout",
          "text": [
            "Relatório de Classificação:\n",
            "               precision    recall  f1-score   support\n",
            "\n",
            "           0     1.0000    0.9547    0.9768      8834\n",
            "           1     0.3701    1.0000    0.5402       235\n",
            "\n",
            "    accuracy                         0.9559      9069\n",
            "   macro avg     0.6850    0.9774    0.7585      9069\n",
            "weighted avg     0.9837    0.9559    0.9655      9069\n",
            "\n"
          ]
        }
      ]
    },
    {
      "cell_type": "markdown",
      "source": [
        "## KNN"
      ],
      "metadata": {
        "id": "MpSlC-iRxhBf"
      }
    },
    {
      "cell_type": "code",
      "source": [
        "from sklearn.neighbors import KNeighborsClassifier\n",
        "modelo_knn = KNeighborsClassifier(n_neighbors=3)\n",
        "modelo_knn.fit(X_train,y_train)\n",
        "y_pred = modelo_knn.predict(X_test)\n",
        "cm = confusion_matrix(y_test,y_pred)\n",
        "print(\"Relatório de Classificação:\\n\", classification_report(y_test, y_pred, digits=4))"
      ],
      "metadata": {
        "colab": {
          "base_uri": "https://localhost:8080/"
        },
        "id": "y2BVZhCnxgdg",
        "outputId": "45ff8c6e-2cc7-4f58-ba90-dfe87ef3318b"
      },
      "execution_count": null,
      "outputs": [
        {
          "output_type": "stream",
          "name": "stdout",
          "text": [
            "Relatório de Classificação:\n",
            "               precision    recall  f1-score   support\n",
            "\n",
            "           0     0.9890    0.9982    0.9936      8834\n",
            "           1     0.8954    0.5830    0.7062       235\n",
            "\n",
            "    accuracy                         0.9874      9069\n",
            "   macro avg     0.9422    0.7906    0.8499      9069\n",
            "weighted avg     0.9866    0.9874    0.9861      9069\n",
            "\n"
          ]
        }
      ]
    },
    {
      "cell_type": "markdown",
      "source": [
        "## SGD"
      ],
      "metadata": {
        "id": "qS1c0_XFxjRP"
      }
    },
    {
      "cell_type": "code",
      "source": [
        "from sklearn.linear_model import SGDClassifier\n",
        "modelo_sgd = SGDClassifier(max_iter=1000, tol=1e-3,random_state=42)\n",
        "modelo_sgd.fit(X_train,y_train)\n",
        "y_pred = modelo_sgd.predict(X_test)\n",
        "cm = confusion_matrix(y_test,y_pred)\n",
        "print(\"Relatório de Classificação:\\n\", classification_report(y_test, y_pred, digits=4))"
      ],
      "metadata": {
        "colab": {
          "base_uri": "https://localhost:8080/"
        },
        "id": "-Rqeno6MxlUg",
        "outputId": "ff951c84-2622-4323-f627-e10827c163ad"
      },
      "execution_count": null,
      "outputs": [
        {
          "output_type": "stream",
          "name": "stdout",
          "text": [
            "Relatório de Classificação:\n",
            "               precision    recall  f1-score   support\n",
            "\n",
            "           0     0.9753    1.0000    0.9875      8834\n",
            "           1     1.0000    0.0468    0.0894       235\n",
            "\n",
            "    accuracy                         0.9753      9069\n",
            "   macro avg     0.9876    0.5234    0.5385      9069\n",
            "weighted avg     0.9759    0.9753    0.9642      9069\n",
            "\n"
          ]
        }
      ]
    },
    {
      "cell_type": "markdown",
      "source": [
        "## SVM"
      ],
      "metadata": {
        "id": "zRqeqDvrxloL"
      }
    },
    {
      "cell_type": "code",
      "source": [
        "from sklearn.svm import LinearSVC\n",
        "modelo_svm = LinearSVC(random_state=0, tol=10e-5)\n",
        "modelo_svm.fit(X_train,y_train)\n",
        "y_pred = modelo_svm.predict(X_test)\n",
        "cm = confusion_matrix(y_test,y_pred)\n",
        "print(\"Relatório de Classificação:\\n\", classification_report(y_test, y_pred, digits=4))"
      ],
      "metadata": {
        "colab": {
          "base_uri": "https://localhost:8080/"
        },
        "id": "NrvwZGA5xnwH",
        "outputId": "5d192a89-efbd-4ef9-eca6-136deb935d83"
      },
      "execution_count": null,
      "outputs": [
        {
          "output_type": "stream",
          "name": "stdout",
          "text": [
            "Relatório de Classificação:\n",
            "               precision    recall  f1-score   support\n",
            "\n",
            "           0     0.9878    1.0000    0.9939      8834\n",
            "           1     1.0000    0.5362    0.6981       235\n",
            "\n",
            "    accuracy                         0.9880      9069\n",
            "   macro avg     0.9939    0.7681    0.8460      9069\n",
            "weighted avg     0.9881    0.9880    0.9862      9069\n",
            "\n"
          ]
        },
        {
          "output_type": "stream",
          "name": "stderr",
          "text": [
            "/usr/local/lib/python3.8/dist-packages/sklearn/svm/_base.py:1206: ConvergenceWarning: Liblinear failed to converge, increase the number of iterations.\n",
            "  warnings.warn(\n"
          ]
        }
      ]
    },
    {
      "cell_type": "markdown",
      "source": [
        "## Rede Neural - MPL Cassifier"
      ],
      "metadata": {
        "id": "svbEUCcKxoFA"
      }
    },
    {
      "cell_type": "code",
      "source": [
        "from sklearn.neural_network import MLPClassifier\n",
        "modelo_mlp = MLPClassifier(random_state=1, max_iter=300)\n",
        "modelo_mlp.fit(X_train,y_train)\n",
        "y_pred = modelo_mlp.predict(X_test)\n",
        "cm = confusion_matrix(y_test,y_pred)\n",
        "print(\"Relatório de Classificação:\\n\", classification_report(y_test, y_pred, digits=4))"
      ],
      "metadata": {
        "colab": {
          "base_uri": "https://localhost:8080/"
        },
        "id": "kiPdhdllxvZx",
        "outputId": "521c7a24-2211-474d-a2c2-9688ad50f21f"
      },
      "execution_count": null,
      "outputs": [
        {
          "output_type": "stream",
          "name": "stdout",
          "text": [
            "Relatório de Classificação:\n",
            "               precision    recall  f1-score   support\n",
            "\n",
            "           0     0.9995    1.0000    0.9998      8834\n",
            "           1     1.0000    0.9830    0.9914       235\n",
            "\n",
            "    accuracy                         0.9996      9069\n",
            "   macro avg     0.9998    0.9915    0.9956      9069\n",
            "weighted avg     0.9996    0.9996    0.9996      9069\n",
            "\n"
          ]
        }
      ]
    },
    {
      "cell_type": "markdown",
      "source": [
        "# Alternativas para desbalanceamento"
      ],
      "metadata": {
        "id": "_bywOJXr08Hs"
      }
    },
    {
      "cell_type": "markdown",
      "source": [
        "## Random Under Sampler"
      ],
      "metadata": {
        "id": "GuctQ9XG1DlC"
      }
    },
    {
      "cell_type": "code",
      "source": [
        "#retira registros da classe majoritária\n",
        "from imblearn.under_sampling import RandomUnderSampler, NearMiss\n",
        "rus = RandomUnderSampler(random_state=42)\n",
        "X_res, y_res = rus.fit_resample(X,y)\n",
        "\n",
        "# ver o balanceamento das classes\n",
        "print(pd.Series(y_res).value_counts())\n",
        "\n",
        "# plotar a nova distribuição de classes\n",
        "import seaborn as sns\n",
        "sns.countplot(y_res);"
      ],
      "metadata": {
        "colab": {
          "base_uri": "https://localhost:8080/",
          "height": 387
        },
        "id": "CKdtwfqk1BkU",
        "outputId": "75ee2bfe-c977-48a0-9983-0a7c9f65e4f9"
      },
      "execution_count": null,
      "outputs": [
        {
          "output_type": "stream",
          "name": "stdout",
          "text": [
            "0    930\n",
            "1    930\n",
            "Name: repeated_guest, dtype: int64\n"
          ]
        },
        {
          "output_type": "stream",
          "name": "stderr",
          "text": [
            "/usr/local/lib/python3.8/dist-packages/seaborn/_decorators.py:36: FutureWarning: Pass the following variable as a keyword arg: x. From version 0.12, the only valid positional argument will be `data`, and passing other arguments without an explicit keyword will result in an error or misinterpretation.\n",
            "  warnings.warn(\n"
          ]
        },
        {
          "output_type": "display_data",
          "data": {
            "text/plain": [
              "<Figure size 432x288 with 1 Axes>"
            ],
            "image/png": "[encoded data removed]"
          },
          "metadata": {
            "needs_background": "light"
          }
        }
      ]
    },
    {
      "cell_type": "code",
      "source": [
        "X_train, X_test, y_train, y_test = train_test_split(X_res, y_res, test_size=0.25, random_state=42)"
      ],
      "metadata": {
        "id": "NzBFqJ4s1KuD"
      },
      "execution_count": null,
      "outputs": []
    },
    {
      "cell_type": "markdown",
      "source": [
        "## Near Miss"
      ],
      "metadata": {
        "id": "sYehCAoy1JWz"
      }
    },
    {
      "cell_type": "code",
      "source": [
        "#clusteriza os dados da classe majoritaria\n",
        "nm = NearMiss(version=1)\n",
        "X_res, y_res = nm.fit_resample(X,y)\n",
        "print(pd.Series(y_res).value_counts())\n",
        "sns.countplot(y_res);"
      ],
      "metadata": {
        "colab": {
          "base_uri": "https://localhost:8080/",
          "height": 387
        },
        "id": "Ll8RNNg81Qpr",
        "outputId": "de249e94-3eed-4415-8904-881fc4d5c5b5"
      },
      "execution_count": null,
      "outputs": [
        {
          "output_type": "stream",
          "name": "stdout",
          "text": [
            "0    930\n",
            "1    930\n",
            "Name: repeated_guest, dtype: int64\n"
          ]
        },
        {
          "output_type": "stream",
          "name": "stderr",
          "text": [
            "/usr/local/lib/python3.8/dist-packages/seaborn/_decorators.py:36: FutureWarning: Pass the following variable as a keyword arg: x. From version 0.12, the only valid positional argument will be `data`, and passing other arguments without an explicit keyword will result in an error or misinterpretation.\n",
            "  warnings.warn(\n"
          ]
        },
        {
          "output_type": "display_data",
          "data": {
            "text/plain": [
              "<Figure size 432x288 with 1 Axes>"
            ],
            "image/png": "[encoded data removed]"
          },
          "metadata": {
            "needs_background": "light"
          }
        }
      ]
    },
    {
      "cell_type": "code",
      "source": [
        "X_train, X_test, y_train, y_test = train_test_split(X_res, y_res, test_size=0.25, random_state=42)"
      ],
      "metadata": {
        "id": "hGHPGZiF1Tp8"
      },
      "execution_count": null,
      "outputs": []
    },
    {
      "cell_type": "markdown",
      "source": [
        "## Random Over Sampling"
      ],
      "metadata": {
        "id": "PRPydrz_1eXq"
      }
    },
    {
      "cell_type": "code",
      "source": [
        "#colocar aleatoriamente mais dados na classe minoritária\n",
        "from imblearn.over_sampling import RandomOverSampler\n",
        "ros = RandomOverSampler(random_state = 32)\n",
        "X_ros, y_ros = ros.fit_resample(X, y)\n",
        "\n",
        "# ver o balanceamento das classes\n",
        "print(pd.Series(y_ros).value_counts())\n",
        "\n",
        "# plotar a nova distribuição de classes\n",
        "sns.countplot(y_ros);"
      ],
      "metadata": {
        "colab": {
          "base_uri": "https://localhost:8080/",
          "height": 387
        },
        "id": "3LYGQ8jr1gIT",
        "outputId": "ad59ae10-be48-48ea-d655-c7c593a7d1b9"
      },
      "execution_count": null,
      "outputs": [
        {
          "output_type": "stream",
          "name": "stdout",
          "text": [
            "0    35345\n",
            "1    35345\n",
            "Name: repeated_guest, dtype: int64\n"
          ]
        },
        {
          "output_type": "stream",
          "name": "stderr",
          "text": [
            "/usr/local/lib/python3.8/dist-packages/seaborn/_decorators.py:36: FutureWarning: Pass the following variable as a keyword arg: x. From version 0.12, the only valid positional argument will be `data`, and passing other arguments without an explicit keyword will result in an error or misinterpretation.\n",
            "  warnings.warn(\n"
          ]
        },
        {
          "output_type": "display_data",
          "data": {
            "text/plain": [
              "<Figure size 432x288 with 1 Axes>"
            ],
            "image/png": "[encoded data removed]"
          },
          "metadata": {
            "needs_background": "light"
          }
        }
      ]
    },
    {
      "cell_type": "code",
      "source": [
        "X_train, X_test, y_train, y_test = train_test_split(X_ros, y_ros, test_size=0.25, random_state=42)"
      ],
      "metadata": {
        "id": "Tkrv3ylt1iyc"
      },
      "execution_count": null,
      "outputs": []
    },
    {
      "cell_type": "markdown",
      "source": [
        "## Smote"
      ],
      "metadata": {
        "id": "zAIFK_7d1m3T"
      }
    },
    {
      "cell_type": "code",
      "source": [
        "from imblearn.over_sampling import SMOTE\n",
        "smote = SMOTE(random_state = 32)\n",
        "X_smote_res, y_smote_res = smote.fit_resample(X,y)\n",
        "\n",
        "# ver o balanceamento das classes\n",
        "print(pd.Series(y_smote_res).value_counts())\n",
        "\n",
        "# plotar a nova distribuição de classes\n",
        "sns.countplot(y_smote_res);"
      ],
      "metadata": {
        "colab": {
          "base_uri": "https://localhost:8080/"
        },
        "id": "zolPjnxr1pgV",
        "outputId": "4696f407-46be-41f7-e08a-708519108365"
      },
      "execution_count": null,
      "outputs": [
        {
          "output_type": "stream",
          "name": "stdout",
          "text": [
            "0    35345\n",
            "1    35345\n",
            "Name: repeated_guest, dtype: int64\n"
          ]
        },
        {
          "output_type": "stream",
          "name": "stderr",
          "text": [
            "/usr/local/lib/python3.8/dist-packages/seaborn/_decorators.py:36: FutureWarning: Pass the following variable as a keyword arg: x. From version 0.12, the only valid positional argument will be `data`, and passing other arguments without an explicit keyword will result in an error or misinterpretation.\n",
            "  warnings.warn(\n"
          ]
        },
        {
          "output_type": "display_data",
          "data": {
            "text/plain": [
              "<Figure size 432x288 with 1 Axes>"
            ],
            "image/png": "[encoded data removed]"
          },
          "metadata": {
            "needs_background": "light"
          }
        }
      ]
    },
    {
      "cell_type": "code",
      "source": [
        "X_train, X_test, y_train, y_test = train_test_split(X_smote_res, y_smote_res, test_size=0.25, random_state=42)"
      ],
      "metadata": {
        "id": "ZIL4EHk81-cN"
      },
      "execution_count": null,
      "outputs": []
    },
    {
      "cell_type": "markdown",
      "source": [
        "## Bagging Classifier"
      ],
      "metadata": {
        "id": "qCg3jAkd1p9b"
      }
    },
    {
      "cell_type": "code",
      "source": [
        "from sklearn.ensemble import BaggingClassifier\n",
        "clf = BaggingClassifier(DecisionTreeClassifier(),n_estimators=5,random_state=42).fit(X_train, y_train)\n",
        "y_pred = modelo_tree.predict(X_test)\n",
        "cm = confusion_matrix(y_test,y_pred)\n",
        "print(\"Relatório de Classificação:\\n\", classification_report(y_test, y_pred, digits=4))"
      ],
      "metadata": {
        "colab": {
          "base_uri": "https://localhost:8080/"
        },
        "id": "s_vKE8XQ1s7U",
        "outputId": "bb22fd2b-9662-48e9-81b6-562afed3adbe"
      },
      "execution_count": null,
      "outputs": [
        {
          "output_type": "stream",
          "name": "stdout",
          "text": [
            "Relatório de Classificação:\n",
            "               precision    recall  f1-score   support\n",
            "\n",
            "           0     0.9633    1.0000    0.9813      8803\n",
            "           1     1.0000    0.9622    0.9808      8870\n",
            "\n",
            "    accuracy                         0.9810     17673\n",
            "   macro avg     0.9817    0.9811    0.9810     17673\n",
            "weighted avg     0.9817    0.9810    0.9810     17673\n",
            "\n"
          ]
        }
      ]
    },
    {
      "cell_type": "markdown",
      "source": [
        "## Random Forest"
      ],
      "metadata": {
        "id": "qZIG_WWT1tnG"
      }
    },
    {
      "cell_type": "code",
      "source": [
        "from sklearn.ensemble import RandomForestClassifier\n",
        "modelo_tree = RandomForestClassifier(n_estimators=10,random_state=42)\n",
        "modelo_tree.fit(X_train,y_train)\n",
        "y_pred = modelo_tree.predict(X_test)\n",
        "cm = confusion_matrix(y_test,y_pred)\n",
        "print(\"Relatório de Classificação:\\n\", classification_report(y_test, y_pred, digits=4))"
      ],
      "metadata": {
        "colab": {
          "base_uri": "https://localhost:8080/"
        },
        "id": "U8ScYjVt1y9d",
        "outputId": "f65afe33-eadc-4a29-e14b-4d44cfe01646"
      },
      "execution_count": null,
      "outputs": [
        {
          "output_type": "stream",
          "name": "stdout",
          "text": [
            "Relatório de Classificação:\n",
            "               precision    recall  f1-score   support\n",
            "\n",
            "           0     0.9989    0.9994    0.9991      8803\n",
            "           1     0.9994    0.9989    0.9992      8870\n",
            "\n",
            "    accuracy                         0.9992     17673\n",
            "   macro avg     0.9992    0.9992    0.9992     17673\n",
            "weighted avg     0.9992    0.9992    0.9992     17673\n",
            "\n"
          ]
        }
      ]
    },
    {
      "cell_type": "markdown",
      "source": [
        "## AdaBoost"
      ],
      "metadata": {
        "id": "o0djvE3Z1zvD"
      }
    },
    {
      "cell_type": "code",
      "source": [
        "from sklearn.ensemble import AdaBoostClassifier\n",
        "modelo_tree = AdaBoostClassifier(n_estimators=1000,random_state=42)\n",
        "modelo_tree.fit(X_train,y_train)\n",
        "y_pred = modelo_tree.predict(X_test)\n",
        "cm = confusion_matrix(y_test,y_pred)\n",
        "print(\"Relatório de Classificação:\\n\", classification_report(y_test, y_pred, digits=4))"
      ],
      "metadata": {
        "colab": {
          "base_uri": "https://localhost:8080/"
        },
        "id": "cH6_jz7B124o",
        "outputId": "ac0444d2-b747-44b1-d64f-a67f96d6baf9"
      },
      "execution_count": null,
      "outputs": [
        {
          "output_type": "stream",
          "name": "stdout",
          "text": [
            "Relatório de Classificação:\n",
            "               precision    recall  f1-score   support\n",
            "\n",
            "           0     0.9991    0.9980    0.9985      8803\n",
            "           1     0.9980    0.9991    0.9985      8870\n",
            "\n",
            "    accuracy                         0.9985     17673\n",
            "   macro avg     0.9985    0.9985    0.9985     17673\n",
            "weighted avg     0.9985    0.9985    0.9985     17673\n",
            "\n"
          ]
        }
      ]
    },
    {
      "cell_type": "markdown",
      "source": [
        "## XGBoost"
      ],
      "metadata": {
        "id": "euiKTjww13J1"
      }
    },
    {
      "cell_type": "code",
      "source": [
        "import xgboost as xgb\n",
        "xgb_model = xgb.XGBClassifier(objective=\"binary:logistic\", random_state=42)\n",
        "xgb_model.fit(X_train,y_train)\n",
        "y_pred = xgb_model.predict(X_test)\n",
        "cm = confusion_matrix(y_test,y_pred)\n",
        "print(\"Relatório de Classificação:\\n\", classification_report(y_test, y_pred, digits=4))"
      ],
      "metadata": {
        "colab": {
          "base_uri": "https://localhost:8080/"
        },
        "id": "U4Tfvq1z2PQ0",
        "outputId": "466ab91d-2577-4770-e13d-9f4596914b0f"
      },
      "execution_count": null,
      "outputs": [
        {
          "output_type": "stream",
          "name": "stdout",
          "text": [
            "Relatório de Classificação:\n",
            "               precision    recall  f1-score   support\n",
            "\n",
            "           0     0.9882    0.9984    0.9933      8803\n",
            "           1     0.9984    0.9882    0.9933      8870\n",
            "\n",
            "    accuracy                         0.9933     17673\n",
            "   macro avg     0.9933    0.9933    0.9933     17673\n",
            "weighted avg     0.9933    0.9933    0.9933     17673\n",
            "\n"
          ]
        }
      ]
    }
  ]
}