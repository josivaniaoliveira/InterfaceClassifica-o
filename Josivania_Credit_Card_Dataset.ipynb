{
  "cells": [
    {
      "cell_type": "markdown",
      "metadata": {
        "id": "view-in-github",
        "colab_type": "text"
      },
      "source": [
        "<a href=\"https://colab.research.google.com/github/josivaniaoliveira/InterfaceClassifica-o/blob/main/Josivania_Credit_Card_Dataset.ipynb\" target=\"_parent\"><img src=\"https://colab.research.google.com/assets/colab-badge.svg\" alt=\"Open In Colab\"/></a>"
      ]
    },
    {
      "cell_type": "code",
      "source": [
        "import pandas as pd\n",
        "url='https://drive.google.com/file/d/15EA8biNYKniEiS8lJSChah1Gd--W8mNR/view?usp=sharing'\n",
        "url='https://drive.google.com/uc?id=' + url.split('/')[-2]\n",
        "df = pd.read_csv(url)\n",
        "df2 = df"
      ],
      "metadata": {
        "id": "QexcDpzfDzGp"
      },
      "execution_count": null,
      "outputs": []
    },
    {
      "cell_type": "markdown",
      "source": [
        "## Descrição dos dados"
      ],
      "metadata": {
        "id": "yAmFyL6ZGU21"
      }
    },
    {
      "cell_type": "markdown",
      "source": [
        "Este caso requer o desenvolvimento de uma segmentação de clientes para definir a estratégia de marketing.\n",
        "O conjunto de dados de amostra resume o comportamento de uso de cerca de 9.000 titulares de cartão de crédito ativos durante os últimos 6 meses. O arquivo está no nível do cliente com 18 variáveis ​​comportamentais.\n",
        "\n",
        "A seguir está o dicionário de dados para o conjunto de dados do cartão de crédito: \n",
        "\n",
        "**CUST_ID:** Identificação do titular do cartão de crédito (Categórico)\n",
        "\n",
        "**BALANCE:** Saldo restante na conta para fazer compras \n",
        "\n",
        "**BALANCE_FREQUENCY:** Com que frequência o Saldo é atualizado, pontuação entre 0 e 1 (1 = atualizado com frequência, 0 = não atualizado com frequência)\n",
        "\n",
        "**PURCHASES:** Quantidade de compras feitas na conta\n",
        "\n",
        "**ONEOFF_PURCHASES:** valor máximo de compra feito de uma só vez\n",
        "\n",
        "**INSTALLMENTS_PURCHASES:** Valor da compra feita em parcelas\n",
        "\n",
        "**CASH_ADVANCE:** Dinheiro adiantado fornecido pelo usuário\n",
        "\n",
        "**PURCHASES_FREQUENCY:** Com que frequência as compras estão sendo feitas, pontue entre 0 e 1 (1 = comprado com frequência, 0 = não comprado com frequência)\n",
        "\n",
        "**ONEOFFPURCHASESFREQUENCY:** Com que frequência as compras acontecem de uma só vez (1 = comprado com frequência, 0 = não comprado com frequência)\n",
        "\n",
        "**FURCHASESINSTALLMENTSFREQUENCY:** Com que frequência as compras parceladas estão sendo feitas (1 = frequentemente feito, 0 = não feito com frequência)\n",
        "\n",
        "**CASHADVANCEFREQUENCY:** Com que frequência o dinheiro adiantado está sendo pago\n",
        "\n",
        "**CASHADVANCETRX:** Número de transações feitas com \"Cash in Advanced\"\n",
        "\n",
        "**PURCHASES_TRX:** Número de transações de compra feitas\n",
        "\n",
        "**CREDIT_LIMIT:** Limite de cartão de crédito para usuário\n",
        "\n",
        "**PAYMENTS:** Valor do pagamento feito pelo usuário\n",
        "\n",
        "**MINIMUM_PAYMENTS:** valor mínimo de pagamentos feitos pelo usuário\n",
        "\n",
        "**PRCFULLPAYMENT:** Porcentagem do pagamento integral pago pelo usuário\n",
        "\n",
        "**TENURE:** Posse do serviço de cartão de crédito para o usuário"
      ],
      "metadata": {
        "id": "Pk01hQIu6B8j"
      }
    },
    {
      "cell_type": "code",
      "source": [
        "#informações do dataset\n",
        "df.info()"
      ],
      "metadata": {
        "colab": {
          "base_uri": "https://localhost:8080/"
        },
        "id": "HvYrEfRTGtZU",
        "outputId": "7c518f06-379f-44e3-df39-aefb1527bb64"
      },
      "execution_count": null,
      "outputs": [
        {
          "output_type": "stream",
          "name": "stdout",
          "text": [
            "<class 'pandas.core.frame.DataFrame'>\n",
            "RangeIndex: 8950 entries, 0 to 8949\n",
            "Data columns (total 18 columns):\n",
            " #   Column                            Non-Null Count  Dtype  \n",
            "---  ------                            --------------  -----  \n",
            " 0   CUST_ID                           8950 non-null   object \n",
            " 1   BALANCE                           8950 non-null   float64\n",
            " 2   BALANCE_FREQUENCY                 8950 non-null   float64\n",
            " 3   PURCHASES                         8950 non-null   float64\n",
            " 4   ONEOFF_PURCHASES                  8950 non-null   float64\n",
            " 5   INSTALLMENTS_PURCHASES            8950 non-null   float64\n",
            " 6   CASH_ADVANCE                      8950 non-null   float64\n",
            " 7   PURCHASES_FREQUENCY               8950 non-null   float64\n",
            " 8   ONEOFF_PURCHASES_FREQUENCY        8950 non-null   float64\n",
            " 9   PURCHASES_INSTALLMENTS_FREQUENCY  8950 non-null   float64\n",
            " 10  CASH_ADVANCE_FREQUENCY            8950 non-null   float64\n",
            " 11  CASH_ADVANCE_TRX                  8950 non-null   int64  \n",
            " 12  PURCHASES_TRX                     8950 non-null   int64  \n",
            " 13  CREDIT_LIMIT                      8949 non-null   float64\n",
            " 14  PAYMENTS                          8950 non-null   float64\n",
            " 15  MINIMUM_PAYMENTS                  8637 non-null   float64\n",
            " 16  PRC_FULL_PAYMENT                  8950 non-null   float64\n",
            " 17  TENURE                            8950 non-null   int64  \n",
            "dtypes: float64(14), int64(3), object(1)\n",
            "memory usage: 1.2+ MB\n"
          ]
        }
      ]
    },
    {
      "cell_type": "code",
      "source": [
        "df.shape"
      ],
      "metadata": {
        "colab": {
          "base_uri": "https://localhost:8080/"
        },
        "id": "TcN8MF0TJZb1",
        "outputId": "aa97ec23-4cd1-4d06-aac8-16f8b105b4ce"
      },
      "execution_count": null,
      "outputs": [
        {
          "output_type": "execute_result",
          "data": {
            "text/plain": [
              "(8950, 18)"
            ]
          },
          "metadata": {},
          "execution_count": 250
        }
      ]
    },
    {
      "cell_type": "code",
      "source": [
        "df.dtypes"
      ],
      "metadata": {
        "colab": {
          "base_uri": "https://localhost:8080/"
        },
        "id": "e_b2ScW2JjaF",
        "outputId": "b495efe9-6195-474e-a1cc-678b66adbe8b"
      },
      "execution_count": null,
      "outputs": [
        {
          "output_type": "execute_result",
          "data": {
            "text/plain": [
              "CUST_ID                              object\n",
              "BALANCE                             float64\n",
              "BALANCE_FREQUENCY                   float64\n",
              "PURCHASES                           float64\n",
              "ONEOFF_PURCHASES                    float64\n",
              "INSTALLMENTS_PURCHASES              float64\n",
              "CASH_ADVANCE                        float64\n",
              "PURCHASES_FREQUENCY                 float64\n",
              "ONEOFF_PURCHASES_FREQUENCY          float64\n",
              "PURCHASES_INSTALLMENTS_FREQUENCY    float64\n",
              "CASH_ADVANCE_FREQUENCY              float64\n",
              "CASH_ADVANCE_TRX                      int64\n",
              "PURCHASES_TRX                         int64\n",
              "CREDIT_LIMIT                        float64\n",
              "PAYMENTS                            float64\n",
              "MINIMUM_PAYMENTS                    float64\n",
              "PRC_FULL_PAYMENT                    float64\n",
              "TENURE                                int64\n",
              "dtype: object"
            ]
          },
          "metadata": {},
          "execution_count": 251
        }
      ]
    },
    {
      "cell_type": "code",
      "source": [
        "df"
      ],
      "metadata": {
        "colab": {
          "base_uri": "https://localhost:8080/"
        },
        "id": "R6kePfQmJnQh",
        "outputId": "cd51436d-dc6a-4ef4-df81-4419e6c0fcdb"
      },
      "execution_count": null,
      "outputs": [
        {
          "output_type": "execute_result",
          "data": {
            "text/plain": [
              "     CUST_ID      BALANCE  BALANCE_FREQUENCY  PURCHASES  ONEOFF_PURCHASES  \\\n",
              "0     C10001    40.900749           0.818182      95.40              0.00   \n",
              "1     C10002  3202.467416           0.909091       0.00              0.00   \n",
              "2     C10003  2495.148862           1.000000     773.17            773.17   \n",
              "3     C10004  1666.670542           0.636364    1499.00           1499.00   \n",
              "4     C10005   817.714335           1.000000      16.00             16.00   \n",
              "...      ...          ...                ...        ...               ...   \n",
              "8945  C19186    28.493517           1.000000     291.12              0.00   \n",
              "8946  C19187    19.183215           1.000000     300.00              0.00   \n",
              "8947  C19188    23.398673           0.833333     144.40              0.00   \n",
              "8948  C19189    13.457564           0.833333       0.00              0.00   \n",
              "8949  C19190   372.708075           0.666667    1093.25           1093.25   \n",
              "\n",
              "      INSTALLMENTS_PURCHASES  CASH_ADVANCE  PURCHASES_FREQUENCY  \\\n",
              "0                      95.40      0.000000             0.166667   \n",
              "1                       0.00   6442.945483             0.000000   \n",
              "2                       0.00      0.000000             1.000000   \n",
              "3                       0.00    205.788017             0.083333   \n",
              "4                       0.00      0.000000             0.083333   \n",
              "...                      ...           ...                  ...   \n",
              "8945                  291.12      0.000000             1.000000   \n",
              "8946                  300.00      0.000000             1.000000   \n",
              "8947                  144.40      0.000000             0.833333   \n",
              "8948                    0.00     36.558778             0.000000   \n",
              "8949                    0.00    127.040008             0.666667   \n",
              "\n",
              "      ONEOFF_PURCHASES_FREQUENCY  PURCHASES_INSTALLMENTS_FREQUENCY  \\\n",
              "0                       0.000000                          0.083333   \n",
              "1                       0.000000                          0.000000   \n",
              "2                       1.000000                          0.000000   \n",
              "3                       0.083333                          0.000000   \n",
              "4                       0.083333                          0.000000   \n",
              "...                          ...                               ...   \n",
              "8945                    0.000000                          0.833333   \n",
              "8946                    0.000000                          0.833333   \n",
              "8947                    0.000000                          0.666667   \n",
              "8948                    0.000000                          0.000000   \n",
              "8949                    0.666667                          0.000000   \n",
              "\n",
              "      CASH_ADVANCE_FREQUENCY  CASH_ADVANCE_TRX  PURCHASES_TRX  CREDIT_LIMIT  \\\n",
              "0                   0.000000                 0              2        1000.0   \n",
              "1                   0.250000                 4              0        7000.0   \n",
              "2                   0.000000                 0             12        7500.0   \n",
              "3                   0.083333                 1              1        7500.0   \n",
              "4                   0.000000                 0              1        1200.0   \n",
              "...                      ...               ...            ...           ...   \n",
              "8945                0.000000                 0              6        1000.0   \n",
              "8946                0.000000                 0              6        1000.0   \n",
              "8947                0.000000                 0              5        1000.0   \n",
              "8948                0.166667                 2              0         500.0   \n",
              "8949                0.333333                 2             23        1200.0   \n",
              "\n",
              "         PAYMENTS  MINIMUM_PAYMENTS  PRC_FULL_PAYMENT  TENURE  \n",
              "0      201.802084        139.509787          0.000000      12  \n",
              "1     4103.032597       1072.340217          0.222222      12  \n",
              "2      622.066742        627.284787          0.000000      12  \n",
              "3        0.000000               NaN          0.000000      12  \n",
              "4      678.334763        244.791237          0.000000      12  \n",
              "...           ...               ...               ...     ...  \n",
              "8945   325.594462         48.886365          0.500000       6  \n",
              "8946   275.861322               NaN          0.000000       6  \n",
              "8947    81.270775         82.418369          0.250000       6  \n",
              "8948    52.549959         55.755628          0.250000       6  \n",
              "8949    63.165404         88.288956          0.000000       6  \n",
              "\n",
              "[8950 rows x 18 columns]"
            ],
            "text/html": [
              "\n",
              "  <div id=\"df-53a242b7-1b2e-43ef-8d7a-f379f4731836\">\n",
              "    <div class=\"colab-df-container\">\n",
              "      <div>\n",
              "<style scoped>\n",
              "    .dataframe tbody tr th:only-of-type {\n",
              "        vertical-align: middle;\n",
              "    }\n",
              "\n",
              "    .dataframe tbody tr th {\n",
              "        vertical-align: top;\n",
              "    }\n",
              "\n",
              "    .dataframe thead th {\n",
              "        text-align: right;\n",
              "    }\n",
              "</style>\n",
              "<table border=\"1\" class=\"dataframe\">\n",
              "  <thead>\n",
              "    <tr style=\"text-align: right;\">\n",
              "      <th></th>\n",
              "      <th>CUST_ID</th>\n",
              "      <th>BALANCE</th>\n",
              "      <th>BALANCE_FREQUENCY</th>\n",
              "      <th>PURCHASES</th>\n",
              "      <th>ONEOFF_PURCHASES</th>\n",
              "      <th>INSTALLMENTS_PURCHASES</th>\n",
              "      <th>CASH_ADVANCE</th>\n",
              "      <th>PURCHASES_FREQUENCY</th>\n",
              "      <th>ONEOFF_PURCHASES_FREQUENCY</th>\n",
              "      <th>PURCHASES_INSTALLMENTS_FREQUENCY</th>\n",
              "      <th>CASH_ADVANCE_FREQUENCY</th>\n",
              "      <th>CASH_ADVANCE_TRX</th>\n",
              "      <th>PURCHASES_TRX</th>\n",
              "      <th>CREDIT_LIMIT</th>\n",
              "      <th>PAYMENTS</th>\n",
              "      <th>MINIMUM_PAYMENTS</th>\n",
              "      <th>PRC_FULL_PAYMENT</th>\n",
              "      <th>TENURE</th>\n",
              "    </tr>\n",
              "  </thead>\n",
              "  <tbody>\n",
              "    <tr>\n",
              "      <th>0</th>\n",
              "      <td>C10001</td>\n",
              "      <td>40.900749</td>\n",
              "      <td>0.818182</td>\n",
              "      <td>95.40</td>\n",
              "      <td>0.00</td>\n",
              "      <td>95.40</td>\n",
              "      <td>0.000000</td>\n",
              "      <td>0.166667</td>\n",
              "      <td>0.000000</td>\n",
              "      <td>0.083333</td>\n",
              "      <td>0.000000</td>\n",
              "      <td>0</td>\n",
              "      <td>2</td>\n",
              "      <td>1000.0</td>\n",
              "      <td>201.802084</td>\n",
              "      <td>139.509787</td>\n",
              "      <td>0.000000</td>\n",
              "      <td>12</td>\n",
              "    </tr>\n",
              "    <tr>\n",
              "      <th>1</th>\n",
              "      <td>C10002</td>\n",
              "      <td>3202.467416</td>\n",
              "      <td>0.909091</td>\n",
              "      <td>0.00</td>\n",
              "      <td>0.00</td>\n",
              "      <td>0.00</td>\n",
              "      <td>6442.945483</td>\n",
              "      <td>0.000000</td>\n",
              "      <td>0.000000</td>\n",
              "      <td>0.000000</td>\n",
              "      <td>0.250000</td>\n",
              "      <td>4</td>\n",
              "      <td>0</td>\n",
              "      <td>7000.0</td>\n",
              "      <td>4103.032597</td>\n",
              "      <td>1072.340217</td>\n",
              "      <td>0.222222</td>\n",
              "      <td>12</td>\n",
              "    </tr>\n",
              "    <tr>\n",
              "      <th>2</th>\n",
              "      <td>C10003</td>\n",
              "      <td>2495.148862</td>\n",
              "      <td>1.000000</td>\n",
              "      <td>773.17</td>\n",
              "      <td>773.17</td>\n",
              "      <td>0.00</td>\n",
              "      <td>0.000000</td>\n",
              "      <td>1.000000</td>\n",
              "      <td>1.000000</td>\n",
              "      <td>0.000000</td>\n",
              "      <td>0.000000</td>\n",
              "      <td>0</td>\n",
              "      <td>12</td>\n",
              "      <td>7500.0</td>\n",
              "      <td>622.066742</td>\n",
              "      <td>627.284787</td>\n",
              "      <td>0.000000</td>\n",
              "      <td>12</td>\n",
              "    </tr>\n",
              "    <tr>\n",
              "      <th>3</th>\n",
              "      <td>C10004</td>\n",
              "      <td>1666.670542</td>\n",
              "      <td>0.636364</td>\n",
              "      <td>1499.00</td>\n",
              "      <td>1499.00</td>\n",
              "      <td>0.00</td>\n",
              "      <td>205.788017</td>\n",
              "      <td>0.083333</td>\n",
              "      <td>0.083333</td>\n",
              "      <td>0.000000</td>\n",
              "      <td>0.083333</td>\n",
              "      <td>1</td>\n",
              "      <td>1</td>\n",
              "      <td>7500.0</td>\n",
              "      <td>0.000000</td>\n",
              "      <td>NaN</td>\n",
              "      <td>0.000000</td>\n",
              "      <td>12</td>\n",
              "    </tr>\n",
              "    <tr>\n",
              "      <th>4</th>\n",
              "      <td>C10005</td>\n",
              "      <td>817.714335</td>\n",
              "      <td>1.000000</td>\n",
              "      <td>16.00</td>\n",
              "      <td>16.00</td>\n",
              "      <td>0.00</td>\n",
              "      <td>0.000000</td>\n",
              "      <td>0.083333</td>\n",
              "      <td>0.083333</td>\n",
              "      <td>0.000000</td>\n",
              "      <td>0.000000</td>\n",
              "      <td>0</td>\n",
              "      <td>1</td>\n",
              "      <td>1200.0</td>\n",
              "      <td>678.334763</td>\n",
              "      <td>244.791237</td>\n",
              "      <td>0.000000</td>\n",
              "      <td>12</td>\n",
              "    </tr>\n",
              "    <tr>\n",
              "      <th>...</th>\n",
              "      <td>...</td>\n",
              "      <td>...</td>\n",
              "      <td>...</td>\n",
              "      <td>...</td>\n",
              "      <td>...</td>\n",
              "      <td>...</td>\n",
              "      <td>...</td>\n",
              "      <td>...</td>\n",
              "      <td>...</td>\n",
              "      <td>...</td>\n",
              "      <td>...</td>\n",
              "      <td>...</td>\n",
              "      <td>...</td>\n",
              "      <td>...</td>\n",
              "      <td>...</td>\n",
              "      <td>...</td>\n",
              "      <td>...</td>\n",
              "      <td>...</td>\n",
              "    </tr>\n",
              "    <tr>\n",
              "      <th>8945</th>\n",
              "      <td>C19186</td>\n",
              "      <td>28.493517</td>\n",
              "      <td>1.000000</td>\n",
              "      <td>291.12</td>\n",
              "      <td>0.00</td>\n",
              "      <td>291.12</td>\n",
              "      <td>0.000000</td>\n",
              "      <td>1.000000</td>\n",
              "      <td>0.000000</td>\n",
              "      <td>0.833333</td>\n",
              "      <td>0.000000</td>\n",
              "      <td>0</td>\n",
              "      <td>6</td>\n",
              "      <td>1000.0</td>\n",
              "      <td>325.594462</td>\n",
              "      <td>48.886365</td>\n",
              "      <td>0.500000</td>\n",
              "      <td>6</td>\n",
              "    </tr>\n",
              "    <tr>\n",
              "      <th>8946</th>\n",
              "      <td>C19187</td>\n",
              "      <td>19.183215</td>\n",
              "      <td>1.000000</td>\n",
              "      <td>300.00</td>\n",
              "      <td>0.00</td>\n",
              "      <td>300.00</td>\n",
              "      <td>0.000000</td>\n",
              "      <td>1.000000</td>\n",
              "      <td>0.000000</td>\n",
              "      <td>0.833333</td>\n",
              "      <td>0.000000</td>\n",
              "      <td>0</td>\n",
              "      <td>6</td>\n",
              "      <td>1000.0</td>\n",
              "      <td>275.861322</td>\n",
              "      <td>NaN</td>\n",
              "      <td>0.000000</td>\n",
              "      <td>6</td>\n",
              "    </tr>\n",
              "    <tr>\n",
              "      <th>8947</th>\n",
              "      <td>C19188</td>\n",
              "      <td>23.398673</td>\n",
              "      <td>0.833333</td>\n",
              "      <td>144.40</td>\n",
              "      <td>0.00</td>\n",
              "      <td>144.40</td>\n",
              "      <td>0.000000</td>\n",
              "      <td>0.833333</td>\n",
              "      <td>0.000000</td>\n",
              "      <td>0.666667</td>\n",
              "      <td>0.000000</td>\n",
              "      <td>0</td>\n",
              "      <td>5</td>\n",
              "      <td>1000.0</td>\n",
              "      <td>81.270775</td>\n",
              "      <td>82.418369</td>\n",
              "      <td>0.250000</td>\n",
              "      <td>6</td>\n",
              "    </tr>\n",
              "    <tr>\n",
              "      <th>8948</th>\n",
              "      <td>C19189</td>\n",
              "      <td>13.457564</td>\n",
              "      <td>0.833333</td>\n",
              "      <td>0.00</td>\n",
              "      <td>0.00</td>\n",
              "      <td>0.00</td>\n",
              "      <td>36.558778</td>\n",
              "      <td>0.000000</td>\n",
              "      <td>0.000000</td>\n",
              "      <td>0.000000</td>\n",
              "      <td>0.166667</td>\n",
              "      <td>2</td>\n",
              "      <td>0</td>\n",
              "      <td>500.0</td>\n",
              "      <td>52.549959</td>\n",
              "      <td>55.755628</td>\n",
              "      <td>0.250000</td>\n",
              "      <td>6</td>\n",
              "    </tr>\n",
              "    <tr>\n",
              "      <th>8949</th>\n",
              "      <td>C19190</td>\n",
              "      <td>372.708075</td>\n",
              "      <td>0.666667</td>\n",
              "      <td>1093.25</td>\n",
              "      <td>1093.25</td>\n",
              "      <td>0.00</td>\n",
              "      <td>127.040008</td>\n",
              "      <td>0.666667</td>\n",
              "      <td>0.666667</td>\n",
              "      <td>0.000000</td>\n",
              "      <td>0.333333</td>\n",
              "      <td>2</td>\n",
              "      <td>23</td>\n",
              "      <td>1200.0</td>\n",
              "      <td>63.165404</td>\n",
              "      <td>88.288956</td>\n",
              "      <td>0.000000</td>\n",
              "      <td>6</td>\n",
              "    </tr>\n",
              "  </tbody>\n",
              "</table>\n",
              "<p>8950 rows × 18 columns</p>\n",
              "</div>\n",
              "      <button class=\"colab-df-convert\" onclick=\"convertToInteractive('df-53a242b7-1b2e-43ef-8d7a-f379f4731836')\"\n",
              "              title=\"Convert this dataframe to an interactive table.\"\n",
              "              style=\"display:none;\">\n",
              "        \n",
              "  <svg xmlns=\"http://www.w3.org/2000/svg\" height=\"24px\"viewBox=\"0 0 24 24\"\n",
              "       width=\"24px\">\n",
              "    <path d=\"M0 0h24v24H0V0z\" fill=\"none\"/>\n",
              "    <path d=\"M18.56 5.44l.94 2.06.94-2.06 2.06-.94-2.06-.94-.94-2.06-.94 2.06-2.06.94zm-11 1L8.5 8.5l.94-2.06 2.06-.94-2.06-.94L8.5 2.5l-.94 2.06-2.06.94zm10 10l.94 2.06.94-2.06 2.06-.94-2.06-.94-.94-2.06-.94 2.06-2.06.94z\"/><path d=\"M17.41 7.96l-1.37-1.37c-.4-.4-.92-.59-1.43-.59-.52 0-1.04.2-1.43.59L10.3 9.45l-7.72 7.72c-.78.78-.78 2.05 0 2.83L4 21.41c.39.39.9.59 1.41.59.51 0 1.02-.2 1.41-.59l7.78-7.78 2.81-2.81c.8-.78.8-2.07 0-2.86zM5.41 20L4 18.59l7.72-7.72 1.47 1.35L5.41 20z\"/>\n",
              "  </svg>\n",
              "      </button>\n",
              "      \n",
              "  <style>\n",
              "    .colab-df-container {\n",
              "      display:flex;\n",
              "      flex-wrap:wrap;\n",
              "      gap: 12px;\n",
              "    }\n",
              "\n",
              "    .colab-df-convert {\n",
              "      background-color: #E8F0FE;\n",
              "      border: none;\n",
              "      border-radius: 50%;\n",
              "      cursor: pointer;\n",
              "      display: none;\n",
              "      fill: #1967D2;\n",
              "      height: 32px;\n",
              "      padding: 0 0 0 0;\n",
              "      width: 32px;\n",
              "    }\n",
              "\n",
              "    .colab-df-convert:hover {\n",
              "      background-color: #E2EBFA;\n",
              "      box-shadow: 0px 1px 2px rgba(60, 64, 67, 0.3), 0px 1px 3px 1px rgba(60, 64, 67, 0.15);\n",
              "      fill: #174EA6;\n",
              "    }\n",
              "\n",
              "    [theme=dark] .colab-df-convert {\n",
              "      background-color: #3B4455;\n",
              "      fill: #D2E3FC;\n",
              "    }\n",
              "\n",
              "    [theme=dark] .colab-df-convert:hover {\n",
              "      background-color: #434B5C;\n",
              "      box-shadow: 0px 1px 3px 1px rgba(0, 0, 0, 0.15);\n",
              "      filter: drop-shadow(0px 1px 2px rgba(0, 0, 0, 0.3));\n",
              "      fill: #FFFFFF;\n",
              "    }\n",
              "  </style>\n",
              "\n",
              "      <script>\n",
              "        const buttonEl =\n",
              "          document.querySelector('#df-53a242b7-1b2e-43ef-8d7a-f379f4731836 button.colab-df-convert');\n",
              "        buttonEl.style.display =\n",
              "          google.colab.kernel.accessAllowed ? 'block' : 'none';\n",
              "\n",
              "        async function convertToInteractive(key) {\n",
              "          const element = document.querySelector('#df-53a242b7-1b2e-43ef-8d7a-f379f4731836');\n",
              "          const dataTable =\n",
              "            await google.colab.kernel.invokeFunction('convertToInteractive',\n",
              "                                                     [key], {});\n",
              "          if (!dataTable) return;\n",
              "\n",
              "          const docLinkHtml = 'Like what you see? Visit the ' +\n",
              "            '<a target=\"_blank\" href=https://colab.research.google.com/notebooks/data_table.ipynb>data table notebook</a>'\n",
              "            + ' to learn more about interactive tables.';\n",
              "          element.innerHTML = '';\n",
              "          dataTable['output_type'] = 'display_data';\n",
              "          await google.colab.output.renderOutput(dataTable, element);\n",
              "          const docLink = document.createElement('div');\n",
              "          docLink.innerHTML = docLinkHtml;\n",
              "          element.appendChild(docLink);\n",
              "        }\n",
              "      </script>\n",
              "    </div>\n",
              "  </div>\n",
              "  "
            ]
          },
          "metadata": {},
          "execution_count": 252
        }
      ]
    },
    {
      "cell_type": "markdown",
      "source": [
        "# Pré-processamento"
      ],
      "metadata": {
        "id": "yi1gUAxQxb_a"
      }
    },
    {
      "cell_type": "markdown",
      "source": [
        "### Conversão de Int p/ Float - CASH_ADVANCE_TRX"
      ],
      "metadata": {
        "id": "n5hf8lMl1aYb"
      }
    },
    {
      "cell_type": "code",
      "source": [
        "import pandas as pd\n",
        "\n",
        "df2['CASH_ADVANCE_TRX'] = df2['CASH_ADVANCE_TRX'].astype(float)\n",
        "\n",
        "print (df2)"
      ],
      "metadata": {
        "colab": {
          "base_uri": "https://localhost:8080/"
        },
        "id": "OMpG5VGYEEBZ",
        "outputId": "fa336833-042b-4164-f43a-fb233641e86f"
      },
      "execution_count": null,
      "outputs": [
        {
          "output_type": "stream",
          "name": "stdout",
          "text": [
            "     CUST_ID      BALANCE  BALANCE_FREQUENCY  PURCHASES  ONEOFF_PURCHASES  \\\n",
            "0     C10001    40.900749           0.818182      95.40              0.00   \n",
            "1     C10002  3202.467416           0.909091       0.00              0.00   \n",
            "2     C10003  2495.148862           1.000000     773.17            773.17   \n",
            "3     C10004  1666.670542           0.636364    1499.00           1499.00   \n",
            "4     C10005   817.714335           1.000000      16.00             16.00   \n",
            "...      ...          ...                ...        ...               ...   \n",
            "8945  C19186    28.493517           1.000000     291.12              0.00   \n",
            "8946  C19187    19.183215           1.000000     300.00              0.00   \n",
            "8947  C19188    23.398673           0.833333     144.40              0.00   \n",
            "8948  C19189    13.457564           0.833333       0.00              0.00   \n",
            "8949  C19190   372.708075           0.666667    1093.25           1093.25   \n",
            "\n",
            "      INSTALLMENTS_PURCHASES  CASH_ADVANCE  PURCHASES_FREQUENCY  \\\n",
            "0                      95.40      0.000000             0.166667   \n",
            "1                       0.00   6442.945483             0.000000   \n",
            "2                       0.00      0.000000             1.000000   \n",
            "3                       0.00    205.788017             0.083333   \n",
            "4                       0.00      0.000000             0.083333   \n",
            "...                      ...           ...                  ...   \n",
            "8945                  291.12      0.000000             1.000000   \n",
            "8946                  300.00      0.000000             1.000000   \n",
            "8947                  144.40      0.000000             0.833333   \n",
            "8948                    0.00     36.558778             0.000000   \n",
            "8949                    0.00    127.040008             0.666667   \n",
            "\n",
            "      ONEOFF_PURCHASES_FREQUENCY  PURCHASES_INSTALLMENTS_FREQUENCY  \\\n",
            "0                       0.000000                          0.083333   \n",
            "1                       0.000000                          0.000000   \n",
            "2                       1.000000                          0.000000   \n",
            "3                       0.083333                          0.000000   \n",
            "4                       0.083333                          0.000000   \n",
            "...                          ...                               ...   \n",
            "8945                    0.000000                          0.833333   \n",
            "8946                    0.000000                          0.833333   \n",
            "8947                    0.000000                          0.666667   \n",
            "8948                    0.000000                          0.000000   \n",
            "8949                    0.666667                          0.000000   \n",
            "\n",
            "      CASH_ADVANCE_FREQUENCY  CASH_ADVANCE_TRX  PURCHASES_TRX  CREDIT_LIMIT  \\\n",
            "0                   0.000000               0.0              2        1000.0   \n",
            "1                   0.250000               4.0              0        7000.0   \n",
            "2                   0.000000               0.0             12        7500.0   \n",
            "3                   0.083333               1.0              1        7500.0   \n",
            "4                   0.000000               0.0              1        1200.0   \n",
            "...                      ...               ...            ...           ...   \n",
            "8945                0.000000               0.0              6        1000.0   \n",
            "8946                0.000000               0.0              6        1000.0   \n",
            "8947                0.000000               0.0              5        1000.0   \n",
            "8948                0.166667               2.0              0         500.0   \n",
            "8949                0.333333               2.0             23        1200.0   \n",
            "\n",
            "         PAYMENTS  MINIMUM_PAYMENTS  PRC_FULL_PAYMENT  TENURE  \n",
            "0      201.802084        139.509787          0.000000      12  \n",
            "1     4103.032597       1072.340217          0.222222      12  \n",
            "2      622.066742        627.284787          0.000000      12  \n",
            "3        0.000000               NaN          0.000000      12  \n",
            "4      678.334763        244.791237          0.000000      12  \n",
            "...           ...               ...               ...     ...  \n",
            "8945   325.594462         48.886365          0.500000       6  \n",
            "8946   275.861322               NaN          0.000000       6  \n",
            "8947    81.270775         82.418369          0.250000       6  \n",
            "8948    52.549959         55.755628          0.250000       6  \n",
            "8949    63.165404         88.288956          0.000000       6  \n",
            "\n",
            "[8950 rows x 18 columns]\n"
          ]
        }
      ]
    },
    {
      "cell_type": "code",
      "source": [
        "print (df2.dtypes)"
      ],
      "metadata": {
        "colab": {
          "base_uri": "https://localhost:8080/"
        },
        "id": "ROcezKC_1Wun",
        "outputId": "bea80ab9-7f17-47d5-8efa-9ba06bfe8ad0"
      },
      "execution_count": null,
      "outputs": [
        {
          "output_type": "stream",
          "name": "stdout",
          "text": [
            "CUST_ID                              object\n",
            "BALANCE                             float64\n",
            "BALANCE_FREQUENCY                   float64\n",
            "PURCHASES                           float64\n",
            "ONEOFF_PURCHASES                    float64\n",
            "INSTALLMENTS_PURCHASES              float64\n",
            "CASH_ADVANCE                        float64\n",
            "PURCHASES_FREQUENCY                 float64\n",
            "ONEOFF_PURCHASES_FREQUENCY          float64\n",
            "PURCHASES_INSTALLMENTS_FREQUENCY    float64\n",
            "CASH_ADVANCE_FREQUENCY              float64\n",
            "CASH_ADVANCE_TRX                    float64\n",
            "PURCHASES_TRX                         int64\n",
            "CREDIT_LIMIT                        float64\n",
            "PAYMENTS                            float64\n",
            "MINIMUM_PAYMENTS                    float64\n",
            "PRC_FULL_PAYMENT                    float64\n",
            "TENURE                                int64\n",
            "dtype: object\n"
          ]
        }
      ]
    },
    {
      "cell_type": "markdown",
      "source": [
        "### Conversão de Int p/ Float - PURCHASES_TRX"
      ],
      "metadata": {
        "id": "XA7NhVUH1-2H"
      }
    },
    {
      "cell_type": "code",
      "source": [
        "import pandas as pd\n",
        "\n",
        "df2['PURCHASES_TRX'] = df2['PURCHASES_TRX'].astype(float)\n",
        "\n",
        "print (df2)"
      ],
      "metadata": {
        "colab": {
          "base_uri": "https://localhost:8080/"
        },
        "id": "knkvl9bi2Bp6",
        "outputId": "57b2e091-ef67-4ea4-ff46-aa7e06e37da1"
      },
      "execution_count": null,
      "outputs": [
        {
          "output_type": "stream",
          "name": "stdout",
          "text": [
            "     CUST_ID      BALANCE  BALANCE_FREQUENCY  PURCHASES  ONEOFF_PURCHASES  \\\n",
            "0     C10001    40.900749           0.818182      95.40              0.00   \n",
            "1     C10002  3202.467416           0.909091       0.00              0.00   \n",
            "2     C10003  2495.148862           1.000000     773.17            773.17   \n",
            "3     C10004  1666.670542           0.636364    1499.00           1499.00   \n",
            "4     C10005   817.714335           1.000000      16.00             16.00   \n",
            "...      ...          ...                ...        ...               ...   \n",
            "8945  C19186    28.493517           1.000000     291.12              0.00   \n",
            "8946  C19187    19.183215           1.000000     300.00              0.00   \n",
            "8947  C19188    23.398673           0.833333     144.40              0.00   \n",
            "8948  C19189    13.457564           0.833333       0.00              0.00   \n",
            "8949  C19190   372.708075           0.666667    1093.25           1093.25   \n",
            "\n",
            "      INSTALLMENTS_PURCHASES  CASH_ADVANCE  PURCHASES_FREQUENCY  \\\n",
            "0                      95.40      0.000000             0.166667   \n",
            "1                       0.00   6442.945483             0.000000   \n",
            "2                       0.00      0.000000             1.000000   \n",
            "3                       0.00    205.788017             0.083333   \n",
            "4                       0.00      0.000000             0.083333   \n",
            "...                      ...           ...                  ...   \n",
            "8945                  291.12      0.000000             1.000000   \n",
            "8946                  300.00      0.000000             1.000000   \n",
            "8947                  144.40      0.000000             0.833333   \n",
            "8948                    0.00     36.558778             0.000000   \n",
            "8949                    0.00    127.040008             0.666667   \n",
            "\n",
            "      ONEOFF_PURCHASES_FREQUENCY  PURCHASES_INSTALLMENTS_FREQUENCY  \\\n",
            "0                       0.000000                          0.083333   \n",
            "1                       0.000000                          0.000000   \n",
            "2                       1.000000                          0.000000   \n",
            "3                       0.083333                          0.000000   \n",
            "4                       0.083333                          0.000000   \n",
            "...                          ...                               ...   \n",
            "8945                    0.000000                          0.833333   \n",
            "8946                    0.000000                          0.833333   \n",
            "8947                    0.000000                          0.666667   \n",
            "8948                    0.000000                          0.000000   \n",
            "8949                    0.666667                          0.000000   \n",
            "\n",
            "      CASH_ADVANCE_FREQUENCY  CASH_ADVANCE_TRX  PURCHASES_TRX  CREDIT_LIMIT  \\\n",
            "0                   0.000000               0.0            2.0        1000.0   \n",
            "1                   0.250000               4.0            0.0        7000.0   \n",
            "2                   0.000000               0.0           12.0        7500.0   \n",
            "3                   0.083333               1.0            1.0        7500.0   \n",
            "4                   0.000000               0.0            1.0        1200.0   \n",
            "...                      ...               ...            ...           ...   \n",
            "8945                0.000000               0.0            6.0        1000.0   \n",
            "8946                0.000000               0.0            6.0        1000.0   \n",
            "8947                0.000000               0.0            5.0        1000.0   \n",
            "8948                0.166667               2.0            0.0         500.0   \n",
            "8949                0.333333               2.0           23.0        1200.0   \n",
            "\n",
            "         PAYMENTS  MINIMUM_PAYMENTS  PRC_FULL_PAYMENT  TENURE  \n",
            "0      201.802084        139.509787          0.000000      12  \n",
            "1     4103.032597       1072.340217          0.222222      12  \n",
            "2      622.066742        627.284787          0.000000      12  \n",
            "3        0.000000               NaN          0.000000      12  \n",
            "4      678.334763        244.791237          0.000000      12  \n",
            "...           ...               ...               ...     ...  \n",
            "8945   325.594462         48.886365          0.500000       6  \n",
            "8946   275.861322               NaN          0.000000       6  \n",
            "8947    81.270775         82.418369          0.250000       6  \n",
            "8948    52.549959         55.755628          0.250000       6  \n",
            "8949    63.165404         88.288956          0.000000       6  \n",
            "\n",
            "[8950 rows x 18 columns]\n"
          ]
        }
      ]
    },
    {
      "cell_type": "code",
      "source": [
        "print (df2.dtypes)"
      ],
      "metadata": {
        "colab": {
          "base_uri": "https://localhost:8080/"
        },
        "id": "J7T1tB9e2NH-",
        "outputId": "eedfd101-efae-4bd2-824d-02922c695846"
      },
      "execution_count": null,
      "outputs": [
        {
          "output_type": "stream",
          "name": "stdout",
          "text": [
            "CUST_ID                              object\n",
            "BALANCE                             float64\n",
            "BALANCE_FREQUENCY                   float64\n",
            "PURCHASES                           float64\n",
            "ONEOFF_PURCHASES                    float64\n",
            "INSTALLMENTS_PURCHASES              float64\n",
            "CASH_ADVANCE                        float64\n",
            "PURCHASES_FREQUENCY                 float64\n",
            "ONEOFF_PURCHASES_FREQUENCY          float64\n",
            "PURCHASES_INSTALLMENTS_FREQUENCY    float64\n",
            "CASH_ADVANCE_FREQUENCY              float64\n",
            "CASH_ADVANCE_TRX                    float64\n",
            "PURCHASES_TRX                       float64\n",
            "CREDIT_LIMIT                        float64\n",
            "PAYMENTS                            float64\n",
            "MINIMUM_PAYMENTS                    float64\n",
            "PRC_FULL_PAYMENT                    float64\n",
            "TENURE                                int64\n",
            "dtype: object\n"
          ]
        }
      ]
    },
    {
      "cell_type": "markdown",
      "source": [
        "### Conversão de Int p/ Float - TENURE"
      ],
      "metadata": {
        "id": "oOvDJSor2UHb"
      }
    },
    {
      "cell_type": "code",
      "source": [
        "import pandas as pd\n",
        "\n",
        "df2['TENURE'] = df2['TENURE'].astype(float)\n",
        "\n",
        "print (df2)"
      ],
      "metadata": {
        "colab": {
          "base_uri": "https://localhost:8080/"
        },
        "outputId": "033b8bb1-1ca5-4264-f95e-a07f185552e4",
        "id": "5iCzu4x32UHc"
      },
      "execution_count": null,
      "outputs": [
        {
          "output_type": "stream",
          "name": "stdout",
          "text": [
            "     CUST_ID      BALANCE  BALANCE_FREQUENCY  PURCHASES  ONEOFF_PURCHASES  \\\n",
            "0     C10001    40.900749           0.818182      95.40              0.00   \n",
            "1     C10002  3202.467416           0.909091       0.00              0.00   \n",
            "2     C10003  2495.148862           1.000000     773.17            773.17   \n",
            "3     C10004  1666.670542           0.636364    1499.00           1499.00   \n",
            "4     C10005   817.714335           1.000000      16.00             16.00   \n",
            "...      ...          ...                ...        ...               ...   \n",
            "8945  C19186    28.493517           1.000000     291.12              0.00   \n",
            "8946  C19187    19.183215           1.000000     300.00              0.00   \n",
            "8947  C19188    23.398673           0.833333     144.40              0.00   \n",
            "8948  C19189    13.457564           0.833333       0.00              0.00   \n",
            "8949  C19190   372.708075           0.666667    1093.25           1093.25   \n",
            "\n",
            "      INSTALLMENTS_PURCHASES  CASH_ADVANCE  PURCHASES_FREQUENCY  \\\n",
            "0                      95.40      0.000000             0.166667   \n",
            "1                       0.00   6442.945483             0.000000   \n",
            "2                       0.00      0.000000             1.000000   \n",
            "3                       0.00    205.788017             0.083333   \n",
            "4                       0.00      0.000000             0.083333   \n",
            "...                      ...           ...                  ...   \n",
            "8945                  291.12      0.000000             1.000000   \n",
            "8946                  300.00      0.000000             1.000000   \n",
            "8947                  144.40      0.000000             0.833333   \n",
            "8948                    0.00     36.558778             0.000000   \n",
            "8949                    0.00    127.040008             0.666667   \n",
            "\n",
            "      ONEOFF_PURCHASES_FREQUENCY  PURCHASES_INSTALLMENTS_FREQUENCY  \\\n",
            "0                       0.000000                          0.083333   \n",
            "1                       0.000000                          0.000000   \n",
            "2                       1.000000                          0.000000   \n",
            "3                       0.083333                          0.000000   \n",
            "4                       0.083333                          0.000000   \n",
            "...                          ...                               ...   \n",
            "8945                    0.000000                          0.833333   \n",
            "8946                    0.000000                          0.833333   \n",
            "8947                    0.000000                          0.666667   \n",
            "8948                    0.000000                          0.000000   \n",
            "8949                    0.666667                          0.000000   \n",
            "\n",
            "      CASH_ADVANCE_FREQUENCY  CASH_ADVANCE_TRX  PURCHASES_TRX  CREDIT_LIMIT  \\\n",
            "0                   0.000000               0.0            2.0        1000.0   \n",
            "1                   0.250000               4.0            0.0        7000.0   \n",
            "2                   0.000000               0.0           12.0        7500.0   \n",
            "3                   0.083333               1.0            1.0        7500.0   \n",
            "4                   0.000000               0.0            1.0        1200.0   \n",
            "...                      ...               ...            ...           ...   \n",
            "8945                0.000000               0.0            6.0        1000.0   \n",
            "8946                0.000000               0.0            6.0        1000.0   \n",
            "8947                0.000000               0.0            5.0        1000.0   \n",
            "8948                0.166667               2.0            0.0         500.0   \n",
            "8949                0.333333               2.0           23.0        1200.0   \n",
            "\n",
            "         PAYMENTS  MINIMUM_PAYMENTS  PRC_FULL_PAYMENT  TENURE  \n",
            "0      201.802084        139.509787          0.000000    12.0  \n",
            "1     4103.032597       1072.340217          0.222222    12.0  \n",
            "2      622.066742        627.284787          0.000000    12.0  \n",
            "3        0.000000               NaN          0.000000    12.0  \n",
            "4      678.334763        244.791237          0.000000    12.0  \n",
            "...           ...               ...               ...     ...  \n",
            "8945   325.594462         48.886365          0.500000     6.0  \n",
            "8946   275.861322               NaN          0.000000     6.0  \n",
            "8947    81.270775         82.418369          0.250000     6.0  \n",
            "8948    52.549959         55.755628          0.250000     6.0  \n",
            "8949    63.165404         88.288956          0.000000     6.0  \n",
            "\n",
            "[8950 rows x 18 columns]\n"
          ]
        }
      ]
    },
    {
      "cell_type": "code",
      "source": [
        "print (df2.dtypes)"
      ],
      "metadata": {
        "colab": {
          "base_uri": "https://localhost:8080/"
        },
        "outputId": "acb038e1-5ebc-4dc0-ce94-5f47f7396f09",
        "id": "Pt5kMfJw2UHc"
      },
      "execution_count": null,
      "outputs": [
        {
          "output_type": "stream",
          "name": "stdout",
          "text": [
            "CUST_ID                              object\n",
            "BALANCE                             float64\n",
            "BALANCE_FREQUENCY                   float64\n",
            "PURCHASES                           float64\n",
            "ONEOFF_PURCHASES                    float64\n",
            "INSTALLMENTS_PURCHASES              float64\n",
            "CASH_ADVANCE                        float64\n",
            "PURCHASES_FREQUENCY                 float64\n",
            "ONEOFF_PURCHASES_FREQUENCY          float64\n",
            "PURCHASES_INSTALLMENTS_FREQUENCY    float64\n",
            "CASH_ADVANCE_FREQUENCY              float64\n",
            "CASH_ADVANCE_TRX                    float64\n",
            "PURCHASES_TRX                       float64\n",
            "CREDIT_LIMIT                        float64\n",
            "PAYMENTS                            float64\n",
            "MINIMUM_PAYMENTS                    float64\n",
            "PRC_FULL_PAYMENT                    float64\n",
            "TENURE                              float64\n",
            "dtype: object\n"
          ]
        }
      ]
    },
    {
      "cell_type": "markdown",
      "source": [
        "### Excluindo valores nulos"
      ],
      "metadata": {
        "id": "McE9Wc1WHBmS"
      }
    },
    {
      "cell_type": "code",
      "source": [
        "#verificar o shape antes e depois\n",
        "df2.shape"
      ],
      "metadata": {
        "colab": {
          "base_uri": "https://localhost:8080/"
        },
        "id": "rmuMGwV5HGnx",
        "outputId": "e20db39c-4c93-4815-e812-23abe0bd01fb"
      },
      "execution_count": null,
      "outputs": [
        {
          "output_type": "execute_result",
          "data": {
            "text/plain": [
              "(8950, 18)"
            ]
          },
          "metadata": {},
          "execution_count": 259
        }
      ]
    },
    {
      "cell_type": "code",
      "source": [
        "df.shape"
      ],
      "metadata": {
        "colab": {
          "base_uri": "https://localhost:8080/"
        },
        "id": "eGd93gucHJNn",
        "outputId": "86c5f3fa-32c6-4e4b-a6af-5cb4f61d4595"
      },
      "execution_count": null,
      "outputs": [
        {
          "output_type": "execute_result",
          "data": {
            "text/plain": [
              "(8950, 18)"
            ]
          },
          "metadata": {},
          "execution_count": 260
        }
      ]
    },
    {
      "cell_type": "code",
      "source": [
        "#apaga todas as tuplas que tenham algum valor nulo\n",
        "#o parâmetro inplace altera no arquivo original\n",
        "df2.dropna(inplace=True)"
      ],
      "metadata": {
        "id": "mMFNTgkVHQAj"
      },
      "execution_count": null,
      "outputs": []
    },
    {
      "cell_type": "code",
      "source": [
        "#apaga as tuplas da(s) coluna(s) especificada(s) no subset\n",
        "df2.dropna(subset=['MINIMUM_PAYMENTS'],inplace=True)"
      ],
      "metadata": {
        "id": "BeGMJTspHbzA"
      },
      "execution_count": null,
      "outputs": []
    },
    {
      "cell_type": "code",
      "source": [
        "#verifica quantos valores nulos tem na coluna após a exclusão\n",
        "df2['MINIMUM_PAYMENTS'].isnull().sum()"
      ],
      "metadata": {
        "colab": {
          "base_uri": "https://localhost:8080/"
        },
        "id": "BiMZDhPUICMQ",
        "outputId": "de902909-13c3-4e4f-8ef5-24ace4d022e3"
      },
      "execution_count": null,
      "outputs": [
        {
          "output_type": "execute_result",
          "data": {
            "text/plain": [
              "0"
            ]
          },
          "metadata": {},
          "execution_count": 263
        }
      ]
    },
    {
      "cell_type": "code",
      "source": [],
      "metadata": {
        "id": "4wrUL5k0IPaX"
      },
      "execution_count": null,
      "outputs": []
    },
    {
      "cell_type": "markdown",
      "source": [
        "### Apagando colunas"
      ],
      "metadata": {
        "id": "_Ff0Ypw62bnm"
      }
    },
    {
      "cell_type": "code",
      "source": [
        "#Apaga coluna CUST_ID(object)\n",
        "df2 = df2.drop(columns=['CUST_ID'])\n",
        "df2 = df2.drop(columns=['BALANCE_FREQUENCY'])\n",
        "df2 = df2.drop(columns=['PURCHASES_FREQUENCY'])\n",
        "df2 = df2.drop(columns=['ONEOFF_PURCHASES_FREQUENCY'])\n",
        "df2 = df2.drop(columns=['PURCHASES_INSTALLMENTS_FREQUENCY'])\n",
        "df2 = df2.drop(columns=['CASH_ADVANCE_FREQUENCY'])\n",
        "df2 = df2.drop(columns=['TENURE'])\n",
        "df2.head()"
      ],
      "metadata": {
        "colab": {
          "base_uri": "https://localhost:8080/"
        },
        "id": "RBmYEjEcEVgA",
        "outputId": "fe511edc-7b4f-4ff5-aabd-afdfb04df980"
      },
      "execution_count": null,
      "outputs": [
        {
          "output_type": "execute_result",
          "data": {
            "text/plain": [
              "       BALANCE  PURCHASES  ONEOFF_PURCHASES  INSTALLMENTS_PURCHASES  \\\n",
              "0    40.900749      95.40              0.00                   95.40   \n",
              "1  3202.467416       0.00              0.00                    0.00   \n",
              "2  2495.148862     773.17            773.17                    0.00   \n",
              "4   817.714335      16.00             16.00                    0.00   \n",
              "5  1809.828751    1333.28              0.00                 1333.28   \n",
              "\n",
              "   CASH_ADVANCE  CASH_ADVANCE_TRX  PURCHASES_TRX  CREDIT_LIMIT     PAYMENTS  \\\n",
              "0      0.000000               0.0            2.0        1000.0   201.802084   \n",
              "1   6442.945483               4.0            0.0        7000.0  4103.032597   \n",
              "2      0.000000               0.0           12.0        7500.0   622.066742   \n",
              "4      0.000000               0.0            1.0        1200.0   678.334763   \n",
              "5      0.000000               0.0            8.0        1800.0  1400.057770   \n",
              "\n",
              "   MINIMUM_PAYMENTS  PRC_FULL_PAYMENT  \n",
              "0        139.509787          0.000000  \n",
              "1       1072.340217          0.222222  \n",
              "2        627.284787          0.000000  \n",
              "4        244.791237          0.000000  \n",
              "5       2407.246035          0.000000  "
            ],
            "text/html": [
              "\n",
              "  <div id=\"df-b4a50733-8b40-4d6b-a9f6-3a418bfd2056\">\n",
              "    <div class=\"colab-df-container\">\n",
              "      <div>\n",
              "<style scoped>\n",
              "    .dataframe tbody tr th:only-of-type {\n",
              "        vertical-align: middle;\n",
              "    }\n",
              "\n",
              "    .dataframe tbody tr th {\n",
              "        vertical-align: top;\n",
              "    }\n",
              "\n",
              "    .dataframe thead th {\n",
              "        text-align: right;\n",
              "    }\n",
              "</style>\n",
              "<table border=\"1\" class=\"dataframe\">\n",
              "  <thead>\n",
              "    <tr style=\"text-align: right;\">\n",
              "      <th></th>\n",
              "      <th>BALANCE</th>\n",
              "      <th>PURCHASES</th>\n",
              "      <th>ONEOFF_PURCHASES</th>\n",
              "      <th>INSTALLMENTS_PURCHASES</th>\n",
              "      <th>CASH_ADVANCE</th>\n",
              "      <th>CASH_ADVANCE_TRX</th>\n",
              "      <th>PURCHASES_TRX</th>\n",
              "      <th>CREDIT_LIMIT</th>\n",
              "      <th>PAYMENTS</th>\n",
              "      <th>MINIMUM_PAYMENTS</th>\n",
              "      <th>PRC_FULL_PAYMENT</th>\n",
              "    </tr>\n",
              "  </thead>\n",
              "  <tbody>\n",
              "    <tr>\n",
              "      <th>0</th>\n",
              "      <td>40.900749</td>\n",
              "      <td>95.40</td>\n",
              "      <td>0.00</td>\n",
              "      <td>95.40</td>\n",
              "      <td>0.000000</td>\n",
              "      <td>0.0</td>\n",
              "      <td>2.0</td>\n",
              "      <td>1000.0</td>\n",
              "      <td>201.802084</td>\n",
              "      <td>139.509787</td>\n",
              "      <td>0.000000</td>\n",
              "    </tr>\n",
              "    <tr>\n",
              "      <th>1</th>\n",
              "      <td>3202.467416</td>\n",
              "      <td>0.00</td>\n",
              "      <td>0.00</td>\n",
              "      <td>0.00</td>\n",
              "      <td>6442.945483</td>\n",
              "      <td>4.0</td>\n",
              "      <td>0.0</td>\n",
              "      <td>7000.0</td>\n",
              "      <td>4103.032597</td>\n",
              "      <td>1072.340217</td>\n",
              "      <td>0.222222</td>\n",
              "    </tr>\n",
              "    <tr>\n",
              "      <th>2</th>\n",
              "      <td>2495.148862</td>\n",
              "      <td>773.17</td>\n",
              "      <td>773.17</td>\n",
              "      <td>0.00</td>\n",
              "      <td>0.000000</td>\n",
              "      <td>0.0</td>\n",
              "      <td>12.0</td>\n",
              "      <td>7500.0</td>\n",
              "      <td>622.066742</td>\n",
              "      <td>627.284787</td>\n",
              "      <td>0.000000</td>\n",
              "    </tr>\n",
              "    <tr>\n",
              "      <th>4</th>\n",
              "      <td>817.714335</td>\n",
              "      <td>16.00</td>\n",
              "      <td>16.00</td>\n",
              "      <td>0.00</td>\n",
              "      <td>0.000000</td>\n",
              "      <td>0.0</td>\n",
              "      <td>1.0</td>\n",
              "      <td>1200.0</td>\n",
              "      <td>678.334763</td>\n",
              "      <td>244.791237</td>\n",
              "      <td>0.000000</td>\n",
              "    </tr>\n",
              "    <tr>\n",
              "      <th>5</th>\n",
              "      <td>1809.828751</td>\n",
              "      <td>1333.28</td>\n",
              "      <td>0.00</td>\n",
              "      <td>1333.28</td>\n",
              "      <td>0.000000</td>\n",
              "      <td>0.0</td>\n",
              "      <td>8.0</td>\n",
              "      <td>1800.0</td>\n",
              "      <td>1400.057770</td>\n",
              "      <td>2407.246035</td>\n",
              "      <td>0.000000</td>\n",
              "    </tr>\n",
              "  </tbody>\n",
              "</table>\n",
              "</div>\n",
              "      <button class=\"colab-df-convert\" onclick=\"convertToInteractive('df-b4a50733-8b40-4d6b-a9f6-3a418bfd2056')\"\n",
              "              title=\"Convert this dataframe to an interactive table.\"\n",
              "              style=\"display:none;\">\n",
              "        \n",
              "  <svg xmlns=\"http://www.w3.org/2000/svg\" height=\"24px\"viewBox=\"0 0 24 24\"\n",
              "       width=\"24px\">\n",
              "    <path d=\"M0 0h24v24H0V0z\" fill=\"none\"/>\n",
              "    <path d=\"M18.56 5.44l.94 2.06.94-2.06 2.06-.94-2.06-.94-.94-2.06-.94 2.06-2.06.94zm-11 1L8.5 8.5l.94-2.06 2.06-.94-2.06-.94L8.5 2.5l-.94 2.06-2.06.94zm10 10l.94 2.06.94-2.06 2.06-.94-2.06-.94-.94-2.06-.94 2.06-2.06.94z\"/><path d=\"M17.41 7.96l-1.37-1.37c-.4-.4-.92-.59-1.43-.59-.52 0-1.04.2-1.43.59L10.3 9.45l-7.72 7.72c-.78.78-.78 2.05 0 2.83L4 21.41c.39.39.9.59 1.41.59.51 0 1.02-.2 1.41-.59l7.78-7.78 2.81-2.81c.8-.78.8-2.07 0-2.86zM5.41 20L4 18.59l7.72-7.72 1.47 1.35L5.41 20z\"/>\n",
              "  </svg>\n",
              "      </button>\n",
              "      \n",
              "  <style>\n",
              "    .colab-df-container {\n",
              "      display:flex;\n",
              "      flex-wrap:wrap;\n",
              "      gap: 12px;\n",
              "    }\n",
              "\n",
              "    .colab-df-convert {\n",
              "      background-color: #E8F0FE;\n",
              "      border: none;\n",
              "      border-radius: 50%;\n",
              "      cursor: pointer;\n",
              "      display: none;\n",
              "      fill: #1967D2;\n",
              "      height: 32px;\n",
              "      padding: 0 0 0 0;\n",
              "      width: 32px;\n",
              "    }\n",
              "\n",
              "    .colab-df-convert:hover {\n",
              "      background-color: #E2EBFA;\n",
              "      box-shadow: 0px 1px 2px rgba(60, 64, 67, 0.3), 0px 1px 3px 1px rgba(60, 64, 67, 0.15);\n",
              "      fill: #174EA6;\n",
              "    }\n",
              "\n",
              "    [theme=dark] .colab-df-convert {\n",
              "      background-color: #3B4455;\n",
              "      fill: #D2E3FC;\n",
              "    }\n",
              "\n",
              "    [theme=dark] .colab-df-convert:hover {\n",
              "      background-color: #434B5C;\n",
              "      box-shadow: 0px 1px 3px 1px rgba(0, 0, 0, 0.15);\n",
              "      filter: drop-shadow(0px 1px 2px rgba(0, 0, 0, 0.3));\n",
              "      fill: #FFFFFF;\n",
              "    }\n",
              "  </style>\n",
              "\n",
              "      <script>\n",
              "        const buttonEl =\n",
              "          document.querySelector('#df-b4a50733-8b40-4d6b-a9f6-3a418bfd2056 button.colab-df-convert');\n",
              "        buttonEl.style.display =\n",
              "          google.colab.kernel.accessAllowed ? 'block' : 'none';\n",
              "\n",
              "        async function convertToInteractive(key) {\n",
              "          const element = document.querySelector('#df-b4a50733-8b40-4d6b-a9f6-3a418bfd2056');\n",
              "          const dataTable =\n",
              "            await google.colab.kernel.invokeFunction('convertToInteractive',\n",
              "                                                     [key], {});\n",
              "          if (!dataTable) return;\n",
              "\n",
              "          const docLinkHtml = 'Like what you see? Visit the ' +\n",
              "            '<a target=\"_blank\" href=https://colab.research.google.com/notebooks/data_table.ipynb>data table notebook</a>'\n",
              "            + ' to learn more about interactive tables.';\n",
              "          element.innerHTML = '';\n",
              "          dataTable['output_type'] = 'display_data';\n",
              "          await google.colab.output.renderOutput(dataTable, element);\n",
              "          const docLink = document.createElement('div');\n",
              "          docLink.innerHTML = docLinkHtml;\n",
              "          element.appendChild(docLink);\n",
              "        }\n",
              "      </script>\n",
              "    </div>\n",
              "  </div>\n",
              "  "
            ]
          },
          "metadata": {},
          "execution_count": 264
        }
      ]
    },
    {
      "cell_type": "markdown",
      "source": [
        "### Análise subjetiva"
      ],
      "metadata": {
        "id": "E_sHpudn-EA2"
      }
    },
    {
      "cell_type": "code",
      "source": [
        "import matplotlib.pyplot as plt\n",
        "import seaborn as sns\n",
        "\n",
        "# Quantos grupos existem nos dados\n",
        "plt.scatter(x=df2.ONEOFF_PURCHASES, y=df2.PAYMENTS)\n",
        "plt.xlabel('Valor compra única - MAX')\n",
        "plt.ylabel('Valor do pagamento')\n",
        "plt.title('Quantos CLUSTERS existem aqui?')\n",
        "plt.show()"
      ],
      "metadata": {
        "colab": {
          "base_uri": "https://localhost:8080/"
        },
        "id": "MO3i9m6HkH58",
        "outputId": "41f4c81c-b313-4558-fc04-d50302c914a6"
      },
      "execution_count": null,
      "outputs": [
        {
          "output_type": "display_data",
          "data": {
            "text/plain": [
              "<Figure size 1440x432 with 1 Axes>"
            ],
            "image/png": "[encoded data removed]"
          },
          "metadata": {
            "needs_background": "light"
          }
        }
      ]
    },
    {
      "cell_type": "code",
      "source": [
        "# Importa a biblioteca kmeans\n",
        "from sklearn.cluster import KMeans\n",
        "modelokm = KMeans(n_clusters=3)\n",
        "card = df2.iloc[:,0:4].values\n",
        "modelokm = modelokm.fit(card)\n",
        "modelokm.cluster_centers_"
      ],
      "metadata": {
        "colab": {
          "base_uri": "https://localhost:8080/"
        },
        "id": "zMkumZKoad7Q",
        "outputId": "58845b14-c705-4424-c544-828b99b55f98"
      },
      "execution_count": null,
      "outputs": [
        {
          "output_type": "stream",
          "name": "stderr",
          "text": [
            "/usr/local/lib/python3.8/dist-packages/sklearn/cluster/_kmeans.py:870: FutureWarning: The default value of `n_init` will change from 10 to 'auto' in 1.4. Set the value of `n_init` explicitly to suppress the warning\n",
            "  warnings.warn(\n"
          ]
        },
        {
          "output_type": "execute_result",
          "data": {
            "text/plain": [
              "array([[  864.43088886,   757.7290249 ,   413.15348686,   344.93787275],\n",
              "       [ 3644.04493488, 12141.8829375 ,  8786.7145    ,  3355.1684375 ],\n",
              "       [ 5614.20197249,  1151.33613162,   666.8979053 ,   484.49195827]])"
            ]
          },
          "metadata": {},
          "execution_count": 266
        }
      ]
    },
    {
      "cell_type": "code",
      "source": [
        "labels = modelokm.labels_\n",
        "labels "
      ],
      "metadata": {
        "colab": {
          "base_uri": "https://localhost:8080/"
        },
        "id": "I3Eh5XUMarTk",
        "outputId": "d3714187-cd4d-4640-81cf-696746adcf2e"
      },
      "execution_count": null,
      "outputs": [
        {
          "output_type": "execute_result",
          "data": {
            "text/plain": [
              "array([0, 0, 0, ..., 0, 0, 0], dtype=int32)"
            ]
          },
          "metadata": {},
          "execution_count": 267
        }
      ]
    },
    {
      "cell_type": "code",
      "source": [
        "plt.scatter(df2.iloc[:,1], df2.iloc[:,0], c = labels)\n",
        "plt.scatter(modelokm.cluster_centers_[:,1], modelokm.cluster_centers_[:,0], s = 100, c = 'red', label = 'Centroids')\n",
        "plt.legend()\n",
        "plt.show()"
      ],
      "metadata": {
        "colab": {
          "base_uri": "https://localhost:8080/"
        },
        "id": "5ndrReWta78T",
        "outputId": "d21aff43-d556-4e65-dc90-3de77b03bf35"
      },
      "execution_count": null,
      "outputs": [
        {
          "output_type": "display_data",
          "data": {
            "text/plain": [
              "<Figure size 1440x432 with 1 Axes>"
            ],
            "image/png": "[encoded data removed]"
          },
          "metadata": {
            "needs_background": "light"
          }
        }
      ]
    },
    {
      "cell_type": "code",
      "source": [
        "sns.scatterplot(x=df2.ONEOFF_PURCHASES, y=df2.PAYMENTS, hue=labels)\n",
        "plt.show()"
      ],
      "metadata": {
        "colab": {
          "base_uri": "https://localhost:8080/"
        },
        "id": "FQ3IZ8ifHxwW",
        "outputId": "2c311c8d-377c-4532-bc9d-890401767230"
      },
      "execution_count": null,
      "outputs": [
        {
          "output_type": "display_data",
          "data": {
            "text/plain": [
              "<Figure size 1440x432 with 1 Axes>"
            ],
            "image/png": "[encoded data removed]"
          },
          "metadata": {
            "needs_background": "light"
          }
        }
      ]
    },
    {
      "cell_type": "markdown",
      "source": [
        "### Cópias do dataframe pré-processado"
      ],
      "metadata": {
        "id": "UJiDrsVv3kbQ"
      }
    },
    {
      "cell_type": "code",
      "source": [
        "df3 = df2.copy()\n",
        "df4 = df2.copy()\n",
        "df5 = df2.copy()"
      ],
      "metadata": {
        "id": "w7PRivjAH7qR"
      },
      "execution_count": null,
      "outputs": []
    },
    {
      "cell_type": "markdown",
      "metadata": {
        "id": "23FU6483k2TF"
      },
      "source": [
        "#Análise dos dados\n"
      ]
    },
    {
      "cell_type": "code",
      "execution_count": null,
      "metadata": {
        "colab": {
          "base_uri": "https://localhost:8080/"
        },
        "id": "ClnIXXWqnPD8",
        "outputId": "b0e8427d-0e95-494e-a82d-4eca3e536815"
      },
      "outputs": [
        {
          "output_type": "stream",
          "name": "stdout",
          "text": [
            "<class 'pandas.core.frame.DataFrame'>\n",
            "Int64Index: 8636 entries, 0 to 8949\n",
            "Data columns (total 11 columns):\n",
            " #   Column                  Non-Null Count  Dtype  \n",
            "---  ------                  --------------  -----  \n",
            " 0   BALANCE                 8636 non-null   float64\n",
            " 1   PURCHASES               8636 non-null   float64\n",
            " 2   ONEOFF_PURCHASES        8636 non-null   float64\n",
            " 3   INSTALLMENTS_PURCHASES  8636 non-null   float64\n",
            " 4   CASH_ADVANCE            8636 non-null   float64\n",
            " 5   CASH_ADVANCE_TRX        8636 non-null   float64\n",
            " 6   PURCHASES_TRX           8636 non-null   float64\n",
            " 7   CREDIT_LIMIT            8636 non-null   float64\n",
            " 8   PAYMENTS                8636 non-null   float64\n",
            " 9   MINIMUM_PAYMENTS        8636 non-null   float64\n",
            " 10  PRC_FULL_PAYMENT        8636 non-null   float64\n",
            "dtypes: float64(11)\n",
            "memory usage: 809.6 KB\n"
          ]
        }
      ],
      "source": [
        "#informações do dataset\n",
        "df3.info()"
      ]
    },
    {
      "cell_type": "markdown",
      "metadata": {
        "id": "ZbPCoB8B7rtr"
      },
      "source": [
        "#Clusterização por Particionamento"
      ]
    },
    {
      "cell_type": "code",
      "execution_count": null,
      "metadata": {
        "id": "5aD9xYuU7x4l",
        "colab": {
          "base_uri": "https://localhost:8080/"
        },
        "outputId": "3d75b4e2-cb10-44c5-fbed-ca0251d3c68b"
      },
      "outputs": [
        {
          "output_type": "stream",
          "name": "stderr",
          "text": [
            "/usr/local/lib/python3.8/dist-packages/sklearn/cluster/_kmeans.py:870: FutureWarning: The default value of `n_init` will change from 10 to 'auto' in 1.4. Set the value of `n_init` explicitly to suppress the warning\n",
            "  warnings.warn(\n"
          ]
        },
        {
          "output_type": "execute_result",
          "data": {
            "text/plain": [
              "KMeans(n_clusters=3)"
            ],
            "text/html": [
              "<style>#sk-container-id-26 {color: black;background-color: white;}#sk-container-id-26 pre{padding: 0;}#sk-container-id-26 div.sk-toggleable {background-color: white;}#sk-container-id-26 label.sk-toggleable__label {cursor: pointer;display: block;width: 100%;margin-bottom: 0;padding: 0.3em;box-sizing: border-box;text-align: center;}#sk-container-id-26 label.sk-toggleable__label-arrow:before {content: \"▸\";float: left;margin-right: 0.25em;color: #696969;}#sk-container-id-26 label.sk-toggleable__label-arrow:hover:before {color: black;}#sk-container-id-26 div.sk-estimator:hover label.sk-toggleable__label-arrow:before {color: black;}#sk-container-id-26 div.sk-toggleable__content {max-height: 0;max-width: 0;overflow: hidden;text-align: left;background-color: #f0f8ff;}#sk-container-id-26 div.sk-toggleable__content pre {margin: 0.2em;color: black;border-radius: 0.25em;background-color: #f0f8ff;}#sk-container-id-26 input.sk-toggleable__control:checked~div.sk-toggleable__content {max-height: 200px;max-width: 100%;overflow: auto;}#sk-container-id-26 input.sk-toggleable__control:checked~label.sk-toggleable__label-arrow:before {content: \"▾\";}#sk-container-id-26 div.sk-estimator input.sk-toggleable__control:checked~label.sk-toggleable__label {background-color: #d4ebff;}#sk-container-id-26 div.sk-label input.sk-toggleable__control:checked~label.sk-toggleable__label {background-color: #d4ebff;}#sk-container-id-26 input.sk-hidden--visually {border: 0;clip: rect(1px 1px 1px 1px);clip: rect(1px, 1px, 1px, 1px);height: 1px;margin: -1px;overflow: hidden;padding: 0;position: absolute;width: 1px;}#sk-container-id-26 div.sk-estimator {font-family: monospace;background-color: #f0f8ff;border: 1px dotted black;border-radius: 0.25em;box-sizing: border-box;margin-bottom: 0.5em;}#sk-container-id-26 div.sk-estimator:hover {background-color: #d4ebff;}#sk-container-id-26 div.sk-parallel-item::after {content: \"\";width: 100%;border-bottom: 1px solid gray;flex-grow: 1;}#sk-container-id-26 div.sk-label:hover label.sk-toggleable__label {background-color: #d4ebff;}#sk-container-id-26 div.sk-serial::before {content: \"\";position: absolute;border-left: 1px solid gray;box-sizing: border-box;top: 0;bottom: 0;left: 50%;z-index: 0;}#sk-container-id-26 div.sk-serial {display: flex;flex-direction: column;align-items: center;background-color: white;padding-right: 0.2em;padding-left: 0.2em;position: relative;}#sk-container-id-26 div.sk-item {position: relative;z-index: 1;}#sk-container-id-26 div.sk-parallel {display: flex;align-items: stretch;justify-content: center;background-color: white;position: relative;}#sk-container-id-26 div.sk-item::before, #sk-container-id-26 div.sk-parallel-item::before {content: \"\";position: absolute;border-left: 1px solid gray;box-sizing: border-box;top: 0;bottom: 0;left: 50%;z-index: -1;}#sk-container-id-26 div.sk-parallel-item {display: flex;flex-direction: column;z-index: 1;position: relative;background-color: white;}#sk-container-id-26 div.sk-parallel-item:first-child::after {align-self: flex-end;width: 50%;}#sk-container-id-26 div.sk-parallel-item:last-child::after {align-self: flex-start;width: 50%;}#sk-container-id-26 div.sk-parallel-item:only-child::after {width: 0;}#sk-container-id-26 div.sk-dashed-wrapped {border: 1px dashed gray;margin: 0 0.4em 0.5em 0.4em;box-sizing: border-box;padding-bottom: 0.4em;background-color: white;}#sk-container-id-26 div.sk-label label {font-family: monospace;font-weight: bold;display: inline-block;line-height: 1.2em;}#sk-container-id-26 div.sk-label-container {text-align: center;}#sk-container-id-26 div.sk-container {/* jupyter's `normalize.less` sets `[hidden] { display: none; }` but bootstrap.min.css set `[hidden] { display: none !important; }` so we also need the `!important` here to be able to override the default hidden behavior on the sphinx rendered scikit-learn.org. See: https://github.com/scikit-learn/scikit-learn/issues/21755 */display: inline-block !important;position: relative;}#sk-container-id-26 div.sk-text-repr-fallback {display: none;}</style><div id=\"sk-container-id-26\" class=\"sk-top-container\"><div class=\"sk-text-repr-fallback\"><pre>KMeans(n_clusters=3)</pre><b>In a Jupyter environment, please rerun this cell to show the HTML representation or trust the notebook. <br />On GitHub, the HTML representation is unable to render, please try loading this page with nbviewer.org.</b></div><div class=\"sk-container\" hidden><div class=\"sk-item\"><div class=\"sk-estimator sk-toggleable\"><input class=\"sk-toggleable__control sk-hidden--visually\" id=\"sk-estimator-id-26\" type=\"checkbox\" checked><label for=\"sk-estimator-id-26\" class=\"sk-toggleable__label sk-toggleable__label-arrow\">KMeans</label><div class=\"sk-toggleable__content\"><pre>KMeans(n_clusters=3)</pre></div></div></div></div></div>"
            ]
          },
          "metadata": {},
          "execution_count": 272
        }
      ],
      "source": [
        "from sklearn.cluster import KMeans\n",
        "\n",
        "modelo_kmeans = KMeans(n_clusters=3)\n",
        "modelo_kmeans.fit(df3)"
      ]
    },
    {
      "cell_type": "code",
      "source": [
        "modelo_kmeans.cluster_centers_"
      ],
      "metadata": {
        "colab": {
          "base_uri": "https://localhost:8080/"
        },
        "id": "DzRE7-EHTKGt",
        "outputId": "6a7df8ef-6086-4040-9f55-02557c157d81"
      },
      "execution_count": null,
      "outputs": [
        {
          "output_type": "execute_result",
          "data": {
            "text/plain": [
              "array([[8.81480399e+02, 6.22436620e+02, 3.23163177e+02, 2.99582954e+02,\n",
              "        5.02024330e+02, 2.29987294e+00, 1.09626747e+01, 2.76931760e+03,\n",
              "        1.03821911e+03, 5.73070513e+02, 1.64610694e-01],\n",
              "       [3.45950505e+03, 1.59957463e+03, 9.95575645e+02, 6.04322800e+02,\n",
              "        2.15068567e+03, 5.85391226e+00, 2.24337404e+01, 9.04866782e+03,\n",
              "        2.96161549e+03, 1.59656244e+03, 1.33819784e-01],\n",
              "       [4.87916214e+03, 1.08536936e+04, 7.65950163e+03, 3.19436248e+03,\n",
              "        5.19215982e+03, 9.27131783e+00, 8.68604651e+01, 1.24848837e+04,\n",
              "        1.80309572e+04, 2.52779839e+03, 3.37066930e-01]])"
            ]
          },
          "metadata": {},
          "execution_count": 273
        }
      ]
    },
    {
      "cell_type": "code",
      "source": [
        "modelo_kmeans.n_clusters"
      ],
      "metadata": {
        "id": "ZRlwkDz6U4m2",
        "colab": {
          "base_uri": "https://localhost:8080/"
        },
        "outputId": "e5279931-4566-43b0-a079-0ab157b09a0f"
      },
      "execution_count": null,
      "outputs": [
        {
          "output_type": "execute_result",
          "data": {
            "text/plain": [
              "3"
            ]
          },
          "metadata": {},
          "execution_count": 274
        }
      ]
    },
    {
      "cell_type": "code",
      "source": [
        "labels = modelo_kmeans.labels_\n",
        "labels "
      ],
      "metadata": {
        "id": "Y7KPokA6U9KP",
        "colab": {
          "base_uri": "https://localhost:8080/"
        },
        "outputId": "3f35961e-58f1-4e2a-9f27-5071dea50eb0"
      },
      "execution_count": null,
      "outputs": [
        {
          "output_type": "execute_result",
          "data": {
            "text/plain": [
              "array([0, 1, 1, ..., 0, 0, 0], dtype=int32)"
            ]
          },
          "metadata": {},
          "execution_count": 275
        }
      ]
    },
    {
      "cell_type": "code",
      "source": [
        "modelo_kmeans.n_iter_"
      ],
      "metadata": {
        "id": "50FeC-gfVXHX",
        "colab": {
          "base_uri": "https://localhost:8080/"
        },
        "outputId": "16141186-66c4-426c-9c71-d2f638ceaaf7"
      },
      "execution_count": null,
      "outputs": [
        {
          "output_type": "execute_result",
          "data": {
            "text/plain": [
              "14"
            ]
          },
          "metadata": {},
          "execution_count": 276
        }
      ]
    },
    {
      "cell_type": "code",
      "source": [
        "#quanto menor a inertia mais próximo os elementos estão dos seus centróides\n",
        "modelo_kmeans.inertia_"
      ],
      "metadata": {
        "id": "w3q33PgtVXLJ",
        "colab": {
          "base_uri": "https://localhost:8080/"
        },
        "outputId": "ad52faa0-77fb-4bfb-f08e-497f5984a556"
      },
      "execution_count": null,
      "outputs": [
        {
          "output_type": "execute_result",
          "data": {
            "text/plain": [
              "229256716542.1985"
            ]
          },
          "metadata": {},
          "execution_count": 277
        }
      ]
    },
    {
      "cell_type": "markdown",
      "source": [
        "##Parâmetros do K-means"
      ],
      "metadata": {
        "id": "TIEo9aqMYr2M"
      }
    },
    {
      "cell_type": "code",
      "source": [
        "modelo_kmeans = KMeans(\n",
        "    n_clusters=7, #quantidade de clusters\n",
        "    init=\"random\", #método de inicialização das sementes, random (aleatório), k-means ++ (default) escolhe os pontos iniciais baseado na distribuição dos dados\n",
        "    n_init=15, #default é 10 se o init for random, e 1 se o init for k-means ++, número de vezes que o algoritmo irá executar com diferentes centróides iniciais\n",
        "    max_iter=100, #quantidade máxima de iterações para determinar a parada do algoritmo, default=300\n",
        "    )\n",
        "modelo_kmeans.fit(df3)"
      ],
      "metadata": {
        "id": "h2AVcPH3YttK",
        "colab": {
          "base_uri": "https://localhost:8080/"
        },
        "outputId": "da3316a8-ce9a-43c2-adf9-31e31df28897"
      },
      "execution_count": null,
      "outputs": [
        {
          "output_type": "execute_result",
          "data": {
            "text/plain": [
              "KMeans(init='random', max_iter=100, n_clusters=7, n_init=15)"
            ],
            "text/html": [
              "<style>#sk-container-id-27 {color: black;background-color: white;}#sk-container-id-27 pre{padding: 0;}#sk-container-id-27 div.sk-toggleable {background-color: white;}#sk-container-id-27 label.sk-toggleable__label {cursor: pointer;display: block;width: 100%;margin-bottom: 0;padding: 0.3em;box-sizing: border-box;text-align: center;}#sk-container-id-27 label.sk-toggleable__label-arrow:before {content: \"▸\";float: left;margin-right: 0.25em;color: #696969;}#sk-container-id-27 label.sk-toggleable__label-arrow:hover:before {color: black;}#sk-container-id-27 div.sk-estimator:hover label.sk-toggleable__label-arrow:before {color: black;}#sk-container-id-27 div.sk-toggleable__content {max-height: 0;max-width: 0;overflow: hidden;text-align: left;background-color: #f0f8ff;}#sk-container-id-27 div.sk-toggleable__content pre {margin: 0.2em;color: black;border-radius: 0.25em;background-color: #f0f8ff;}#sk-container-id-27 input.sk-toggleable__control:checked~div.sk-toggleable__content {max-height: 200px;max-width: 100%;overflow: auto;}#sk-container-id-27 input.sk-toggleable__control:checked~label.sk-toggleable__label-arrow:before {content: \"▾\";}#sk-container-id-27 div.sk-estimator input.sk-toggleable__control:checked~label.sk-toggleable__label {background-color: #d4ebff;}#sk-container-id-27 div.sk-label input.sk-toggleable__control:checked~label.sk-toggleable__label {background-color: #d4ebff;}#sk-container-id-27 input.sk-hidden--visually {border: 0;clip: rect(1px 1px 1px 1px);clip: rect(1px, 1px, 1px, 1px);height: 1px;margin: -1px;overflow: hidden;padding: 0;position: absolute;width: 1px;}#sk-container-id-27 div.sk-estimator {font-family: monospace;background-color: #f0f8ff;border: 1px dotted black;border-radius: 0.25em;box-sizing: border-box;margin-bottom: 0.5em;}#sk-container-id-27 div.sk-estimator:hover {background-color: #d4ebff;}#sk-container-id-27 div.sk-parallel-item::after {content: \"\";width: 100%;border-bottom: 1px solid gray;flex-grow: 1;}#sk-container-id-27 div.sk-label:hover label.sk-toggleable__label {background-color: #d4ebff;}#sk-container-id-27 div.sk-serial::before {content: \"\";position: absolute;border-left: 1px solid gray;box-sizing: border-box;top: 0;bottom: 0;left: 50%;z-index: 0;}#sk-container-id-27 div.sk-serial {display: flex;flex-direction: column;align-items: center;background-color: white;padding-right: 0.2em;padding-left: 0.2em;position: relative;}#sk-container-id-27 div.sk-item {position: relative;z-index: 1;}#sk-container-id-27 div.sk-parallel {display: flex;align-items: stretch;justify-content: center;background-color: white;position: relative;}#sk-container-id-27 div.sk-item::before, #sk-container-id-27 div.sk-parallel-item::before {content: \"\";position: absolute;border-left: 1px solid gray;box-sizing: border-box;top: 0;bottom: 0;left: 50%;z-index: -1;}#sk-container-id-27 div.sk-parallel-item {display: flex;flex-direction: column;z-index: 1;position: relative;background-color: white;}#sk-container-id-27 div.sk-parallel-item:first-child::after {align-self: flex-end;width: 50%;}#sk-container-id-27 div.sk-parallel-item:last-child::after {align-self: flex-start;width: 50%;}#sk-container-id-27 div.sk-parallel-item:only-child::after {width: 0;}#sk-container-id-27 div.sk-dashed-wrapped {border: 1px dashed gray;margin: 0 0.4em 0.5em 0.4em;box-sizing: border-box;padding-bottom: 0.4em;background-color: white;}#sk-container-id-27 div.sk-label label {font-family: monospace;font-weight: bold;display: inline-block;line-height: 1.2em;}#sk-container-id-27 div.sk-label-container {text-align: center;}#sk-container-id-27 div.sk-container {/* jupyter's `normalize.less` sets `[hidden] { display: none; }` but bootstrap.min.css set `[hidden] { display: none !important; }` so we also need the `!important` here to be able to override the default hidden behavior on the sphinx rendered scikit-learn.org. See: https://github.com/scikit-learn/scikit-learn/issues/21755 */display: inline-block !important;position: relative;}#sk-container-id-27 div.sk-text-repr-fallback {display: none;}</style><div id=\"sk-container-id-27\" class=\"sk-top-container\"><div class=\"sk-text-repr-fallback\"><pre>KMeans(init=&#x27;random&#x27;, max_iter=100, n_clusters=7, n_init=15)</pre><b>In a Jupyter environment, please rerun this cell to show the HTML representation or trust the notebook. <br />On GitHub, the HTML representation is unable to render, please try loading this page with nbviewer.org.</b></div><div class=\"sk-container\" hidden><div class=\"sk-item\"><div class=\"sk-estimator sk-toggleable\"><input class=\"sk-toggleable__control sk-hidden--visually\" id=\"sk-estimator-id-27\" type=\"checkbox\" checked><label for=\"sk-estimator-id-27\" class=\"sk-toggleable__label sk-toggleable__label-arrow\">KMeans</label><div class=\"sk-toggleable__content\"><pre>KMeans(init=&#x27;random&#x27;, max_iter=100, n_clusters=7, n_init=15)</pre></div></div></div></div></div>"
            ]
          },
          "metadata": {},
          "execution_count": 278
        }
      ]
    },
    {
      "cell_type": "code",
      "source": [
        "modelo_kmeans.inertia_"
      ],
      "metadata": {
        "id": "QwCB4_f2aJSG",
        "colab": {
          "base_uri": "https://localhost:8080/"
        },
        "outputId": "058cf7ad-8e95-4288-af3e-9f709eab6a19"
      },
      "execution_count": null,
      "outputs": [
        {
          "output_type": "execute_result",
          "data": {
            "text/plain": [
              "142095768379.64767"
            ]
          },
          "metadata": {},
          "execution_count": 279
        }
      ]
    },
    {
      "cell_type": "code",
      "source": [
        "modelo_kmeans.n_iter_"
      ],
      "metadata": {
        "id": "wSGO9IPXaLhK",
        "colab": {
          "base_uri": "https://localhost:8080/"
        },
        "outputId": "585c66fa-c4e4-45fe-aac2-7b7e64d7f1b2"
      },
      "execution_count": null,
      "outputs": [
        {
          "output_type": "execute_result",
          "data": {
            "text/plain": [
              "81"
            ]
          },
          "metadata": {},
          "execution_count": 280
        }
      ]
    },
    {
      "cell_type": "markdown",
      "source": [
        "##Coeficiente de silhueta"
      ],
      "metadata": {
        "id": "jM9ph7I2X4YW"
      }
    },
    {
      "cell_type": "code",
      "source": [
        "from sklearn.metrics import silhouette_samples, silhouette_score\n",
        "\n",
        "for i in range(2, 11):\n",
        "    clusterer = KMeans(n_clusters=i)\n",
        "    preds = clusterer.fit_predict(df3)\n",
        "    score = silhouette_score(df3, preds)\n",
        "    print('Silhueta para ' + str(i) + ' clusters : ' + str(score))"
      ],
      "metadata": {
        "id": "tHpJJaJHX6Qw",
        "colab": {
          "base_uri": "https://localhost:8080/"
        },
        "outputId": "fe60d52e-e91b-47a3-c4e2-f670f5a7ad27"
      },
      "execution_count": null,
      "outputs": [
        {
          "output_type": "stream",
          "name": "stderr",
          "text": [
            "/usr/local/lib/python3.8/dist-packages/sklearn/cluster/_kmeans.py:870: FutureWarning: The default value of `n_init` will change from 10 to 'auto' in 1.4. Set the value of `n_init` explicitly to suppress the warning\n",
            "  warnings.warn(\n"
          ]
        },
        {
          "output_type": "stream",
          "name": "stdout",
          "text": [
            "Silhueta para 2 clusters : 0.5113077527732156\n"
          ]
        },
        {
          "output_type": "stream",
          "name": "stderr",
          "text": [
            "/usr/local/lib/python3.8/dist-packages/sklearn/cluster/_kmeans.py:870: FutureWarning: The default value of `n_init` will change from 10 to 'auto' in 1.4. Set the value of `n_init` explicitly to suppress the warning\n",
            "  warnings.warn(\n"
          ]
        },
        {
          "output_type": "stream",
          "name": "stdout",
          "text": [
            "Silhueta para 3 clusters : 0.46495929476786313\n"
          ]
        },
        {
          "output_type": "stream",
          "name": "stderr",
          "text": [
            "/usr/local/lib/python3.8/dist-packages/sklearn/cluster/_kmeans.py:870: FutureWarning: The default value of `n_init` will change from 10 to 'auto' in 1.4. Set the value of `n_init` explicitly to suppress the warning\n",
            "  warnings.warn(\n"
          ]
        },
        {
          "output_type": "stream",
          "name": "stdout",
          "text": [
            "Silhueta para 4 clusters : 0.38993846880743177\n"
          ]
        },
        {
          "output_type": "stream",
          "name": "stderr",
          "text": [
            "/usr/local/lib/python3.8/dist-packages/sklearn/cluster/_kmeans.py:870: FutureWarning: The default value of `n_init` will change from 10 to 'auto' in 1.4. Set the value of `n_init` explicitly to suppress the warning\n",
            "  warnings.warn(\n"
          ]
        },
        {
          "output_type": "stream",
          "name": "stdout",
          "text": [
            "Silhueta para 5 clusters : 0.4032348838688337\n"
          ]
        },
        {
          "output_type": "stream",
          "name": "stderr",
          "text": [
            "/usr/local/lib/python3.8/dist-packages/sklearn/cluster/_kmeans.py:870: FutureWarning: The default value of `n_init` will change from 10 to 'auto' in 1.4. Set the value of `n_init` explicitly to suppress the warning\n",
            "  warnings.warn(\n"
          ]
        },
        {
          "output_type": "stream",
          "name": "stdout",
          "text": [
            "Silhueta para 6 clusters : 0.394962586566262\n"
          ]
        },
        {
          "output_type": "stream",
          "name": "stderr",
          "text": [
            "/usr/local/lib/python3.8/dist-packages/sklearn/cluster/_kmeans.py:870: FutureWarning: The default value of `n_init` will change from 10 to 'auto' in 1.4. Set the value of `n_init` explicitly to suppress the warning\n",
            "  warnings.warn(\n"
          ]
        },
        {
          "output_type": "stream",
          "name": "stdout",
          "text": [
            "Silhueta para 7 clusters : 0.38400689405617394\n"
          ]
        },
        {
          "output_type": "stream",
          "name": "stderr",
          "text": [
            "/usr/local/lib/python3.8/dist-packages/sklearn/cluster/_kmeans.py:870: FutureWarning: The default value of `n_init` will change from 10 to 'auto' in 1.4. Set the value of `n_init` explicitly to suppress the warning\n",
            "  warnings.warn(\n"
          ]
        },
        {
          "output_type": "stream",
          "name": "stdout",
          "text": [
            "Silhueta para 8 clusters : 0.38302195402142647\n"
          ]
        },
        {
          "output_type": "stream",
          "name": "stderr",
          "text": [
            "/usr/local/lib/python3.8/dist-packages/sklearn/cluster/_kmeans.py:870: FutureWarning: The default value of `n_init` will change from 10 to 'auto' in 1.4. Set the value of `n_init` explicitly to suppress the warning\n",
            "  warnings.warn(\n"
          ]
        },
        {
          "output_type": "stream",
          "name": "stdout",
          "text": [
            "Silhueta para 9 clusters : 0.3528709966111633\n"
          ]
        },
        {
          "output_type": "stream",
          "name": "stderr",
          "text": [
            "/usr/local/lib/python3.8/dist-packages/sklearn/cluster/_kmeans.py:870: FutureWarning: The default value of `n_init` will change from 10 to 'auto' in 1.4. Set the value of `n_init` explicitly to suppress the warning\n",
            "  warnings.warn(\n"
          ]
        },
        {
          "output_type": "stream",
          "name": "stdout",
          "text": [
            "Silhueta para 10 clusters : 0.35782300105962433\n"
          ]
        }
      ]
    },
    {
      "cell_type": "markdown",
      "source": [
        "##Encontrar o melhor número de clusters"
      ],
      "metadata": {
        "id": "okteFXlOvOGr"
      }
    },
    {
      "cell_type": "code",
      "source": [
        "import matplotlib.pyplot as plt\n",
        "\n",
        "wcss = []\n",
        "\n",
        "for i in range(1, 11):\n",
        "    kmeans = KMeans(n_clusters = i, max_iter = 300, n_init = 10, random_state = 0)\n",
        "    kmeans.fit(df3)\n",
        "    wcss.append(kmeans.inertia_)\n",
        "    \n",
        "# Mostra o Gráfico\n",
        "plt.plot(range(1, 11), wcss)\n",
        "plt.title('Curva de Cotovelo')\n",
        "plt.xlabel('Numero de Clusters')\n",
        "plt.ylabel('WCSS') #within cluster sum of squares\n",
        "plt.show()"
      ],
      "metadata": {
        "id": "c4OkAxBFW-od",
        "colab": {
          "base_uri": "https://localhost:8080/"
        },
        "outputId": "36b186e0-eaaf-4368-b1bd-aa1f966638e5"
      },
      "execution_count": null,
      "outputs": [
        {
          "output_type": "display_data",
          "data": {
            "text/plain": [
              "<Figure size 1440x432 with 1 Axes>"
            ],
            "image/png": "[encoded data removed]"
          },
          "metadata": {
            "needs_background": "light"
          }
        }
      ]
    },
    {
      "cell_type": "markdown",
      "source": [
        "##Atribuição dos dados"
      ],
      "metadata": {
        "id": "JGGh363tfv-s"
      }
    },
    {
      "cell_type": "code",
      "execution_count": null,
      "metadata": {
        "id": "4TnZuxDQ73NT",
        "colab": {
          "base_uri": "https://localhost:8080/"
        },
        "outputId": "1ff05abe-8668-4692-d4f4-ead23e99ca0a"
      },
      "outputs": [
        {
          "output_type": "execute_result",
          "data": {
            "text/plain": [
              "          BALANCE  PURCHASES  ONEOFF_PURCHASES  INSTALLMENTS_PURCHASES  \\\n",
              "0       40.900749      95.40              0.00                   95.40   \n",
              "1     3202.467416       0.00              0.00                    0.00   \n",
              "2     2495.148862     773.17            773.17                    0.00   \n",
              "4      817.714335      16.00             16.00                    0.00   \n",
              "5     1809.828751    1333.28              0.00                 1333.28   \n",
              "...           ...        ...               ...                     ...   \n",
              "8943     5.871712      20.90             20.90                    0.00   \n",
              "8945    28.493517     291.12              0.00                  291.12   \n",
              "8947    23.398673     144.40              0.00                  144.40   \n",
              "8948    13.457564       0.00              0.00                    0.00   \n",
              "8949   372.708075    1093.25           1093.25                    0.00   \n",
              "\n",
              "      CASH_ADVANCE  CASH_ADVANCE_TRX  PURCHASES_TRX  CREDIT_LIMIT  \\\n",
              "0         0.000000               0.0            2.0        1000.0   \n",
              "1      6442.945483               4.0            0.0        7000.0   \n",
              "2         0.000000               0.0           12.0        7500.0   \n",
              "4         0.000000               0.0            1.0        1200.0   \n",
              "5         0.000000               0.0            8.0        1800.0   \n",
              "...            ...               ...            ...           ...   \n",
              "8943      0.000000               0.0            1.0         500.0   \n",
              "8945      0.000000               0.0            6.0        1000.0   \n",
              "8947      0.000000               0.0            5.0        1000.0   \n",
              "8948     36.558778               2.0            0.0         500.0   \n",
              "8949    127.040008               2.0           23.0        1200.0   \n",
              "\n",
              "         PAYMENTS  MINIMUM_PAYMENTS  PRC_FULL_PAYMENT  Cluster  \n",
              "0      201.802084        139.509787          0.000000        0  \n",
              "1     4103.032597       1072.340217          0.222222        1  \n",
              "2      622.066742        627.284787          0.000000        1  \n",
              "4      678.334763        244.791237          0.000000        0  \n",
              "5     1400.057770       2407.246035          0.000000        0  \n",
              "...           ...               ...               ...      ...  \n",
              "8943    58.644883         43.473717          0.000000        0  \n",
              "8945   325.594462         48.886365          0.500000        0  \n",
              "8947    81.270775         82.418369          0.250000        0  \n",
              "8948    52.549959         55.755628          0.250000        0  \n",
              "8949    63.165404         88.288956          0.000000        0  \n",
              "\n",
              "[8636 rows x 12 columns]"
            ],
            "text/html": [
              "\n",
              "  <div id=\"df-a68348e4-8f49-4106-9e39-afcf92a91596\">\n",
              "    <div class=\"colab-df-container\">\n",
              "      <div>\n",
              "<style scoped>\n",
              "    .dataframe tbody tr th:only-of-type {\n",
              "        vertical-align: middle;\n",
              "    }\n",
              "\n",
              "    .dataframe tbody tr th {\n",
              "        vertical-align: top;\n",
              "    }\n",
              "\n",
              "    .dataframe thead th {\n",
              "        text-align: right;\n",
              "    }\n",
              "</style>\n",
              "<table border=\"1\" class=\"dataframe\">\n",
              "  <thead>\n",
              "    <tr style=\"text-align: right;\">\n",
              "      <th></th>\n",
              "      <th>BALANCE</th>\n",
              "      <th>PURCHASES</th>\n",
              "      <th>ONEOFF_PURCHASES</th>\n",
              "      <th>INSTALLMENTS_PURCHASES</th>\n",
              "      <th>CASH_ADVANCE</th>\n",
              "      <th>CASH_ADVANCE_TRX</th>\n",
              "      <th>PURCHASES_TRX</th>\n",
              "      <th>CREDIT_LIMIT</th>\n",
              "      <th>PAYMENTS</th>\n",
              "      <th>MINIMUM_PAYMENTS</th>\n",
              "      <th>PRC_FULL_PAYMENT</th>\n",
              "      <th>Cluster</th>\n",
              "    </tr>\n",
              "  </thead>\n",
              "  <tbody>\n",
              "    <tr>\n",
              "      <th>0</th>\n",
              "      <td>40.900749</td>\n",
              "      <td>95.40</td>\n",
              "      <td>0.00</td>\n",
              "      <td>95.40</td>\n",
              "      <td>0.000000</td>\n",
              "      <td>0.0</td>\n",
              "      <td>2.0</td>\n",
              "      <td>1000.0</td>\n",
              "      <td>201.802084</td>\n",
              "      <td>139.509787</td>\n",
              "      <td>0.000000</td>\n",
              "      <td>0</td>\n",
              "    </tr>\n",
              "    <tr>\n",
              "      <th>1</th>\n",
              "      <td>3202.467416</td>\n",
              "      <td>0.00</td>\n",
              "      <td>0.00</td>\n",
              "      <td>0.00</td>\n",
              "      <td>6442.945483</td>\n",
              "      <td>4.0</td>\n",
              "      <td>0.0</td>\n",
              "      <td>7000.0</td>\n",
              "      <td>4103.032597</td>\n",
              "      <td>1072.340217</td>\n",
              "      <td>0.222222</td>\n",
              "      <td>1</td>\n",
              "    </tr>\n",
              "    <tr>\n",
              "      <th>2</th>\n",
              "      <td>2495.148862</td>\n",
              "      <td>773.17</td>\n",
              "      <td>773.17</td>\n",
              "      <td>0.00</td>\n",
              "      <td>0.000000</td>\n",
              "      <td>0.0</td>\n",
              "      <td>12.0</td>\n",
              "      <td>7500.0</td>\n",
              "      <td>622.066742</td>\n",
              "      <td>627.284787</td>\n",
              "      <td>0.000000</td>\n",
              "      <td>1</td>\n",
              "    </tr>\n",
              "    <tr>\n",
              "      <th>4</th>\n",
              "      <td>817.714335</td>\n",
              "      <td>16.00</td>\n",
              "      <td>16.00</td>\n",
              "      <td>0.00</td>\n",
              "      <td>0.000000</td>\n",
              "      <td>0.0</td>\n",
              "      <td>1.0</td>\n",
              "      <td>1200.0</td>\n",
              "      <td>678.334763</td>\n",
              "      <td>244.791237</td>\n",
              "      <td>0.000000</td>\n",
              "      <td>0</td>\n",
              "    </tr>\n",
              "    <tr>\n",
              "      <th>5</th>\n",
              "      <td>1809.828751</td>\n",
              "      <td>1333.28</td>\n",
              "      <td>0.00</td>\n",
              "      <td>1333.28</td>\n",
              "      <td>0.000000</td>\n",
              "      <td>0.0</td>\n",
              "      <td>8.0</td>\n",
              "      <td>1800.0</td>\n",
              "      <td>1400.057770</td>\n",
              "      <td>2407.246035</td>\n",
              "      <td>0.000000</td>\n",
              "      <td>0</td>\n",
              "    </tr>\n",
              "    <tr>\n",
              "      <th>...</th>\n",
              "      <td>...</td>\n",
              "      <td>...</td>\n",
              "      <td>...</td>\n",
              "      <td>...</td>\n",
              "      <td>...</td>\n",
              "      <td>...</td>\n",
              "      <td>...</td>\n",
              "      <td>...</td>\n",
              "      <td>...</td>\n",
              "      <td>...</td>\n",
              "      <td>...</td>\n",
              "      <td>...</td>\n",
              "    </tr>\n",
              "    <tr>\n",
              "      <th>8943</th>\n",
              "      <td>5.871712</td>\n",
              "      <td>20.90</td>\n",
              "      <td>20.90</td>\n",
              "      <td>0.00</td>\n",
              "      <td>0.000000</td>\n",
              "      <td>0.0</td>\n",
              "      <td>1.0</td>\n",
              "      <td>500.0</td>\n",
              "      <td>58.644883</td>\n",
              "      <td>43.473717</td>\n",
              "      <td>0.000000</td>\n",
              "      <td>0</td>\n",
              "    </tr>\n",
              "    <tr>\n",
              "      <th>8945</th>\n",
              "      <td>28.493517</td>\n",
              "      <td>291.12</td>\n",
              "      <td>0.00</td>\n",
              "      <td>291.12</td>\n",
              "      <td>0.000000</td>\n",
              "      <td>0.0</td>\n",
              "      <td>6.0</td>\n",
              "      <td>1000.0</td>\n",
              "      <td>325.594462</td>\n",
              "      <td>48.886365</td>\n",
              "      <td>0.500000</td>\n",
              "      <td>0</td>\n",
              "    </tr>\n",
              "    <tr>\n",
              "      <th>8947</th>\n",
              "      <td>23.398673</td>\n",
              "      <td>144.40</td>\n",
              "      <td>0.00</td>\n",
              "      <td>144.40</td>\n",
              "      <td>0.000000</td>\n",
              "      <td>0.0</td>\n",
              "      <td>5.0</td>\n",
              "      <td>1000.0</td>\n",
              "      <td>81.270775</td>\n",
              "      <td>82.418369</td>\n",
              "      <td>0.250000</td>\n",
              "      <td>0</td>\n",
              "    </tr>\n",
              "    <tr>\n",
              "      <th>8948</th>\n",
              "      <td>13.457564</td>\n",
              "      <td>0.00</td>\n",
              "      <td>0.00</td>\n",
              "      <td>0.00</td>\n",
              "      <td>36.558778</td>\n",
              "      <td>2.0</td>\n",
              "      <td>0.0</td>\n",
              "      <td>500.0</td>\n",
              "      <td>52.549959</td>\n",
              "      <td>55.755628</td>\n",
              "      <td>0.250000</td>\n",
              "      <td>0</td>\n",
              "    </tr>\n",
              "    <tr>\n",
              "      <th>8949</th>\n",
              "      <td>372.708075</td>\n",
              "      <td>1093.25</td>\n",
              "      <td>1093.25</td>\n",
              "      <td>0.00</td>\n",
              "      <td>127.040008</td>\n",
              "      <td>2.0</td>\n",
              "      <td>23.0</td>\n",
              "      <td>1200.0</td>\n",
              "      <td>63.165404</td>\n",
              "      <td>88.288956</td>\n",
              "      <td>0.000000</td>\n",
              "      <td>0</td>\n",
              "    </tr>\n",
              "  </tbody>\n",
              "</table>\n",
              "<p>8636 rows × 12 columns</p>\n",
              "</div>\n",
              "      <button class=\"colab-df-convert\" onclick=\"convertToInteractive('df-a68348e4-8f49-4106-9e39-afcf92a91596')\"\n",
              "              title=\"Convert this dataframe to an interactive table.\"\n",
              "              style=\"display:none;\">\n",
              "        \n",
              "  <svg xmlns=\"http://www.w3.org/2000/svg\" height=\"24px\"viewBox=\"0 0 24 24\"\n",
              "       width=\"24px\">\n",
              "    <path d=\"M0 0h24v24H0V0z\" fill=\"none\"/>\n",
              "    <path d=\"M18.56 5.44l.94 2.06.94-2.06 2.06-.94-2.06-.94-.94-2.06-.94 2.06-2.06.94zm-11 1L8.5 8.5l.94-2.06 2.06-.94-2.06-.94L8.5 2.5l-.94 2.06-2.06.94zm10 10l.94 2.06.94-2.06 2.06-.94-2.06-.94-.94-2.06-.94 2.06-2.06.94z\"/><path d=\"M17.41 7.96l-1.37-1.37c-.4-.4-.92-.59-1.43-.59-.52 0-1.04.2-1.43.59L10.3 9.45l-7.72 7.72c-.78.78-.78 2.05 0 2.83L4 21.41c.39.39.9.59 1.41.59.51 0 1.02-.2 1.41-.59l7.78-7.78 2.81-2.81c.8-.78.8-2.07 0-2.86zM5.41 20L4 18.59l7.72-7.72 1.47 1.35L5.41 20z\"/>\n",
              "  </svg>\n",
              "      </button>\n",
              "      \n",
              "  <style>\n",
              "    .colab-df-container {\n",
              "      display:flex;\n",
              "      flex-wrap:wrap;\n",
              "      gap: 12px;\n",
              "    }\n",
              "\n",
              "    .colab-df-convert {\n",
              "      background-color: #E8F0FE;\n",
              "      border: none;\n",
              "      border-radius: 50%;\n",
              "      cursor: pointer;\n",
              "      display: none;\n",
              "      fill: #1967D2;\n",
              "      height: 32px;\n",
              "      padding: 0 0 0 0;\n",
              "      width: 32px;\n",
              "    }\n",
              "\n",
              "    .colab-df-convert:hover {\n",
              "      background-color: #E2EBFA;\n",
              "      box-shadow: 0px 1px 2px rgba(60, 64, 67, 0.3), 0px 1px 3px 1px rgba(60, 64, 67, 0.15);\n",
              "      fill: #174EA6;\n",
              "    }\n",
              "\n",
              "    [theme=dark] .colab-df-convert {\n",
              "      background-color: #3B4455;\n",
              "      fill: #D2E3FC;\n",
              "    }\n",
              "\n",
              "    [theme=dark] .colab-df-convert:hover {\n",
              "      background-color: #434B5C;\n",
              "      box-shadow: 0px 1px 3px 1px rgba(0, 0, 0, 0.15);\n",
              "      filter: drop-shadow(0px 1px 2px rgba(0, 0, 0, 0.3));\n",
              "      fill: #FFFFFF;\n",
              "    }\n",
              "  </style>\n",
              "\n",
              "      <script>\n",
              "        const buttonEl =\n",
              "          document.querySelector('#df-a68348e4-8f49-4106-9e39-afcf92a91596 button.colab-df-convert');\n",
              "        buttonEl.style.display =\n",
              "          google.colab.kernel.accessAllowed ? 'block' : 'none';\n",
              "\n",
              "        async function convertToInteractive(key) {\n",
              "          const element = document.querySelector('#df-a68348e4-8f49-4106-9e39-afcf92a91596');\n",
              "          const dataTable =\n",
              "            await google.colab.kernel.invokeFunction('convertToInteractive',\n",
              "                                                     [key], {});\n",
              "          if (!dataTable) return;\n",
              "\n",
              "          const docLinkHtml = 'Like what you see? Visit the ' +\n",
              "            '<a target=\"_blank\" href=https://colab.research.google.com/notebooks/data_table.ipynb>data table notebook</a>'\n",
              "            + ' to learn more about interactive tables.';\n",
              "          element.innerHTML = '';\n",
              "          dataTable['output_type'] = 'display_data';\n",
              "          await google.colab.output.renderOutput(dataTable, element);\n",
              "          const docLink = document.createElement('div');\n",
              "          docLink.innerHTML = docLinkHtml;\n",
              "          element.appendChild(docLink);\n",
              "        }\n",
              "      </script>\n",
              "    </div>\n",
              "  </div>\n",
              "  "
            ]
          },
          "metadata": {},
          "execution_count": 283
        }
      ],
      "source": [
        "#colocar os resultados junto aos dados originais\n",
        "df3['Cluster'] = labels\n",
        "df3"
      ]
    },
    {
      "cell_type": "code",
      "execution_count": null,
      "metadata": {
        "id": "cu0InHY677cs",
        "colab": {
          "base_uri": "https://localhost:8080/"
        },
        "outputId": "6b2c080f-b04e-41d6-bc80-85e40b6ee53a"
      },
      "outputs": [
        {
          "output_type": "execute_result",
          "data": {
            "text/plain": [
              "          BALANCE  PURCHASES  ONEOFF_PURCHASES  INSTALLMENTS_PURCHASES  \\\n",
              "1     3202.467416       0.00              0.00                    0.00   \n",
              "2     2495.148862     773.17            773.17                    0.00   \n",
              "6      627.260806    7091.01           6402.63                  688.38   \n",
              "9      152.225975    1281.60           1281.60                    0.00   \n",
              "13     921.693369    2137.93            419.96                 1717.97   \n",
              "...           ...        ...               ...                     ...   \n",
              "8769   116.581583    1045.14            227.14                  818.00   \n",
              "8774  2585.246439     338.00              0.00                  338.00   \n",
              "8813  3335.053583       0.00              0.00                    0.00   \n",
              "8857  2330.222764    1320.00              0.00                 1320.00   \n",
              "8941  5967.475270     214.55              0.00                  214.55   \n",
              "\n",
              "      CASH_ADVANCE  CASH_ADVANCE_TRX  PURCHASES_TRX  CREDIT_LIMIT  \\\n",
              "1      6442.945483               4.0            0.0        7000.0   \n",
              "2         0.000000               0.0           12.0        7500.0   \n",
              "6         0.000000               0.0           64.0       13500.0   \n",
              "9         0.000000               0.0            3.0       11000.0   \n",
              "13        0.000000               0.0           26.0        7500.0   \n",
              "...            ...               ...            ...           ...   \n",
              "8769      0.000000               0.0           17.0        9000.0   \n",
              "8774      0.000000               0.0            6.0        9000.0   \n",
              "8813   5823.467109               3.0            0.0        7000.0   \n",
              "8857  14926.790590              10.0            3.0       10000.0   \n",
              "8941   8555.409326              13.0            5.0        9000.0   \n",
              "\n",
              "         PAYMENTS  MINIMUM_PAYMENTS  PRC_FULL_PAYMENT  Cluster  \n",
              "1     4103.032597       1072.340217          0.222222        1  \n",
              "2      622.066742        627.284787          0.000000        1  \n",
              "6     6354.314328        198.065894          1.000000        1  \n",
              "9     1164.770591        100.302262          0.000000        1  \n",
              "13    1655.891435        251.137986          0.083333        1  \n",
              "...           ...               ...               ...      ...  \n",
              "8769  1258.396242        144.115556          0.333333        1  \n",
              "8774   866.276894        776.501849          0.000000        1  \n",
              "8813   931.371718       1006.983314          0.000000        1  \n",
              "8857  8157.666434        283.362434          0.200000        1  \n",
              "8941   966.202912        861.949906          0.000000        1  \n",
              "\n",
              "[2211 rows x 12 columns]"
            ],
            "text/html": [
              "\n",
              "  <div id=\"df-391dd181-5800-4948-b20b-ab95e2c45f0f\">\n",
              "    <div class=\"colab-df-container\">\n",
              "      <div>\n",
              "<style scoped>\n",
              "    .dataframe tbody tr th:only-of-type {\n",
              "        vertical-align: middle;\n",
              "    }\n",
              "\n",
              "    .dataframe tbody tr th {\n",
              "        vertical-align: top;\n",
              "    }\n",
              "\n",
              "    .dataframe thead th {\n",
              "        text-align: right;\n",
              "    }\n",
              "</style>\n",
              "<table border=\"1\" class=\"dataframe\">\n",
              "  <thead>\n",
              "    <tr style=\"text-align: right;\">\n",
              "      <th></th>\n",
              "      <th>BALANCE</th>\n",
              "      <th>PURCHASES</th>\n",
              "      <th>ONEOFF_PURCHASES</th>\n",
              "      <th>INSTALLMENTS_PURCHASES</th>\n",
              "      <th>CASH_ADVANCE</th>\n",
              "      <th>CASH_ADVANCE_TRX</th>\n",
              "      <th>PURCHASES_TRX</th>\n",
              "      <th>CREDIT_LIMIT</th>\n",
              "      <th>PAYMENTS</th>\n",
              "      <th>MINIMUM_PAYMENTS</th>\n",
              "      <th>PRC_FULL_PAYMENT</th>\n",
              "      <th>Cluster</th>\n",
              "    </tr>\n",
              "  </thead>\n",
              "  <tbody>\n",
              "    <tr>\n",
              "      <th>1</th>\n",
              "      <td>3202.467416</td>\n",
              "      <td>0.00</td>\n",
              "      <td>0.00</td>\n",
              "      <td>0.00</td>\n",
              "      <td>6442.945483</td>\n",
              "      <td>4.0</td>\n",
              "      <td>0.0</td>\n",
              "      <td>7000.0</td>\n",
              "      <td>4103.032597</td>\n",
              "      <td>1072.340217</td>\n",
              "      <td>0.222222</td>\n",
              "      <td>1</td>\n",
              "    </tr>\n",
              "    <tr>\n",
              "      <th>2</th>\n",
              "      <td>2495.148862</td>\n",
              "      <td>773.17</td>\n",
              "      <td>773.17</td>\n",
              "      <td>0.00</td>\n",
              "      <td>0.000000</td>\n",
              "      <td>0.0</td>\n",
              "      <td>12.0</td>\n",
              "      <td>7500.0</td>\n",
              "      <td>622.066742</td>\n",
              "      <td>627.284787</td>\n",
              "      <td>0.000000</td>\n",
              "      <td>1</td>\n",
              "    </tr>\n",
              "    <tr>\n",
              "      <th>6</th>\n",
              "      <td>627.260806</td>\n",
              "      <td>7091.01</td>\n",
              "      <td>6402.63</td>\n",
              "      <td>688.38</td>\n",
              "      <td>0.000000</td>\n",
              "      <td>0.0</td>\n",
              "      <td>64.0</td>\n",
              "      <td>13500.0</td>\n",
              "      <td>6354.314328</td>\n",
              "      <td>198.065894</td>\n",
              "      <td>1.000000</td>\n",
              "      <td>1</td>\n",
              "    </tr>\n",
              "    <tr>\n",
              "      <th>9</th>\n",
              "      <td>152.225975</td>\n",
              "      <td>1281.60</td>\n",
              "      <td>1281.60</td>\n",
              "      <td>0.00</td>\n",
              "      <td>0.000000</td>\n",
              "      <td>0.0</td>\n",
              "      <td>3.0</td>\n",
              "      <td>11000.0</td>\n",
              "      <td>1164.770591</td>\n",
              "      <td>100.302262</td>\n",
              "      <td>0.000000</td>\n",
              "      <td>1</td>\n",
              "    </tr>\n",
              "    <tr>\n",
              "      <th>13</th>\n",
              "      <td>921.693369</td>\n",
              "      <td>2137.93</td>\n",
              "      <td>419.96</td>\n",
              "      <td>1717.97</td>\n",
              "      <td>0.000000</td>\n",
              "      <td>0.0</td>\n",
              "      <td>26.0</td>\n",
              "      <td>7500.0</td>\n",
              "      <td>1655.891435</td>\n",
              "      <td>251.137986</td>\n",
              "      <td>0.083333</td>\n",
              "      <td>1</td>\n",
              "    </tr>\n",
              "    <tr>\n",
              "      <th>...</th>\n",
              "      <td>...</td>\n",
              "      <td>...</td>\n",
              "      <td>...</td>\n",
              "      <td>...</td>\n",
              "      <td>...</td>\n",
              "      <td>...</td>\n",
              "      <td>...</td>\n",
              "      <td>...</td>\n",
              "      <td>...</td>\n",
              "      <td>...</td>\n",
              "      <td>...</td>\n",
              "      <td>...</td>\n",
              "    </tr>\n",
              "    <tr>\n",
              "      <th>8769</th>\n",
              "      <td>116.581583</td>\n",
              "      <td>1045.14</td>\n",
              "      <td>227.14</td>\n",
              "      <td>818.00</td>\n",
              "      <td>0.000000</td>\n",
              "      <td>0.0</td>\n",
              "      <td>17.0</td>\n",
              "      <td>9000.0</td>\n",
              "      <td>1258.396242</td>\n",
              "      <td>144.115556</td>\n",
              "      <td>0.333333</td>\n",
              "      <td>1</td>\n",
              "    </tr>\n",
              "    <tr>\n",
              "      <th>8774</th>\n",
              "      <td>2585.246439</td>\n",
              "      <td>338.00</td>\n",
              "      <td>0.00</td>\n",
              "      <td>338.00</td>\n",
              "      <td>0.000000</td>\n",
              "      <td>0.0</td>\n",
              "      <td>6.0</td>\n",
              "      <td>9000.0</td>\n",
              "      <td>866.276894</td>\n",
              "      <td>776.501849</td>\n",
              "      <td>0.000000</td>\n",
              "      <td>1</td>\n",
              "    </tr>\n",
              "    <tr>\n",
              "      <th>8813</th>\n",
              "      <td>3335.053583</td>\n",
              "      <td>0.00</td>\n",
              "      <td>0.00</td>\n",
              "      <td>0.00</td>\n",
              "      <td>5823.467109</td>\n",
              "      <td>3.0</td>\n",
              "      <td>0.0</td>\n",
              "      <td>7000.0</td>\n",
              "      <td>931.371718</td>\n",
              "      <td>1006.983314</td>\n",
              "      <td>0.000000</td>\n",
              "      <td>1</td>\n",
              "    </tr>\n",
              "    <tr>\n",
              "      <th>8857</th>\n",
              "      <td>2330.222764</td>\n",
              "      <td>1320.00</td>\n",
              "      <td>0.00</td>\n",
              "      <td>1320.00</td>\n",
              "      <td>14926.790590</td>\n",
              "      <td>10.0</td>\n",
              "      <td>3.0</td>\n",
              "      <td>10000.0</td>\n",
              "      <td>8157.666434</td>\n",
              "      <td>283.362434</td>\n",
              "      <td>0.200000</td>\n",
              "      <td>1</td>\n",
              "    </tr>\n",
              "    <tr>\n",
              "      <th>8941</th>\n",
              "      <td>5967.475270</td>\n",
              "      <td>214.55</td>\n",
              "      <td>0.00</td>\n",
              "      <td>214.55</td>\n",
              "      <td>8555.409326</td>\n",
              "      <td>13.0</td>\n",
              "      <td>5.0</td>\n",
              "      <td>9000.0</td>\n",
              "      <td>966.202912</td>\n",
              "      <td>861.949906</td>\n",
              "      <td>0.000000</td>\n",
              "      <td>1</td>\n",
              "    </tr>\n",
              "  </tbody>\n",
              "</table>\n",
              "<p>2211 rows × 12 columns</p>\n",
              "</div>\n",
              "      <button class=\"colab-df-convert\" onclick=\"convertToInteractive('df-391dd181-5800-4948-b20b-ab95e2c45f0f')\"\n",
              "              title=\"Convert this dataframe to an interactive table.\"\n",
              "              style=\"display:none;\">\n",
              "        \n",
              "  <svg xmlns=\"http://www.w3.org/2000/svg\" height=\"24px\"viewBox=\"0 0 24 24\"\n",
              "       width=\"24px\">\n",
              "    <path d=\"M0 0h24v24H0V0z\" fill=\"none\"/>\n",
              "    <path d=\"M18.56 5.44l.94 2.06.94-2.06 2.06-.94-2.06-.94-.94-2.06-.94 2.06-2.06.94zm-11 1L8.5 8.5l.94-2.06 2.06-.94-2.06-.94L8.5 2.5l-.94 2.06-2.06.94zm10 10l.94 2.06.94-2.06 2.06-.94-2.06-.94-.94-2.06-.94 2.06-2.06.94z\"/><path d=\"M17.41 7.96l-1.37-1.37c-.4-.4-.92-.59-1.43-.59-.52 0-1.04.2-1.43.59L10.3 9.45l-7.72 7.72c-.78.78-.78 2.05 0 2.83L4 21.41c.39.39.9.59 1.41.59.51 0 1.02-.2 1.41-.59l7.78-7.78 2.81-2.81c.8-.78.8-2.07 0-2.86zM5.41 20L4 18.59l7.72-7.72 1.47 1.35L5.41 20z\"/>\n",
              "  </svg>\n",
              "      </button>\n",
              "      \n",
              "  <style>\n",
              "    .colab-df-container {\n",
              "      display:flex;\n",
              "      flex-wrap:wrap;\n",
              "      gap: 12px;\n",
              "    }\n",
              "\n",
              "    .colab-df-convert {\n",
              "      background-color: #E8F0FE;\n",
              "      border: none;\n",
              "      border-radius: 50%;\n",
              "      cursor: pointer;\n",
              "      display: none;\n",
              "      fill: #1967D2;\n",
              "      height: 32px;\n",
              "      padding: 0 0 0 0;\n",
              "      width: 32px;\n",
              "    }\n",
              "\n",
              "    .colab-df-convert:hover {\n",
              "      background-color: #E2EBFA;\n",
              "      box-shadow: 0px 1px 2px rgba(60, 64, 67, 0.3), 0px 1px 3px 1px rgba(60, 64, 67, 0.15);\n",
              "      fill: #174EA6;\n",
              "    }\n",
              "\n",
              "    [theme=dark] .colab-df-convert {\n",
              "      background-color: #3B4455;\n",
              "      fill: #D2E3FC;\n",
              "    }\n",
              "\n",
              "    [theme=dark] .colab-df-convert:hover {\n",
              "      background-color: #434B5C;\n",
              "      box-shadow: 0px 1px 3px 1px rgba(0, 0, 0, 0.15);\n",
              "      filter: drop-shadow(0px 1px 2px rgba(0, 0, 0, 0.3));\n",
              "      fill: #FFFFFF;\n",
              "    }\n",
              "  </style>\n",
              "\n",
              "      <script>\n",
              "        const buttonEl =\n",
              "          document.querySelector('#df-391dd181-5800-4948-b20b-ab95e2c45f0f button.colab-df-convert');\n",
              "        buttonEl.style.display =\n",
              "          google.colab.kernel.accessAllowed ? 'block' : 'none';\n",
              "\n",
              "        async function convertToInteractive(key) {\n",
              "          const element = document.querySelector('#df-391dd181-5800-4948-b20b-ab95e2c45f0f');\n",
              "          const dataTable =\n",
              "            await google.colab.kernel.invokeFunction('convertToInteractive',\n",
              "                                                     [key], {});\n",
              "          if (!dataTable) return;\n",
              "\n",
              "          const docLinkHtml = 'Like what you see? Visit the ' +\n",
              "            '<a target=\"_blank\" href=https://colab.research.google.com/notebooks/data_table.ipynb>data table notebook</a>'\n",
              "            + ' to learn more about interactive tables.';\n",
              "          element.innerHTML = '';\n",
              "          dataTable['output_type'] = 'display_data';\n",
              "          await google.colab.output.renderOutput(dataTable, element);\n",
              "          const docLink = document.createElement('div');\n",
              "          docLink.innerHTML = docLinkHtml;\n",
              "          element.appendChild(docLink);\n",
              "        }\n",
              "      </script>\n",
              "    </div>\n",
              "  </div>\n",
              "  "
            ]
          },
          "metadata": {},
          "execution_count": 284
        }
      ],
      "source": [
        "#mostrar todos os registros de determinado cluster\n",
        "df3[df3['Cluster'] == 1]\n"
      ]
    },
    {
      "cell_type": "code",
      "execution_count": null,
      "metadata": {
        "id": "fDKRO88s791q",
        "colab": {
          "base_uri": "https://localhost:8080/"
        },
        "outputId": "9e47ab98-88ab-463f-b14b-e12b9e4b4ff4"
      },
      "outputs": [
        {
          "output_type": "execute_result",
          "data": {
            "text/plain": [
              "0    6296\n",
              "1    2211\n",
              "2     129\n",
              "Name: Cluster, dtype: int64"
            ]
          },
          "metadata": {},
          "execution_count": 285
        }
      ],
      "source": [
        "#quantidade de elementos por cluster\n",
        "df3.Cluster.value_counts()"
      ]
    },
    {
      "cell_type": "markdown",
      "metadata": {
        "id": "hr3BB7GxdEXi"
      },
      "source": [
        "#Clusterização Hierárquica"
      ]
    },
    {
      "cell_type": "code",
      "source": [
        "df4"
      ],
      "metadata": {
        "colab": {
          "base_uri": "https://localhost:8080/",
          "height": 424
        },
        "id": "yYVSBi8i3dUm",
        "outputId": "8840828b-6a33-44c5-9490-55ef331f4efc"
      },
      "execution_count": null,
      "outputs": [
        {
          "output_type": "execute_result",
          "data": {
            "text/plain": [
              "          BALANCE  PURCHASES  ONEOFF_PURCHASES  INSTALLMENTS_PURCHASES  \\\n",
              "0       40.900749      95.40              0.00                   95.40   \n",
              "1     3202.467416       0.00              0.00                    0.00   \n",
              "2     2495.148862     773.17            773.17                    0.00   \n",
              "4      817.714335      16.00             16.00                    0.00   \n",
              "5     1809.828751    1333.28              0.00                 1333.28   \n",
              "...           ...        ...               ...                     ...   \n",
              "8943     5.871712      20.90             20.90                    0.00   \n",
              "8945    28.493517     291.12              0.00                  291.12   \n",
              "8947    23.398673     144.40              0.00                  144.40   \n",
              "8948    13.457564       0.00              0.00                    0.00   \n",
              "8949   372.708075    1093.25           1093.25                    0.00   \n",
              "\n",
              "      CASH_ADVANCE  CASH_ADVANCE_TRX  PURCHASES_TRX  CREDIT_LIMIT  \\\n",
              "0         0.000000               0.0            2.0        1000.0   \n",
              "1      6442.945483               4.0            0.0        7000.0   \n",
              "2         0.000000               0.0           12.0        7500.0   \n",
              "4         0.000000               0.0            1.0        1200.0   \n",
              "5         0.000000               0.0            8.0        1800.0   \n",
              "...            ...               ...            ...           ...   \n",
              "8943      0.000000               0.0            1.0         500.0   \n",
              "8945      0.000000               0.0            6.0        1000.0   \n",
              "8947      0.000000               0.0            5.0        1000.0   \n",
              "8948     36.558778               2.0            0.0         500.0   \n",
              "8949    127.040008               2.0           23.0        1200.0   \n",
              "\n",
              "         PAYMENTS  MINIMUM_PAYMENTS  PRC_FULL_PAYMENT  \n",
              "0      201.802084        139.509787          0.000000  \n",
              "1     4103.032597       1072.340217          0.222222  \n",
              "2      622.066742        627.284787          0.000000  \n",
              "4      678.334763        244.791237          0.000000  \n",
              "5     1400.057770       2407.246035          0.000000  \n",
              "...           ...               ...               ...  \n",
              "8943    58.644883         43.473717          0.000000  \n",
              "8945   325.594462         48.886365          0.500000  \n",
              "8947    81.270775         82.418369          0.250000  \n",
              "8948    52.549959         55.755628          0.250000  \n",
              "8949    63.165404         88.288956          0.000000  \n",
              "\n",
              "[8636 rows x 11 columns]"
            ],
            "text/html": [
              "\n",
              "  <div id=\"df-cd7ccfba-2b0a-40d8-a9fc-16283a883bc8\">\n",
              "    <div class=\"colab-df-container\">\n",
              "      <div>\n",
              "<style scoped>\n",
              "    .dataframe tbody tr th:only-of-type {\n",
              "        vertical-align: middle;\n",
              "    }\n",
              "\n",
              "    .dataframe tbody tr th {\n",
              "        vertical-align: top;\n",
              "    }\n",
              "\n",
              "    .dataframe thead th {\n",
              "        text-align: right;\n",
              "    }\n",
              "</style>\n",
              "<table border=\"1\" class=\"dataframe\">\n",
              "  <thead>\n",
              "    <tr style=\"text-align: right;\">\n",
              "      <th></th>\n",
              "      <th>BALANCE</th>\n",
              "      <th>PURCHASES</th>\n",
              "      <th>ONEOFF_PURCHASES</th>\n",
              "      <th>INSTALLMENTS_PURCHASES</th>\n",
              "      <th>CASH_ADVANCE</th>\n",
              "      <th>CASH_ADVANCE_TRX</th>\n",
              "      <th>PURCHASES_TRX</th>\n",
              "      <th>CREDIT_LIMIT</th>\n",
              "      <th>PAYMENTS</th>\n",
              "      <th>MINIMUM_PAYMENTS</th>\n",
              "      <th>PRC_FULL_PAYMENT</th>\n",
              "    </tr>\n",
              "  </thead>\n",
              "  <tbody>\n",
              "    <tr>\n",
              "      <th>0</th>\n",
              "      <td>40.900749</td>\n",
              "      <td>95.40</td>\n",
              "      <td>0.00</td>\n",
              "      <td>95.40</td>\n",
              "      <td>0.000000</td>\n",
              "      <td>0.0</td>\n",
              "      <td>2.0</td>\n",
              "      <td>1000.0</td>\n",
              "      <td>201.802084</td>\n",
              "      <td>139.509787</td>\n",
              "      <td>0.000000</td>\n",
              "    </tr>\n",
              "    <tr>\n",
              "      <th>1</th>\n",
              "      <td>3202.467416</td>\n",
              "      <td>0.00</td>\n",
              "      <td>0.00</td>\n",
              "      <td>0.00</td>\n",
              "      <td>6442.945483</td>\n",
              "      <td>4.0</td>\n",
              "      <td>0.0</td>\n",
              "      <td>7000.0</td>\n",
              "      <td>4103.032597</td>\n",
              "      <td>1072.340217</td>\n",
              "      <td>0.222222</td>\n",
              "    </tr>\n",
              "    <tr>\n",
              "      <th>2</th>\n",
              "      <td>2495.148862</td>\n",
              "      <td>773.17</td>\n",
              "      <td>773.17</td>\n",
              "      <td>0.00</td>\n",
              "      <td>0.000000</td>\n",
              "      <td>0.0</td>\n",
              "      <td>12.0</td>\n",
              "      <td>7500.0</td>\n",
              "      <td>622.066742</td>\n",
              "      <td>627.284787</td>\n",
              "      <td>0.000000</td>\n",
              "    </tr>\n",
              "    <tr>\n",
              "      <th>4</th>\n",
              "      <td>817.714335</td>\n",
              "      <td>16.00</td>\n",
              "      <td>16.00</td>\n",
              "      <td>0.00</td>\n",
              "      <td>0.000000</td>\n",
              "      <td>0.0</td>\n",
              "      <td>1.0</td>\n",
              "      <td>1200.0</td>\n",
              "      <td>678.334763</td>\n",
              "      <td>244.791237</td>\n",
              "      <td>0.000000</td>\n",
              "    </tr>\n",
              "    <tr>\n",
              "      <th>5</th>\n",
              "      <td>1809.828751</td>\n",
              "      <td>1333.28</td>\n",
              "      <td>0.00</td>\n",
              "      <td>1333.28</td>\n",
              "      <td>0.000000</td>\n",
              "      <td>0.0</td>\n",
              "      <td>8.0</td>\n",
              "      <td>1800.0</td>\n",
              "      <td>1400.057770</td>\n",
              "      <td>2407.246035</td>\n",
              "      <td>0.000000</td>\n",
              "    </tr>\n",
              "    <tr>\n",
              "      <th>...</th>\n",
              "      <td>...</td>\n",
              "      <td>...</td>\n",
              "      <td>...</td>\n",
              "      <td>...</td>\n",
              "      <td>...</td>\n",
              "      <td>...</td>\n",
              "      <td>...</td>\n",
              "      <td>...</td>\n",
              "      <td>...</td>\n",
              "      <td>...</td>\n",
              "      <td>...</td>\n",
              "    </tr>\n",
              "    <tr>\n",
              "      <th>8943</th>\n",
              "      <td>5.871712</td>\n",
              "      <td>20.90</td>\n",
              "      <td>20.90</td>\n",
              "      <td>0.00</td>\n",
              "      <td>0.000000</td>\n",
              "      <td>0.0</td>\n",
              "      <td>1.0</td>\n",
              "      <td>500.0</td>\n",
              "      <td>58.644883</td>\n",
              "      <td>43.473717</td>\n",
              "      <td>0.000000</td>\n",
              "    </tr>\n",
              "    <tr>\n",
              "      <th>8945</th>\n",
              "      <td>28.493517</td>\n",
              "      <td>291.12</td>\n",
              "      <td>0.00</td>\n",
              "      <td>291.12</td>\n",
              "      <td>0.000000</td>\n",
              "      <td>0.0</td>\n",
              "      <td>6.0</td>\n",
              "      <td>1000.0</td>\n",
              "      <td>325.594462</td>\n",
              "      <td>48.886365</td>\n",
              "      <td>0.500000</td>\n",
              "    </tr>\n",
              "    <tr>\n",
              "      <th>8947</th>\n",
              "      <td>23.398673</td>\n",
              "      <td>144.40</td>\n",
              "      <td>0.00</td>\n",
              "      <td>144.40</td>\n",
              "      <td>0.000000</td>\n",
              "      <td>0.0</td>\n",
              "      <td>5.0</td>\n",
              "      <td>1000.0</td>\n",
              "      <td>81.270775</td>\n",
              "      <td>82.418369</td>\n",
              "      <td>0.250000</td>\n",
              "    </tr>\n",
              "    <tr>\n",
              "      <th>8948</th>\n",
              "      <td>13.457564</td>\n",
              "      <td>0.00</td>\n",
              "      <td>0.00</td>\n",
              "      <td>0.00</td>\n",
              "      <td>36.558778</td>\n",
              "      <td>2.0</td>\n",
              "      <td>0.0</td>\n",
              "      <td>500.0</td>\n",
              "      <td>52.549959</td>\n",
              "      <td>55.755628</td>\n",
              "      <td>0.250000</td>\n",
              "    </tr>\n",
              "    <tr>\n",
              "      <th>8949</th>\n",
              "      <td>372.708075</td>\n",
              "      <td>1093.25</td>\n",
              "      <td>1093.25</td>\n",
              "      <td>0.00</td>\n",
              "      <td>127.040008</td>\n",
              "      <td>2.0</td>\n",
              "      <td>23.0</td>\n",
              "      <td>1200.0</td>\n",
              "      <td>63.165404</td>\n",
              "      <td>88.288956</td>\n",
              "      <td>0.000000</td>\n",
              "    </tr>\n",
              "  </tbody>\n",
              "</table>\n",
              "<p>8636 rows × 11 columns</p>\n",
              "</div>\n",
              "      <button class=\"colab-df-convert\" onclick=\"convertToInteractive('df-cd7ccfba-2b0a-40d8-a9fc-16283a883bc8')\"\n",
              "              title=\"Convert this dataframe to an interactive table.\"\n",
              "              style=\"display:none;\">\n",
              "        \n",
              "  <svg xmlns=\"http://www.w3.org/2000/svg\" height=\"24px\"viewBox=\"0 0 24 24\"\n",
              "       width=\"24px\">\n",
              "    <path d=\"M0 0h24v24H0V0z\" fill=\"none\"/>\n",
              "    <path d=\"M18.56 5.44l.94 2.06.94-2.06 2.06-.94-2.06-.94-.94-2.06-.94 2.06-2.06.94zm-11 1L8.5 8.5l.94-2.06 2.06-.94-2.06-.94L8.5 2.5l-.94 2.06-2.06.94zm10 10l.94 2.06.94-2.06 2.06-.94-2.06-.94-.94-2.06-.94 2.06-2.06.94z\"/><path d=\"M17.41 7.96l-1.37-1.37c-.4-.4-.92-.59-1.43-.59-.52 0-1.04.2-1.43.59L10.3 9.45l-7.72 7.72c-.78.78-.78 2.05 0 2.83L4 21.41c.39.39.9.59 1.41.59.51 0 1.02-.2 1.41-.59l7.78-7.78 2.81-2.81c.8-.78.8-2.07 0-2.86zM5.41 20L4 18.59l7.72-7.72 1.47 1.35L5.41 20z\"/>\n",
              "  </svg>\n",
              "      </button>\n",
              "      \n",
              "  <style>\n",
              "    .colab-df-container {\n",
              "      display:flex;\n",
              "      flex-wrap:wrap;\n",
              "      gap: 12px;\n",
              "    }\n",
              "\n",
              "    .colab-df-convert {\n",
              "      background-color: #E8F0FE;\n",
              "      border: none;\n",
              "      border-radius: 50%;\n",
              "      cursor: pointer;\n",
              "      display: none;\n",
              "      fill: #1967D2;\n",
              "      height: 32px;\n",
              "      padding: 0 0 0 0;\n",
              "      width: 32px;\n",
              "    }\n",
              "\n",
              "    .colab-df-convert:hover {\n",
              "      background-color: #E2EBFA;\n",
              "      box-shadow: 0px 1px 2px rgba(60, 64, 67, 0.3), 0px 1px 3px 1px rgba(60, 64, 67, 0.15);\n",
              "      fill: #174EA6;\n",
              "    }\n",
              "\n",
              "    [theme=dark] .colab-df-convert {\n",
              "      background-color: #3B4455;\n",
              "      fill: #D2E3FC;\n",
              "    }\n",
              "\n",
              "    [theme=dark] .colab-df-convert:hover {\n",
              "      background-color: #434B5C;\n",
              "      box-shadow: 0px 1px 3px 1px rgba(0, 0, 0, 0.15);\n",
              "      filter: drop-shadow(0px 1px 2px rgba(0, 0, 0, 0.3));\n",
              "      fill: #FFFFFF;\n",
              "    }\n",
              "  </style>\n",
              "\n",
              "      <script>\n",
              "        const buttonEl =\n",
              "          document.querySelector('#df-cd7ccfba-2b0a-40d8-a9fc-16283a883bc8 button.colab-df-convert');\n",
              "        buttonEl.style.display =\n",
              "          google.colab.kernel.accessAllowed ? 'block' : 'none';\n",
              "\n",
              "        async function convertToInteractive(key) {\n",
              "          const element = document.querySelector('#df-cd7ccfba-2b0a-40d8-a9fc-16283a883bc8');\n",
              "          const dataTable =\n",
              "            await google.colab.kernel.invokeFunction('convertToInteractive',\n",
              "                                                     [key], {});\n",
              "          if (!dataTable) return;\n",
              "\n",
              "          const docLinkHtml = 'Like what you see? Visit the ' +\n",
              "            '<a target=\"_blank\" href=https://colab.research.google.com/notebooks/data_table.ipynb>data table notebook</a>'\n",
              "            + ' to learn more about interactive tables.';\n",
              "          element.innerHTML = '';\n",
              "          dataTable['output_type'] = 'display_data';\n",
              "          await google.colab.output.renderOutput(dataTable, element);\n",
              "          const docLink = document.createElement('div');\n",
              "          docLink.innerHTML = docLinkHtml;\n",
              "          element.appendChild(docLink);\n",
              "        }\n",
              "      </script>\n",
              "    </div>\n",
              "  </div>\n",
              "  "
            ]
          },
          "metadata": {},
          "execution_count": 286
        }
      ]
    },
    {
      "cell_type": "code",
      "source": [
        "from sklearn.cluster import AgglomerativeClustering\n",
        "clustering = AgglomerativeClustering(\n",
        "    n_clusters=3,#o default é 2\n",
        "    linkage='complete',#{‘ward’, ‘complete’, ‘average’, ‘single’}, default=’ward’ \n",
        ")\n",
        "clustering.fit(df4)"
      ],
      "metadata": {
        "colab": {
          "base_uri": "https://localhost:8080/",
          "height": 75
        },
        "id": "INNL9klV417A",
        "outputId": "ac346821-fc74-4e93-f4a6-4d8170126673"
      },
      "execution_count": null,
      "outputs": [
        {
          "output_type": "execute_result",
          "data": {
            "text/plain": [
              "AgglomerativeClustering(linkage='complete', n_clusters=3)"
            ],
            "text/html": [
              "<style>#sk-container-id-28 {color: black;background-color: white;}#sk-container-id-28 pre{padding: 0;}#sk-container-id-28 div.sk-toggleable {background-color: white;}#sk-container-id-28 label.sk-toggleable__label {cursor: pointer;display: block;width: 100%;margin-bottom: 0;padding: 0.3em;box-sizing: border-box;text-align: center;}#sk-container-id-28 label.sk-toggleable__label-arrow:before {content: \"▸\";float: left;margin-right: 0.25em;color: #696969;}#sk-container-id-28 label.sk-toggleable__label-arrow:hover:before {color: black;}#sk-container-id-28 div.sk-estimator:hover label.sk-toggleable__label-arrow:before {color: black;}#sk-container-id-28 div.sk-toggleable__content {max-height: 0;max-width: 0;overflow: hidden;text-align: left;background-color: #f0f8ff;}#sk-container-id-28 div.sk-toggleable__content pre {margin: 0.2em;color: black;border-radius: 0.25em;background-color: #f0f8ff;}#sk-container-id-28 input.sk-toggleable__control:checked~div.sk-toggleable__content {max-height: 200px;max-width: 100%;overflow: auto;}#sk-container-id-28 input.sk-toggleable__control:checked~label.sk-toggleable__label-arrow:before {content: \"▾\";}#sk-container-id-28 div.sk-estimator input.sk-toggleable__control:checked~label.sk-toggleable__label {background-color: #d4ebff;}#sk-container-id-28 div.sk-label input.sk-toggleable__control:checked~label.sk-toggleable__label {background-color: #d4ebff;}#sk-container-id-28 input.sk-hidden--visually {border: 0;clip: rect(1px 1px 1px 1px);clip: rect(1px, 1px, 1px, 1px);height: 1px;margin: -1px;overflow: hidden;padding: 0;position: absolute;width: 1px;}#sk-container-id-28 div.sk-estimator {font-family: monospace;background-color: #f0f8ff;border: 1px dotted black;border-radius: 0.25em;box-sizing: border-box;margin-bottom: 0.5em;}#sk-container-id-28 div.sk-estimator:hover {background-color: #d4ebff;}#sk-container-id-28 div.sk-parallel-item::after {content: \"\";width: 100%;border-bottom: 1px solid gray;flex-grow: 1;}#sk-container-id-28 div.sk-label:hover label.sk-toggleable__label {background-color: #d4ebff;}#sk-container-id-28 div.sk-serial::before {content: \"\";position: absolute;border-left: 1px solid gray;box-sizing: border-box;top: 0;bottom: 0;left: 50%;z-index: 0;}#sk-container-id-28 div.sk-serial {display: flex;flex-direction: column;align-items: center;background-color: white;padding-right: 0.2em;padding-left: 0.2em;position: relative;}#sk-container-id-28 div.sk-item {position: relative;z-index: 1;}#sk-container-id-28 div.sk-parallel {display: flex;align-items: stretch;justify-content: center;background-color: white;position: relative;}#sk-container-id-28 div.sk-item::before, #sk-container-id-28 div.sk-parallel-item::before {content: \"\";position: absolute;border-left: 1px solid gray;box-sizing: border-box;top: 0;bottom: 0;left: 50%;z-index: -1;}#sk-container-id-28 div.sk-parallel-item {display: flex;flex-direction: column;z-index: 1;position: relative;background-color: white;}#sk-container-id-28 div.sk-parallel-item:first-child::after {align-self: flex-end;width: 50%;}#sk-container-id-28 div.sk-parallel-item:last-child::after {align-self: flex-start;width: 50%;}#sk-container-id-28 div.sk-parallel-item:only-child::after {width: 0;}#sk-container-id-28 div.sk-dashed-wrapped {border: 1px dashed gray;margin: 0 0.4em 0.5em 0.4em;box-sizing: border-box;padding-bottom: 0.4em;background-color: white;}#sk-container-id-28 div.sk-label label {font-family: monospace;font-weight: bold;display: inline-block;line-height: 1.2em;}#sk-container-id-28 div.sk-label-container {text-align: center;}#sk-container-id-28 div.sk-container {/* jupyter's `normalize.less` sets `[hidden] { display: none; }` but bootstrap.min.css set `[hidden] { display: none !important; }` so we also need the `!important` here to be able to override the default hidden behavior on the sphinx rendered scikit-learn.org. See: https://github.com/scikit-learn/scikit-learn/issues/21755 */display: inline-block !important;position: relative;}#sk-container-id-28 div.sk-text-repr-fallback {display: none;}</style><div id=\"sk-container-id-28\" class=\"sk-top-container\"><div class=\"sk-text-repr-fallback\"><pre>AgglomerativeClustering(linkage=&#x27;complete&#x27;, n_clusters=3)</pre><b>In a Jupyter environment, please rerun this cell to show the HTML representation or trust the notebook. <br />On GitHub, the HTML representation is unable to render, please try loading this page with nbviewer.org.</b></div><div class=\"sk-container\" hidden><div class=\"sk-item\"><div class=\"sk-estimator sk-toggleable\"><input class=\"sk-toggleable__control sk-hidden--visually\" id=\"sk-estimator-id-28\" type=\"checkbox\" checked><label for=\"sk-estimator-id-28\" class=\"sk-toggleable__label sk-toggleable__label-arrow\">AgglomerativeClustering</label><div class=\"sk-toggleable__content\"><pre>AgglomerativeClustering(linkage=&#x27;complete&#x27;, n_clusters=3)</pre></div></div></div></div></div>"
            ]
          },
          "metadata": {},
          "execution_count": 287
        }
      ]
    },
    {
      "cell_type": "code",
      "source": [
        "labels=clustering.labels_"
      ],
      "metadata": {
        "id": "TZr_-f0I49qr"
      },
      "execution_count": null,
      "outputs": []
    },
    {
      "cell_type": "code",
      "source": [
        "labels"
      ],
      "metadata": {
        "id": "DfAoB1uk5te3",
        "colab": {
          "base_uri": "https://localhost:8080/"
        },
        "outputId": "a85ffa8e-8bbf-4aaa-edab-11e6b419d722"
      },
      "execution_count": null,
      "outputs": [
        {
          "output_type": "execute_result",
          "data": {
            "text/plain": [
              "array([0, 0, 0, ..., 0, 0, 0])"
            ]
          },
          "metadata": {},
          "execution_count": 289
        }
      ]
    },
    {
      "cell_type": "code",
      "source": [
        "clustering.n_leaves_"
      ],
      "metadata": {
        "id": "DRVzRFhe5Nmu",
        "colab": {
          "base_uri": "https://localhost:8080/"
        },
        "outputId": "20a27c77-fe7a-459a-849e-fab575ae71ad"
      },
      "execution_count": null,
      "outputs": [
        {
          "output_type": "execute_result",
          "data": {
            "text/plain": [
              "8636"
            ]
          },
          "metadata": {},
          "execution_count": 290
        }
      ]
    },
    {
      "cell_type": "code",
      "source": [
        "score = silhouette_score(df4, labels)\n",
        "score"
      ],
      "metadata": {
        "id": "bLMOwLUq8bqU",
        "colab": {
          "base_uri": "https://localhost:8080/"
        },
        "outputId": "8dcabc00-604a-4ffa-a028-f0309865d4e9"
      },
      "execution_count": null,
      "outputs": [
        {
          "output_type": "execute_result",
          "data": {
            "text/plain": [
              "0.853038544809102"
            ]
          },
          "metadata": {},
          "execution_count": 291
        }
      ]
    },
    {
      "cell_type": "code",
      "source": [
        "for i in range(2, 11):\n",
        "    clusterer = AgglomerativeClustering(n_clusters=i,linkage='ward')\n",
        "    preds = clusterer.fit_predict(df4)\n",
        "    score = silhouette_score(df4, preds)\n",
        "    print('Silhueta para ' + str(i) + ' clusters : ' + str(score))"
      ],
      "metadata": {
        "id": "zF3NSv5kO_x_",
        "colab": {
          "base_uri": "https://localhost:8080/"
        },
        "outputId": "ccc1401a-227d-4c09-da5e-19a4542b7426"
      },
      "execution_count": null,
      "outputs": [
        {
          "output_type": "stream",
          "name": "stdout",
          "text": [
            "Silhueta para 2 clusters : 0.49972490524062674\n",
            "Silhueta para 3 clusters : 0.49425104812625964\n",
            "Silhueta para 4 clusters : 0.5041027950429183\n",
            "Silhueta para 5 clusters : 0.2720063273308164\n",
            "Silhueta para 6 clusters : 0.28537939135664825\n",
            "Silhueta para 7 clusters : 0.2999721075056788\n",
            "Silhueta para 8 clusters : 0.30362033536368055\n",
            "Silhueta para 9 clusters : 0.30552031524391154\n",
            "Silhueta para 10 clusters : 0.3123061564154314\n"
          ]
        }
      ]
    },
    {
      "cell_type": "code",
      "source": [
        "from scipy.cluster.hierarchy import dendrogram,linkage,fcluster\n",
        "\n",
        "#A função linkage aplica o agrupamento hierárquico, onde o parâmetro method define o tipo de linkagem (average, complete, single, ward)\n",
        "# e o parâmetro metric define a medida de distância outras medidas de distância podem ser vistas em https://docs.scipy.org/doc/scipy/reference/generated/scipy.spatial.distance.pdist.html\n",
        "#No dendrograma o color_threshold é o valor da distância entre os elementos para colorir os que participarem do mesmo cluster a partir da distância dada\n",
        "\n",
        "h = linkage(df4, method='centroid', metric='euclidean')\n",
        "x = dendrogram(h,color_threshold=1,orientation='top')\n",
        "plt.figure(figsize=(50,50))\n",
        "plt.show()"
      ],
      "metadata": {
        "id": "4J2jG7FjDuY_",
        "colab": {
          "base_uri": "https://localhost:8080/",
          "height": 395
        },
        "outputId": "2a2a2701-c178-4296-d289-ddcb8a396805"
      },
      "execution_count": null,
      "outputs": [
        {
          "output_type": "display_data",
          "data": {
            "text/plain": [
              "<Figure size 1440x432 with 1 Axes>"
            ],
            "image/png": "[encoded data removed]"
          },
          "metadata": {
            "needs_background": "light"
          }
        },
        {
          "output_type": "display_data",
          "data": {
            "text/plain": [
              "<Figure size 3600x3600 with 0 Axes>"
            ]
          },
          "metadata": {}
        }
      ]
    },
    {
      "cell_type": "code",
      "source": [
        "#o método fcluster recebe o resultado da hierarquia gerada e extrai os grupo segundo algum criterio t\n",
        "#A variável rotulos será um array onde o valor contido indica o rótulo do grupo que aquele elemento pertence\n",
        "#https://docs.scipy.org/doc/scipy/reference/generated/scipy.cluster.hierarchy.fcluster.html?highlight=fcluster\n",
        "labels = fcluster(h,t=1.8, criterion='distance')\n",
        "labels"
      ],
      "metadata": {
        "colab": {
          "base_uri": "https://localhost:8080/"
        },
        "id": "9EygNHbXkB9t",
        "outputId": "71574df4-0a15-428c-b86d-0568ee3bfe05"
      },
      "execution_count": null,
      "outputs": [
        {
          "output_type": "execute_result",
          "data": {
            "text/plain": [
              "array([2906,  645, 7067, ..., 2920, 3674, 2677], dtype=int32)"
            ]
          },
          "metadata": {},
          "execution_count": 300
        }
      ]
    },
    {
      "cell_type": "code",
      "source": [
        "df4['Cluster'] = labels\n",
        "print(df4.Cluster.nunique())\n",
        "print(df4.Cluster.value_counts())"
      ],
      "metadata": {
        "id": "UVQp8VZvImFZ",
        "colab": {
          "base_uri": "https://localhost:8080/"
        },
        "outputId": "8108eaab-743b-4b4e-bc93-94ae0316929f"
      },
      "execution_count": null,
      "outputs": [
        {
          "output_type": "stream",
          "name": "stdout",
          "text": [
            "8636\n",
            "2906    1\n",
            "6247    1\n",
            "925     1\n",
            "3598    1\n",
            "6491    1\n",
            "       ..\n",
            "5282    1\n",
            "3632    1\n",
            "977     1\n",
            "7568    1\n",
            "2677    1\n",
            "Name: Cluster, Length: 8636, dtype: int64\n"
          ]
        }
      ]
    },
    {
      "cell_type": "code",
      "execution_count": null,
      "metadata": {
        "id": "R8xNi3x9l_Hc",
        "colab": {
          "base_uri": "https://localhost:8080/"
        },
        "outputId": "153b5a6d-203f-40a0-df9e-ec03729b5c0e"
      },
      "outputs": [
        {
          "output_type": "execute_result",
          "data": {
            "text/plain": [
              "array([2, 2, 2, ..., 2, 2, 2], dtype=int32)"
            ]
          },
          "metadata": {},
          "execution_count": 302
        }
      ],
      "source": [
        "#o criterio maxclust define o número de clusters t que se deseja definir e a função \n",
        "#fcluster define sozinha o valor de distância de modo que t grupos sejam formados\n",
        "labels = fcluster(h,t=3, criterion='maxclust')\n",
        "labels"
      ]
    },
    {
      "cell_type": "code",
      "execution_count": null,
      "metadata": {
        "id": "ZPicqx6GpW6k",
        "colab": {
          "base_uri": "https://localhost:8080/"
        },
        "outputId": "ac455dfa-be70-4ed7-ae6f-507fe9f22cba"
      },
      "outputs": [
        {
          "output_type": "stream",
          "name": "stdout",
          "text": [
            "3\n",
            "2    8630\n",
            "1       5\n",
            "3       1\n",
            "Name: Cluster, dtype: int64\n"
          ]
        }
      ],
      "source": [
        "df4['Cluster'] = labels\n",
        "print(df4.Cluster.nunique())\n",
        "print(df4.Cluster.value_counts())"
      ]
    },
    {
      "cell_type": "code",
      "source": [
        "df4.info()"
      ],
      "metadata": {
        "id": "TglsHyy2LXwC",
        "colab": {
          "base_uri": "https://localhost:8080/"
        },
        "outputId": "da45fb4d-0a78-4c88-ecb8-f12aa40611eb"
      },
      "execution_count": null,
      "outputs": [
        {
          "output_type": "stream",
          "name": "stdout",
          "text": [
            "<class 'pandas.core.frame.DataFrame'>\n",
            "Int64Index: 8636 entries, 0 to 8949\n",
            "Data columns (total 12 columns):\n",
            " #   Column                  Non-Null Count  Dtype  \n",
            "---  ------                  --------------  -----  \n",
            " 0   BALANCE                 8636 non-null   float64\n",
            " 1   PURCHASES               8636 non-null   float64\n",
            " 2   ONEOFF_PURCHASES        8636 non-null   float64\n",
            " 3   INSTALLMENTS_PURCHASES  8636 non-null   float64\n",
            " 4   CASH_ADVANCE            8636 non-null   float64\n",
            " 5   CASH_ADVANCE_TRX        8636 non-null   float64\n",
            " 6   PURCHASES_TRX           8636 non-null   float64\n",
            " 7   CREDIT_LIMIT            8636 non-null   float64\n",
            " 8   PAYMENTS                8636 non-null   float64\n",
            " 9   MINIMUM_PAYMENTS        8636 non-null   float64\n",
            " 10  PRC_FULL_PAYMENT        8636 non-null   float64\n",
            " 11  Cluster                 8636 non-null   int32  \n",
            "dtypes: float64(11), int32(1)\n",
            "memory usage: 843.4 KB\n"
          ]
        }
      ]
    },
    {
      "cell_type": "code",
      "source": [
        "import seaborn as sns\n",
        "sns.scatterplot(x='ONEOFF_PURCHASES',y='PAYMENTS', hue=df4.Cluster, data=df4)\n"
      ],
      "metadata": {
        "id": "DLdkQpTn_g35",
        "colab": {
          "base_uri": "https://localhost:8080/",
          "height": 406
        },
        "outputId": "faf480bd-55a1-486a-b376-64d75dfda31d"
      },
      "execution_count": null,
      "outputs": [
        {
          "output_type": "execute_result",
          "data": {
            "text/plain": [
              "<AxesSubplot:xlabel='ONEOFF_PURCHASES', ylabel='PAYMENTS'>"
            ]
          },
          "metadata": {},
          "execution_count": 305
        },
        {
          "output_type": "display_data",
          "data": {
            "text/plain": [
              "<Figure size 1440x432 with 1 Axes>"
            ],
            "image/png": "[encoded data removed]"
          },
          "metadata": {
            "needs_background": "light"
          }
        }
      ]
    },
    {
      "cell_type": "markdown",
      "metadata": {
        "id": "UuT0O5xR8JbX"
      },
      "source": [
        "#Clusterização por Densidade"
      ]
    },
    {
      "cell_type": "code",
      "execution_count": null,
      "metadata": {
        "id": "fXGlEwde8MMH",
        "colab": {
          "base_uri": "https://localhost:8080/",
          "height": 424
        },
        "outputId": "fe43192e-eb7c-4d86-9768-bdb7dbcd76b0"
      },
      "outputs": [
        {
          "output_type": "execute_result",
          "data": {
            "text/plain": [
              "          BALANCE  PURCHASES  ONEOFF_PURCHASES  INSTALLMENTS_PURCHASES  \\\n",
              "0       40.900749      95.40              0.00                   95.40   \n",
              "1     3202.467416       0.00              0.00                    0.00   \n",
              "2     2495.148862     773.17            773.17                    0.00   \n",
              "4      817.714335      16.00             16.00                    0.00   \n",
              "5     1809.828751    1333.28              0.00                 1333.28   \n",
              "...           ...        ...               ...                     ...   \n",
              "8943     5.871712      20.90             20.90                    0.00   \n",
              "8945    28.493517     291.12              0.00                  291.12   \n",
              "8947    23.398673     144.40              0.00                  144.40   \n",
              "8948    13.457564       0.00              0.00                    0.00   \n",
              "8949   372.708075    1093.25           1093.25                    0.00   \n",
              "\n",
              "      CASH_ADVANCE  CASH_ADVANCE_TRX  PURCHASES_TRX  CREDIT_LIMIT  \\\n",
              "0         0.000000               0.0            2.0        1000.0   \n",
              "1      6442.945483               4.0            0.0        7000.0   \n",
              "2         0.000000               0.0           12.0        7500.0   \n",
              "4         0.000000               0.0            1.0        1200.0   \n",
              "5         0.000000               0.0            8.0        1800.0   \n",
              "...            ...               ...            ...           ...   \n",
              "8943      0.000000               0.0            1.0         500.0   \n",
              "8945      0.000000               0.0            6.0        1000.0   \n",
              "8947      0.000000               0.0            5.0        1000.0   \n",
              "8948     36.558778               2.0            0.0         500.0   \n",
              "8949    127.040008               2.0           23.0        1200.0   \n",
              "\n",
              "         PAYMENTS  MINIMUM_PAYMENTS  PRC_FULL_PAYMENT  \n",
              "0      201.802084        139.509787          0.000000  \n",
              "1     4103.032597       1072.340217          0.222222  \n",
              "2      622.066742        627.284787          0.000000  \n",
              "4      678.334763        244.791237          0.000000  \n",
              "5     1400.057770       2407.246035          0.000000  \n",
              "...           ...               ...               ...  \n",
              "8943    58.644883         43.473717          0.000000  \n",
              "8945   325.594462         48.886365          0.500000  \n",
              "8947    81.270775         82.418369          0.250000  \n",
              "8948    52.549959         55.755628          0.250000  \n",
              "8949    63.165404         88.288956          0.000000  \n",
              "\n",
              "[8636 rows x 11 columns]"
            ],
            "text/html": [
              "\n",
              "  <div id=\"df-be3c17a0-0676-4b75-a127-a7bd90295ed2\">\n",
              "    <div class=\"colab-df-container\">\n",
              "      <div>\n",
              "<style scoped>\n",
              "    .dataframe tbody tr th:only-of-type {\n",
              "        vertical-align: middle;\n",
              "    }\n",
              "\n",
              "    .dataframe tbody tr th {\n",
              "        vertical-align: top;\n",
              "    }\n",
              "\n",
              "    .dataframe thead th {\n",
              "        text-align: right;\n",
              "    }\n",
              "</style>\n",
              "<table border=\"1\" class=\"dataframe\">\n",
              "  <thead>\n",
              "    <tr style=\"text-align: right;\">\n",
              "      <th></th>\n",
              "      <th>BALANCE</th>\n",
              "      <th>PURCHASES</th>\n",
              "      <th>ONEOFF_PURCHASES</th>\n",
              "      <th>INSTALLMENTS_PURCHASES</th>\n",
              "      <th>CASH_ADVANCE</th>\n",
              "      <th>CASH_ADVANCE_TRX</th>\n",
              "      <th>PURCHASES_TRX</th>\n",
              "      <th>CREDIT_LIMIT</th>\n",
              "      <th>PAYMENTS</th>\n",
              "      <th>MINIMUM_PAYMENTS</th>\n",
              "      <th>PRC_FULL_PAYMENT</th>\n",
              "    </tr>\n",
              "  </thead>\n",
              "  <tbody>\n",
              "    <tr>\n",
              "      <th>0</th>\n",
              "      <td>40.900749</td>\n",
              "      <td>95.40</td>\n",
              "      <td>0.00</td>\n",
              "      <td>95.40</td>\n",
              "      <td>0.000000</td>\n",
              "      <td>0.0</td>\n",
              "      <td>2.0</td>\n",
              "      <td>1000.0</td>\n",
              "      <td>201.802084</td>\n",
              "      <td>139.509787</td>\n",
              "      <td>0.000000</td>\n",
              "    </tr>\n",
              "    <tr>\n",
              "      <th>1</th>\n",
              "      <td>3202.467416</td>\n",
              "      <td>0.00</td>\n",
              "      <td>0.00</td>\n",
              "      <td>0.00</td>\n",
              "      <td>6442.945483</td>\n",
              "      <td>4.0</td>\n",
              "      <td>0.0</td>\n",
              "      <td>7000.0</td>\n",
              "      <td>4103.032597</td>\n",
              "      <td>1072.340217</td>\n",
              "      <td>0.222222</td>\n",
              "    </tr>\n",
              "    <tr>\n",
              "      <th>2</th>\n",
              "      <td>2495.148862</td>\n",
              "      <td>773.17</td>\n",
              "      <td>773.17</td>\n",
              "      <td>0.00</td>\n",
              "      <td>0.000000</td>\n",
              "      <td>0.0</td>\n",
              "      <td>12.0</td>\n",
              "      <td>7500.0</td>\n",
              "      <td>622.066742</td>\n",
              "      <td>627.284787</td>\n",
              "      <td>0.000000</td>\n",
              "    </tr>\n",
              "    <tr>\n",
              "      <th>4</th>\n",
              "      <td>817.714335</td>\n",
              "      <td>16.00</td>\n",
              "      <td>16.00</td>\n",
              "      <td>0.00</td>\n",
              "      <td>0.000000</td>\n",
              "      <td>0.0</td>\n",
              "      <td>1.0</td>\n",
              "      <td>1200.0</td>\n",
              "      <td>678.334763</td>\n",
              "      <td>244.791237</td>\n",
              "      <td>0.000000</td>\n",
              "    </tr>\n",
              "    <tr>\n",
              "      <th>5</th>\n",
              "      <td>1809.828751</td>\n",
              "      <td>1333.28</td>\n",
              "      <td>0.00</td>\n",
              "      <td>1333.28</td>\n",
              "      <td>0.000000</td>\n",
              "      <td>0.0</td>\n",
              "      <td>8.0</td>\n",
              "      <td>1800.0</td>\n",
              "      <td>1400.057770</td>\n",
              "      <td>2407.246035</td>\n",
              "      <td>0.000000</td>\n",
              "    </tr>\n",
              "    <tr>\n",
              "      <th>...</th>\n",
              "      <td>...</td>\n",
              "      <td>...</td>\n",
              "      <td>...</td>\n",
              "      <td>...</td>\n",
              "      <td>...</td>\n",
              "      <td>...</td>\n",
              "      <td>...</td>\n",
              "      <td>...</td>\n",
              "      <td>...</td>\n",
              "      <td>...</td>\n",
              "      <td>...</td>\n",
              "    </tr>\n",
              "    <tr>\n",
              "      <th>8943</th>\n",
              "      <td>5.871712</td>\n",
              "      <td>20.90</td>\n",
              "      <td>20.90</td>\n",
              "      <td>0.00</td>\n",
              "      <td>0.000000</td>\n",
              "      <td>0.0</td>\n",
              "      <td>1.0</td>\n",
              "      <td>500.0</td>\n",
              "      <td>58.644883</td>\n",
              "      <td>43.473717</td>\n",
              "      <td>0.000000</td>\n",
              "    </tr>\n",
              "    <tr>\n",
              "      <th>8945</th>\n",
              "      <td>28.493517</td>\n",
              "      <td>291.12</td>\n",
              "      <td>0.00</td>\n",
              "      <td>291.12</td>\n",
              "      <td>0.000000</td>\n",
              "      <td>0.0</td>\n",
              "      <td>6.0</td>\n",
              "      <td>1000.0</td>\n",
              "      <td>325.594462</td>\n",
              "      <td>48.886365</td>\n",
              "      <td>0.500000</td>\n",
              "    </tr>\n",
              "    <tr>\n",
              "      <th>8947</th>\n",
              "      <td>23.398673</td>\n",
              "      <td>144.40</td>\n",
              "      <td>0.00</td>\n",
              "      <td>144.40</td>\n",
              "      <td>0.000000</td>\n",
              "      <td>0.0</td>\n",
              "      <td>5.0</td>\n",
              "      <td>1000.0</td>\n",
              "      <td>81.270775</td>\n",
              "      <td>82.418369</td>\n",
              "      <td>0.250000</td>\n",
              "    </tr>\n",
              "    <tr>\n",
              "      <th>8948</th>\n",
              "      <td>13.457564</td>\n",
              "      <td>0.00</td>\n",
              "      <td>0.00</td>\n",
              "      <td>0.00</td>\n",
              "      <td>36.558778</td>\n",
              "      <td>2.0</td>\n",
              "      <td>0.0</td>\n",
              "      <td>500.0</td>\n",
              "      <td>52.549959</td>\n",
              "      <td>55.755628</td>\n",
              "      <td>0.250000</td>\n",
              "    </tr>\n",
              "    <tr>\n",
              "      <th>8949</th>\n",
              "      <td>372.708075</td>\n",
              "      <td>1093.25</td>\n",
              "      <td>1093.25</td>\n",
              "      <td>0.00</td>\n",
              "      <td>127.040008</td>\n",
              "      <td>2.0</td>\n",
              "      <td>23.0</td>\n",
              "      <td>1200.0</td>\n",
              "      <td>63.165404</td>\n",
              "      <td>88.288956</td>\n",
              "      <td>0.000000</td>\n",
              "    </tr>\n",
              "  </tbody>\n",
              "</table>\n",
              "<p>8636 rows × 11 columns</p>\n",
              "</div>\n",
              "      <button class=\"colab-df-convert\" onclick=\"convertToInteractive('df-be3c17a0-0676-4b75-a127-a7bd90295ed2')\"\n",
              "              title=\"Convert this dataframe to an interactive table.\"\n",
              "              style=\"display:none;\">\n",
              "        \n",
              "  <svg xmlns=\"http://www.w3.org/2000/svg\" height=\"24px\"viewBox=\"0 0 24 24\"\n",
              "       width=\"24px\">\n",
              "    <path d=\"M0 0h24v24H0V0z\" fill=\"none\"/>\n",
              "    <path d=\"M18.56 5.44l.94 2.06.94-2.06 2.06-.94-2.06-.94-.94-2.06-.94 2.06-2.06.94zm-11 1L8.5 8.5l.94-2.06 2.06-.94-2.06-.94L8.5 2.5l-.94 2.06-2.06.94zm10 10l.94 2.06.94-2.06 2.06-.94-2.06-.94-.94-2.06-.94 2.06-2.06.94z\"/><path d=\"M17.41 7.96l-1.37-1.37c-.4-.4-.92-.59-1.43-.59-.52 0-1.04.2-1.43.59L10.3 9.45l-7.72 7.72c-.78.78-.78 2.05 0 2.83L4 21.41c.39.39.9.59 1.41.59.51 0 1.02-.2 1.41-.59l7.78-7.78 2.81-2.81c.8-.78.8-2.07 0-2.86zM5.41 20L4 18.59l7.72-7.72 1.47 1.35L5.41 20z\"/>\n",
              "  </svg>\n",
              "      </button>\n",
              "      \n",
              "  <style>\n",
              "    .colab-df-container {\n",
              "      display:flex;\n",
              "      flex-wrap:wrap;\n",
              "      gap: 12px;\n",
              "    }\n",
              "\n",
              "    .colab-df-convert {\n",
              "      background-color: #E8F0FE;\n",
              "      border: none;\n",
              "      border-radius: 50%;\n",
              "      cursor: pointer;\n",
              "      display: none;\n",
              "      fill: #1967D2;\n",
              "      height: 32px;\n",
              "      padding: 0 0 0 0;\n",
              "      width: 32px;\n",
              "    }\n",
              "\n",
              "    .colab-df-convert:hover {\n",
              "      background-color: #E2EBFA;\n",
              "      box-shadow: 0px 1px 2px rgba(60, 64, 67, 0.3), 0px 1px 3px 1px rgba(60, 64, 67, 0.15);\n",
              "      fill: #174EA6;\n",
              "    }\n",
              "\n",
              "    [theme=dark] .colab-df-convert {\n",
              "      background-color: #3B4455;\n",
              "      fill: #D2E3FC;\n",
              "    }\n",
              "\n",
              "    [theme=dark] .colab-df-convert:hover {\n",
              "      background-color: #434B5C;\n",
              "      box-shadow: 0px 1px 3px 1px rgba(0, 0, 0, 0.15);\n",
              "      filter: drop-shadow(0px 1px 2px rgba(0, 0, 0, 0.3));\n",
              "      fill: #FFFFFF;\n",
              "    }\n",
              "  </style>\n",
              "\n",
              "      <script>\n",
              "        const buttonEl =\n",
              "          document.querySelector('#df-be3c17a0-0676-4b75-a127-a7bd90295ed2 button.colab-df-convert');\n",
              "        buttonEl.style.display =\n",
              "          google.colab.kernel.accessAllowed ? 'block' : 'none';\n",
              "\n",
              "        async function convertToInteractive(key) {\n",
              "          const element = document.querySelector('#df-be3c17a0-0676-4b75-a127-a7bd90295ed2');\n",
              "          const dataTable =\n",
              "            await google.colab.kernel.invokeFunction('convertToInteractive',\n",
              "                                                     [key], {});\n",
              "          if (!dataTable) return;\n",
              "\n",
              "          const docLinkHtml = 'Like what you see? Visit the ' +\n",
              "            '<a target=\"_blank\" href=https://colab.research.google.com/notebooks/data_table.ipynb>data table notebook</a>'\n",
              "            + ' to learn more about interactive tables.';\n",
              "          element.innerHTML = '';\n",
              "          dataTable['output_type'] = 'display_data';\n",
              "          await google.colab.output.renderOutput(dataTable, element);\n",
              "          const docLink = document.createElement('div');\n",
              "          docLink.innerHTML = docLinkHtml;\n",
              "          element.appendChild(docLink);\n",
              "        }\n",
              "      </script>\n",
              "    </div>\n",
              "  </div>\n",
              "  "
            ]
          },
          "metadata": {},
          "execution_count": 306
        }
      ],
      "source": [
        "df5"
      ]
    },
    {
      "cell_type": "code",
      "source": [
        "from sklearn.cluster import DBSCAN\n",
        "db = DBSCAN(eps=21, min_samples=3)\n",
        "db.fit(df5)"
      ],
      "metadata": {
        "colab": {
          "base_uri": "https://localhost:8080/",
          "height": 75
        },
        "id": "BP-BQQQOSfuT",
        "outputId": "842c6c5d-2160-475b-c17e-49345009b5fa"
      },
      "execution_count": null,
      "outputs": [
        {
          "output_type": "execute_result",
          "data": {
            "text/plain": [
              "DBSCAN(eps=21, min_samples=3)"
            ],
            "text/html": [
              "<style>#sk-container-id-29 {color: black;background-color: white;}#sk-container-id-29 pre{padding: 0;}#sk-container-id-29 div.sk-toggleable {background-color: white;}#sk-container-id-29 label.sk-toggleable__label {cursor: pointer;display: block;width: 100%;margin-bottom: 0;padding: 0.3em;box-sizing: border-box;text-align: center;}#sk-container-id-29 label.sk-toggleable__label-arrow:before {content: \"▸\";float: left;margin-right: 0.25em;color: #696969;}#sk-container-id-29 label.sk-toggleable__label-arrow:hover:before {color: black;}#sk-container-id-29 div.sk-estimator:hover label.sk-toggleable__label-arrow:before {color: black;}#sk-container-id-29 div.sk-toggleable__content {max-height: 0;max-width: 0;overflow: hidden;text-align: left;background-color: #f0f8ff;}#sk-container-id-29 div.sk-toggleable__content pre {margin: 0.2em;color: black;border-radius: 0.25em;background-color: #f0f8ff;}#sk-container-id-29 input.sk-toggleable__control:checked~div.sk-toggleable__content {max-height: 200px;max-width: 100%;overflow: auto;}#sk-container-id-29 input.sk-toggleable__control:checked~label.sk-toggleable__label-arrow:before {content: \"▾\";}#sk-container-id-29 div.sk-estimator input.sk-toggleable__control:checked~label.sk-toggleable__label {background-color: #d4ebff;}#sk-container-id-29 div.sk-label input.sk-toggleable__control:checked~label.sk-toggleable__label {background-color: #d4ebff;}#sk-container-id-29 input.sk-hidden--visually {border: 0;clip: rect(1px 1px 1px 1px);clip: rect(1px, 1px, 1px, 1px);height: 1px;margin: -1px;overflow: hidden;padding: 0;position: absolute;width: 1px;}#sk-container-id-29 div.sk-estimator {font-family: monospace;background-color: #f0f8ff;border: 1px dotted black;border-radius: 0.25em;box-sizing: border-box;margin-bottom: 0.5em;}#sk-container-id-29 div.sk-estimator:hover {background-color: #d4ebff;}#sk-container-id-29 div.sk-parallel-item::after {content: \"\";width: 100%;border-bottom: 1px solid gray;flex-grow: 1;}#sk-container-id-29 div.sk-label:hover label.sk-toggleable__label {background-color: #d4ebff;}#sk-container-id-29 div.sk-serial::before {content: \"\";position: absolute;border-left: 1px solid gray;box-sizing: border-box;top: 0;bottom: 0;left: 50%;z-index: 0;}#sk-container-id-29 div.sk-serial {display: flex;flex-direction: column;align-items: center;background-color: white;padding-right: 0.2em;padding-left: 0.2em;position: relative;}#sk-container-id-29 div.sk-item {position: relative;z-index: 1;}#sk-container-id-29 div.sk-parallel {display: flex;align-items: stretch;justify-content: center;background-color: white;position: relative;}#sk-container-id-29 div.sk-item::before, #sk-container-id-29 div.sk-parallel-item::before {content: \"\";position: absolute;border-left: 1px solid gray;box-sizing: border-box;top: 0;bottom: 0;left: 50%;z-index: -1;}#sk-container-id-29 div.sk-parallel-item {display: flex;flex-direction: column;z-index: 1;position: relative;background-color: white;}#sk-container-id-29 div.sk-parallel-item:first-child::after {align-self: flex-end;width: 50%;}#sk-container-id-29 div.sk-parallel-item:last-child::after {align-self: flex-start;width: 50%;}#sk-container-id-29 div.sk-parallel-item:only-child::after {width: 0;}#sk-container-id-29 div.sk-dashed-wrapped {border: 1px dashed gray;margin: 0 0.4em 0.5em 0.4em;box-sizing: border-box;padding-bottom: 0.4em;background-color: white;}#sk-container-id-29 div.sk-label label {font-family: monospace;font-weight: bold;display: inline-block;line-height: 1.2em;}#sk-container-id-29 div.sk-label-container {text-align: center;}#sk-container-id-29 div.sk-container {/* jupyter's `normalize.less` sets `[hidden] { display: none; }` but bootstrap.min.css set `[hidden] { display: none !important; }` so we also need the `!important` here to be able to override the default hidden behavior on the sphinx rendered scikit-learn.org. See: https://github.com/scikit-learn/scikit-learn/issues/21755 */display: inline-block !important;position: relative;}#sk-container-id-29 div.sk-text-repr-fallback {display: none;}</style><div id=\"sk-container-id-29\" class=\"sk-top-container\"><div class=\"sk-text-repr-fallback\"><pre>DBSCAN(eps=21, min_samples=3)</pre><b>In a Jupyter environment, please rerun this cell to show the HTML representation or trust the notebook. <br />On GitHub, the HTML representation is unable to render, please try loading this page with nbviewer.org.</b></div><div class=\"sk-container\" hidden><div class=\"sk-item\"><div class=\"sk-estimator sk-toggleable\"><input class=\"sk-toggleable__control sk-hidden--visually\" id=\"sk-estimator-id-29\" type=\"checkbox\" checked><label for=\"sk-estimator-id-29\" class=\"sk-toggleable__label sk-toggleable__label-arrow\">DBSCAN</label><div class=\"sk-toggleable__content\"><pre>DBSCAN(eps=21, min_samples=3)</pre></div></div></div></div></div>"
            ]
          },
          "metadata": {},
          "execution_count": 307
        }
      ]
    },
    {
      "cell_type": "code",
      "source": [
        "labels = db.labels_\n",
        "labels"
      ],
      "metadata": {
        "id": "Ald5cwMRTBYx",
        "colab": {
          "base_uri": "https://localhost:8080/"
        },
        "outputId": "57ac8e8c-945b-4c4b-cbda-8769a1bbd634"
      },
      "execution_count": null,
      "outputs": [
        {
          "output_type": "execute_result",
          "data": {
            "text/plain": [
              "array([-1, -1, -1, ..., -1, -1, -1])"
            ]
          },
          "metadata": {},
          "execution_count": 308
        }
      ]
    },
    {
      "cell_type": "code",
      "source": [
        "n_clusters_ = len(set(labels)) - (1 if -1 in labels else 0)\n",
        "n_clusters_"
      ],
      "metadata": {
        "id": "sbjUTzFJTMcZ",
        "colab": {
          "base_uri": "https://localhost:8080/"
        },
        "outputId": "f22178e9-af5e-43d8-8e37-61dfd988220e"
      },
      "execution_count": null,
      "outputs": [
        {
          "output_type": "execute_result",
          "data": {
            "text/plain": [
              "7"
            ]
          },
          "metadata": {},
          "execution_count": 309
        }
      ]
    },
    {
      "cell_type": "code",
      "source": [
        "n_noise_ = list(labels).count(-1)\n",
        "n_noise_"
      ],
      "metadata": {
        "id": "vSQU2gPSTRNQ",
        "colab": {
          "base_uri": "https://localhost:8080/"
        },
        "outputId": "34120130-f861-44e0-dcb6-9442891ef7ce"
      },
      "execution_count": null,
      "outputs": [
        {
          "output_type": "execute_result",
          "data": {
            "text/plain": [
              "8614"
            ]
          },
          "metadata": {},
          "execution_count": 310
        }
      ]
    },
    {
      "cell_type": "code",
      "source": [
        "score = silhouette_score(df5, labels)\n",
        "score"
      ],
      "metadata": {
        "id": "f4BFNEXTUPVz",
        "colab": {
          "base_uri": "https://localhost:8080/"
        },
        "outputId": "0d498549-f149-4ae4-aa5b-1890ca9ca680"
      },
      "execution_count": null,
      "outputs": [
        {
          "output_type": "execute_result",
          "data": {
            "text/plain": [
              "-0.4043936000958617"
            ]
          },
          "metadata": {},
          "execution_count": 311
        }
      ]
    },
    {
      "cell_type": "code",
      "source": [
        "df5['Cluster'] = labels"
      ],
      "metadata": {
        "id": "-9M_3N60T_aQ"
      },
      "execution_count": null,
      "outputs": []
    },
    {
      "cell_type": "code",
      "source": [
        "import seaborn as sns\n",
        "sns.scatterplot(x='ONEOFF_PURCHASES',y='PAYMENTS', hue=df5.Cluster, data=df5)"
      ],
      "metadata": {
        "id": "qAAaPdbHUmRi",
        "colab": {
          "base_uri": "https://localhost:8080/",
          "height": 406
        },
        "outputId": "38039d01-fbcd-4b7b-87bc-842b0ad53d3d"
      },
      "execution_count": null,
      "outputs": [
        {
          "output_type": "execute_result",
          "data": {
            "text/plain": [
              "<AxesSubplot:xlabel='ONEOFF_PURCHASES', ylabel='PAYMENTS'>"
            ]
          },
          "metadata": {},
          "execution_count": 313
        },
        {
          "output_type": "display_data",
          "data": {
            "text/plain": [
              "<Figure size 1440x432 with 1 Axes>"
            ],
            "image/png": "[encoded data removed]"
          },
          "metadata": {
            "needs_background": "light"
          }
        }
      ]
    },
    {
      "cell_type": "markdown",
      "source": [
        "#Comparação gráfica"
      ],
      "metadata": {
        "id": "hOU9z-ezBJ6K"
      }
    },
    {
      "cell_type": "code",
      "source": [
        "# This code is written in python\n",
        "import matplotlib.pyplot as plt\n",
        "import numpy as np\n",
        "import random \n",
        "\n",
        "plt.rcParams[\"figure.figsize\"] = (20,6) \n",
        "\n",
        "\n",
        "plt.subplot(1,3,1)\n",
        "sns.scatterplot(x='ONEOFF_PURCHASES', y='PAYMENTS', hue=df3.Cluster, data=df3)\n",
        "plt.grid()\n",
        "\n",
        "plt.subplot(1,3,2)\n",
        "sns.scatterplot(x='ONEOFF_PURCHASES', y='PAYMENTS', hue=df4.Cluster, data=df4)\n",
        "plt.grid()\n",
        "\n",
        "plt.subplot(1,3,3)\n",
        "sns.scatterplot(x='ONEOFF_PURCHASES', y='PAYMENTS', hue=df5.Cluster, data=df5)\n",
        "plt.grid()\n",
        "\n"
      ],
      "metadata": {
        "colab": {
          "base_uri": "https://localhost:8080/",
          "height": 389
        },
        "id": "G4DLHcc1XP9A",
        "outputId": "1d245f05-42c2-4aed-c651-b9c6afa64a42"
      },
      "execution_count": null,
      "outputs": [
        {
          "output_type": "display_data",
          "data": {
            "text/plain": [
              "<Figure size 1440x432 with 3 Axes>"
            ],
            "image/png": "[encoded data removed]"
          },
          "metadata": {
            "needs_background": "light"
          }
        }
      ]
    },
    {
      "cell_type": "markdown",
      "source": [
        "#Interpretação do cluster"
      ],
      "metadata": {
        "id": "RHVsCpwEBV3a"
      }
    },
    {
      "cell_type": "markdown",
      "source": [
        "##K-Means"
      ],
      "metadata": {
        "id": "8A6H1HGNM10M"
      }
    },
    {
      "cell_type": "code",
      "source": [
        "#dados do k-means\n",
        "#descrição de cada cluster\n",
        "df3.groupby('Cluster').describe()"
      ],
      "metadata": {
        "colab": {
          "base_uri": "https://localhost:8080/"
        },
        "id": "TXoMt4gKBXm1",
        "outputId": "0ba149aa-c73f-4102-fbf4-c6b05e0d35bb"
      },
      "execution_count": null,
      "outputs": [
        {
          "output_type": "execute_result",
          "data": {
            "text/plain": [
              "        BALANCE                                                                \\\n",
              "          count         mean          std       min          25%          50%   \n",
              "Cluster                                                                         \n",
              "0        6296.0   881.480399   940.359481  0.000000    88.133032   594.027218   \n",
              "1        2211.0  3459.505050  2856.291199  0.437285   864.558506  3086.752970   \n",
              "2         129.0  4879.162142  3992.833827  4.382924  1861.026633  3454.094319   \n",
              "\n",
              "                                   PURCHASES                ...  \\\n",
              "                 75%           max     count          mean  ...   \n",
              "Cluster                                                     ...   \n",
              "0        1376.479239   4931.589653    6296.0    622.436620  ...   \n",
              "1        5292.584849  18495.558550    2211.0   1599.574631  ...   \n",
              "2        7081.171387  19043.138560     129.0  10853.693566  ...   \n",
              "\n",
              "        MINIMUM_PAYMENTS              PRC_FULL_PAYMENT                      \\\n",
              "                     75%          max            count      mean       std   \n",
              "Cluster                                                                      \n",
              "0             533.354275  28483.25483           6296.0  0.164611  0.297377   \n",
              "1            1696.866094  76406.20752           2211.0  0.133820  0.283602   \n",
              "2            2465.465414  21235.06530            129.0  0.337067  0.373152   \n",
              "\n",
              "                                            \n",
              "         min  25%       50%       75%  max  \n",
              "Cluster                                     \n",
              "0        0.0  0.0  0.000000  0.166667  1.0  \n",
              "1        0.0  0.0  0.000000  0.083333  1.0  \n",
              "2        0.0  0.0  0.166667  0.666667  1.0  \n",
              "\n",
              "[3 rows x 88 columns]"
            ],
            "text/html": [
              "\n",
              "  <div id=\"df-388ed76e-4080-4227-9c64-6e584531f82c\">\n",
              "    <div class=\"colab-df-container\">\n",
              "      <div>\n",
              "<style scoped>\n",
              "    .dataframe tbody tr th:only-of-type {\n",
              "        vertical-align: middle;\n",
              "    }\n",
              "\n",
              "    .dataframe tbody tr th {\n",
              "        vertical-align: top;\n",
              "    }\n",
              "\n",
              "    .dataframe thead tr th {\n",
              "        text-align: left;\n",
              "    }\n",
              "\n",
              "    .dataframe thead tr:last-of-type th {\n",
              "        text-align: right;\n",
              "    }\n",
              "</style>\n",
              "<table border=\"1\" class=\"dataframe\">\n",
              "  <thead>\n",
              "    <tr>\n",
              "      <th></th>\n",
              "      <th colspan=\"8\" halign=\"left\">BALANCE</th>\n",
              "      <th colspan=\"2\" halign=\"left\">PURCHASES</th>\n",
              "      <th>...</th>\n",
              "      <th colspan=\"2\" halign=\"left\">MINIMUM_PAYMENTS</th>\n",
              "      <th colspan=\"8\" halign=\"left\">PRC_FULL_PAYMENT</th>\n",
              "    </tr>\n",
              "    <tr>\n",
              "      <th></th>\n",
              "      <th>count</th>\n",
              "      <th>mean</th>\n",
              "      <th>std</th>\n",
              "      <th>min</th>\n",
              "      <th>25%</th>\n",
              "      <th>50%</th>\n",
              "      <th>75%</th>\n",
              "      <th>max</th>\n",
              "      <th>count</th>\n",
              "      <th>mean</th>\n",
              "      <th>...</th>\n",
              "      <th>75%</th>\n",
              "      <th>max</th>\n",
              "      <th>count</th>\n",
              "      <th>mean</th>\n",
              "      <th>std</th>\n",
              "      <th>min</th>\n",
              "      <th>25%</th>\n",
              "      <th>50%</th>\n",
              "      <th>75%</th>\n",
              "      <th>max</th>\n",
              "    </tr>\n",
              "    <tr>\n",
              "      <th>Cluster</th>\n",
              "      <th></th>\n",
              "      <th></th>\n",
              "      <th></th>\n",
              "      <th></th>\n",
              "      <th></th>\n",
              "      <th></th>\n",
              "      <th></th>\n",
              "      <th></th>\n",
              "      <th></th>\n",
              "      <th></th>\n",
              "      <th></th>\n",
              "      <th></th>\n",
              "      <th></th>\n",
              "      <th></th>\n",
              "      <th></th>\n",
              "      <th></th>\n",
              "      <th></th>\n",
              "      <th></th>\n",
              "      <th></th>\n",
              "      <th></th>\n",
              "      <th></th>\n",
              "    </tr>\n",
              "  </thead>\n",
              "  <tbody>\n",
              "    <tr>\n",
              "      <th>0</th>\n",
              "      <td>6296.0</td>\n",
              "      <td>881.480399</td>\n",
              "      <td>940.359481</td>\n",
              "      <td>0.000000</td>\n",
              "      <td>88.133032</td>\n",
              "      <td>594.027218</td>\n",
              "      <td>1376.479239</td>\n",
              "      <td>4931.589653</td>\n",
              "      <td>6296.0</td>\n",
              "      <td>622.436620</td>\n",
              "      <td>...</td>\n",
              "      <td>533.354275</td>\n",
              "      <td>28483.25483</td>\n",
              "      <td>6296.0</td>\n",
              "      <td>0.164611</td>\n",
              "      <td>0.297377</td>\n",
              "      <td>0.0</td>\n",
              "      <td>0.0</td>\n",
              "      <td>0.000000</td>\n",
              "      <td>0.166667</td>\n",
              "      <td>1.0</td>\n",
              "    </tr>\n",
              "    <tr>\n",
              "      <th>1</th>\n",
              "      <td>2211.0</td>\n",
              "      <td>3459.505050</td>\n",
              "      <td>2856.291199</td>\n",
              "      <td>0.437285</td>\n",
              "      <td>864.558506</td>\n",
              "      <td>3086.752970</td>\n",
              "      <td>5292.584849</td>\n",
              "      <td>18495.558550</td>\n",
              "      <td>2211.0</td>\n",
              "      <td>1599.574631</td>\n",
              "      <td>...</td>\n",
              "      <td>1696.866094</td>\n",
              "      <td>76406.20752</td>\n",
              "      <td>2211.0</td>\n",
              "      <td>0.133820</td>\n",
              "      <td>0.283602</td>\n",
              "      <td>0.0</td>\n",
              "      <td>0.0</td>\n",
              "      <td>0.000000</td>\n",
              "      <td>0.083333</td>\n",
              "      <td>1.0</td>\n",
              "    </tr>\n",
              "    <tr>\n",
              "      <th>2</th>\n",
              "      <td>129.0</td>\n",
              "      <td>4879.162142</td>\n",
              "      <td>3992.833827</td>\n",
              "      <td>4.382924</td>\n",
              "      <td>1861.026633</td>\n",
              "      <td>3454.094319</td>\n",
              "      <td>7081.171387</td>\n",
              "      <td>19043.138560</td>\n",
              "      <td>129.0</td>\n",
              "      <td>10853.693566</td>\n",
              "      <td>...</td>\n",
              "      <td>2465.465414</td>\n",
              "      <td>21235.06530</td>\n",
              "      <td>129.0</td>\n",
              "      <td>0.337067</td>\n",
              "      <td>0.373152</td>\n",
              "      <td>0.0</td>\n",
              "      <td>0.0</td>\n",
              "      <td>0.166667</td>\n",
              "      <td>0.666667</td>\n",
              "      <td>1.0</td>\n",
              "    </tr>\n",
              "  </tbody>\n",
              "</table>\n",
              "<p>3 rows × 88 columns</p>\n",
              "</div>\n",
              "      <button class=\"colab-df-convert\" onclick=\"convertToInteractive('df-388ed76e-4080-4227-9c64-6e584531f82c')\"\n",
              "              title=\"Convert this dataframe to an interactive table.\"\n",
              "              style=\"display:none;\">\n",
              "        \n",
              "  <svg xmlns=\"http://www.w3.org/2000/svg\" height=\"24px\"viewBox=\"0 0 24 24\"\n",
              "       width=\"24px\">\n",
              "    <path d=\"M0 0h24v24H0V0z\" fill=\"none\"/>\n",
              "    <path d=\"M18.56 5.44l.94 2.06.94-2.06 2.06-.94-2.06-.94-.94-2.06-.94 2.06-2.06.94zm-11 1L8.5 8.5l.94-2.06 2.06-.94-2.06-.94L8.5 2.5l-.94 2.06-2.06.94zm10 10l.94 2.06.94-2.06 2.06-.94-2.06-.94-.94-2.06-.94 2.06-2.06.94z\"/><path d=\"M17.41 7.96l-1.37-1.37c-.4-.4-.92-.59-1.43-.59-.52 0-1.04.2-1.43.59L10.3 9.45l-7.72 7.72c-.78.78-.78 2.05 0 2.83L4 21.41c.39.39.9.59 1.41.59.51 0 1.02-.2 1.41-.59l7.78-7.78 2.81-2.81c.8-.78.8-2.07 0-2.86zM5.41 20L4 18.59l7.72-7.72 1.47 1.35L5.41 20z\"/>\n",
              "  </svg>\n",
              "      </button>\n",
              "      \n",
              "  <style>\n",
              "    .colab-df-container {\n",
              "      display:flex;\n",
              "      flex-wrap:wrap;\n",
              "      gap: 12px;\n",
              "    }\n",
              "\n",
              "    .colab-df-convert {\n",
              "      background-color: #E8F0FE;\n",
              "      border: none;\n",
              "      border-radius: 50%;\n",
              "      cursor: pointer;\n",
              "      display: none;\n",
              "      fill: #1967D2;\n",
              "      height: 32px;\n",
              "      padding: 0 0 0 0;\n",
              "      width: 32px;\n",
              "    }\n",
              "\n",
              "    .colab-df-convert:hover {\n",
              "      background-color: #E2EBFA;\n",
              "      box-shadow: 0px 1px 2px rgba(60, 64, 67, 0.3), 0px 1px 3px 1px rgba(60, 64, 67, 0.15);\n",
              "      fill: #174EA6;\n",
              "    }\n",
              "\n",
              "    [theme=dark] .colab-df-convert {\n",
              "      background-color: #3B4455;\n",
              "      fill: #D2E3FC;\n",
              "    }\n",
              "\n",
              "    [theme=dark] .colab-df-convert:hover {\n",
              "      background-color: #434B5C;\n",
              "      box-shadow: 0px 1px 3px 1px rgba(0, 0, 0, 0.15);\n",
              "      filter: drop-shadow(0px 1px 2px rgba(0, 0, 0, 0.3));\n",
              "      fill: #FFFFFF;\n",
              "    }\n",
              "  </style>\n",
              "\n",
              "      <script>\n",
              "        const buttonEl =\n",
              "          document.querySelector('#df-388ed76e-4080-4227-9c64-6e584531f82c button.colab-df-convert');\n",
              "        buttonEl.style.display =\n",
              "          google.colab.kernel.accessAllowed ? 'block' : 'none';\n",
              "\n",
              "        async function convertToInteractive(key) {\n",
              "          const element = document.querySelector('#df-388ed76e-4080-4227-9c64-6e584531f82c');\n",
              "          const dataTable =\n",
              "            await google.colab.kernel.invokeFunction('convertToInteractive',\n",
              "                                                     [key], {});\n",
              "          if (!dataTable) return;\n",
              "\n",
              "          const docLinkHtml = 'Like what you see? Visit the ' +\n",
              "            '<a target=\"_blank\" href=https://colab.research.google.com/notebooks/data_table.ipynb>data table notebook</a>'\n",
              "            + ' to learn more about interactive tables.';\n",
              "          element.innerHTML = '';\n",
              "          dataTable['output_type'] = 'display_data';\n",
              "          await google.colab.output.renderOutput(dataTable, element);\n",
              "          const docLink = document.createElement('div');\n",
              "          docLink.innerHTML = docLinkHtml;\n",
              "          element.appendChild(docLink);\n",
              "        }\n",
              "      </script>\n",
              "    </div>\n",
              "  </div>\n",
              "  "
            ]
          },
          "metadata": {},
          "execution_count": 315
        }
      ]
    },
    {
      "cell_type": "code",
      "source": [
        "centroids = modelo_kmeans.cluster_centers_\n",
        "#Identifica quais são as colunas mais significativas na clusterização a partir do desvio padrão.\n",
        "#O desvio padrão está sendo calculado a partir dos centróides de cada cluster\n",
        "max = len(centroids[0])\n",
        "for i in range(max):\n",
        "  print(df3.columns.values[i],\" - {:.2f}\".format(centroids[:,i].std()))"
      ],
      "metadata": {
        "colab": {
          "base_uri": "https://localhost:8080/"
        },
        "id": "GJG1jVOkCKOs",
        "outputId": "24af2c8f-2508-463b-f885-e8332b1820a9"
      },
      "execution_count": null,
      "outputs": [
        {
          "output_type": "stream",
          "name": "stdout",
          "text": [
            "BALANCE  - 1777.68\n",
            "PURCHASES  - 9094.04\n",
            "ONEOFF_PURCHASES  - 7396.23\n",
            "INSTALLMENTS_PURCHASES  - 1724.16\n",
            "CASH_ADVANCE  - 3154.51\n",
            "CASH_ADVANCE_TRX  - 5.97\n",
            "PURCHASES_TRX  - 41.41\n",
            "CREDIT_LIMIT  - 4316.85\n",
            "PAYMENTS  - 9166.81\n",
            "MINIMUM_PAYMENTS  - 7468.91\n",
            "PRC_FULL_PAYMENT  - 0.16\n"
          ]
        }
      ]
    },
    {
      "cell_type": "code",
      "source": [
        "#seleciona somente as colunas com maior desvio padrão\n",
        "description = df3.groupby('Cluster')['PURCHASES', 'PAYMENTS', 'ONEOFF_PURCHASES', 'CREDIT_LIMIT', 'CASH_ADVANCE', 'BALANCE', 'INSTALLMENTS_PURCHASES']\n",
        "\n",
        "#quantidade de itens por cluster\n",
        "N_CARD = description.size()\n",
        "\n",
        "#calcula a média de cada coluna do cluster\n",
        "description = description.mean()\n",
        "\n",
        "#acrescenta a quantidade na mesma base\n",
        "description['N_CARD'] = N_CARD\n",
        "\n",
        "description"
      ],
      "metadata": {
        "id": "Zy7r-OZPH7v6",
        "colab": {
          "base_uri": "https://localhost:8080/"
        },
        "outputId": "b9aba230-2431-4024-b340-8c87a664c3c1"
      },
      "execution_count": null,
      "outputs": [
        {
          "output_type": "stream",
          "name": "stderr",
          "text": [
            "<ipython-input-317-f888a3f3a67d>:2: FutureWarning: Indexing with multiple keys (implicitly converted to a tuple of keys) will be deprecated, use a list instead.\n",
            "  description = df3.groupby('Cluster')['PURCHASES', 'PAYMENTS', 'ONEOFF_PURCHASES', 'CREDIT_LIMIT', 'CASH_ADVANCE', 'BALANCE', 'INSTALLMENTS_PURCHASES']\n"
          ]
        },
        {
          "output_type": "execute_result",
          "data": {
            "text/plain": [
              "            PURCHASES      PAYMENTS  ONEOFF_PURCHASES  CREDIT_LIMIT  \\\n",
              "Cluster                                                               \n",
              "0          622.436620   1038.219112        323.163177   2769.317596   \n",
              "1         1599.574631   2961.615494        995.575645   9048.667818   \n",
              "2        10853.693566  18030.957208       7659.501628  12484.883721   \n",
              "\n",
              "         CASH_ADVANCE      BALANCE  INSTALLMENTS_PURCHASES  N_CARD  \n",
              "Cluster                                                             \n",
              "0           502.02433   881.480399              299.582954    6296  \n",
              "1          2150.68567  3459.505050              604.322800    2211  \n",
              "2          5192.15982  4879.162142             3194.362481     129  "
            ],
            "text/html": [
              "\n",
              "  <div id=\"df-fd265fac-d420-464c-9998-d931211cb096\">\n",
              "    <div class=\"colab-df-container\">\n",
              "      <div>\n",
              "<style scoped>\n",
              "    .dataframe tbody tr th:only-of-type {\n",
              "        vertical-align: middle;\n",
              "    }\n",
              "\n",
              "    .dataframe tbody tr th {\n",
              "        vertical-align: top;\n",
              "    }\n",
              "\n",
              "    .dataframe thead th {\n",
              "        text-align: right;\n",
              "    }\n",
              "</style>\n",
              "<table border=\"1\" class=\"dataframe\">\n",
              "  <thead>\n",
              "    <tr style=\"text-align: right;\">\n",
              "      <th></th>\n",
              "      <th>PURCHASES</th>\n",
              "      <th>PAYMENTS</th>\n",
              "      <th>ONEOFF_PURCHASES</th>\n",
              "      <th>CREDIT_LIMIT</th>\n",
              "      <th>CASH_ADVANCE</th>\n",
              "      <th>BALANCE</th>\n",
              "      <th>INSTALLMENTS_PURCHASES</th>\n",
              "      <th>N_CARD</th>\n",
              "    </tr>\n",
              "    <tr>\n",
              "      <th>Cluster</th>\n",
              "      <th></th>\n",
              "      <th></th>\n",
              "      <th></th>\n",
              "      <th></th>\n",
              "      <th></th>\n",
              "      <th></th>\n",
              "      <th></th>\n",
              "      <th></th>\n",
              "    </tr>\n",
              "  </thead>\n",
              "  <tbody>\n",
              "    <tr>\n",
              "      <th>0</th>\n",
              "      <td>622.436620</td>\n",
              "      <td>1038.219112</td>\n",
              "      <td>323.163177</td>\n",
              "      <td>2769.317596</td>\n",
              "      <td>502.02433</td>\n",
              "      <td>881.480399</td>\n",
              "      <td>299.582954</td>\n",
              "      <td>6296</td>\n",
              "    </tr>\n",
              "    <tr>\n",
              "      <th>1</th>\n",
              "      <td>1599.574631</td>\n",
              "      <td>2961.615494</td>\n",
              "      <td>995.575645</td>\n",
              "      <td>9048.667818</td>\n",
              "      <td>2150.68567</td>\n",
              "      <td>3459.505050</td>\n",
              "      <td>604.322800</td>\n",
              "      <td>2211</td>\n",
              "    </tr>\n",
              "    <tr>\n",
              "      <th>2</th>\n",
              "      <td>10853.693566</td>\n",
              "      <td>18030.957208</td>\n",
              "      <td>7659.501628</td>\n",
              "      <td>12484.883721</td>\n",
              "      <td>5192.15982</td>\n",
              "      <td>4879.162142</td>\n",
              "      <td>3194.362481</td>\n",
              "      <td>129</td>\n",
              "    </tr>\n",
              "  </tbody>\n",
              "</table>\n",
              "</div>\n",
              "      <button class=\"colab-df-convert\" onclick=\"convertToInteractive('df-fd265fac-d420-464c-9998-d931211cb096')\"\n",
              "              title=\"Convert this dataframe to an interactive table.\"\n",
              "              style=\"display:none;\">\n",
              "        \n",
              "  <svg xmlns=\"http://www.w3.org/2000/svg\" height=\"24px\"viewBox=\"0 0 24 24\"\n",
              "       width=\"24px\">\n",
              "    <path d=\"M0 0h24v24H0V0z\" fill=\"none\"/>\n",
              "    <path d=\"M18.56 5.44l.94 2.06.94-2.06 2.06-.94-2.06-.94-.94-2.06-.94 2.06-2.06.94zm-11 1L8.5 8.5l.94-2.06 2.06-.94-2.06-.94L8.5 2.5l-.94 2.06-2.06.94zm10 10l.94 2.06.94-2.06 2.06-.94-2.06-.94-.94-2.06-.94 2.06-2.06.94z\"/><path d=\"M17.41 7.96l-1.37-1.37c-.4-.4-.92-.59-1.43-.59-.52 0-1.04.2-1.43.59L10.3 9.45l-7.72 7.72c-.78.78-.78 2.05 0 2.83L4 21.41c.39.39.9.59 1.41.59.51 0 1.02-.2 1.41-.59l7.78-7.78 2.81-2.81c.8-.78.8-2.07 0-2.86zM5.41 20L4 18.59l7.72-7.72 1.47 1.35L5.41 20z\"/>\n",
              "  </svg>\n",
              "      </button>\n",
              "      \n",
              "  <style>\n",
              "    .colab-df-container {\n",
              "      display:flex;\n",
              "      flex-wrap:wrap;\n",
              "      gap: 12px;\n",
              "    }\n",
              "\n",
              "    .colab-df-convert {\n",
              "      background-color: #E8F0FE;\n",
              "      border: none;\n",
              "      border-radius: 50%;\n",
              "      cursor: pointer;\n",
              "      display: none;\n",
              "      fill: #1967D2;\n",
              "      height: 32px;\n",
              "      padding: 0 0 0 0;\n",
              "      width: 32px;\n",
              "    }\n",
              "\n",
              "    .colab-df-convert:hover {\n",
              "      background-color: #E2EBFA;\n",
              "      box-shadow: 0px 1px 2px rgba(60, 64, 67, 0.3), 0px 1px 3px 1px rgba(60, 64, 67, 0.15);\n",
              "      fill: #174EA6;\n",
              "    }\n",
              "\n",
              "    [theme=dark] .colab-df-convert {\n",
              "      background-color: #3B4455;\n",
              "      fill: #D2E3FC;\n",
              "    }\n",
              "\n",
              "    [theme=dark] .colab-df-convert:hover {\n",
              "      background-color: #434B5C;\n",
              "      box-shadow: 0px 1px 3px 1px rgba(0, 0, 0, 0.15);\n",
              "      filter: drop-shadow(0px 1px 2px rgba(0, 0, 0, 0.3));\n",
              "      fill: #FFFFFF;\n",
              "    }\n",
              "  </style>\n",
              "\n",
              "      <script>\n",
              "        const buttonEl =\n",
              "          document.querySelector('#df-fd265fac-d420-464c-9998-d931211cb096 button.colab-df-convert');\n",
              "        buttonEl.style.display =\n",
              "          google.colab.kernel.accessAllowed ? 'block' : 'none';\n",
              "\n",
              "        async function convertToInteractive(key) {\n",
              "          const element = document.querySelector('#df-fd265fac-d420-464c-9998-d931211cb096');\n",
              "          const dataTable =\n",
              "            await google.colab.kernel.invokeFunction('convertToInteractive',\n",
              "                                                     [key], {});\n",
              "          if (!dataTable) return;\n",
              "\n",
              "          const docLinkHtml = 'Like what you see? Visit the ' +\n",
              "            '<a target=\"_blank\" href=https://colab.research.google.com/notebooks/data_table.ipynb>data table notebook</a>'\n",
              "            + ' to learn more about interactive tables.';\n",
              "          element.innerHTML = '';\n",
              "          dataTable['output_type'] = 'display_data';\n",
              "          await google.colab.output.renderOutput(dataTable, element);\n",
              "          const docLink = document.createElement('div');\n",
              "          docLink.innerHTML = docLinkHtml;\n",
              "          element.appendChild(docLink);\n",
              "        }\n",
              "      </script>\n",
              "    </div>\n",
              "  </div>\n",
              "  "
            ]
          },
          "metadata": {},
          "execution_count": 317
        }
      ]
    },
    {
      "cell_type": "markdown",
      "source": [
        "### INTERPRETAÇÃO DOS RESULTADOS\n",
        "\n",
        "- para cada coluna analisar o cluster que possui o menor ou maior valor para diferenciar dos demais\n",
        "- para um melhor detalhamento usar outras medidas como maior e menor valor, etc.\n"
      ],
      "metadata": {
        "id": "aAM4I-3_PmyZ"
      }
    },
    {
      "cell_type": "markdown",
      "source": [
        "### Análise para tomada de decisões\n",
        "\n",
        "Cluster 0 - É o cluster que contém a segunda maior quantidade de compras feitas, também possui o segundo maior grupo de valores pagos pelos usuários, e o segundo maior grupo com limite de crédito para o usuário. É o grupo mediano em que realiza a transações com o \"Cash in Advance\", ou seja, é o segundo maior grupo em que mais movimenta dinheiro na conta.\n",
        "\n",
        "Cluster 1 - É o cluster com menor qquantidade de compras, também é o grupo com menor quantidades de pagamenrsos realizados pelos usuários, além de ser o menor grupo com limite de crédito para usuários. Vale ressaltar que é o menor grupo que realizou transações com o \"Cash in Advance\", ou seja, é o menor grupo que adianta dinheiro na conta.  \n",
        "\n",
        "Cluster 2 - É o cluster que contém a maior quantidade de compras feitas pelo usuário, é o maior grupo com valores pagos pelo usuário, e também, o maior cluster com limite de crédito para o usuário. É o maior grupo que mais movimenta dinheiro na conta, pois é o que mais adianta dinheiro com as transações \"Cash in Advance\". "
      ],
      "metadata": {
        "id": "QOD18bi2MsXH"
      }
    },
    {
      "cell_type": "markdown",
      "source": [
        "##Hierárquico"
      ],
      "metadata": {
        "id": "YXirrJxeNBzD"
      }
    },
    {
      "cell_type": "code",
      "source": [
        "df4.groupby('Cluster').describe()"
      ],
      "metadata": {
        "id": "4dmDk8IRNH_z",
        "colab": {
          "base_uri": "https://localhost:8080/"
        },
        "outputId": "b0322242-ff19-4177-a659-051c753477c0"
      },
      "execution_count": null,
      "outputs": [
        {
          "output_type": "execute_result",
          "data": {
            "text/plain": [
              "        BALANCE                                                         \\\n",
              "          count          mean          std           min           25%   \n",
              "Cluster                                                                  \n",
              "1           5.0   7085.422040  5014.902914   2997.977825   3391.702180   \n",
              "2        8630.0   1597.008071  2087.113886      0.000000    147.784069   \n",
              "3           1.0  10571.411070          NaN  10571.411070  10571.411070   \n",
              "\n",
              "                                                 PURCHASES                ...  \\\n",
              "                  50%           75%          max     count          mean  ...   \n",
              "Cluster                                                                   ...   \n",
              "1         4010.621974  11547.520010  13479.28821       5.0  40832.910000  ...   \n",
              "2          916.557865   2097.216139  19043.13856    8630.0   1001.592458  ...   \n",
              "3        10571.411070  10571.411070  10571.41107       1.0   7739.480000  ...   \n",
              "\n",
              "        MINIMUM_PAYMENTS              PRC_FULL_PAYMENT                      \\\n",
              "                     75%          max            count      mean       std   \n",
              "Cluster                                                                      \n",
              "1            2974.069421  15914.48462              5.0  0.616667  0.427363   \n",
              "2             824.929384  61031.61860           8630.0  0.159057  0.296021   \n",
              "3           76406.207520  76406.20752              1.0  0.000000       NaN   \n",
              "\n",
              "                                              \n",
              "              min   25%   50%       75%  max  \n",
              "Cluster                                       \n",
              "1        0.083333  0.25  0.75  1.000000  1.0  \n",
              "2        0.000000  0.00  0.00  0.166667  1.0  \n",
              "3        0.000000  0.00  0.00  0.000000  0.0  \n",
              "\n",
              "[3 rows x 88 columns]"
            ],
            "text/html": [
              "\n",
              "  <div id=\"df-6985e72f-9188-4259-b20d-ed3072787a7e\">\n",
              "    <div class=\"colab-df-container\">\n",
              "      <div>\n",
              "<style scoped>\n",
              "    .dataframe tbody tr th:only-of-type {\n",
              "        vertical-align: middle;\n",
              "    }\n",
              "\n",
              "    .dataframe tbody tr th {\n",
              "        vertical-align: top;\n",
              "    }\n",
              "\n",
              "    .dataframe thead tr th {\n",
              "        text-align: left;\n",
              "    }\n",
              "\n",
              "    .dataframe thead tr:last-of-type th {\n",
              "        text-align: right;\n",
              "    }\n",
              "</style>\n",
              "<table border=\"1\" class=\"dataframe\">\n",
              "  <thead>\n",
              "    <tr>\n",
              "      <th></th>\n",
              "      <th colspan=\"8\" halign=\"left\">BALANCE</th>\n",
              "      <th colspan=\"2\" halign=\"left\">PURCHASES</th>\n",
              "      <th>...</th>\n",
              "      <th colspan=\"2\" halign=\"left\">MINIMUM_PAYMENTS</th>\n",
              "      <th colspan=\"8\" halign=\"left\">PRC_FULL_PAYMENT</th>\n",
              "    </tr>\n",
              "    <tr>\n",
              "      <th></th>\n",
              "      <th>count</th>\n",
              "      <th>mean</th>\n",
              "      <th>std</th>\n",
              "      <th>min</th>\n",
              "      <th>25%</th>\n",
              "      <th>50%</th>\n",
              "      <th>75%</th>\n",
              "      <th>max</th>\n",
              "      <th>count</th>\n",
              "      <th>mean</th>\n",
              "      <th>...</th>\n",
              "      <th>75%</th>\n",
              "      <th>max</th>\n",
              "      <th>count</th>\n",
              "      <th>mean</th>\n",
              "      <th>std</th>\n",
              "      <th>min</th>\n",
              "      <th>25%</th>\n",
              "      <th>50%</th>\n",
              "      <th>75%</th>\n",
              "      <th>max</th>\n",
              "    </tr>\n",
              "    <tr>\n",
              "      <th>Cluster</th>\n",
              "      <th></th>\n",
              "      <th></th>\n",
              "      <th></th>\n",
              "      <th></th>\n",
              "      <th></th>\n",
              "      <th></th>\n",
              "      <th></th>\n",
              "      <th></th>\n",
              "      <th></th>\n",
              "      <th></th>\n",
              "      <th></th>\n",
              "      <th></th>\n",
              "      <th></th>\n",
              "      <th></th>\n",
              "      <th></th>\n",
              "      <th></th>\n",
              "      <th></th>\n",
              "      <th></th>\n",
              "      <th></th>\n",
              "      <th></th>\n",
              "      <th></th>\n",
              "    </tr>\n",
              "  </thead>\n",
              "  <tbody>\n",
              "    <tr>\n",
              "      <th>1</th>\n",
              "      <td>5.0</td>\n",
              "      <td>7085.422040</td>\n",
              "      <td>5014.902914</td>\n",
              "      <td>2997.977825</td>\n",
              "      <td>3391.702180</td>\n",
              "      <td>4010.621974</td>\n",
              "      <td>11547.520010</td>\n",
              "      <td>13479.28821</td>\n",
              "      <td>5.0</td>\n",
              "      <td>40832.910000</td>\n",
              "      <td>...</td>\n",
              "      <td>2974.069421</td>\n",
              "      <td>15914.48462</td>\n",
              "      <td>5.0</td>\n",
              "      <td>0.616667</td>\n",
              "      <td>0.427363</td>\n",
              "      <td>0.083333</td>\n",
              "      <td>0.25</td>\n",
              "      <td>0.75</td>\n",
              "      <td>1.000000</td>\n",
              "      <td>1.0</td>\n",
              "    </tr>\n",
              "    <tr>\n",
              "      <th>2</th>\n",
              "      <td>8630.0</td>\n",
              "      <td>1597.008071</td>\n",
              "      <td>2087.113886</td>\n",
              "      <td>0.000000</td>\n",
              "      <td>147.784069</td>\n",
              "      <td>916.557865</td>\n",
              "      <td>2097.216139</td>\n",
              "      <td>19043.13856</td>\n",
              "      <td>8630.0</td>\n",
              "      <td>1001.592458</td>\n",
              "      <td>...</td>\n",
              "      <td>824.929384</td>\n",
              "      <td>61031.61860</td>\n",
              "      <td>8630.0</td>\n",
              "      <td>0.159057</td>\n",
              "      <td>0.296021</td>\n",
              "      <td>0.000000</td>\n",
              "      <td>0.00</td>\n",
              "      <td>0.00</td>\n",
              "      <td>0.166667</td>\n",
              "      <td>1.0</td>\n",
              "    </tr>\n",
              "    <tr>\n",
              "      <th>3</th>\n",
              "      <td>1.0</td>\n",
              "      <td>10571.411070</td>\n",
              "      <td>NaN</td>\n",
              "      <td>10571.411070</td>\n",
              "      <td>10571.411070</td>\n",
              "      <td>10571.411070</td>\n",
              "      <td>10571.411070</td>\n",
              "      <td>10571.41107</td>\n",
              "      <td>1.0</td>\n",
              "      <td>7739.480000</td>\n",
              "      <td>...</td>\n",
              "      <td>76406.207520</td>\n",
              "      <td>76406.20752</td>\n",
              "      <td>1.0</td>\n",
              "      <td>0.000000</td>\n",
              "      <td>NaN</td>\n",
              "      <td>0.000000</td>\n",
              "      <td>0.00</td>\n",
              "      <td>0.00</td>\n",
              "      <td>0.000000</td>\n",
              "      <td>0.0</td>\n",
              "    </tr>\n",
              "  </tbody>\n",
              "</table>\n",
              "<p>3 rows × 88 columns</p>\n",
              "</div>\n",
              "      <button class=\"colab-df-convert\" onclick=\"convertToInteractive('df-6985e72f-9188-4259-b20d-ed3072787a7e')\"\n",
              "              title=\"Convert this dataframe to an interactive table.\"\n",
              "              style=\"display:none;\">\n",
              "        \n",
              "  <svg xmlns=\"http://www.w3.org/2000/svg\" height=\"24px\"viewBox=\"0 0 24 24\"\n",
              "       width=\"24px\">\n",
              "    <path d=\"M0 0h24v24H0V0z\" fill=\"none\"/>\n",
              "    <path d=\"M18.56 5.44l.94 2.06.94-2.06 2.06-.94-2.06-.94-.94-2.06-.94 2.06-2.06.94zm-11 1L8.5 8.5l.94-2.06 2.06-.94-2.06-.94L8.5 2.5l-.94 2.06-2.06.94zm10 10l.94 2.06.94-2.06 2.06-.94-2.06-.94-.94-2.06-.94 2.06-2.06.94z\"/><path d=\"M17.41 7.96l-1.37-1.37c-.4-.4-.92-.59-1.43-.59-.52 0-1.04.2-1.43.59L10.3 9.45l-7.72 7.72c-.78.78-.78 2.05 0 2.83L4 21.41c.39.39.9.59 1.41.59.51 0 1.02-.2 1.41-.59l7.78-7.78 2.81-2.81c.8-.78.8-2.07 0-2.86zM5.41 20L4 18.59l7.72-7.72 1.47 1.35L5.41 20z\"/>\n",
              "  </svg>\n",
              "      </button>\n",
              "      \n",
              "  <style>\n",
              "    .colab-df-container {\n",
              "      display:flex;\n",
              "      flex-wrap:wrap;\n",
              "      gap: 12px;\n",
              "    }\n",
              "\n",
              "    .colab-df-convert {\n",
              "      background-color: #E8F0FE;\n",
              "      border: none;\n",
              "      border-radius: 50%;\n",
              "      cursor: pointer;\n",
              "      display: none;\n",
              "      fill: #1967D2;\n",
              "      height: 32px;\n",
              "      padding: 0 0 0 0;\n",
              "      width: 32px;\n",
              "    }\n",
              "\n",
              "    .colab-df-convert:hover {\n",
              "      background-color: #E2EBFA;\n",
              "      box-shadow: 0px 1px 2px rgba(60, 64, 67, 0.3), 0px 1px 3px 1px rgba(60, 64, 67, 0.15);\n",
              "      fill: #174EA6;\n",
              "    }\n",
              "\n",
              "    [theme=dark] .colab-df-convert {\n",
              "      background-color: #3B4455;\n",
              "      fill: #D2E3FC;\n",
              "    }\n",
              "\n",
              "    [theme=dark] .colab-df-convert:hover {\n",
              "      background-color: #434B5C;\n",
              "      box-shadow: 0px 1px 3px 1px rgba(0, 0, 0, 0.15);\n",
              "      filter: drop-shadow(0px 1px 2px rgba(0, 0, 0, 0.3));\n",
              "      fill: #FFFFFF;\n",
              "    }\n",
              "  </style>\n",
              "\n",
              "      <script>\n",
              "        const buttonEl =\n",
              "          document.querySelector('#df-6985e72f-9188-4259-b20d-ed3072787a7e button.colab-df-convert');\n",
              "        buttonEl.style.display =\n",
              "          google.colab.kernel.accessAllowed ? 'block' : 'none';\n",
              "\n",
              "        async function convertToInteractive(key) {\n",
              "          const element = document.querySelector('#df-6985e72f-9188-4259-b20d-ed3072787a7e');\n",
              "          const dataTable =\n",
              "            await google.colab.kernel.invokeFunction('convertToInteractive',\n",
              "                                                     [key], {});\n",
              "          if (!dataTable) return;\n",
              "\n",
              "          const docLinkHtml = 'Like what you see? Visit the ' +\n",
              "            '<a target=\"_blank\" href=https://colab.research.google.com/notebooks/data_table.ipynb>data table notebook</a>'\n",
              "            + ' to learn more about interactive tables.';\n",
              "          element.innerHTML = '';\n",
              "          dataTable['output_type'] = 'display_data';\n",
              "          await google.colab.output.renderOutput(dataTable, element);\n",
              "          const docLink = document.createElement('div');\n",
              "          docLink.innerHTML = docLinkHtml;\n",
              "          element.appendChild(docLink);\n",
              "        }\n",
              "      </script>\n",
              "    </div>\n",
              "  </div>\n",
              "  "
            ]
          },
          "metadata": {},
          "execution_count": 318
        }
      ]
    },
    {
      "cell_type": "code",
      "source": [
        "df4.Cluster.unique()"
      ],
      "metadata": {
        "id": "ds-L7enR6Uuq",
        "colab": {
          "base_uri": "https://localhost:8080/"
        },
        "outputId": "9e341d06-5c46-4ecc-fc04-26f7b2e956a8"
      },
      "execution_count": null,
      "outputs": [
        {
          "output_type": "execute_result",
          "data": {
            "text/plain": [
              "array([2, 1, 3], dtype=int32)"
            ]
          },
          "metadata": {},
          "execution_count": 319
        }
      ]
    },
    {
      "cell_type": "code",
      "source": [
        "import numpy as np\n",
        "#calcular um centroide para cada cluster\n",
        "#observação: o hierárquico não trabalha com centróides mas vamos escolher um representante para caracterizar o cluster\n",
        "id_clusters = df4.Cluster.unique()\n",
        "centroids = []\n",
        "for i in id_clusters:\n",
        "  centroids.append(df4.loc[(df4['Cluster'])==i].mean())\n",
        "\n",
        "centroids = np.array(centroids) \n",
        "centroids = centroids[:,:-1] #retira a coluna de cluster\n",
        "centroids"
      ],
      "metadata": {
        "id": "3hwQwJdKNMqY",
        "colab": {
          "base_uri": "https://localhost:8080/"
        },
        "outputId": "aa691f61-c9dc-4aca-d458-0eca66a26f0c"
      },
      "execution_count": null,
      "outputs": [
        {
          "output_type": "execute_result",
          "data": {
            "text/plain": [
              "array([[1.59700807e+03, 1.00159246e+03, 5.85180582e+02, 4.16723189e+02,\n",
              "        9.94802045e+02, 3.31610660e+00, 1.49047509e+01, 4.51416896e+03,\n",
              "        1.76434902e+03, 8.53610218e+02, 1.59057100e-01],\n",
              "       [7.08542204e+03, 4.08329100e+04, 3.47640800e+04, 6.06883000e+03,\n",
              "        1.11633377e+02, 2.00000000e-01, 2.31000000e+02, 1.75000000e+04,\n",
              "        3.63464736e+04, 4.21501983e+03, 6.16666600e-01],\n",
              "       [1.05714111e+04, 7.73948000e+03, 0.00000000e+00, 7.73948000e+03,\n",
              "        0.00000000e+00, 0.00000000e+00, 4.40000000e+01, 8.00000000e+03,\n",
              "        2.68844701e+03, 7.64062075e+04, 0.00000000e+00]])"
            ]
          },
          "metadata": {},
          "execution_count": 320
        }
      ]
    },
    {
      "cell_type": "code",
      "source": [
        "#Identifica quais são as colunas mais significativas na clusterização a partir do desvio padrão.\n",
        "#O desvio padrão está sendo calculado a partir dos centróides de cada cluster\n",
        "max = len(centroids[0])\n",
        "for i in range(max):\n",
        "  print(df4.columns.values[i],\" - {:.2f}\".format(centroids[:,i].std()))"
      ],
      "metadata": {
        "id": "HszQ2_caNEFG",
        "colab": {
          "base_uri": "https://localhost:8080/"
        },
        "outputId": "d732c580-0d71-4ec2-cab8-c201ac2fc470"
      },
      "execution_count": null,
      "outputs": [
        {
          "output_type": "stream",
          "name": "stdout",
          "text": [
            "BALANCE  - 3694.06\n",
            "PURCHASES  - 17407.24\n",
            "ONEOFF_PURCHASES  - 16251.77\n",
            "INSTALLMENTS_PURCHASES  - 3133.34\n",
            "CASH_ADVANCE  - 444.98\n",
            "CASH_ADVANCE_TRX  - 1.52\n",
            "PURCHASES_TRX  - 95.75\n",
            "CREDIT_LIMIT  - 5487.69\n",
            "PAYMENTS  - 16088.78\n",
            "MINIMUM_PAYMENTS  - 34850.57\n",
            "PRC_FULL_PAYMENT  - 0.26\n"
          ]
        }
      ]
    },
    {
      "cell_type": "code",
      "source": [
        "#seleciona somente as colunas com maior desvio padrão\n",
        "description = df4.groupby('Cluster')['PURCHASES', 'PAYMENTS', 'ONEOFF_PURCHASES', 'CREDIT_LIMIT', 'CASH_ADVANCE', 'BALANCE', 'INSTALLMENTS_PURCHASES']\n",
        "\n",
        "#quantidade de itens por cluster\n",
        "N_Feijoes = description.size()\n",
        "\n",
        "#calcula a média de cada coluna do cluster\n",
        "description = description.mean()\n",
        "\n",
        "#acrescenta a quantidade na mesma base\n",
        "description['N_Feijoes'] = N_Feijoes\n",
        "\n",
        "description"
      ],
      "metadata": {
        "id": "zmxL9a2f7pGv",
        "colab": {
          "base_uri": "https://localhost:8080/"
        },
        "outputId": "bfd543f4-df92-4fa9-e0a8-cb04f70ccc97"
      },
      "execution_count": null,
      "outputs": [
        {
          "output_type": "stream",
          "name": "stderr",
          "text": [
            "<ipython-input-322-be80e4c679db>:2: FutureWarning: Indexing with multiple keys (implicitly converted to a tuple of keys) will be deprecated, use a list instead.\n",
            "  description = df4.groupby('Cluster')['PURCHASES', 'PAYMENTS', 'ONEOFF_PURCHASES', 'CREDIT_LIMIT', 'CASH_ADVANCE', 'BALANCE', 'INSTALLMENTS_PURCHASES']\n"
          ]
        },
        {
          "output_type": "execute_result",
          "data": {
            "text/plain": [
              "            PURCHASES      PAYMENTS  ONEOFF_PURCHASES  CREDIT_LIMIT  \\\n",
              "Cluster                                                               \n",
              "1        40832.910000  36346.473584      34764.080000  17500.000000   \n",
              "2         1001.592458   1764.349021        585.180582   4514.168961   \n",
              "3         7739.480000   2688.447014          0.000000   8000.000000   \n",
              "\n",
              "         CASH_ADVANCE       BALANCE  INSTALLMENTS_PURCHASES  N_Feijoes  \n",
              "Cluster                                                                 \n",
              "1          111.633377   7085.422040             6068.830000          5  \n",
              "2          994.802045   1597.008071              416.723189       8630  \n",
              "3            0.000000  10571.411070             7739.480000          1  "
            ],
            "text/html": [
              "\n",
              "  <div id=\"df-39831ad3-95d5-491e-b28b-95785daa4b63\">\n",
              "    <div class=\"colab-df-container\">\n",
              "      <div>\n",
              "<style scoped>\n",
              "    .dataframe tbody tr th:only-of-type {\n",
              "        vertical-align: middle;\n",
              "    }\n",
              "\n",
              "    .dataframe tbody tr th {\n",
              "        vertical-align: top;\n",
              "    }\n",
              "\n",
              "    .dataframe thead th {\n",
              "        text-align: right;\n",
              "    }\n",
              "</style>\n",
              "<table border=\"1\" class=\"dataframe\">\n",
              "  <thead>\n",
              "    <tr style=\"text-align: right;\">\n",
              "      <th></th>\n",
              "      <th>PURCHASES</th>\n",
              "      <th>PAYMENTS</th>\n",
              "      <th>ONEOFF_PURCHASES</th>\n",
              "      <th>CREDIT_LIMIT</th>\n",
              "      <th>CASH_ADVANCE</th>\n",
              "      <th>BALANCE</th>\n",
              "      <th>INSTALLMENTS_PURCHASES</th>\n",
              "      <th>N_Feijoes</th>\n",
              "    </tr>\n",
              "    <tr>\n",
              "      <th>Cluster</th>\n",
              "      <th></th>\n",
              "      <th></th>\n",
              "      <th></th>\n",
              "      <th></th>\n",
              "      <th></th>\n",
              "      <th></th>\n",
              "      <th></th>\n",
              "      <th></th>\n",
              "    </tr>\n",
              "  </thead>\n",
              "  <tbody>\n",
              "    <tr>\n",
              "      <th>1</th>\n",
              "      <td>40832.910000</td>\n",
              "      <td>36346.473584</td>\n",
              "      <td>34764.080000</td>\n",
              "      <td>17500.000000</td>\n",
              "      <td>111.633377</td>\n",
              "      <td>7085.422040</td>\n",
              "      <td>6068.830000</td>\n",
              "      <td>5</td>\n",
              "    </tr>\n",
              "    <tr>\n",
              "      <th>2</th>\n",
              "      <td>1001.592458</td>\n",
              "      <td>1764.349021</td>\n",
              "      <td>585.180582</td>\n",
              "      <td>4514.168961</td>\n",
              "      <td>994.802045</td>\n",
              "      <td>1597.008071</td>\n",
              "      <td>416.723189</td>\n",
              "      <td>8630</td>\n",
              "    </tr>\n",
              "    <tr>\n",
              "      <th>3</th>\n",
              "      <td>7739.480000</td>\n",
              "      <td>2688.447014</td>\n",
              "      <td>0.000000</td>\n",
              "      <td>8000.000000</td>\n",
              "      <td>0.000000</td>\n",
              "      <td>10571.411070</td>\n",
              "      <td>7739.480000</td>\n",
              "      <td>1</td>\n",
              "    </tr>\n",
              "  </tbody>\n",
              "</table>\n",
              "</div>\n",
              "      <button class=\"colab-df-convert\" onclick=\"convertToInteractive('df-39831ad3-95d5-491e-b28b-95785daa4b63')\"\n",
              "              title=\"Convert this dataframe to an interactive table.\"\n",
              "              style=\"display:none;\">\n",
              "        \n",
              "  <svg xmlns=\"http://www.w3.org/2000/svg\" height=\"24px\"viewBox=\"0 0 24 24\"\n",
              "       width=\"24px\">\n",
              "    <path d=\"M0 0h24v24H0V0z\" fill=\"none\"/>\n",
              "    <path d=\"M18.56 5.44l.94 2.06.94-2.06 2.06-.94-2.06-.94-.94-2.06-.94 2.06-2.06.94zm-11 1L8.5 8.5l.94-2.06 2.06-.94-2.06-.94L8.5 2.5l-.94 2.06-2.06.94zm10 10l.94 2.06.94-2.06 2.06-.94-2.06-.94-.94-2.06-.94 2.06-2.06.94z\"/><path d=\"M17.41 7.96l-1.37-1.37c-.4-.4-.92-.59-1.43-.59-.52 0-1.04.2-1.43.59L10.3 9.45l-7.72 7.72c-.78.78-.78 2.05 0 2.83L4 21.41c.39.39.9.59 1.41.59.51 0 1.02-.2 1.41-.59l7.78-7.78 2.81-2.81c.8-.78.8-2.07 0-2.86zM5.41 20L4 18.59l7.72-7.72 1.47 1.35L5.41 20z\"/>\n",
              "  </svg>\n",
              "      </button>\n",
              "      \n",
              "  <style>\n",
              "    .colab-df-container {\n",
              "      display:flex;\n",
              "      flex-wrap:wrap;\n",
              "      gap: 12px;\n",
              "    }\n",
              "\n",
              "    .colab-df-convert {\n",
              "      background-color: #E8F0FE;\n",
              "      border: none;\n",
              "      border-radius: 50%;\n",
              "      cursor: pointer;\n",
              "      display: none;\n",
              "      fill: #1967D2;\n",
              "      height: 32px;\n",
              "      padding: 0 0 0 0;\n",
              "      width: 32px;\n",
              "    }\n",
              "\n",
              "    .colab-df-convert:hover {\n",
              "      background-color: #E2EBFA;\n",
              "      box-shadow: 0px 1px 2px rgba(60, 64, 67, 0.3), 0px 1px 3px 1px rgba(60, 64, 67, 0.15);\n",
              "      fill: #174EA6;\n",
              "    }\n",
              "\n",
              "    [theme=dark] .colab-df-convert {\n",
              "      background-color: #3B4455;\n",
              "      fill: #D2E3FC;\n",
              "    }\n",
              "\n",
              "    [theme=dark] .colab-df-convert:hover {\n",
              "      background-color: #434B5C;\n",
              "      box-shadow: 0px 1px 3px 1px rgba(0, 0, 0, 0.15);\n",
              "      filter: drop-shadow(0px 1px 2px rgba(0, 0, 0, 0.3));\n",
              "      fill: #FFFFFF;\n",
              "    }\n",
              "  </style>\n",
              "\n",
              "      <script>\n",
              "        const buttonEl =\n",
              "          document.querySelector('#df-39831ad3-95d5-491e-b28b-95785daa4b63 button.colab-df-convert');\n",
              "        buttonEl.style.display =\n",
              "          google.colab.kernel.accessAllowed ? 'block' : 'none';\n",
              "\n",
              "        async function convertToInteractive(key) {\n",
              "          const element = document.querySelector('#df-39831ad3-95d5-491e-b28b-95785daa4b63');\n",
              "          const dataTable =\n",
              "            await google.colab.kernel.invokeFunction('convertToInteractive',\n",
              "                                                     [key], {});\n",
              "          if (!dataTable) return;\n",
              "\n",
              "          const docLinkHtml = 'Like what you see? Visit the ' +\n",
              "            '<a target=\"_blank\" href=https://colab.research.google.com/notebooks/data_table.ipynb>data table notebook</a>'\n",
              "            + ' to learn more about interactive tables.';\n",
              "          element.innerHTML = '';\n",
              "          dataTable['output_type'] = 'display_data';\n",
              "          await google.colab.output.renderOutput(dataTable, element);\n",
              "          const docLink = document.createElement('div');\n",
              "          docLink.innerHTML = docLinkHtml;\n",
              "          element.appendChild(docLink);\n",
              "        }\n",
              "      </script>\n",
              "    </div>\n",
              "  </div>\n",
              "  "
            ]
          },
          "metadata": {},
          "execution_count": 322
        }
      ]
    },
    {
      "cell_type": "markdown",
      "source": [
        "### INTERPRETAÇÃO DOS RESULTADOS\n",
        "\n",
        "- para cada coluna analisar o cluster que possui o menor ou maior valor para diferenciar dos demais\n",
        "- para um melhor detalhamento usar outras medidas como maior e menor valor, etc.\n"
      ],
      "metadata": {
        "id": "bTMa5_05SgI9"
      }
    },
    {
      "cell_type": "markdown",
      "source": [
        "### Análise para tomada de decisões\n",
        "\n",
        "Cluster 1 - É o cluster que contém a maior quantidade de compras feitas pelo usuário, é o maior grupo com valores pagos pelo usuário, e também, o maior cluster com limite de crédito para o usuário. É o maior grupo que mais movimenta dinheiro na conta, pois é o que mais adianta dinheiro com as transações \"Cash in Advance\". \n",
        "\n",
        "Cluster 2 - É o cluster com menor qquantidade de compras, também é o grupo com menor quantidades de pagamenrsos realizados pelos usuários, além de ser o menor grupo com limite de crédito para usuários. Vale ressaltar que é o menor grupo que realizou transações com o \"Cash in Advance\", ou seja, é o menor grupo que adianta dinheiro na conta.  \n",
        "\n",
        "Cluster 3 - É o cluster que contém a segunda maior quantidade de compras feitas, também possui o segundo maior grupo de valores pagos pelos usuários, e o segundo maior grupo com limite de crédito para o usuário. É o grupo mediano em que realiza a transações com o \"Cash in Advance\", ou seja, é o segundo maior grupo em que mais movimenta dinheiro na conta."
      ],
      "metadata": {
        "id": "lhuF_Qb3Sj5W"
      }
    },
    {
      "cell_type": "markdown",
      "source": [
        "##Densidade"
      ],
      "metadata": {
        "id": "vkiUz9zm9nIQ"
      }
    },
    {
      "cell_type": "code",
      "source": [
        "df5.groupby('Cluster').describe()\n"
      ],
      "metadata": {
        "id": "-9pLsM1E9o66",
        "colab": {
          "base_uri": "https://localhost:8080/"
        },
        "outputId": "4df1747f-f00b-4cc4-efae-d60e2ba1c849"
      },
      "execution_count": null,
      "outputs": [
        {
          "output_type": "execute_result",
          "data": {
            "text/plain": [
              "        BALANCE                                                               \\\n",
              "          count         mean          std        min         25%         50%   \n",
              "Cluster                                                                        \n",
              "-1       8614.0  1605.267310  2096.716575   0.000000  151.053437  920.312835   \n",
              " 0          4.0     8.559062     4.078247   5.721468    6.223154    6.972374   \n",
              " 1          3.0    17.902758     3.371261  14.434808   16.270036   18.105265   \n",
              " 2          3.0    14.743360     5.775442  11.253970   11.410125   11.566281   \n",
              " 3          3.0    17.523519     3.938348  14.442528   15.304892   16.167257   \n",
              " 4          3.0    28.145192     6.066892  22.061664   25.120134   28.178604   \n",
              " 5          3.0    13.456705     5.554763   7.207350   11.268954   15.330559   \n",
              " 6          3.0    32.005212     6.106599  27.931382   28.494592   29.057803   \n",
              "\n",
              "                                   PURCHASES               ...  \\\n",
              "                 75%           max     count         mean  ...   \n",
              "Cluster                                                    ...   \n",
              "-1       2112.912383  19043.138560    8614.0  1027.635450  ...   \n",
              " 0          9.308282     14.570032       4.0    85.307500  ...   \n",
              " 1         19.636733     21.168201       3.0   239.600000  ...   \n",
              " 2         16.488055     21.409828       3.0   150.970000  ...   \n",
              " 3         19.064015     21.960773       3.0   170.416667  ...   \n",
              " 4         31.186957     34.195309       3.0   209.653333  ...   \n",
              " 5         16.581383     17.832206       3.0   150.086667  ...   \n",
              " 6         34.042126     39.026450       3.0   163.920000  ...   \n",
              "\n",
              "        MINIMUM_PAYMENTS               PRC_FULL_PAYMENT                      \\\n",
              "                     75%           max            count      mean       std   \n",
              "Cluster                                                                       \n",
              "-1            828.678193  76406.207520           8614.0  0.158595  0.295831   \n",
              " 0             85.319762     91.631089              4.0  0.415179  0.421412   \n",
              " 1            178.675952    179.182583              3.0  0.722222  0.346944   \n",
              " 2            144.941557    150.500248              3.0  0.371573  0.422219   \n",
              " 3            158.414870    164.361594              3.0  0.810185  0.056131   \n",
              " 4            169.080339    172.112042              3.0  0.375000  0.125000   \n",
              " 5             97.588691     99.133361              3.0  0.287879  0.258465   \n",
              " 6            139.840941    145.094293              3.0  0.083333  0.144338   \n",
              "\n",
              "                                                           \n",
              "              min       25%       50%       75%       max  \n",
              "Cluster                                                    \n",
              "-1       0.000000  0.000000  0.000000  0.166667  1.000000  \n",
              " 0       0.000000  0.214286  0.330357  0.531250  1.000000  \n",
              " 1       0.333333  0.583333  0.833333  0.916667  1.000000  \n",
              " 2       0.090909  0.128788  0.166667  0.511905  0.857143  \n",
              " 3       0.777778  0.777778  0.777778  0.826389  0.875000  \n",
              " 4       0.250000  0.312500  0.375000  0.437500  0.500000  \n",
              " 5       0.000000  0.181818  0.363636  0.431818  0.500000  \n",
              " 6       0.000000  0.000000  0.000000  0.125000  0.250000  \n",
              "\n",
              "[8 rows x 88 columns]"
            ],
            "text/html": [
              "\n",
              "  <div id=\"df-e7713439-4de0-4d78-ae73-6c90bc509991\">\n",
              "    <div class=\"colab-df-container\">\n",
              "      <div>\n",
              "<style scoped>\n",
              "    .dataframe tbody tr th:only-of-type {\n",
              "        vertical-align: middle;\n",
              "    }\n",
              "\n",
              "    .dataframe tbody tr th {\n",
              "        vertical-align: top;\n",
              "    }\n",
              "\n",
              "    .dataframe thead tr th {\n",
              "        text-align: left;\n",
              "    }\n",
              "\n",
              "    .dataframe thead tr:last-of-type th {\n",
              "        text-align: right;\n",
              "    }\n",
              "</style>\n",
              "<table border=\"1\" class=\"dataframe\">\n",
              "  <thead>\n",
              "    <tr>\n",
              "      <th></th>\n",
              "      <th colspan=\"8\" halign=\"left\">BALANCE</th>\n",
              "      <th colspan=\"2\" halign=\"left\">PURCHASES</th>\n",
              "      <th>...</th>\n",
              "      <th colspan=\"2\" halign=\"left\">MINIMUM_PAYMENTS</th>\n",
              "      <th colspan=\"8\" halign=\"left\">PRC_FULL_PAYMENT</th>\n",
              "    </tr>\n",
              "    <tr>\n",
              "      <th></th>\n",
              "      <th>count</th>\n",
              "      <th>mean</th>\n",
              "      <th>std</th>\n",
              "      <th>min</th>\n",
              "      <th>25%</th>\n",
              "      <th>50%</th>\n",
              "      <th>75%</th>\n",
              "      <th>max</th>\n",
              "      <th>count</th>\n",
              "      <th>mean</th>\n",
              "      <th>...</th>\n",
              "      <th>75%</th>\n",
              "      <th>max</th>\n",
              "      <th>count</th>\n",
              "      <th>mean</th>\n",
              "      <th>std</th>\n",
              "      <th>min</th>\n",
              "      <th>25%</th>\n",
              "      <th>50%</th>\n",
              "      <th>75%</th>\n",
              "      <th>max</th>\n",
              "    </tr>\n",
              "    <tr>\n",
              "      <th>Cluster</th>\n",
              "      <th></th>\n",
              "      <th></th>\n",
              "      <th></th>\n",
              "      <th></th>\n",
              "      <th></th>\n",
              "      <th></th>\n",
              "      <th></th>\n",
              "      <th></th>\n",
              "      <th></th>\n",
              "      <th></th>\n",
              "      <th></th>\n",
              "      <th></th>\n",
              "      <th></th>\n",
              "      <th></th>\n",
              "      <th></th>\n",
              "      <th></th>\n",
              "      <th></th>\n",
              "      <th></th>\n",
              "      <th></th>\n",
              "      <th></th>\n",
              "      <th></th>\n",
              "    </tr>\n",
              "  </thead>\n",
              "  <tbody>\n",
              "    <tr>\n",
              "      <th>-1</th>\n",
              "      <td>8614.0</td>\n",
              "      <td>1605.267310</td>\n",
              "      <td>2096.716575</td>\n",
              "      <td>0.000000</td>\n",
              "      <td>151.053437</td>\n",
              "      <td>920.312835</td>\n",
              "      <td>2112.912383</td>\n",
              "      <td>19043.138560</td>\n",
              "      <td>8614.0</td>\n",
              "      <td>1027.635450</td>\n",
              "      <td>...</td>\n",
              "      <td>828.678193</td>\n",
              "      <td>76406.207520</td>\n",
              "      <td>8614.0</td>\n",
              "      <td>0.158595</td>\n",
              "      <td>0.295831</td>\n",
              "      <td>0.000000</td>\n",
              "      <td>0.000000</td>\n",
              "      <td>0.000000</td>\n",
              "      <td>0.166667</td>\n",
              "      <td>1.000000</td>\n",
              "    </tr>\n",
              "    <tr>\n",
              "      <th>0</th>\n",
              "      <td>4.0</td>\n",
              "      <td>8.559062</td>\n",
              "      <td>4.078247</td>\n",
              "      <td>5.721468</td>\n",
              "      <td>6.223154</td>\n",
              "      <td>6.972374</td>\n",
              "      <td>9.308282</td>\n",
              "      <td>14.570032</td>\n",
              "      <td>4.0</td>\n",
              "      <td>85.307500</td>\n",
              "      <td>...</td>\n",
              "      <td>85.319762</td>\n",
              "      <td>91.631089</td>\n",
              "      <td>4.0</td>\n",
              "      <td>0.415179</td>\n",
              "      <td>0.421412</td>\n",
              "      <td>0.000000</td>\n",
              "      <td>0.214286</td>\n",
              "      <td>0.330357</td>\n",
              "      <td>0.531250</td>\n",
              "      <td>1.000000</td>\n",
              "    </tr>\n",
              "    <tr>\n",
              "      <th>1</th>\n",
              "      <td>3.0</td>\n",
              "      <td>17.902758</td>\n",
              "      <td>3.371261</td>\n",
              "      <td>14.434808</td>\n",
              "      <td>16.270036</td>\n",
              "      <td>18.105265</td>\n",
              "      <td>19.636733</td>\n",
              "      <td>21.168201</td>\n",
              "      <td>3.0</td>\n",
              "      <td>239.600000</td>\n",
              "      <td>...</td>\n",
              "      <td>178.675952</td>\n",
              "      <td>179.182583</td>\n",
              "      <td>3.0</td>\n",
              "      <td>0.722222</td>\n",
              "      <td>0.346944</td>\n",
              "      <td>0.333333</td>\n",
              "      <td>0.583333</td>\n",
              "      <td>0.833333</td>\n",
              "      <td>0.916667</td>\n",
              "      <td>1.000000</td>\n",
              "    </tr>\n",
              "    <tr>\n",
              "      <th>2</th>\n",
              "      <td>3.0</td>\n",
              "      <td>14.743360</td>\n",
              "      <td>5.775442</td>\n",
              "      <td>11.253970</td>\n",
              "      <td>11.410125</td>\n",
              "      <td>11.566281</td>\n",
              "      <td>16.488055</td>\n",
              "      <td>21.409828</td>\n",
              "      <td>3.0</td>\n",
              "      <td>150.970000</td>\n",
              "      <td>...</td>\n",
              "      <td>144.941557</td>\n",
              "      <td>150.500248</td>\n",
              "      <td>3.0</td>\n",
              "      <td>0.371573</td>\n",
              "      <td>0.422219</td>\n",
              "      <td>0.090909</td>\n",
              "      <td>0.128788</td>\n",
              "      <td>0.166667</td>\n",
              "      <td>0.511905</td>\n",
              "      <td>0.857143</td>\n",
              "    </tr>\n",
              "    <tr>\n",
              "      <th>3</th>\n",
              "      <td>3.0</td>\n",
              "      <td>17.523519</td>\n",
              "      <td>3.938348</td>\n",
              "      <td>14.442528</td>\n",
              "      <td>15.304892</td>\n",
              "      <td>16.167257</td>\n",
              "      <td>19.064015</td>\n",
              "      <td>21.960773</td>\n",
              "      <td>3.0</td>\n",
              "      <td>170.416667</td>\n",
              "      <td>...</td>\n",
              "      <td>158.414870</td>\n",
              "      <td>164.361594</td>\n",
              "      <td>3.0</td>\n",
              "      <td>0.810185</td>\n",
              "      <td>0.056131</td>\n",
              "      <td>0.777778</td>\n",
              "      <td>0.777778</td>\n",
              "      <td>0.777778</td>\n",
              "      <td>0.826389</td>\n",
              "      <td>0.875000</td>\n",
              "    </tr>\n",
              "    <tr>\n",
              "      <th>4</th>\n",
              "      <td>3.0</td>\n",
              "      <td>28.145192</td>\n",
              "      <td>6.066892</td>\n",
              "      <td>22.061664</td>\n",
              "      <td>25.120134</td>\n",
              "      <td>28.178604</td>\n",
              "      <td>31.186957</td>\n",
              "      <td>34.195309</td>\n",
              "      <td>3.0</td>\n",
              "      <td>209.653333</td>\n",
              "      <td>...</td>\n",
              "      <td>169.080339</td>\n",
              "      <td>172.112042</td>\n",
              "      <td>3.0</td>\n",
              "      <td>0.375000</td>\n",
              "      <td>0.125000</td>\n",
              "      <td>0.250000</td>\n",
              "      <td>0.312500</td>\n",
              "      <td>0.375000</td>\n",
              "      <td>0.437500</td>\n",
              "      <td>0.500000</td>\n",
              "    </tr>\n",
              "    <tr>\n",
              "      <th>5</th>\n",
              "      <td>3.0</td>\n",
              "      <td>13.456705</td>\n",
              "      <td>5.554763</td>\n",
              "      <td>7.207350</td>\n",
              "      <td>11.268954</td>\n",
              "      <td>15.330559</td>\n",
              "      <td>16.581383</td>\n",
              "      <td>17.832206</td>\n",
              "      <td>3.0</td>\n",
              "      <td>150.086667</td>\n",
              "      <td>...</td>\n",
              "      <td>97.588691</td>\n",
              "      <td>99.133361</td>\n",
              "      <td>3.0</td>\n",
              "      <td>0.287879</td>\n",
              "      <td>0.258465</td>\n",
              "      <td>0.000000</td>\n",
              "      <td>0.181818</td>\n",
              "      <td>0.363636</td>\n",
              "      <td>0.431818</td>\n",
              "      <td>0.500000</td>\n",
              "    </tr>\n",
              "    <tr>\n",
              "      <th>6</th>\n",
              "      <td>3.0</td>\n",
              "      <td>32.005212</td>\n",
              "      <td>6.106599</td>\n",
              "      <td>27.931382</td>\n",
              "      <td>28.494592</td>\n",
              "      <td>29.057803</td>\n",
              "      <td>34.042126</td>\n",
              "      <td>39.026450</td>\n",
              "      <td>3.0</td>\n",
              "      <td>163.920000</td>\n",
              "      <td>...</td>\n",
              "      <td>139.840941</td>\n",
              "      <td>145.094293</td>\n",
              "      <td>3.0</td>\n",
              "      <td>0.083333</td>\n",
              "      <td>0.144338</td>\n",
              "      <td>0.000000</td>\n",
              "      <td>0.000000</td>\n",
              "      <td>0.000000</td>\n",
              "      <td>0.125000</td>\n",
              "      <td>0.250000</td>\n",
              "    </tr>\n",
              "  </tbody>\n",
              "</table>\n",
              "<p>8 rows × 88 columns</p>\n",
              "</div>\n",
              "      <button class=\"colab-df-convert\" onclick=\"convertToInteractive('df-e7713439-4de0-4d78-ae73-6c90bc509991')\"\n",
              "              title=\"Convert this dataframe to an interactive table.\"\n",
              "              style=\"display:none;\">\n",
              "        \n",
              "  <svg xmlns=\"http://www.w3.org/2000/svg\" height=\"24px\"viewBox=\"0 0 24 24\"\n",
              "       width=\"24px\">\n",
              "    <path d=\"M0 0h24v24H0V0z\" fill=\"none\"/>\n",
              "    <path d=\"M18.56 5.44l.94 2.06.94-2.06 2.06-.94-2.06-.94-.94-2.06-.94 2.06-2.06.94zm-11 1L8.5 8.5l.94-2.06 2.06-.94-2.06-.94L8.5 2.5l-.94 2.06-2.06.94zm10 10l.94 2.06.94-2.06 2.06-.94-2.06-.94-.94-2.06-.94 2.06-2.06.94z\"/><path d=\"M17.41 7.96l-1.37-1.37c-.4-.4-.92-.59-1.43-.59-.52 0-1.04.2-1.43.59L10.3 9.45l-7.72 7.72c-.78.78-.78 2.05 0 2.83L4 21.41c.39.39.9.59 1.41.59.51 0 1.02-.2 1.41-.59l7.78-7.78 2.81-2.81c.8-.78.8-2.07 0-2.86zM5.41 20L4 18.59l7.72-7.72 1.47 1.35L5.41 20z\"/>\n",
              "  </svg>\n",
              "      </button>\n",
              "      \n",
              "  <style>\n",
              "    .colab-df-container {\n",
              "      display:flex;\n",
              "      flex-wrap:wrap;\n",
              "      gap: 12px;\n",
              "    }\n",
              "\n",
              "    .colab-df-convert {\n",
              "      background-color: #E8F0FE;\n",
              "      border: none;\n",
              "      border-radius: 50%;\n",
              "      cursor: pointer;\n",
              "      display: none;\n",
              "      fill: #1967D2;\n",
              "      height: 32px;\n",
              "      padding: 0 0 0 0;\n",
              "      width: 32px;\n",
              "    }\n",
              "\n",
              "    .colab-df-convert:hover {\n",
              "      background-color: #E2EBFA;\n",
              "      box-shadow: 0px 1px 2px rgba(60, 64, 67, 0.3), 0px 1px 3px 1px rgba(60, 64, 67, 0.15);\n",
              "      fill: #174EA6;\n",
              "    }\n",
              "\n",
              "    [theme=dark] .colab-df-convert {\n",
              "      background-color: #3B4455;\n",
              "      fill: #D2E3FC;\n",
              "    }\n",
              "\n",
              "    [theme=dark] .colab-df-convert:hover {\n",
              "      background-color: #434B5C;\n",
              "      box-shadow: 0px 1px 3px 1px rgba(0, 0, 0, 0.15);\n",
              "      filter: drop-shadow(0px 1px 2px rgba(0, 0, 0, 0.3));\n",
              "      fill: #FFFFFF;\n",
              "    }\n",
              "  </style>\n",
              "\n",
              "      <script>\n",
              "        const buttonEl =\n",
              "          document.querySelector('#df-e7713439-4de0-4d78-ae73-6c90bc509991 button.colab-df-convert');\n",
              "        buttonEl.style.display =\n",
              "          google.colab.kernel.accessAllowed ? 'block' : 'none';\n",
              "\n",
              "        async function convertToInteractive(key) {\n",
              "          const element = document.querySelector('#df-e7713439-4de0-4d78-ae73-6c90bc509991');\n",
              "          const dataTable =\n",
              "            await google.colab.kernel.invokeFunction('convertToInteractive',\n",
              "                                                     [key], {});\n",
              "          if (!dataTable) return;\n",
              "\n",
              "          const docLinkHtml = 'Like what you see? Visit the ' +\n",
              "            '<a target=\"_blank\" href=https://colab.research.google.com/notebooks/data_table.ipynb>data table notebook</a>'\n",
              "            + ' to learn more about interactive tables.';\n",
              "          element.innerHTML = '';\n",
              "          dataTable['output_type'] = 'display_data';\n",
              "          await google.colab.output.renderOutput(dataTable, element);\n",
              "          const docLink = document.createElement('div');\n",
              "          docLink.innerHTML = docLinkHtml;\n",
              "          element.appendChild(docLink);\n",
              "        }\n",
              "      </script>\n",
              "    </div>\n",
              "  </div>\n",
              "  "
            ]
          },
          "metadata": {},
          "execution_count": 323
        }
      ]
    },
    {
      "cell_type": "code",
      "source": [
        "#calcular um centroide para cada cluster\n",
        "#observação: o algoritmo de densidade não trabalha com centróides mas vamos escolher um representante para caracterizar o cluster\n",
        "id_clusters = df5.Cluster.unique()\n",
        "#id_clusters = id_clusters.remove(-1)\n",
        "centroids = []\n",
        "for i in id_clusters:\n",
        "  centroids.append(df5.loc[(df5['Cluster'])==i].mean())\n",
        "\n",
        "centroids = np.array(centroids) \n",
        "centroids = centroids[:,:-1] #retira a coluna de cluster\n",
        "centroids"
      ],
      "metadata": {
        "id": "sJL7Ad8h94WD",
        "colab": {
          "base_uri": "https://localhost:8080/"
        },
        "outputId": "7c243c06-bc78-4a29-982c-dfcf69262345"
      },
      "execution_count": null,
      "outputs": [
        {
          "output_type": "execute_result",
          "data": {
            "text/plain": [
              "array([[1.60526731e+03, 1.02763545e+03, 6.06445370e+02, 4.21501971e+02,\n",
              "        9.96714629e+02, 3.32238217e+00, 1.50452751e+01, 4.52980940e+03,\n",
              "        1.78864986e+03, 8.66174423e+02, 1.58594708e-01],\n",
              "       [8.55906200e+00, 8.53075000e+01, 0.00000000e+00, 8.53075000e+01,\n",
              "        0.00000000e+00, 0.00000000e+00, 9.75000000e+00, 1.50000000e+03,\n",
              "        7.37383038e+01, 8.09739585e+01, 4.15178500e-01],\n",
              "       [1.79027580e+01, 2.39600000e+02, 2.80000000e+00, 2.36800000e+02,\n",
              "        0.00000000e+00, 0.00000000e+00, 1.60000000e+01, 2.50000000e+03,\n",
              "        2.18576444e+02, 1.75768311e+02, 7.22222000e-01],\n",
              "       [1.75235193e+01, 1.70416667e+02, 0.00000000e+00, 1.70416667e+02,\n",
              "        0.00000000e+00, 0.00000000e+00, 1.06666667e+01, 1.50000000e+03,\n",
              "        1.42462826e+02, 1.54628193e+02, 8.10185333e-01],\n",
              "       [1.34567050e+01, 1.50086667e+02, 0.00000000e+00, 1.50086667e+02,\n",
              "        0.00000000e+00, 0.00000000e+00, 6.66666667e+00, 1.00000000e+03,\n",
              "        2.08597616e+02, 9.40437903e+01, 2.87878667e-01],\n",
              "       [2.81451923e+01, 2.09653333e+02, 0.00000000e+00, 2.09653333e+02,\n",
              "        0.00000000e+00, 0.00000000e+00, 1.13333333e+01, 1.00000000e+03,\n",
              "        1.93443933e+02, 1.63793957e+02, 3.75000000e-01],\n",
              "       [1.47433597e+01, 1.50970000e+02, 0.00000000e+00, 1.50970000e+02,\n",
              "        0.00000000e+00, 0.00000000e+00, 1.03333333e+01, 1.50000000e+03,\n",
              "        1.31430696e+02, 1.39989564e+02, 3.71573000e-01],\n",
              "       [3.20052117e+01, 1.63920000e+02, 0.00000000e+00, 1.63920000e+02,\n",
              "        0.00000000e+00, 0.00000000e+00, 7.66666667e+00, 1.50000000e+03,\n",
              "        1.14815172e+02, 1.34145744e+02, 8.33333333e-02]])"
            ]
          },
          "metadata": {},
          "execution_count": 324
        }
      ]
    },
    {
      "cell_type": "code",
      "source": [
        "#Identifica quais são as colunas mais significativas na clusterização a partir do desvio padrão.\n",
        "#O desvio padrão está sendo calculado a partir dos centróides de cada cluster\n",
        "max = len(centroids[0])\n",
        "for i in range(max):\n",
        "  print(df5.columns.values[i],\" - {:.2f}\".format(centroids[:,i].std()))"
      ],
      "metadata": {
        "id": "r98V5ZfyrqDf",
        "colab": {
          "base_uri": "https://localhost:8080/"
        },
        "outputId": "173735a3-d4c2-48ed-d486-589d730dec22"
      },
      "execution_count": null,
      "outputs": [
        {
          "output_type": "stream",
          "name": "stdout",
          "text": [
            "BALANCE  - 524.69\n",
            "PURCHASES  - 287.71\n",
            "ONEOFF_PURCHASES  - 200.43\n",
            "INSTALLMENTS_PURCHASES  - 94.02\n",
            "CASH_ADVANCE  - 329.63\n",
            "CASH_ADVANCE_TRX  - 1.10\n",
            "PURCHASES_TRX  - 3.03\n",
            "CREDIT_LIMIT  - 1091.57\n",
            "PAYMENTS  - 542.37\n",
            "MINIMUM_PAYMENTS  - 243.82\n",
            "PRC_FULL_PAYMENT  - 0.24\n"
          ]
        }
      ]
    },
    {
      "cell_type": "code",
      "source": [
        "#seleciona somente as colunas com maior desvio padrão\n",
        "description = df5.groupby('Cluster')['PURCHASES', 'PAYMENTS', 'ONEOFF_PURCHASES', 'CREDIT_LIMIT', 'CASH_ADVANCE', 'BALANCE', 'INSTALLMENTS_PURCHASES']\n",
        "\n",
        "N_CARD = description.size()\n",
        "\n",
        "#calcula a média de cada coluna do cluster\n",
        "description = description.mean()\n",
        "\n",
        "#acrescenta a quantidade na mesma base\n",
        "description['N_CARD'] = N_CARD\n",
        "\n",
        "description"
      ],
      "metadata": {
        "id": "8f19xnICrwRm",
        "colab": {
          "base_uri": "https://localhost:8080/"
        },
        "outputId": "cbcc4aca-71e7-4961-9f98-ccf01c6c562d"
      },
      "execution_count": null,
      "outputs": [
        {
          "output_type": "stream",
          "name": "stderr",
          "text": [
            "<ipython-input-326-cc3534a24f6a>:2: FutureWarning: Indexing with multiple keys (implicitly converted to a tuple of keys) will be deprecated, use a list instead.\n",
            "  description = df5.groupby('Cluster')['PURCHASES', 'PAYMENTS', 'ONEOFF_PURCHASES', 'CREDIT_LIMIT', 'CASH_ADVANCE', 'BALANCE', 'INSTALLMENTS_PURCHASES']\n"
          ]
        },
        {
          "output_type": "execute_result",
          "data": {
            "text/plain": [
              "           PURCHASES     PAYMENTS  ONEOFF_PURCHASES  CREDIT_LIMIT  \\\n",
              "Cluster                                                             \n",
              "-1       1027.635450  1788.649864         606.44537   4529.809395   \n",
              " 0         85.307500    73.738304           0.00000   1500.000000   \n",
              " 1        239.600000   218.576444           2.80000   2500.000000   \n",
              " 2        150.970000   131.430696           0.00000   1500.000000   \n",
              " 3        170.416667   142.462826           0.00000   1500.000000   \n",
              " 4        209.653333   193.443933           0.00000   1000.000000   \n",
              " 5        150.086667   208.597616           0.00000   1000.000000   \n",
              " 6        163.920000   114.815172           0.00000   1500.000000   \n",
              "\n",
              "         CASH_ADVANCE      BALANCE  INSTALLMENTS_PURCHASES  N_CARD  \n",
              "Cluster                                                             \n",
              "-1         996.714629  1605.267310              421.501971    8614  \n",
              " 0           0.000000     8.559062               85.307500       4  \n",
              " 1           0.000000    17.902758              236.800000       3  \n",
              " 2           0.000000    14.743360              150.970000       3  \n",
              " 3           0.000000    17.523519              170.416667       3  \n",
              " 4           0.000000    28.145192              209.653333       3  \n",
              " 5           0.000000    13.456705              150.086667       3  \n",
              " 6           0.000000    32.005212              163.920000       3  "
            ],
            "text/html": [
              "\n",
              "  <div id=\"df-9d288ca6-72d2-4227-8388-f118f7d26da8\">\n",
              "    <div class=\"colab-df-container\">\n",
              "      <div>\n",
              "<style scoped>\n",
              "    .dataframe tbody tr th:only-of-type {\n",
              "        vertical-align: middle;\n",
              "    }\n",
              "\n",
              "    .dataframe tbody tr th {\n",
              "        vertical-align: top;\n",
              "    }\n",
              "\n",
              "    .dataframe thead th {\n",
              "        text-align: right;\n",
              "    }\n",
              "</style>\n",
              "<table border=\"1\" class=\"dataframe\">\n",
              "  <thead>\n",
              "    <tr style=\"text-align: right;\">\n",
              "      <th></th>\n",
              "      <th>PURCHASES</th>\n",
              "      <th>PAYMENTS</th>\n",
              "      <th>ONEOFF_PURCHASES</th>\n",
              "      <th>CREDIT_LIMIT</th>\n",
              "      <th>CASH_ADVANCE</th>\n",
              "      <th>BALANCE</th>\n",
              "      <th>INSTALLMENTS_PURCHASES</th>\n",
              "      <th>N_CARD</th>\n",
              "    </tr>\n",
              "    <tr>\n",
              "      <th>Cluster</th>\n",
              "      <th></th>\n",
              "      <th></th>\n",
              "      <th></th>\n",
              "      <th></th>\n",
              "      <th></th>\n",
              "      <th></th>\n",
              "      <th></th>\n",
              "      <th></th>\n",
              "    </tr>\n",
              "  </thead>\n",
              "  <tbody>\n",
              "    <tr>\n",
              "      <th>-1</th>\n",
              "      <td>1027.635450</td>\n",
              "      <td>1788.649864</td>\n",
              "      <td>606.44537</td>\n",
              "      <td>4529.809395</td>\n",
              "      <td>996.714629</td>\n",
              "      <td>1605.267310</td>\n",
              "      <td>421.501971</td>\n",
              "      <td>8614</td>\n",
              "    </tr>\n",
              "    <tr>\n",
              "      <th>0</th>\n",
              "      <td>85.307500</td>\n",
              "      <td>73.738304</td>\n",
              "      <td>0.00000</td>\n",
              "      <td>1500.000000</td>\n",
              "      <td>0.000000</td>\n",
              "      <td>8.559062</td>\n",
              "      <td>85.307500</td>\n",
              "      <td>4</td>\n",
              "    </tr>\n",
              "    <tr>\n",
              "      <th>1</th>\n",
              "      <td>239.600000</td>\n",
              "      <td>218.576444</td>\n",
              "      <td>2.80000</td>\n",
              "      <td>2500.000000</td>\n",
              "      <td>0.000000</td>\n",
              "      <td>17.902758</td>\n",
              "      <td>236.800000</td>\n",
              "      <td>3</td>\n",
              "    </tr>\n",
              "    <tr>\n",
              "      <th>2</th>\n",
              "      <td>150.970000</td>\n",
              "      <td>131.430696</td>\n",
              "      <td>0.00000</td>\n",
              "      <td>1500.000000</td>\n",
              "      <td>0.000000</td>\n",
              "      <td>14.743360</td>\n",
              "      <td>150.970000</td>\n",
              "      <td>3</td>\n",
              "    </tr>\n",
              "    <tr>\n",
              "      <th>3</th>\n",
              "      <td>170.416667</td>\n",
              "      <td>142.462826</td>\n",
              "      <td>0.00000</td>\n",
              "      <td>1500.000000</td>\n",
              "      <td>0.000000</td>\n",
              "      <td>17.523519</td>\n",
              "      <td>170.416667</td>\n",
              "      <td>3</td>\n",
              "    </tr>\n",
              "    <tr>\n",
              "      <th>4</th>\n",
              "      <td>209.653333</td>\n",
              "      <td>193.443933</td>\n",
              "      <td>0.00000</td>\n",
              "      <td>1000.000000</td>\n",
              "      <td>0.000000</td>\n",
              "      <td>28.145192</td>\n",
              "      <td>209.653333</td>\n",
              "      <td>3</td>\n",
              "    </tr>\n",
              "    <tr>\n",
              "      <th>5</th>\n",
              "      <td>150.086667</td>\n",
              "      <td>208.597616</td>\n",
              "      <td>0.00000</td>\n",
              "      <td>1000.000000</td>\n",
              "      <td>0.000000</td>\n",
              "      <td>13.456705</td>\n",
              "      <td>150.086667</td>\n",
              "      <td>3</td>\n",
              "    </tr>\n",
              "    <tr>\n",
              "      <th>6</th>\n",
              "      <td>163.920000</td>\n",
              "      <td>114.815172</td>\n",
              "      <td>0.00000</td>\n",
              "      <td>1500.000000</td>\n",
              "      <td>0.000000</td>\n",
              "      <td>32.005212</td>\n",
              "      <td>163.920000</td>\n",
              "      <td>3</td>\n",
              "    </tr>\n",
              "  </tbody>\n",
              "</table>\n",
              "</div>\n",
              "      <button class=\"colab-df-convert\" onclick=\"convertToInteractive('df-9d288ca6-72d2-4227-8388-f118f7d26da8')\"\n",
              "              title=\"Convert this dataframe to an interactive table.\"\n",
              "              style=\"display:none;\">\n",
              "        \n",
              "  <svg xmlns=\"http://www.w3.org/2000/svg\" height=\"24px\"viewBox=\"0 0 24 24\"\n",
              "       width=\"24px\">\n",
              "    <path d=\"M0 0h24v24H0V0z\" fill=\"none\"/>\n",
              "    <path d=\"M18.56 5.44l.94 2.06.94-2.06 2.06-.94-2.06-.94-.94-2.06-.94 2.06-2.06.94zm-11 1L8.5 8.5l.94-2.06 2.06-.94-2.06-.94L8.5 2.5l-.94 2.06-2.06.94zm10 10l.94 2.06.94-2.06 2.06-.94-2.06-.94-.94-2.06-.94 2.06-2.06.94z\"/><path d=\"M17.41 7.96l-1.37-1.37c-.4-.4-.92-.59-1.43-.59-.52 0-1.04.2-1.43.59L10.3 9.45l-7.72 7.72c-.78.78-.78 2.05 0 2.83L4 21.41c.39.39.9.59 1.41.59.51 0 1.02-.2 1.41-.59l7.78-7.78 2.81-2.81c.8-.78.8-2.07 0-2.86zM5.41 20L4 18.59l7.72-7.72 1.47 1.35L5.41 20z\"/>\n",
              "  </svg>\n",
              "      </button>\n",
              "      \n",
              "  <style>\n",
              "    .colab-df-container {\n",
              "      display:flex;\n",
              "      flex-wrap:wrap;\n",
              "      gap: 12px;\n",
              "    }\n",
              "\n",
              "    .colab-df-convert {\n",
              "      background-color: #E8F0FE;\n",
              "      border: none;\n",
              "      border-radius: 50%;\n",
              "      cursor: pointer;\n",
              "      display: none;\n",
              "      fill: #1967D2;\n",
              "      height: 32px;\n",
              "      padding: 0 0 0 0;\n",
              "      width: 32px;\n",
              "    }\n",
              "\n",
              "    .colab-df-convert:hover {\n",
              "      background-color: #E2EBFA;\n",
              "      box-shadow: 0px 1px 2px rgba(60, 64, 67, 0.3), 0px 1px 3px 1px rgba(60, 64, 67, 0.15);\n",
              "      fill: #174EA6;\n",
              "    }\n",
              "\n",
              "    [theme=dark] .colab-df-convert {\n",
              "      background-color: #3B4455;\n",
              "      fill: #D2E3FC;\n",
              "    }\n",
              "\n",
              "    [theme=dark] .colab-df-convert:hover {\n",
              "      background-color: #434B5C;\n",
              "      box-shadow: 0px 1px 3px 1px rgba(0, 0, 0, 0.15);\n",
              "      filter: drop-shadow(0px 1px 2px rgba(0, 0, 0, 0.3));\n",
              "      fill: #FFFFFF;\n",
              "    }\n",
              "  </style>\n",
              "\n",
              "      <script>\n",
              "        const buttonEl =\n",
              "          document.querySelector('#df-9d288ca6-72d2-4227-8388-f118f7d26da8 button.colab-df-convert');\n",
              "        buttonEl.style.display =\n",
              "          google.colab.kernel.accessAllowed ? 'block' : 'none';\n",
              "\n",
              "        async function convertToInteractive(key) {\n",
              "          const element = document.querySelector('#df-9d288ca6-72d2-4227-8388-f118f7d26da8');\n",
              "          const dataTable =\n",
              "            await google.colab.kernel.invokeFunction('convertToInteractive',\n",
              "                                                     [key], {});\n",
              "          if (!dataTable) return;\n",
              "\n",
              "          const docLinkHtml = 'Like what you see? Visit the ' +\n",
              "            '<a target=\"_blank\" href=https://colab.research.google.com/notebooks/data_table.ipynb>data table notebook</a>'\n",
              "            + ' to learn more about interactive tables.';\n",
              "          element.innerHTML = '';\n",
              "          dataTable['output_type'] = 'display_data';\n",
              "          await google.colab.output.renderOutput(dataTable, element);\n",
              "          const docLink = document.createElement('div');\n",
              "          docLink.innerHTML = docLinkHtml;\n",
              "          element.appendChild(docLink);\n",
              "        }\n",
              "      </script>\n",
              "    </div>\n",
              "  </div>\n",
              "  "
            ]
          },
          "metadata": {},
          "execution_count": 326
        }
      ]
    },
    {
      "cell_type": "markdown",
      "source": [
        "### INTERPRESTAÇÃO DOS RESULTADOS\n",
        "\n",
        "\n",
        "\n",
        "*   para cada coluna analisar o cluster que possui o menor ou maior valor para diferenciar dos demais\n",
        "*   para um melhor detalhamento usar outras medidas como maior e menor valor, etc.\n"
      ],
      "metadata": {
        "id": "EICYbzOesued"
      }
    },
    {
      "cell_type": "markdown",
      "source": [
        "### Análise para tomada de decisões\n",
        "\n",
        "Cluster 0 - É o cluster com menor qquantidade de compras, também é o grupo com menor quantidades de pagamenrsos realizados pelos usuários, além de ser o menor grupo com limite de crédito para usuários. Vale ressaltar que é o menor grupo que realizou transações com o \"Cash in Advance\", ou seja, é o menor grupo que adianta dinheiro na conta.  \n",
        "\n",
        "Cluster 1 - É o cluster que contém a maior quantidade de compras feitas pelo usuário, é o maior grupo com valores pagos pelo usuário, e também, o maior cluster com limite de crédito para o usuário. É o maior grupo que mais movimenta dinheiro na conta, pois é o que mais adianta dinheiro com as transações \"Cash in Advance\". \n",
        "\n",
        "Cluster 2 - É o cluster que contém a segunda maior quantidade de compras feitas, também possui o segundo maior grupo de valores pagos pelos usuários, e o segundo maior grupo com limite de crédito para o usuário. É o grupo mediano em que realiza a transações com o \"Cash in Advance\", ou seja, é o segundo maior grupo em que mais movimenta dinheiro na conta."
      ],
      "metadata": {
        "id": "xtki7MAoSxcr"
      }
    }
  ],
  "metadata": {
    "colab": {
      "provenance": [],
      "collapsed_sections": [
        "yAmFyL6ZGU21",
        "yi1gUAxQxb_a",
        "23FU6483k2TF",
        "ZbPCoB8B7rtr",
        "RHVsCpwEBV3a",
        "8A6H1HGNM10M",
        "YXirrJxeNBzD",
        "vkiUz9zm9nIQ"
      ],
      "include_colab_link": true
    },
    "kernelspec": {
      "display_name": "Python 3",
      "name": "python3"
    },
    "language_info": {
      "name": "python"
    }
  },
  "nbformat": 4,
  "nbformat_minor": 0
}